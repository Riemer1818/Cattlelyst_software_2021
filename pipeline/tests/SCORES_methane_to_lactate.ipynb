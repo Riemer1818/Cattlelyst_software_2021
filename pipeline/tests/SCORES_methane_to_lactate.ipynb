{
 "cells": [
  {
   "cell_type": "markdown",
   "metadata": {},
   "source": [
    "# Scores and plotting - Legend\n",
    "1. Scores for methane to L-lactate with weigths that favour production\n",
    "2. Generate output files for methane to L-lactate with weigths that favour production\n",
    "3. Scores for methane to L-lactate with weigths that favour consumption & output files\n",
    "4. Generation of plot with mock data\n",
    "5. Plot for Figure 2"
   ]
  },
  {
   "cell_type": "markdown",
   "metadata": {},
   "source": [
    "# 1. Calculation with weights favouring production over uptake rates."
   ]
  },
  {
   "cell_type": "code",
   "execution_count": 1,
   "metadata": {},
   "outputs": [],
   "source": [
    "from pipeline.scripts.scoring_system import scores_evaluations"
   ]
  },
  {
   "cell_type": "code",
   "execution_count": 2,
   "metadata": {},
   "outputs": [],
   "source": [
    "consumption={1: ({'model': 'Model1'}, (['ALCD1', 'R01143'], 0.8769972144269685, {'ALCD1': 132.2416762833691, 'R01143': 132.24167452937465}, {'EX_ch4_e': -132.24167452937465, 'EX_nh4_e': -9.471495371047975}, {'EX_lac__L_e': 0.0})), 2: ({'model': 'Model2'}, (['ALCD1', 'MMO2'], 0.8769972144269685, {'ALCD1': 88.161118106911, 'MMO2': 88.16111635291658}, {'EX_ch4_e': -88.16111635291658, 'EX_nh4_e': -9.47149537104798}, {'EX_lac__L_e': 0.0})), 3: ({'model': 'Model3'}, (['POX2', 'PRDX', 'R01142'], 0.07906382561253687, {'POX2': 6.828205063204673, 'PRDX': 500.57882923220285, 'R01142': 500.5788290740752}, {'EX_ch4_e': -500.5788290740752, 'EX_nh4_e': -0.8538825961902489}, {'EX_lac__L_e': 0.0}))}"
   ]
  },
  {
   "cell_type": "code",
   "execution_count": 3,
   "metadata": {},
   "outputs": [],
   "source": [
    "final = {'consumption_1': ({'model': 'Model1'}, (['ALCD1', 'R01143'], 0.8769972144269685, {'ALCD1': 132.2416762833691, 'R01143': 132.24167452937465}, {'EX_ch4_e': -132.24167452937465, 'EX_nh4_e': -9.471495371047975}, {'EX_lac__L_e': 0.0})), \n",
    "'production_1': {'lac__L_Run_1': (['LacR'], 0.043849860721348645, {'EX_ch4_e': -10.0, 'EX_nh4_e': -0.4735741546543487}, {'EX_lac__L_e': 0.11160172555706338}, {'ALCD1': 10.0, 'R01143': 10.0, 'LacR': -0.11160172555706338}, {'mdf': None, 'pathway_length': 39}), \n",
    "'lac__L_Run_2': (['LCADi'], 0.043849860721348645, {'EX_ch4_e': -10.0, 'EX_nh4_e': -0.4735741546543386}, {'EX_lac__L_e': 0.09300143796422544}, {'ALCD1': 10.0, 'R01143': 10.0, 'LCADi': 0.09300143796422544}, {'mdf': None, 'pathway_length': 39}), \n",
    "'lac__L_Run_3': (['LDH_L'], 0.043849860721348645, {'EX_ch4_e': -10.0, 'EX_nh4_e': -0.47357415465434594}, {'EX_lac__L_e': 0.11160172555706627}, {'ALCD1': 10.0, 'R01143': 10.0, 'LDH_L': -0.11160172555706627}, {'mdf': None, 'pathway_length': 39})}, \n",
    "'consumption_2': ({'model': 'Model2'}, (['ALCD1', 'MMO2'], 0.8769972144269685, {'ALCD1': 88.161118106911, 'MMO2': 88.16111635291658}, {'EX_ch4_e': -88.16111635291658, 'EX_nh4_e': -9.47149537104798}, {'EX_lac__L_e': 0.0})), \n",
    "'production_2': {'lac__L_Run_1': (['LCADi'], 0.043849860721348645, {'EX_ch4_e': -10.0, 'EX_nh4_e': -0.4735741546543104}, {'EX_lac__L_e': 0.6882395332023385}, {'ALCD1': 10.0, 'MMO2': 10.0, 'LCADi': 0.6882395332023385}, {'mdf': None, 'pathway_length': None}), \n",
    "'lac__L_Run_2': (['LDH_L'], 0.043849860721348645, {'EX_ch4_e': -10.0, 'EX_nh4_e': -0.47357415465435404}, {'EX_lac__L_e': 0.8258874398427564}, {'ALCD1': 9.999999999999998, 'MMO2': 9.999999999999998, 'LDH_L': -0.8258874398427564}, {'mdf': None, 'pathway_length': None}), \n",
    "'lac__L_Run_3': (['LacR'], 0.043849860721348645, {'EX_ch4_e': -10.0, 'EX_nh4_e': -0.47357415465434377}, {'EX_lac__L_e': 0.8258874398427771}, {'ALCD1': 9.999999999999991, 'MMO2': 9.999999999999991, 'LacR': -0.8258874398427771}, {'mdf': None, 'pathway_length': None})}, \n",
    "'consumption_3': ({'model': 'Model3'}, (['POX2', 'PRDX', 'R01142'], 0.07906382561253687, {'POX2': 6.828205063204673, 'PRDX': 500.57882923220285, 'R01142': 500.5788290740752}, {'EX_ch4_e': -500.5788290740752, 'EX_nh4_e': -0.8538825961902489}, {'EX_lac__L_e': 0.0})), \n",
    "'production_3': {'lac__L_Run_1': (['ALCD1', 'LDH_L'], 0.043849860721348645, {'EX_ch4_e': -10.0, 'EX_nh4_e': -0.47357415465434005}, {'EX_lac__L_e': 0.3973160112713555}, {'R01142': 10.0, 'ALCD1': 10.0, 'LDH_L': -0.3973160112713555}, {'mdf': None, 'pathway_length': None}), \n",
    "'lac__L_Run_2': (['ASPt2r', 'LacR'], 0.043849860721348645, {'EX_ch4_e': -10.0, 'EX_nh4_e': -0.47357415465439373}, {'EX_lac__L_e': 0.2009460698527392}, {'POX2': 4.992684878534746, 'PRDX': 10.0, 'R01142': 10.0, 'ASPt2r': -357.65253689542965, 'LacR': -0.2009460698527392}, {'mdf': None, 'pathway_length': None}), \n",
    "'lac__L_Run_3': (['LCADi', 'SUCCt2b'], 0.043849860721348645, {'EX_ch4_e': -10.0, 'EX_nh4_e': -0.4735741546543687}, {'EX_lac__L_e': 0.20094606985268873}, {'POX2': 4.992684878534741, 'PRDX': 9.999999999999995, 'R01142': 9.999999999999995, 'LCADi': 0.20094606985268873, 'SUCCt2b': 359.8253023358781}, {'mdf': None, 'pathway_length': None}), \n",
    "'lac__L_Run_4': (['LDH_L', 'SUCCt2r'], 0.043849860721348645, {'EX_ch4_e': -10.0, 'EX_nh4_e': -0.47357415465433117}, {'EX_lac__L_e': 0.20094606985271718}, {'POX2': 4.992684878534741, 'PRDX': 10.0, 'R01142': 10.0, 'LDH_L': -0.20094606985271718, 'SUCCt2r': -397.3089770954654}, {'mdf': None, 'pathway_length': None})}}"
   ]
  },
  {
   "cell_type": "code",
   "execution_count": 4,
   "metadata": {
    "scrolled": false
   },
   "outputs": [
    {
     "data": {
      "text/plain": [
       "{'consumption_1': ({'model': 'Model1'},\n",
       "  (['ALCD1', 'R01143'],\n",
       "   0.8769972144269685,\n",
       "   {'ALCD1': 132.2416762833691, 'R01143': 132.24167452937465},\n",
       "   {'EX_ch4_e': -132.24167452937465, 'EX_nh4_e': -9.471495371047975},\n",
       "   {'EX_lac__L_e': 0.0})),\n",
       " 'production_1': {'lac__L_Run_1': (['LacR'],\n",
       "   0.043849860721348645,\n",
       "   {'EX_ch4_e': -10.0, 'EX_nh4_e': -0.4735741546543487},\n",
       "   {'EX_lac__L_e': 0.11160172555706338},\n",
       "   {'ALCD1': 10.0, 'R01143': 10.0, 'LacR': -0.11160172555706338},\n",
       "   {'mdf': None, 'pathway_length': 39}),\n",
       "  'lac__L_Run_2': (['LCADi'],\n",
       "   0.043849860721348645,\n",
       "   {'EX_ch4_e': -10.0, 'EX_nh4_e': -0.4735741546543386},\n",
       "   {'EX_lac__L_e': 0.09300143796422544},\n",
       "   {'ALCD1': 10.0, 'R01143': 10.0, 'LCADi': 0.09300143796422544},\n",
       "   {'mdf': None, 'pathway_length': 39}),\n",
       "  'lac__L_Run_3': (['LDH_L'],\n",
       "   0.043849860721348645,\n",
       "   {'EX_ch4_e': -10.0, 'EX_nh4_e': -0.47357415465434594},\n",
       "   {'EX_lac__L_e': 0.11160172555706627},\n",
       "   {'ALCD1': 10.0, 'R01143': 10.0, 'LDH_L': -0.11160172555706627},\n",
       "   {'mdf': None, 'pathway_length': 39})},\n",
       " 'consumption_2': ({'model': 'Model2'},\n",
       "  (['ALCD1', 'MMO2'],\n",
       "   0.8769972144269685,\n",
       "   {'ALCD1': 88.161118106911, 'MMO2': 88.16111635291658},\n",
       "   {'EX_ch4_e': -88.16111635291658, 'EX_nh4_e': -9.47149537104798},\n",
       "   {'EX_lac__L_e': 0.0})),\n",
       " 'production_2': {'lac__L_Run_1': (['LCADi'],\n",
       "   0.043849860721348645,\n",
       "   {'EX_ch4_e': -10.0, 'EX_nh4_e': -0.4735741546543104},\n",
       "   {'EX_lac__L_e': 0.6882395332023385},\n",
       "   {'ALCD1': 10.0, 'MMO2': 10.0, 'LCADi': 0.6882395332023385},\n",
       "   {'mdf': None, 'pathway_length': None}),\n",
       "  'lac__L_Run_2': (['LDH_L'],\n",
       "   0.043849860721348645,\n",
       "   {'EX_ch4_e': -10.0, 'EX_nh4_e': -0.47357415465435404},\n",
       "   {'EX_lac__L_e': 0.8258874398427564},\n",
       "   {'ALCD1': 9.999999999999998,\n",
       "    'MMO2': 9.999999999999998,\n",
       "    'LDH_L': -0.8258874398427564},\n",
       "   {'mdf': None, 'pathway_length': None}),\n",
       "  'lac__L_Run_3': (['LacR'],\n",
       "   0.043849860721348645,\n",
       "   {'EX_ch4_e': -10.0, 'EX_nh4_e': -0.47357415465434377},\n",
       "   {'EX_lac__L_e': 0.8258874398427771},\n",
       "   {'ALCD1': 9.999999999999991,\n",
       "    'MMO2': 9.999999999999991,\n",
       "    'LacR': -0.8258874398427771},\n",
       "   {'mdf': None, 'pathway_length': None})},\n",
       " 'consumption_3': ({'model': 'Model3'},\n",
       "  (['POX2', 'PRDX', 'R01142'],\n",
       "   0.07906382561253687,\n",
       "   {'POX2': 6.828205063204673,\n",
       "    'PRDX': 500.57882923220285,\n",
       "    'R01142': 500.5788290740752},\n",
       "   {'EX_ch4_e': -500.5788290740752, 'EX_nh4_e': -0.8538825961902489},\n",
       "   {'EX_lac__L_e': 0.0})),\n",
       " 'production_3': {'lac__L_Run_1': (['ALCD1', 'LDH_L'],\n",
       "   0.043849860721348645,\n",
       "   {'EX_ch4_e': -10.0, 'EX_nh4_e': -0.47357415465434005},\n",
       "   {'EX_lac__L_e': 0.3973160112713555},\n",
       "   {'R01142': 10.0, 'ALCD1': 10.0, 'LDH_L': -0.3973160112713555},\n",
       "   {'mdf': None, 'pathway_length': None}),\n",
       "  'lac__L_Run_2': (['ASPt2r', 'LacR'],\n",
       "   0.043849860721348645,\n",
       "   {'EX_ch4_e': -10.0, 'EX_nh4_e': -0.47357415465439373},\n",
       "   {'EX_lac__L_e': 0.2009460698527392},\n",
       "   {'POX2': 4.992684878534746,\n",
       "    'PRDX': 10.0,\n",
       "    'R01142': 10.0,\n",
       "    'ASPt2r': -357.65253689542965,\n",
       "    'LacR': -0.2009460698527392},\n",
       "   {'mdf': None, 'pathway_length': None}),\n",
       "  'lac__L_Run_3': (['LCADi', 'SUCCt2b'],\n",
       "   0.043849860721348645,\n",
       "   {'EX_ch4_e': -10.0, 'EX_nh4_e': -0.4735741546543687},\n",
       "   {'EX_lac__L_e': 0.20094606985268873},\n",
       "   {'POX2': 4.992684878534741,\n",
       "    'PRDX': 9.999999999999995,\n",
       "    'R01142': 9.999999999999995,\n",
       "    'LCADi': 0.20094606985268873,\n",
       "    'SUCCt2b': 359.8253023358781},\n",
       "   {'mdf': None, 'pathway_length': None}),\n",
       "  'lac__L_Run_4': (['LDH_L', 'SUCCt2r'],\n",
       "   0.043849860721348645,\n",
       "   {'EX_ch4_e': -10.0, 'EX_nh4_e': -0.47357415465433117},\n",
       "   {'EX_lac__L_e': 0.20094606985271718},\n",
       "   {'POX2': 4.992684878534741,\n",
       "    'PRDX': 10.0,\n",
       "    'R01142': 10.0,\n",
       "    'LDH_L': -0.20094606985271718,\n",
       "    'SUCCt2r': -397.3089770954654},\n",
       "   {'mdf': None, 'pathway_length': None})}}"
      ]
     },
     "execution_count": 4,
     "metadata": {},
     "output_type": "execute_result"
    }
   ],
   "source": [
    "final"
   ]
  },
  {
   "cell_type": "code",
   "execution_count": 5,
   "metadata": {
    "scrolled": false
   },
   "outputs": [
    {
     "name": "stderr",
     "output_type": "stream",
     "text": [
      "DEBUG:root:{'ch4': '0.158730159', 'nh4': '0.031746032', 'lac__L': '0.476190476', 'interventions': '0.158730159', 'MDF': '0.079365079', 'path_length': '0.095238095'}\n",
      "DEBUG:root:({'ch4': [-132.24167452937465, -88.16111635291658, -500.5788290740752], 'nh4': [-9.471495371047975, -9.47149537104798, -0.8538825961902489]}, {'lac__L': [0.11160172555706338, 0.09300143796422544, 0.11160172555706627, 0.6882395332023385, 0.8258874398427564, 0.8258874398427771, 0.3973160112713555, 0.2009460698527392, 0.20094606985268873, 0.20094606985271718]}, [3, 3, 3, 3, 3, 3, 3, 3, 3, 3, 3, 3, 3, 3, 3, 3, 3, 3, 3, 5, 5, 5, 3, 5, 5, 5, 3, 5, 5, 5, 3, 5, 5, 5], [0, 0, 0, 0, 0, 0, 0, 0, 0, 0], [39.0, 39.0, 39.0, 0, 0, 0, 0, 0, 0, 0])\n",
      "DEBUG:root:cons values\n",
      "DEBUG:root:[-132.24167452937465, -88.16111635291658, -500.5788290740752]\n",
      "DEBUG:root:cons values\n",
      "DEBUG:root:[-9.471495371047975, -9.47149537104798, -0.8538825961902489]\n",
      "DEBUG:root:{'ch4': (-500.5788290740752, -88.16111635291658), 'nh4': (-9.47149537104798, -0.8538825961902489), 'lac__L': (0.09300143796422544, 0.8258874398427771), 'Interventions': (3, 5), 'MDF': None, 'path_length': (0, 39.0)}\n",
      "DEBUG:root:consumption\n",
      "DEBUG:root:0.11160172555706338\n",
      "DEBUG:root:0.10688328075341795\n",
      "DEBUG:root:0.9999999999999993\n",
      "DEBUG:root:production\n",
      "DEBUG:root:0.02537950997175716\n",
      "DEBUG:root:interventions\n",
      "DEBUG:root:5\n",
      "DEBUG:root:0.158730159\n",
      "DEBUG:root:0.158730159\n",
      "DEBUG:root:mdf\n",
      "DEBUG:root:0.21952727208252945\n",
      "DEBUG:root:pl\n",
      "DEBUG:root:0.0\n",
      "DEBUG:root:0.21952727208252945\n",
      "DEBUG:root:consumption\n",
      "DEBUG:root:0.09300143796422544\n",
      "DEBUG:root:0.10688328075341795\n",
      "DEBUG:root:0.9999999999999993\n",
      "DEBUG:root:production\n",
      "DEBUG:root:0.0\n",
      "DEBUG:root:interventions\n",
      "DEBUG:root:5\n",
      "DEBUG:root:0.158730159\n",
      "DEBUG:root:0.158730159\n",
      "DEBUG:root:mdf\n",
      "DEBUG:root:0.20744179114843167\n",
      "DEBUG:root:pl\n",
      "DEBUG:root:0.0\n",
      "DEBUG:root:0.20744179114843167\n",
      "DEBUG:root:consumption\n",
      "DEBUG:root:0.11160172555706627\n",
      "DEBUG:root:0.10688328075341795\n",
      "DEBUG:root:0.9999999999999993\n",
      "DEBUG:root:production\n",
      "DEBUG:root:0.025379509971761097\n",
      "DEBUG:root:interventions\n",
      "DEBUG:root:5\n",
      "DEBUG:root:0.158730159\n",
      "DEBUG:root:0.158730159\n",
      "DEBUG:root:mdf\n",
      "DEBUG:root:0.21952727208253134\n",
      "DEBUG:root:pl\n",
      "DEBUG:root:0.0\n",
      "DEBUG:root:0.21952727208253134\n",
      "DEBUG:root:consumption\n",
      "DEBUG:root:0.6882395332023385\n",
      "DEBUG:root:0.0\n",
      "DEBUG:root:1.0\n",
      "DEBUG:root:production\n",
      "DEBUG:root:0.8121837416902273\n",
      "DEBUG:root:interventions\n",
      "DEBUG:root:5\n",
      "DEBUG:root:0.158730159\n",
      "DEBUG:root:0.158730159\n",
      "DEBUG:root:mdf\n",
      "DEBUG:root:0.5772303535549304\n",
      "DEBUG:root:pl\n",
      "DEBUG:root:0.5772303535549304\n",
      "DEBUG:root:consumption\n",
      "DEBUG:root:0.8258874398427564\n",
      "DEBUG:root:0.0\n",
      "DEBUG:root:1.0\n",
      "DEBUG:root:production\n",
      "DEBUG:root:0.9999999999999717\n",
      "DEBUG:root:interventions\n",
      "DEBUG:root:5\n",
      "DEBUG:root:0.158730159\n",
      "DEBUG:root:0.158730159\n",
      "DEBUG:root:mdf\n",
      "DEBUG:root:0.6666666669999866\n",
      "DEBUG:root:pl\n",
      "DEBUG:root:0.6666666669999866\n",
      "DEBUG:root:consumption\n",
      "DEBUG:root:0.8258874398427771\n",
      "DEBUG:root:0.0\n",
      "DEBUG:root:1.0\n",
      "DEBUG:root:production\n",
      "DEBUG:root:1.0\n",
      "DEBUG:root:interventions\n",
      "DEBUG:root:5\n",
      "DEBUG:root:0.158730159\n",
      "DEBUG:root:0.158730159\n",
      "DEBUG:root:mdf\n",
      "DEBUG:root:0.666666667\n",
      "DEBUG:root:pl\n",
      "DEBUG:root:0.666666667\n",
      "DEBUG:root:consumption\n",
      "DEBUG:root:0.3973160112713555\n",
      "DEBUG:root:1.0\n",
      "DEBUG:root:0.0\n",
      "DEBUG:root:production\n",
      "DEBUG:root:0.41522770598306336\n",
      "DEBUG:root:interventions\n",
      "DEBUG:root:5\n",
      "DEBUG:root:0.158730159\n",
      "DEBUG:root:0.158730159\n",
      "DEBUG:root:mdf\n",
      "DEBUG:root:0.515187796960463\n",
      "DEBUG:root:pl\n",
      "DEBUG:root:0.515187796960463\n",
      "DEBUG:root:consumption\n",
      "DEBUG:root:0.2009460698527392\n",
      "DEBUG:root:1.0\n",
      "DEBUG:root:0.0\n",
      "DEBUG:root:production\n",
      "DEBUG:root:0.14728707003794228\n",
      "DEBUG:root:interventions\n",
      "DEBUG:root:5\n",
      "DEBUG:root:0.158730159\n",
      "DEBUG:root:0.0\n",
      "DEBUG:root:mdf\n"
     ]
    },
    {
     "name": "stdout",
     "output_type": "stream",
     "text": [
      "For ch4 the normalization has to be done using -500.5788290740752 as min and -88.16111635291658 as max value\n",
      "For nh4 the normalization has to be done using -9.47149537104798 as min and -0.8538825961902489 as max value\n",
      "For lac__L the normalization has to be done using 0.09300143796422544 as min and 0.8258874398427771 as max value\n",
      "No normalization is needed for the mdf values: None\n",
      "---------1---------\n",
      "ch4 (-500.5788290740752, -88.16111635291658)\n",
      "nh4 (-9.47149537104798, -0.8538825961902489)\n",
      "lac__L (0.09300143796422544, 0.8258874398427771)\n",
      "score_c:  {'ch4': 0.10688328075341795, 'nh4': 0.9999999999999993} score_p:  {'lac__L': 0.02537950997175716} score_KI:  1.0\n",
      "ch4 (-500.5788290740752, -88.16111635291658)\n",
      "nh4 (-9.47149537104798, -0.8538825961902489)\n",
      "lac__L (0.09300143796422544, 0.8258874398427771)\n",
      "score_c:  {'ch4': 0.10688328075341795, 'nh4': 0.9999999999999993} score_p:  {'lac__L': 0.0} score_KI:  1.0\n",
      "ch4 (-500.5788290740752, -88.16111635291658)\n",
      "nh4 (-9.47149537104798, -0.8538825961902489)\n",
      "lac__L (0.09300143796422544, 0.8258874398427771)\n",
      "score_c:  {'ch4': 0.10688328075341795, 'nh4': 0.9999999999999993} score_p:  {'lac__L': 0.025379509971761097} score_KI:  1.0\n",
      "---------2---------\n",
      "ch4 (-500.5788290740752, -88.16111635291658)\n",
      "nh4 (-9.47149537104798, -0.8538825961902489)\n",
      "lac__L (0.09300143796422544, 0.8258874398427771)\n",
      "score_c:  {'ch4': 0.0, 'nh4': 1.0} score_p:  {'lac__L': 0.8121837416902273} score_KI:  1.0\n",
      "ch4 (-500.5788290740752, -88.16111635291658)\n",
      "nh4 (-9.47149537104798, -0.8538825961902489)\n",
      "lac__L (0.09300143796422544, 0.8258874398427771)\n",
      "score_c:  {'ch4': 0.0, 'nh4': 1.0} score_p:  {'lac__L': 0.9999999999999717} score_KI:  1.0\n",
      "ch4 (-500.5788290740752, -88.16111635291658)\n",
      "nh4 (-9.47149537104798, -0.8538825961902489)\n",
      "lac__L (0.09300143796422544, 0.8258874398427771)\n",
      "score_c:  {'ch4': 0.0, 'nh4': 1.0} score_p:  {'lac__L': 1.0} score_KI:  1.0\n",
      "---------3---------\n",
      "ch4 (-500.5788290740752, -88.16111635291658)\n",
      "nh4 (-9.47149537104798, -0.8538825961902489)\n",
      "lac__L (0.09300143796422544, 0.8258874398427771)\n",
      "score_c:  {'ch4': 1.0, 'nh4': 0.0} score_p:  {'lac__L': 0.41522770598306336} score_KI:  1.0\n",
      "ch4 (-500.5788290740752, -88.16111635291658)\n",
      "nh4 (-9.47149537104798, -0.8538825961902489)\n",
      "lac__L (0.09300143796422544, 0.8258874398427771)\n",
      "score_c:  {'ch4': 1.0, 'nh4': 0.0} score_p:  {'lac__L': 0.14728707003794228} score_KI:  0.0\n"
     ]
    },
    {
     "name": "stderr",
     "output_type": "stream",
     "text": [
      "DEBUG:root:0.22886685899001308\n",
      "DEBUG:root:pl\n",
      "DEBUG:root:0.22886685899001308\n",
      "DEBUG:root:consumption\n",
      "DEBUG:root:0.20094606985268873\n",
      "DEBUG:root:1.0\n",
      "DEBUG:root:0.0\n",
      "DEBUG:root:production\n",
      "DEBUG:root:0.14728707003787345\n",
      "DEBUG:root:interventions\n",
      "DEBUG:root:5\n",
      "DEBUG:root:0.158730159\n",
      "DEBUG:root:0.0\n",
      "DEBUG:root:mdf\n",
      "DEBUG:root:0.2288668589899803\n",
      "DEBUG:root:pl\n",
      "DEBUG:root:0.2288668589899803\n",
      "DEBUG:root:consumption\n",
      "DEBUG:root:0.20094606985271718\n",
      "DEBUG:root:1.0\n",
      "DEBUG:root:0.0\n",
      "DEBUG:root:production\n",
      "DEBUG:root:0.14728707003791225\n",
      "DEBUG:root:interventions\n",
      "DEBUG:root:5\n",
      "DEBUG:root:0.158730159\n",
      "DEBUG:root:0.0\n",
      "DEBUG:root:mdf\n",
      "DEBUG:root:0.22886685898999878\n",
      "DEBUG:root:pl\n",
      "DEBUG:root:0.22886685898999878\n",
      "DEBUG:root:([0.21952727208252945, 0.20744179114843167, 0.21952727208253134, 0.5772303535549304, 0.6666666669999866, 0.666666667, 0.515187796960463, 0.22886685899001308, 0.2288668589899803, 0.22886685898999878], {'1_lac__L_Run_1': 0.21952727208252945, '1_lac__L_Run_2': 0.20744179114843167, '1_lac__L_Run_3': 0.21952727208253134, '2_lac__L_Run_1': 0.5772303535549304, '2_lac__L_Run_2': 0.6666666669999866, '2_lac__L_Run_3': 0.666666667, '3_lac__L_Run_1': 0.515187796960463, '3_lac__L_Run_2': 0.22886685899001308, '3_lac__L_Run_3': 0.2288668589899803, '3_lac__L_Run_4': 0.22886685898999878})\n"
     ]
    },
    {
     "name": "stdout",
     "output_type": "stream",
     "text": [
      "ch4 (-500.5788290740752, -88.16111635291658)\n",
      "nh4 (-9.47149537104798, -0.8538825961902489)\n",
      "lac__L (0.09300143796422544, 0.8258874398427771)\n",
      "score_c:  {'ch4': 1.0, 'nh4': 0.0} score_p:  {'lac__L': 0.14728707003787345} score_KI:  0.0\n",
      "ch4 (-500.5788290740752, -88.16111635291658)\n",
      "nh4 (-9.47149537104798, -0.8538825961902489)\n",
      "lac__L (0.09300143796422544, 0.8258874398427771)\n",
      "score_c:  {'ch4': 1.0, 'nh4': 0.0} score_p:  {'lac__L': 0.14728707003791225} score_KI:  0.0\n",
      "The final position in the ranking for model 2_lac__L_Run_3 is 1 and its final score is 0.666666667\n",
      "The final position in the ranking for model 2_lac__L_Run_2 is 2 and its final score is 0.6666666669999866\n",
      "The final position in the ranking for model 2_lac__L_Run_1 is 3 and its final score is 0.5772303535549304\n",
      "The final position in the ranking for model 3_lac__L_Run_1 is 4 and its final score is 0.515187796960463\n",
      "The final position in the ranking for model 3_lac__L_Run_2 is 5 and its final score is 0.22886685899001308\n",
      "The final position in the ranking for model 3_lac__L_Run_4 is 6 and its final score is 0.22886685898999878\n",
      "The final position in the ranking for model 3_lac__L_Run_3 is 7 and its final score is 0.2288668589899803\n",
      "The final position in the ranking for model 1_lac__L_Run_3 is 8 and its final score is 0.21952727208253134\n",
      "The final position in the ranking for model 1_lac__L_Run_1 is 9 and its final score is 0.21952727208252945\n",
      "The final position in the ranking for model 1_lac__L_Run_2 is 10 and its final score is 0.20744179114843167\n"
     ]
    }
   ],
   "source": [
    "scores_final =  scores_evaluations('./pipeline/inputs/lac_201027.csv', consumption, final)"
   ]
  },
  {
   "cell_type": "code",
   "execution_count": 6,
   "metadata": {},
   "outputs": [
    {
     "data": {
      "text/plain": [
       "{1: ('2_lac__L_Run_3', 0.666666667),\n",
       " 2: ('2_lac__L_Run_2', 0.6666666669999866),\n",
       " 3: ('2_lac__L_Run_1', 0.5772303535549304),\n",
       " 4: ('3_lac__L_Run_1', 0.515187796960463),\n",
       " 5: ('3_lac__L_Run_2', 0.22886685899001308),\n",
       " 6: ('3_lac__L_Run_4', 0.22886685898999878),\n",
       " 7: ('3_lac__L_Run_3', 0.2288668589899803),\n",
       " 8: ('1_lac__L_Run_3', 0.21952727208253134),\n",
       " 9: ('1_lac__L_Run_1', 0.21952727208252945),\n",
       " 10: ('1_lac__L_Run_2', 0.20744179114843167)}"
      ]
     },
     "execution_count": 6,
     "metadata": {},
     "output_type": "execute_result"
    }
   ],
   "source": [
    "scores_final"
   ]
  },
  {
   "cell_type": "code",
   "execution_count": 5,
   "metadata": {},
   "outputs": [],
   "source": [
    "new=[[{'reaction': {'EC': '1.1.1.244', 'KEGG': 'R00605'}},\n",
    "  {'reaction': {'EC': '1.14.18.3', 'KEGG': 'R09518'}},\n",
    "  {'reaction': {'EC': '5.1.2.1', 'KEGG': 'R01450'}}],\n",
    " [{'reaction': {'EC': '1.1.1.244', 'KEGG': 'R00605'}},\n",
    "  {'reaction': {'EC': '1.14.18.3', 'KEGG': 'R09518'}},\n",
    "  {'reaction': {'EC': '1.1.1.27', 'KEGG': 'R00703'}}],\n",
    " [{'reaction': {'EC': '1.1.1.244', 'KEGG': 'R00605'}},\n",
    "  {'reaction': {'EC': '1.14.18.3', 'KEGG': 'R09518'}},\n",
    "  {'reaction': {'EC': '1.2.1.22', 'KEGG': 'R01446'}}],\n",
    " [{'reaction': {'EC': '1.14.13.25', 'KEGG': 'R01142'}},\n",
    "  {'reaction': {'EC': '1.1.1.244', 'KEGG': 'R00605'}},\n",
    "  {'reaction': {'EC': '1.1.1.27', 'KEGG': 'R00703'}}],\n",
    " [{'reaction': None},\n",
    "  {'reaction': {'EC': '1.11.1.7', 'KEGG': 'R00602'}},\n",
    "  {'reaction': {'EC': '1.14.13.25', 'KEGG': 'R01142'}},\n",
    "  {'reaction': None},\n",
    "  {'reaction': {'EC': '5.1.2.1', 'KEGG': 'R01450'}}],\n",
    " [{'reaction': None},\n",
    "  {'reaction': {'EC': '1.11.1.7', 'KEGG': 'R00602'}},\n",
    "  {'reaction': {'EC': '1.14.13.25', 'KEGG': 'R01142'}},\n",
    "  {'reaction': {'EC': '1.1.1.27', 'KEGG': 'R00703'}},\n",
    "  {'reaction': None}],\n",
    " [{'reaction': None},\n",
    "  {'reaction': {'EC': '1.11.1.7', 'KEGG': 'R00602'}},\n",
    "  {'reaction': {'EC': '1.14.13.25', 'KEGG': 'R01142'}},\n",
    "  {'reaction': {'EC': '1.2.1.22', 'KEGG': 'R01446'}},\n",
    "  {'reaction': None}],\n",
    " [{'reaction': {'EC': '1.1.1.244', 'KEGG': 'R00605'}},\n",
    "  {'reaction': {'EC': '1.14.13.25', 'KEGG': 'R01143'}},\n",
    "  {'reaction': {'EC': '1.1.1.27', 'KEGG': 'R00703'}}],\n",
    " [{'reaction': {'EC': '1.1.1.244', 'KEGG': 'R00605'}},\n",
    "  {'reaction': {'EC': '1.14.13.25', 'KEGG': 'R01143'}},\n",
    "  {'reaction': {'EC': '5.1.2.1', 'KEGG': 'R01450'}}],\n",
    " [{'reaction': {'EC': '1.1.1.244', 'KEGG': 'R00605'}},\n",
    "  {'reaction': {'EC': '1.14.13.25', 'KEGG': 'R01143'}},\n",
    "  {'reaction': {'EC': '1.2.1.22', 'KEGG': 'R01446'}}]]\n",
    "\n",
    "out_harm = {'Model 1': {'1.1.1.244': ('BBa_K1619001',\n",
    "   'ATGAAAAACACTCAAAGTGCATTTTACATGCCTTCAGTCAATCTATTTGGTGCAGGCTCTGTTAATGAGGTTGGAACTCGATTAGCTGGTCTTGGTGTGAAAAAAGCTTTATTAGTTACAGATGCTGGTCTTCACAGTTTAGGCCTTTCTGAAAAAATTGCCGGTATCATTCGTGAAGCTGGTGTGGAAGTAGCTATTTTTCCAAAAGCCGAACCAAATCCAACTGATAAAAACGTCGCAGAAGGTTTAGAAGCGTATAACGCTGAAAACTGTGACAGCATTGTCACTCTTGGCGGCGGAAGCTCACATGATGCTGGAAAAGCCATTGCATTAGTAGCTGCTAACGGTGGAACAATTCACGATTATGAAGGTGTCGATGTATCAAAAAAACCAATGGTCCCTCTAATTGCGATTAATACAACAGCTGGTACAGGCAGTGAATTAACTAAATTCACAATCATCACAGATACTGAACGCAAAGTGAAAATGGCCATTGTTGATAAACATGTAACACCTACACTTTCAATCAATGACCCAGAGCTAATGGTTGGAATGCCTCCGTCCTTAACAGCTGCTACTGGATTAGATGCATTAACTCATGCGATTGAAGCATATGTTTCAACTGGTGCTACTCCAATTACAGATGCACTTGCAATTCAGGCGATCAAAATTATTTCTAAATACTTGCCGCGTGCAGTTGCAAATGGAAAAGACATTGAAGCACGTGAACAAATGGCCTTCGCACAATCATTAGCTGGCATGGCATTCAATAACGCGGGTTTAGGCTATGTTCATGCGATTGCACACCAATTAGGAGGATTCTACAACTTCCCTCATGGCGTTTGCAATGCGATCCTTCTGCCGCATGTTTGTCGTTTCAACTTAATTTCTAAAGTGGAACGTTATGCAGAAATCGCTGCTTTTCTTGGTGAAAATGTCGACGGCCTAAGCACCTACGAAGCAGCTGAAAAAGCTATTAAAGCGATCGAAAGAATGGCTAGAGACCTTAACATTCCAAAAGGCTTTAAAGAACTAGGTGCTAAAGAAGAAGATATTGAGACTTTAGCTAAAAATGCGATGAATGATGCATGTGCATTAACAAATCCTCGTAAACCTAAGTTAGAAGAAGTCATCCAAATTATTAAAAATGCTATGTAA',\n",
    "   'Bacillus methanolicus',\n",
    "   'ATGAAAAATACGCAGAGCGCGTTTTACATGCCAAGCGTTAACTTGTTTGGTGCGGGCTCAGTGAACGAGGTGGGAACGCGGTTAGCGGGTTTAGGTGTTAAAAAAGCGTTATTAGTGACGGATGCGGGTTTACACAGCTTAGGCTTATCAGAAAAAATTGCGGGTATCATTCGTGAAGCGGGTGTTGAAGTAGCGATTTTTCCGAAAGCGGAACCGAACCCGACGGATAAAAATGTTGCGGAAGGTTTAGAAGCCTATAATGCGGAAAATTGCGACAGCATTGTTACGTTAGGCGGCGGAAGCAGCCATGATGCGGGAAAAGCGATTGCGTTAGTAGCGGCGAATGGTGGAACGATTCACGATTATGAAGGTGTTGATGTAAGCAAAAAACCGATGGTTCCATTGATTGCCATTAACACGACGGCGGGTACGGGCAGCGAATTAACGAAATTCACGATCATCACGGATACGGAACGCAAAGTTAAAATGGCGATTGTGGATAAACATGTAACGCCAACGTTAAGCATCAACGACCCGGAGTTGATGGTGGGAATGCCACCGTCATTAACGGCGGCGACGGGATTAGATGCGTTAACGCATGCCATTGAAGCGTATGTGAGCACGGGTGCGACGCCGATTACGGATGCGTTAGCGATTCAAGCCATCAAAATTATTTCAAAATACCTGCCGCGTGCGGTGGCGAACGGAAAAGACATTGAAGCGCGTGAACAGATGGCGTTCGCGCAGAGCTTAGCGGGCATGGCGTTCAACAATGCCGGTTTAGGCTATGTGCATGCCATTGCGCACCAGTTAGGAGGATTCTACAATTTCCCACATGGCGTGTGCAACGCCATCTTACTGCCGCATGTGTGCCGTTTCAATTTAATTTCAAAAGTTGAACGTTATGCGGAAATCGCGGCGTTTTTAGGTGAAAACGTTGACGGCTTGAGCACCTACGAAGCGGCGGAAAAAGCGATTAAAGCCATCGAACGAATGGCGCGAGACTTAAATATTCCGAAAGGCTTTAAAGAATTGGGTGCGAAAGAAGAAGATATTGAGACGTTAGCGAAAAACGCCATGAACGATGCGTGCGCGTTAACGAACCCACGTAAACCAAAATTAGAAGAAGTTATCCAGATTATTAAAAACGCGATGTAA',\n",
    "   'CHI_native=0.18682553084640247-CHI_harmonized=0.06501796238204563'),\n",
    "  '1.14.18.3': ('BBa_K1390019',\n",
    "   'ATGGCAGCAACAACCATTGGTGGTGCAGCTGCGGCGGAAGCGCCGCTGCTGGACAAGAAGTGGCTCACGTTCGCACTGGCGATTTACACCGTGTTCTACCTGTGGGTGCGGTGGTACGAAGGTGTCTATGGCTGGTCCGCCGGACTGGACTCGTTCGCGCCGGAGTTCGAGACCTACTGGATGAATTTCCTGTACACCGAGATCGTCCTGGAGATCGTGACGGCTTCGATCCTGTGGGGCTATCTCTGGAAGACCCGCGACCGCAACCTGGCCGCGCTGACCCCGCGTGAAGAGCTGCGCCGCAACTTCACCCACCTGGTGTGGCTGGTGGCCTACGCCTGGGCCATCTACTGGGGCGCATCCTACTTCACCGAGCAGGACGGCACCTGGCATCAGACGATCGTGCGCGACACCGACTTCACGCCGTCGCACATCATCGAGTTCTATCTGAGCTACCCGATCTACATCATCACCGGTTTTGCGGCGTTCATCTACGCCAAGACGCGTCTGCCGTTCTTCGCGAAGGGCATCTCGCTGCCGTACCTGGTGCTGGTGGTGGGTCCGTTCATGATTCTGCCGAACGTGGGTCTGAACGAATGGGGCCACACCTTCTGGTTCATGGAAGAGCTGTTCGTGGCGCCGCTGCACTACGGCTTCGTGATCTTCGGCTGGCTGGCACTGGCCGTCATGGGCACCCTGACCCAGACCTTCTACAGATTCGCTCAGGGAGGGCTGGGGCAGTCGCTCTGTGAAGCCGTGGACGAAGGCTTGATCGCGAAATAA',\n",
    "   'Methylococcus capsulatus',\n",
    "   'ATGGCGGCGACGACCATTGGTGGTGCGGCGGCCGCCGAAGCCCCGCTGCTGGACAAAAAATGGTTAACCTTCGCGCTGGCCATTTACACCGTTTTCTACCTGTGGGTTCGTTGGTACGAAGGTGTTTATGGCTGGTCAGCGGGACTGGACTCTTTCGCCCCGGAGTTCGAGACCTACTGGATGAACTTCCTGTACACCGAGATCGTTCTGGAGATCGTTACCGCGTCTATCCTGTGGGGCTATTTATGGAAAACCCGCGACCGCAATCTGGCGGCCCTGACCCCGCGTGAAGAGCTGCGCCGCAATTTCACCCACCTGGTTTGGCTGGTTGCGTACGCGTGGGCGATCTACTGGGGCGCGTCATACTTCACCGAGCAAGACGGCACCTGGCATCAAACCATCGTTCGCGACACCGACTTCACCCCGTCTCACATCATCGAGTTCTATCTGAGCTACCCGATCTACATCATCACCGGTTTTGCCGCCTTCATCTACGCGAAAACCCGTCTGCCGTTCTTCGCCAAAGGCATCTCTCTGCCGTACCTGGTTCTGGTTGTTGGTCCGTTCATGATTCTGCCGAATGTTGGTCTGAATGAATGGGGCCACACCTTCTGGTTCATGGAAGAGCTGTTCGTTGCCCCGCTGCACTACGGCTTCGTTATCTTCGGCTGGCTGGCGCTGGCGGTTATGGGCACCCTGACCCAAACCTTCTACCGATTCGCGCAAGGAGGGCTGGGGCAATCTTTATGCGAAGCGGTTGACGAAGGCCTGATCGCCAAATAA',\n",
    "   'CHI_native=0.16076274131757531-CHI_harmonized=0.09779542970346927'),\n",
    "  '1.2.1.22': None},\n",
    " 'Model 2': {'1.1.1.244': ('BBa_K1619001',\n",
    "   'ATGAAAAACACTCAAAGTGCATTTTACATGCCTTCAGTCAATCTATTTGGTGCAGGCTCTGTTAATGAGGTTGGAACTCGATTAGCTGGTCTTGGTGTGAAAAAAGCTTTATTAGTTACAGATGCTGGTCTTCACAGTTTAGGCCTTTCTGAAAAAATTGCCGGTATCATTCGTGAAGCTGGTGTGGAAGTAGCTATTTTTCCAAAAGCCGAACCAAATCCAACTGATAAAAACGTCGCAGAAGGTTTAGAAGCGTATAACGCTGAAAACTGTGACAGCATTGTCACTCTTGGCGGCGGAAGCTCACATGATGCTGGAAAAGCCATTGCATTAGTAGCTGCTAACGGTGGAACAATTCACGATTATGAAGGTGTCGATGTATCAAAAAAACCAATGGTCCCTCTAATTGCGATTAATACAACAGCTGGTACAGGCAGTGAATTAACTAAATTCACAATCATCACAGATACTGAACGCAAAGTGAAAATGGCCATTGTTGATAAACATGTAACACCTACACTTTCAATCAATGACCCAGAGCTAATGGTTGGAATGCCTCCGTCCTTAACAGCTGCTACTGGATTAGATGCATTAACTCATGCGATTGAAGCATATGTTTCAACTGGTGCTACTCCAATTACAGATGCACTTGCAATTCAGGCGATCAAAATTATTTCTAAATACTTGCCGCGTGCAGTTGCAAATGGAAAAGACATTGAAGCACGTGAACAAATGGCCTTCGCACAATCATTAGCTGGCATGGCATTCAATAACGCGGGTTTAGGCTATGTTCATGCGATTGCACACCAATTAGGAGGATTCTACAACTTCCCTCATGGCGTTTGCAATGCGATCCTTCTGCCGCATGTTTGTCGTTTCAACTTAATTTCTAAAGTGGAACGTTATGCAGAAATCGCTGCTTTTCTTGGTGAAAATGTCGACGGCCTAAGCACCTACGAAGCAGCTGAAAAAGCTATTAAAGCGATCGAAAGAATGGCTAGAGACCTTAACATTCCAAAAGGCTTTAAAGAACTAGGTGCTAAAGAAGAAGATATTGAGACTTTAGCTAAAAATGCGATGAATGATGCATGTGCATTAACAAATCCTCGTAAACCTAAGTTAGAAGAAGTCATCCAAATTATTAAAAATGCTATGTAA',\n",
    "   'Bacillus methanolicus',\n",
    "   'ATGAAAAATACGCAGAGCGCGTTTTACATGCCAAGCGTTAACTTGTTTGGTGCGGGCTCAGTGAACGAGGTGGGAACGCGGTTAGCGGGTTTAGGTGTTAAAAAAGCGTTATTAGTGACGGATGCGGGTTTACACAGCTTAGGCTTATCAGAAAAAATTGCGGGTATCATTCGTGAAGCGGGTGTTGAAGTAGCGATTTTTCCGAAAGCGGAACCGAACCCGACGGATAAAAATGTTGCGGAAGGTTTAGAAGCCTATAATGCGGAAAATTGCGACAGCATTGTTACGTTAGGCGGCGGAAGCAGCCATGATGCGGGAAAAGCGATTGCGTTAGTAGCGGCGAATGGTGGAACGATTCACGATTATGAAGGTGTTGATGTAAGCAAAAAACCGATGGTTCCATTGATTGCCATTAACACGACGGCGGGTACGGGCAGCGAATTAACGAAATTCACGATCATCACGGATACGGAACGCAAAGTTAAAATGGCGATTGTGGATAAACATGTAACGCCAACGTTAAGCATCAACGACCCGGAGTTGATGGTGGGAATGCCACCGTCATTAACGGCGGCGACGGGATTAGATGCGTTAACGCATGCCATTGAAGCGTATGTGAGCACGGGTGCGACGCCGATTACGGATGCGTTAGCGATTCAAGCCATCAAAATTATTTCAAAATACCTGCCGCGTGCGGTGGCGAACGGAAAAGACATTGAAGCGCGTGAACAGATGGCGTTCGCGCAGAGCTTAGCGGGCATGGCGTTCAACAATGCCGGTTTAGGCTATGTGCATGCCATTGCGCACCAGTTAGGAGGATTCTACAATTTCCCACATGGCGTGTGCAACGCCATCTTACTGCCGCATGTGTGCCGTTTCAATTTAATTTCAAAAGTTGAACGTTATGCGGAAATCGCGGCGTTTTTAGGTGAAAACGTTGACGGCTTGAGCACCTACGAAGCGGCGGAAAAAGCGATTAAAGCCATCGAACGAATGGCGCGAGACTTAAATATTCCGAAAGGCTTTAAAGAATTGGGTGCGAAAGAAGAAGATATTGAGACGTTAGCGAAAAACGCCATGAACGATGCGTGCGCGTTAACGAACCCACGTAAACCAAAATTAGAAGAAGTTATCCAGATTATTAAAAACGCGATGTAA',\n",
    "   'CHI_native=0.18682553084640247-CHI_harmonized=0.06501796238204563'),\n",
    "  '1.14.18.3': ('BBa_K1390019',\n",
    "   'ATGGCAGCAACAACCATTGGTGGTGCAGCTGCGGCGGAAGCGCCGCTGCTGGACAAGAAGTGGCTCACGTTCGCACTGGCGATTTACACCGTGTTCTACCTGTGGGTGCGGTGGTACGAAGGTGTCTATGGCTGGTCCGCCGGACTGGACTCGTTCGCGCCGGAGTTCGAGACCTACTGGATGAATTTCCTGTACACCGAGATCGTCCTGGAGATCGTGACGGCTTCGATCCTGTGGGGCTATCTCTGGAAGACCCGCGACCGCAACCTGGCCGCGCTGACCCCGCGTGAAGAGCTGCGCCGCAACTTCACCCACCTGGTGTGGCTGGTGGCCTACGCCTGGGCCATCTACTGGGGCGCATCCTACTTCACCGAGCAGGACGGCACCTGGCATCAGACGATCGTGCGCGACACCGACTTCACGCCGTCGCACATCATCGAGTTCTATCTGAGCTACCCGATCTACATCATCACCGGTTTTGCGGCGTTCATCTACGCCAAGACGCGTCTGCCGTTCTTCGCGAAGGGCATCTCGCTGCCGTACCTGGTGCTGGTGGTGGGTCCGTTCATGATTCTGCCGAACGTGGGTCTGAACGAATGGGGCCACACCTTCTGGTTCATGGAAGAGCTGTTCGTGGCGCCGCTGCACTACGGCTTCGTGATCTTCGGCTGGCTGGCACTGGCCGTCATGGGCACCCTGACCCAGACCTTCTACAGATTCGCTCAGGGAGGGCTGGGGCAGTCGCTCTGTGAAGCCGTGGACGAAGGCTTGATCGCGAAATAA',\n",
    "   'Methylococcus capsulatus',\n",
    "   'ATGGCGGCGACGACCATTGGTGGTGCGGCGGCCGCCGAAGCCCCGCTGCTGGACAAAAAATGGTTAACCTTCGCGCTGGCCATTTACACCGTTTTCTACCTGTGGGTTCGTTGGTACGAAGGTGTTTATGGCTGGTCAGCGGGACTGGACTCTTTCGCCCCGGAGTTCGAGACCTACTGGATGAACTTCCTGTACACCGAGATCGTTCTGGAGATCGTTACCGCGTCTATCCTGTGGGGCTATTTATGGAAAACCCGCGACCGCAATCTGGCGGCCCTGACCCCGCGTGAAGAGCTGCGCCGCAATTTCACCCACCTGGTTTGGCTGGTTGCGTACGCGTGGGCGATCTACTGGGGCGCGTCATACTTCACCGAGCAAGACGGCACCTGGCATCAAACCATCGTTCGCGACACCGACTTCACCCCGTCTCACATCATCGAGTTCTATCTGAGCTACCCGATCTACATCATCACCGGTTTTGCCGCCTTCATCTACGCGAAAACCCGTCTGCCGTTCTTCGCCAAAGGCATCTCTCTGCCGTACCTGGTTCTGGTTGTTGGTCCGTTCATGATTCTGCCGAATGTTGGTCTGAATGAATGGGGCCACACCTTCTGGTTCATGGAAGAGCTGTTCGTTGCCCCGCTGCACTACGGCTTCGTTATCTTCGGCTGGCTGGCGCTGGCGGTTATGGGCACCCTGACCCAAACCTTCTACCGATTCGCGCAAGGAGGGCTGGGGCAATCTTTATGCGAAGCGGTTGACGAAGGCCTGATCGCCAAATAA',\n",
    "   'CHI_native=0.16076274131757531-CHI_harmonized=0.09779542970346927'),\n",
    "  '1.1.1.27': ('BBa_K1696003',\n",
    "   'GTGGCAAGTATTACGGATAAGGATCACCAAAAAGTTATTCTCGTTGGTGACGGCGCCGTTGGTTCAAGTTATGCCTATGCAATGGTATTGCAAGGTATTGCACAAGAAATCGGGATCGTTGACATTTTTAAGGACAAGACGAAGGGTGACGCGATTGACTTAAGCAACGCGCTGCCATTCACCAGCCCAAAGAAGATTTATTCAGCTGAATACAGCGATGCCAAGGATGCTGATCTGGTTGTTATCACTGCTGGTGCTCCTCAGAAGCCAGGCGAAACCCGCTTGGATCTGGTTAACAAGAACTTGAAGATCTTGAAGTCCATTGTTGATCCGATTGTGGATTCTGGCTTTAACGGTATCTTCTTGGTTGCTGCCAACCCAGTTGATATCTTGACCTATGCAACTTGGAAACTTTCCGGCTTCCCGAAGAACCGGGTTGTTGGTTCAGGTACTTCATTGGATACCGCACGTTTCCGTCAGTCCATTGCTGAAATGGTTAACGTTGATGCACGTTCGGTCCACGCTTACATCATGGGTGAACATGGTGACACTGAATTCCCTGTATGGTCACACGCTAACATCGGTGGCGTTACCATTGCCGAATGGGTTAAAGCACATCCGGAAATCAAGGAAGACAAGCTTGTTAAGATGTTTGAAGACGTTCGTGACGCTGCTTACGAAATCATCAAACTCAAGGGCGCAACCTTCTATGGTATCGCAACTGCTTTGGCACGTATCTCCAAGGCTATCCTGAACGATGAAAATGCTGTTCTGCCACTGTCCGTTTACATGGATGGTCAATATGGCTTGAACGACATCTACATCGGTACCCCAGCTGTGATCAACCGCAATGGTATCCAGAACATTCTGGAAATTCCATTGACCGACCACGAAGAGGAATCCATGCAGAAATCTGCTTCACAATTGAAGAAGGTTCTGACTGATGCCTTCGCGAAGAACGACATCGAAACCCGTCAGTAA',\n",
    "   'Lactobacillus casei',\n",
    "   'GTTGCGAGCATTACCGATAAAGATCACCAGAAAGTGATTTTAGTGGGTGACGGCGCGGTGGGTAGCAGCTATGCGTATGCGATGGTATTACAGGGTATTGCGCAGGAAATCGGGATCGTGGACATTTTTAAAGACAAAACCAAAGGTGACGCCATTGACTTAAGCAATGCCCTGCCGTTCACCAGCCCGAAAAAAATTTATAGCGCGGAATACAGCGATGCGAAAGATGCGGATCTGGTGGTGATCACGGCGGGTGCGCCACAAAAACCGGGCGAAACCCGCCTGGATCTGGTGAATAAAAATCTGAAAATCCTGAAATCAATTGTGGATCCGATTGTTGATTCAGGCTTTAATGGTATCTTCCTGGTGGCGGCGAATCCGGTGGATATCCTGACCTATGCGACGTGGAAATTATCAGGCTTCCCGAAAAATCGTGTGGTGGGTAGCGGTACGAGCCTGGATACCGCGCGTTTCCGTCAATCAATTGCGGAAATGGTGAATGTGGATGCGCGTTCTGTTCACGCGTACATCATGGGTGAACATGGTGACACGGAGTTCCCAGTATGGAGCCACGCGAATATCGGTGGCGTGACCATTGCGGAATGGGTGAAAGCGCATCCGGAAATCAAAGAAGACAAATTAGTGAAAATGTTTGAAGACGTGCGTGACGCGGCGTACGAAATCATCAAATTAAAAGGCGCGACCTTCTATGGTATCGCGACGGCGCTGGCGCGTATCTCAAAAGCGATCCTGAATGATGAAAACGCGGTGCTGCCGCTGTCAGTGTACATGGATGGTCAGTATGGCCTGAATGACATCTACATCGGTACCCCGGCGGTTATCAATCGCAACGGTATCCAAAATATTCTGGAAATTCCGCTGACCGACCACGAAGAGGAATCAATGCAAAAATCAGCGAGCCAGCTGAAAAAAGTGCTGACGGATGCGTTCGCCAAAAATGACATCGAAACCCGTCAATAA',\n",
    "   'CHI_native=0.22107595408498684-CHI_harmonized=0.07791351082271025')}}"
   ]
  },
  {
   "cell_type": "markdown",
   "metadata": {},
   "source": [
    "# 2. Generate complete output files with these metabolic results\n",
    "\n",
    "The files have been renamed as\n",
    "- detailed output favouring production\n",
    "- summary output favouring production"
   ]
  },
  {
   "cell_type": "code",
   "execution_count": 6,
   "metadata": {},
   "outputs": [],
   "source": [
    "from pipeline.scripts.output_generation import summary_output, metab_out_chain"
   ]
  },
  {
   "cell_type": "code",
   "execution_count": 9,
   "metadata": {},
   "outputs": [
    {
     "name": "stderr",
     "output_type": "stream",
     "text": [
      "DEBUG:root:n = 1\n",
      "DEBUG:root:dict_keys(['ALCD1', 'MMO2', 'LacR'])\n",
      "DEBUG:root:0\n",
      "DEBUG:root:{'EC': '1.1.1.244', 'KEGG': 'R00605'}\n",
      "DEBUG:root:2_lac__L_Run_3\n",
      "DEBUG:root:2_lac__L_Run_3\n",
      "DEBUG:root:2_lac__L_Run_3\n",
      "DEBUG:root:2_lac__L_Run_3\n",
      "DEBUG:root:2_lac__L_Run_3\n",
      "DEBUG:root:2_lac__L_Run_3\n",
      "DEBUG:root:2_lac__L_Run_3\n",
      "DEBUG:root:n = 2\n",
      "DEBUG:root:dict_keys(['ALCD1', 'MMO2', 'LDH_L'])\n",
      "DEBUG:root:0\n",
      "DEBUG:root:{'EC': '1.1.1.244', 'KEGG': 'R00605'}\n",
      "DEBUG:root:2_lac__L_Run_2\n",
      "DEBUG:root:2_lac__L_Run_2\n",
      "DEBUG:root:2_lac__L_Run_2\n",
      "DEBUG:root:2_lac__L_Run_2\n",
      "DEBUG:root:2_lac__L_Run_2\n",
      "DEBUG:root:2_lac__L_Run_2\n",
      "DEBUG:root:2_lac__L_Run_2\n",
      "DEBUG:root:n = 3\n",
      "DEBUG:root:dict_keys(['ALCD1', 'MMO2', 'LCADi'])\n",
      "DEBUG:root:0\n",
      "DEBUG:root:{'EC': '1.1.1.244', 'KEGG': 'R00605'}\n",
      "DEBUG:root:2_lac__L_Run_1\n",
      "DEBUG:root:2_lac__L_Run_1\n",
      "DEBUG:root:2_lac__L_Run_1\n",
      "DEBUG:root:2_lac__L_Run_1\n",
      "DEBUG:root:2_lac__L_Run_1\n",
      "DEBUG:root:2_lac__L_Run_1\n",
      "DEBUG:root:2_lac__L_Run_1\n",
      "DEBUG:root:n = 4\n",
      "DEBUG:root:dict_keys(['R01142', 'ALCD1', 'LDH_L'])\n",
      "DEBUG:root:0\n",
      "DEBUG:root:{'EC': '1.14.13.25', 'KEGG': 'R01142'}\n",
      "DEBUG:root:3_lac__L_Run_1\n",
      "DEBUG:root:3_lac__L_Run_1\n",
      "DEBUG:root:3_lac__L_Run_1\n",
      "DEBUG:root:3_lac__L_Run_1\n",
      "DEBUG:root:3_lac__L_Run_1\n",
      "DEBUG:root:3_lac__L_Run_1\n",
      "DEBUG:root:3_lac__L_Run_1\n",
      "DEBUG:root:n = 5\n",
      "DEBUG:root:dict_keys(['POX2', 'PRDX', 'R01142', 'ASPt2r', 'LacR'])\n",
      "DEBUG:root:0\n",
      "DEBUG:root:None\n",
      "DEBUG:root:3_lac__L_Run_2\n",
      "DEBUG:root:3_lac__L_Run_2\n",
      "DEBUG:root:3_lac__L_Run_2\n",
      "DEBUG:root:3_lac__L_Run_2\n",
      "DEBUG:root:3_lac__L_Run_2\n",
      "DEBUG:root:3_lac__L_Run_2\n",
      "DEBUG:root:3_lac__L_Run_2\n",
      "DEBUG:root:3_lac__L_Run_2\n",
      "DEBUG:root:3_lac__L_Run_2\n",
      "DEBUG:root:3_lac__L_Run_2\n",
      "DEBUG:root:3_lac__L_Run_2\n",
      "DEBUG:root:3_lac__L_Run_2\n",
      "DEBUG:root:n = 6\n",
      "DEBUG:root:dict_keys(['POX2', 'PRDX', 'R01142', 'LDH_L', 'SUCCt2r'])\n",
      "DEBUG:root:0\n",
      "DEBUG:root:None\n",
      "DEBUG:root:3_lac__L_Run_4\n",
      "DEBUG:root:3_lac__L_Run_4\n",
      "DEBUG:root:3_lac__L_Run_4\n",
      "DEBUG:root:3_lac__L_Run_4\n",
      "DEBUG:root:3_lac__L_Run_4\n",
      "DEBUG:root:3_lac__L_Run_4\n",
      "DEBUG:root:3_lac__L_Run_4\n",
      "DEBUG:root:3_lac__L_Run_4\n",
      "DEBUG:root:3_lac__L_Run_4\n",
      "DEBUG:root:3_lac__L_Run_4\n",
      "DEBUG:root:3_lac__L_Run_4\n",
      "DEBUG:root:3_lac__L_Run_4\n",
      "DEBUG:root:n = 7\n",
      "DEBUG:root:dict_keys(['POX2', 'PRDX', 'R01142', 'LCADi', 'SUCCt2b'])\n",
      "DEBUG:root:0\n",
      "DEBUG:root:None\n",
      "DEBUG:root:3_lac__L_Run_3\n",
      "DEBUG:root:3_lac__L_Run_3\n",
      "DEBUG:root:3_lac__L_Run_3\n",
      "DEBUG:root:3_lac__L_Run_3\n",
      "DEBUG:root:3_lac__L_Run_3\n",
      "DEBUG:root:3_lac__L_Run_3\n",
      "DEBUG:root:3_lac__L_Run_3\n",
      "DEBUG:root:3_lac__L_Run_3\n",
      "DEBUG:root:3_lac__L_Run_3\n",
      "DEBUG:root:3_lac__L_Run_3\n",
      "DEBUG:root:3_lac__L_Run_3\n",
      "DEBUG:root:3_lac__L_Run_3\n",
      "DEBUG:root:n = 8\n",
      "DEBUG:root:dict_keys(['ALCD1', 'R01143', 'LDH_L'])\n",
      "DEBUG:root:0\n",
      "DEBUG:root:{'EC': '1.1.1.244', 'KEGG': 'R00605'}\n",
      "DEBUG:root:1_lac__L_Run_3\n",
      "DEBUG:root:1_lac__L_Run_3\n",
      "DEBUG:root:1_lac__L_Run_3\n",
      "DEBUG:root:1_lac__L_Run_3\n",
      "DEBUG:root:1_lac__L_Run_3\n",
      "DEBUG:root:1_lac__L_Run_3\n",
      "DEBUG:root:1_lac__L_Run_3\n",
      "DEBUG:root:n = 9\n",
      "DEBUG:root:dict_keys(['ALCD1', 'R01143', 'LacR'])\n",
      "DEBUG:root:0\n",
      "DEBUG:root:{'EC': '1.1.1.244', 'KEGG': 'R00605'}\n",
      "DEBUG:root:1_lac__L_Run_1\n",
      "DEBUG:root:1_lac__L_Run_1\n",
      "DEBUG:root:1_lac__L_Run_1\n",
      "DEBUG:root:1_lac__L_Run_1\n",
      "DEBUG:root:1_lac__L_Run_1\n",
      "DEBUG:root:1_lac__L_Run_1\n",
      "DEBUG:root:1_lac__L_Run_1\n",
      "DEBUG:root:n = 10\n",
      "DEBUG:root:dict_keys(['ALCD1', 'R01143', 'LCADi'])\n",
      "DEBUG:root:0\n",
      "DEBUG:root:{'EC': '1.1.1.244', 'KEGG': 'R00605'}\n",
      "DEBUG:root:1_lac__L_Run_2\n",
      "DEBUG:root:1_lac__L_Run_2\n",
      "DEBUG:root:1_lac__L_Run_2\n",
      "DEBUG:root:1_lac__L_Run_2\n",
      "DEBUG:root:1_lac__L_Run_2\n",
      "DEBUG:root:1_lac__L_Run_2\n",
      "DEBUG:root:1_lac__L_Run_2\n"
     ]
    }
   ],
   "source": [
    "metab_out_chain('./pipeline/inputs/lac_200925.csv', consumption, final, scores_final, new, out_harm)"
   ]
  },
  {
   "cell_type": "code",
   "execution_count": 11,
   "metadata": {},
   "outputs": [],
   "source": [
    "summary_output(scores_final, score_bb)"
   ]
  },
  {
   "cell_type": "markdown",
   "metadata": {},
   "source": [
    "# Plotting the results with mock Biobrick scores"
   ]
  },
  {
   "cell_type": "code",
   "execution_count": 1,
   "metadata": {},
   "outputs": [],
   "source": [
    "from pipeline.scripts.scoring_system import plotting_KI_BB_scores"
   ]
  },
  {
   "cell_type": "code",
   "execution_count": 10,
   "metadata": {},
   "outputs": [],
   "source": [
    "score_bb = [('2_lac__L_Run_2', 0.6666666666666666),\n",
    " ('2_lac__L_Run_3', 1.0),\n",
    " ('2_lac__L_Run_1', 0.6666666666666666),\n",
    " ('3_lac__L_Run_2', 0.3333333333333333),\n",
    " ('3_lac__L_Run_3', 0.0),\n",
    " ('3_lac__L_Run_1', 0.3333333333333333),\n",
    " ('1_lac__L_Run_2', 1.0),\n",
    " ('1_lac__L_Run_3', 0.3333333333333333),\n",
    " ('1_lac__L_Run_1', 1.0),\n",
    " ('3_lac__L_Run_4', 0.6666666666666666)]"
   ]
  },
  {
   "cell_type": "code",
   "execution_count": 14,
   "metadata": {},
   "outputs": [
    {
     "name": "stdout",
     "output_type": "stream",
     "text": [
      "[0.666666667, 0.6666666669999866, 0.5772303535549304, 0.515187796960463, 0.22886685899001308, 0.22886685898999878, 0.2288668589899803, 0.21952727208253134, 0.21952727208252945, 0.20744179114843167]\n",
      "[0.6666666666666666, 1.0, 0.6666666666666666, 0.3333333333333333, 0.0, 0.3333333333333333, 1.0, 0.3333333333333333, 1.0, 0.6666666666666666]\n"
     ]
    },
    {
     "data": {
      "image/png": "[encoded data removed]",
      "text/plain": [
       "<Figure size 432x288 with 1 Axes>"
      ]
     },
     "metadata": {
      "needs_background": "light"
     },
     "output_type": "display_data"
    }
   ],
   "source": [
    "plotting_KI_BB_scores(scores_final, score_bb)"
   ]
  },
  {
   "cell_type": "markdown",
   "metadata": {},
   "source": [
    "##### Testing another distribution of scores for Biobrick presence"
   ]
  },
  {
   "cell_type": "code",
   "execution_count": 15,
   "metadata": {},
   "outputs": [],
   "source": [
    "score_bb2 = [('2_lac__L_Run_2', 0.6666666666666666),\n",
    " ('2_lac__L_Run_3', 0.6666666666666666),\n",
    " ('2_lac__L_Run_1', 1.0),\n",
    " ('3_lac__L_Run_2', 0.3333333333333333),\n",
    " ('3_lac__L_Run_3', 0.0),\n",
    " ('3_lac__L_Run_1', 0.3333333333333333),\n",
    " ('1_lac__L_Run_2', 1.0),\n",
    " ('1_lac__L_Run_3', 0.3333333333333333),\n",
    " ('1_lac__L_Run_1', 1.0),\n",
    " ('3_lac__L_Run_4', 0.6666666666666666)]"
   ]
  },
  {
   "cell_type": "code",
   "execution_count": 16,
   "metadata": {},
   "outputs": [
    {
     "name": "stdout",
     "output_type": "stream",
     "text": [
      "[0.666666667, 0.6666666669999866, 0.5772303535549304, 0.515187796960463, 0.22886685899001308, 0.22886685898999878, 0.2288668589899803, 0.21952727208253134, 0.21952727208252945, 0.20744179114843167]\n",
      "[0.6666666666666666, 0.6666666666666666, 1.0, 0.3333333333333333, 0.0, 0.3333333333333333, 1.0, 0.3333333333333333, 1.0, 0.6666666666666666]\n"
     ]
    },
    {
     "data": {
      "image/png": "[encoded data removed]",
      "text/plain": [
       "<Figure size 432x288 with 1 Axes>"
      ]
     },
     "metadata": {
      "needs_background": "light"
     },
     "output_type": "display_data"
    }
   ],
   "source": [
    "plotting_KI_BB_scores(scores_final, score_bb2)"
   ]
  },
  {
   "cell_type": "markdown",
   "metadata": {},
   "source": [
    "# 3. Calculation with weights favouring uptake over production rates & output file generation"
   ]
  },
  {
   "cell_type": "code",
   "execution_count": 17,
   "metadata": {
    "scrolled": true
   },
   "outputs": [
    {
     "name": "stderr",
     "output_type": "stream",
     "text": [
      "DEBUG:root:{'ch4': '0.476190476', 'nh4': '0.031746032', 'lac__L': '0.158730159', 'interventions': '0.158730159', 'MDF': '0.079365079', 'path_length': '0.095238095'}\n",
      "DEBUG:root:({'ch4': [-132.24167452937465, -88.16111635291658, -500.5788290740752], 'nh4': [-9.471495371047975, -9.47149537104798, -0.8538825961902489]}, {'lac__L': [0.11160172555706338, 0.09300143796422544, 0.11160172555706627, 0.6882395332023385, 0.8258874398427564, 0.8258874398427771, 0.3973160112713555, 0.2009460698527392, 0.20094606985268873, 0.20094606985271718]}, [3, 3, 3, 3, 3, 3, 3, 3, 3, 3, 3, 3, 3, 3, 3, 3, 3, 3, 3, 5, 5, 5, 3, 5, 5, 5, 3, 5, 5, 5, 3, 5, 5, 5], [0, 0, 0, 0, 0, 0, 0, 0, 0, 0], [39.0, 39.0, 39.0, 0, 0, 0, 0, 0, 0, 0])\n",
      "DEBUG:root:cons values\n",
      "DEBUG:root:[-132.24167452937465, -88.16111635291658, -500.5788290740752]\n",
      "DEBUG:root:cons values\n",
      "DEBUG:root:[-9.471495371047975, -9.47149537104798, -0.8538825961902489]\n",
      "DEBUG:root:{'ch4': (-500.5788290740752, -88.16111635291658), 'nh4': (-9.47149537104798, -0.8538825961902489), 'lac__L': (0.09300143796422544, 0.8258874398427771), 'Interventions': (3, 5), 'MDF': None, 'path_length': (0, 39.0)}\n",
      "DEBUG:root:consumption\n",
      "DEBUG:root:0.11160172555706338\n",
      "DEBUG:root:0.10688328075341795\n",
      "DEBUG:root:0.9999999999999993\n",
      "DEBUG:root:production\n",
      "DEBUG:root:0.02537950997175716\n",
      "DEBUG:root:interventions\n",
      "DEBUG:root:5\n",
      "DEBUG:root:0.158730159\n",
      "DEBUG:root:0.158730159\n",
      "DEBUG:root:mdf\n",
      "DEBUG:root:0.24540148499157083\n",
      "DEBUG:root:pl\n",
      "DEBUG:root:0.0\n",
      "DEBUG:root:0.24540148499157083\n",
      "DEBUG:root:consumption\n",
      "DEBUG:root:0.09300143796422544\n",
      "DEBUG:root:0.10688328075341795\n",
      "DEBUG:root:0.9999999999999993\n",
      "DEBUG:root:production\n",
      "DEBUG:root:0.0\n",
      "DEBUG:root:interventions\n",
      "DEBUG:root:5\n",
      "DEBUG:root:0.158730159\n",
      "DEBUG:root:0.158730159\n",
      "DEBUG:root:mdf\n",
      "DEBUG:root:0.24137299133841172\n",
      "DEBUG:root:pl\n",
      "DEBUG:root:0.0\n",
      "DEBUG:root:0.24137299133841172\n",
      "DEBUG:root:consumption\n",
      "DEBUG:root:0.11160172555706627\n",
      "DEBUG:root:0.10688328075341795\n",
      "DEBUG:root:0.9999999999999993\n",
      "DEBUG:root:production\n",
      "DEBUG:root:0.025379509971761097\n",
      "DEBUG:root:interventions\n",
      "DEBUG:root:5\n",
      "DEBUG:root:0.158730159\n",
      "DEBUG:root:0.158730159\n",
      "DEBUG:root:mdf\n",
      "DEBUG:root:0.24540148499157144\n",
      "DEBUG:root:pl\n",
      "DEBUG:root:0.0\n",
      "DEBUG:root:0.24540148499157144\n",
      "DEBUG:root:consumption\n",
      "DEBUG:root:0.6882395332023385\n",
      "DEBUG:root:0.0\n",
      "DEBUG:root:1.0\n",
      "DEBUG:root:production\n",
      "DEBUG:root:0.8121837416902273\n",
      "DEBUG:root:interventions\n",
      "DEBUG:root:5\n",
      "DEBUG:root:0.158730159\n",
      "DEBUG:root:0.158730159\n",
      "DEBUG:root:mdf\n",
      "DEBUG:root:0.3193942454557047\n",
      "DEBUG:root:pl\n",
      "DEBUG:root:0.3193942454557047\n",
      "DEBUG:root:consumption\n",
      "DEBUG:root:0.8258874398427564\n",
      "DEBUG:root:0.0\n",
      "DEBUG:root:1.0\n",
      "DEBUG:root:production\n",
      "DEBUG:root:0.9999999999999717\n",
      "DEBUG:root:interventions\n",
      "DEBUG:root:5\n",
      "DEBUG:root:0.158730159\n",
      "DEBUG:root:0.158730159\n",
      "DEBUG:root:mdf\n",
      "DEBUG:root:0.34920634999999556\n",
      "DEBUG:root:pl\n",
      "DEBUG:root:0.34920634999999556\n",
      "DEBUG:root:consumption\n",
      "DEBUG:root:0.8258874398427771\n",
      "DEBUG:root:0.0\n",
      "DEBUG:root:1.0\n",
      "DEBUG:root:production\n",
      "DEBUG:root:1.0\n",
      "DEBUG:root:interventions\n",
      "DEBUG:root:5\n",
      "DEBUG:root:0.158730159\n",
      "DEBUG:root:0.158730159\n",
      "DEBUG:root:mdf\n",
      "DEBUG:root:0.34920635\n",
      "DEBUG:root:pl\n",
      "DEBUG:root:0.34920635\n",
      "DEBUG:root:consumption\n",
      "DEBUG:root:0.3973160112713555\n",
      "DEBUG:root:1.0\n",
      "DEBUG:root:0.0\n",
      "DEBUG:root:production\n",
      "DEBUG:root:0.41522770598306336\n",
      "DEBUG:root:interventions\n",
      "DEBUG:root:5\n",
      "DEBUG:root:0.158730159\n",
      "DEBUG:root:0.158730159\n",
      "DEBUG:root:mdf\n",
      "DEBUG:root:0.7008297947918969\n",
      "DEBUG:root:pl\n",
      "DEBUG:root:0.7008297947918969\n",
      "DEBUG:root:consumption\n",
      "DEBUG:root:0.2009460698527392\n",
      "DEBUG:root:1.0\n",
      "DEBUG:root:0.0\n",
      "DEBUG:root:production\n",
      "DEBUG:root:0.14728707003794228\n",
      "DEBUG:root:interventions\n",
      "DEBUG:root:5\n",
      "DEBUG:root:0.158730159\n",
      "DEBUG:root:0.0\n",
      "DEBUG:root:mdf\n",
      "DEBUG:root:0.4995693760457667\n",
      "DEBUG:root:pl\n",
      "DEBUG:root:0.4995693760457667\n",
      "DEBUG:root:consumption\n",
      "DEBUG:root:0.20094606985268873\n",
      "DEBUG:root:1.0\n",
      "DEBUG:root:0.0\n",
      "DEBUG:root:production\n",
      "DEBUG:root:0.14728707003787345\n",
      "DEBUG:root:interventions\n",
      "DEBUG:root:5\n"
     ]
    },
    {
     "name": "stdout",
     "output_type": "stream",
     "text": [
      "For ch4 the normalization has to be done using -500.5788290740752 as min and -88.16111635291658 as max value\n",
      "For nh4 the normalization has to be done using -9.47149537104798 as min and -0.8538825961902489 as max value\n",
      "For lac__L the normalization has to be done using 0.09300143796422544 as min and 0.8258874398427771 as max value\n",
      "No normalization is needed for the mdf values: None\n",
      "---------1---------\n",
      "ch4 (-500.5788290740752, -88.16111635291658)\n",
      "nh4 (-9.47149537104798, -0.8538825961902489)\n",
      "lac__L (0.09300143796422544, 0.8258874398427771)\n",
      "score_c:  {'ch4': 0.10688328075341795, 'nh4': 0.9999999999999993} score_p:  {'lac__L': 0.02537950997175716} score_KI:  1.0\n",
      "ch4 (-500.5788290740752, -88.16111635291658)\n",
      "nh4 (-9.47149537104798, -0.8538825961902489)\n",
      "lac__L (0.09300143796422544, 0.8258874398427771)\n",
      "score_c:  {'ch4': 0.10688328075341795, 'nh4': 0.9999999999999993} score_p:  {'lac__L': 0.0} score_KI:  1.0\n",
      "ch4 (-500.5788290740752, -88.16111635291658)\n",
      "nh4 (-9.47149537104798, -0.8538825961902489)\n",
      "lac__L (0.09300143796422544, 0.8258874398427771)\n",
      "score_c:  {'ch4': 0.10688328075341795, 'nh4': 0.9999999999999993} score_p:  {'lac__L': 0.025379509971761097} score_KI:  1.0\n",
      "---------2---------\n",
      "ch4 (-500.5788290740752, -88.16111635291658)\n",
      "nh4 (-9.47149537104798, -0.8538825961902489)\n",
      "lac__L (0.09300143796422544, 0.8258874398427771)\n",
      "score_c:  {'ch4': 0.0, 'nh4': 1.0} score_p:  {'lac__L': 0.8121837416902273} score_KI:  1.0\n",
      "ch4 (-500.5788290740752, -88.16111635291658)\n",
      "nh4 (-9.47149537104798, -0.8538825961902489)\n",
      "lac__L (0.09300143796422544, 0.8258874398427771)\n",
      "score_c:  {'ch4': 0.0, 'nh4': 1.0} score_p:  {'lac__L': 0.9999999999999717} score_KI:  1.0\n",
      "ch4 (-500.5788290740752, -88.16111635291658)\n",
      "nh4 (-9.47149537104798, -0.8538825961902489)\n",
      "lac__L (0.09300143796422544, 0.8258874398427771)\n",
      "score_c:  {'ch4': 0.0, 'nh4': 1.0} score_p:  {'lac__L': 1.0} score_KI:  1.0\n",
      "---------3---------\n",
      "ch4 (-500.5788290740752, -88.16111635291658)\n",
      "nh4 (-9.47149537104798, -0.8538825961902489)\n",
      "lac__L (0.09300143796422544, 0.8258874398427771)\n",
      "score_c:  {'ch4': 1.0, 'nh4': 0.0} score_p:  {'lac__L': 0.41522770598306336} score_KI:  1.0\n",
      "ch4 (-500.5788290740752, -88.16111635291658)\n",
      "nh4 (-9.47149537104798, -0.8538825961902489)\n",
      "lac__L (0.09300143796422544, 0.8258874398427771)\n",
      "score_c:  {'ch4': 1.0, 'nh4': 0.0} score_p:  {'lac__L': 0.14728707003794228} score_KI:  0.0\n",
      "ch4 (-500.5788290740752, -88.16111635291658)\n",
      "nh4 (-9.47149537104798, -0.8538825961902489)\n",
      "lac__L (0.09300143796422544, 0.8258874398427771)\n",
      "score_c: "
     ]
    },
    {
     "name": "stderr",
     "output_type": "stream",
     "text": [
      "DEBUG:root:0.158730159\n",
      "DEBUG:root:0.0\n",
      "DEBUG:root:mdf\n",
      "DEBUG:root:0.49956937604575574\n",
      "DEBUG:root:pl\n",
      "DEBUG:root:0.49956937604575574\n",
      "DEBUG:root:consumption\n",
      "DEBUG:root:0.20094606985271718\n",
      "DEBUG:root:1.0\n",
      "DEBUG:root:0.0\n",
      "DEBUG:root:production\n",
      "DEBUG:root:0.14728707003791225\n",
      "DEBUG:root:interventions\n",
      "DEBUG:root:5\n",
      "DEBUG:root:0.158730159\n",
      "DEBUG:root:0.0\n",
      "DEBUG:root:mdf\n",
      "DEBUG:root:0.4995693760457619\n",
      "DEBUG:root:pl\n",
      "DEBUG:root:0.4995693760457619\n",
      "DEBUG:root:([0.24540148499157083, 0.24137299133841172, 0.24540148499157144, 0.3193942454557047, 0.34920634999999556, 0.34920635, 0.7008297947918969, 0.4995693760457667, 0.49956937604575574, 0.4995693760457619], {'1_lac__L_Run_1': 0.24540148499157083, '1_lac__L_Run_2': 0.24137299133841172, '1_lac__L_Run_3': 0.24540148499157144, '2_lac__L_Run_1': 0.3193942454557047, '2_lac__L_Run_2': 0.34920634999999556, '2_lac__L_Run_3': 0.34920635, '3_lac__L_Run_1': 0.7008297947918969, '3_lac__L_Run_2': 0.4995693760457667, '3_lac__L_Run_3': 0.49956937604575574, '3_lac__L_Run_4': 0.4995693760457619})\n"
     ]
    },
    {
     "name": "stdout",
     "output_type": "stream",
     "text": [
      " {'ch4': 1.0, 'nh4': 0.0} score_p:  {'lac__L': 0.14728707003787345} score_KI:  0.0\n",
      "ch4 (-500.5788290740752, -88.16111635291658)\n",
      "nh4 (-9.47149537104798, -0.8538825961902489)\n",
      "lac__L (0.09300143796422544, 0.8258874398427771)\n",
      "score_c:  {'ch4': 1.0, 'nh4': 0.0} score_p:  {'lac__L': 0.14728707003791225} score_KI:  0.0\n",
      "The final position in the ranking for model 3_lac__L_Run_1 is 1 and its final score is 0.7008297947918969\n",
      "The final position in the ranking for model 3_lac__L_Run_2 is 2 and its final score is 0.4995693760457667\n",
      "The final position in the ranking for model 3_lac__L_Run_4 is 3 and its final score is 0.4995693760457619\n",
      "The final position in the ranking for model 3_lac__L_Run_3 is 4 and its final score is 0.49956937604575574\n",
      "The final position in the ranking for model 2_lac__L_Run_3 is 5 and its final score is 0.34920635\n",
      "The final position in the ranking for model 2_lac__L_Run_2 is 6 and its final score is 0.34920634999999556\n",
      "The final position in the ranking for model 2_lac__L_Run_1 is 7 and its final score is 0.3193942454557047\n",
      "The final position in the ranking for model 1_lac__L_Run_3 is 8 and its final score is 0.24540148499157144\n",
      "The final position in the ranking for model 1_lac__L_Run_1 is 9 and its final score is 0.24540148499157083\n",
      "The final position in the ranking for model 1_lac__L_Run_2 is 10 and its final score is 0.24137299133841172\n"
     ]
    }
   ],
   "source": [
    "scores_final2 =  scores_evaluations('./pipeline/inputs/lac_200925.csv', consumption, final)"
   ]
  },
  {
   "cell_type": "code",
   "execution_count": 18,
   "metadata": {},
   "outputs": [
    {
     "data": {
      "text/plain": [
       "{1: ('3_lac__L_Run_1', 0.7008297947918969),\n",
       " 2: ('3_lac__L_Run_2', 0.4995693760457667),\n",
       " 3: ('3_lac__L_Run_4', 0.4995693760457619),\n",
       " 4: ('3_lac__L_Run_3', 0.49956937604575574),\n",
       " 5: ('2_lac__L_Run_3', 0.34920635),\n",
       " 6: ('2_lac__L_Run_2', 0.34920634999999556),\n",
       " 7: ('2_lac__L_Run_1', 0.3193942454557047),\n",
       " 8: ('1_lac__L_Run_3', 0.24540148499157144),\n",
       " 9: ('1_lac__L_Run_1', 0.24540148499157083),\n",
       " 10: ('1_lac__L_Run_2', 0.24137299133841172)}"
      ]
     },
     "execution_count": 18,
     "metadata": {},
     "output_type": "execute_result"
    }
   ],
   "source": [
    "scores_final2"
   ]
  },
  {
   "cell_type": "code",
   "execution_count": 7,
   "metadata": {},
   "outputs": [],
   "source": [
    "scores_final2 = {1: ('3_lac__L_Run_1', 0.7008297947918969),\n",
    " 2: ('3_lac__L_Run_2', 0.4995693760457667),\n",
    " 3: ('3_lac__L_Run_4', 0.4995693760457619),\n",
    " 4: ('3_lac__L_Run_3', 0.49956937604575574),\n",
    " 5: ('2_lac__L_Run_3', 0.34920635),\n",
    " 6: ('2_lac__L_Run_2', 0.34920634999999556),\n",
    " 7: ('2_lac__L_Run_1', 0.3193942454557047),\n",
    " 8: ('1_lac__L_Run_3', 0.24540148499157144),\n",
    " 9: ('1_lac__L_Run_1', 0.24540148499157083),\n",
    " 10: ('1_lac__L_Run_2', 0.24137299133841172)}"
   ]
  },
  {
   "cell_type": "code",
   "execution_count": 11,
   "metadata": {},
   "outputs": [],
   "source": [
    "new2=[[{'reaction': {'EC': '1.1.1.244', 'KEGG': 'R00605'}},\n",
    "  {'reaction': {'EC': '1.14.18.3', 'KEGG': 'R09518'}},\n",
    "  {'reaction': {'EC': '5.1.2.1', 'KEGG': 'R01450'}}],\n",
    " [{'reaction': None},\n",
    "  {'reaction': {'EC': '1.11.1.7', 'KEGG': 'R00602'}},\n",
    "  {'reaction': {'EC': '1.14.13.25', 'KEGG': 'R01142'}},\n",
    "  {'reaction': None},\n",
    "  {'reaction': {'EC': '5.1.2.1', 'KEGG': 'R01450'}}],\n",
    "[{'reaction': None},\n",
    "  {'reaction': {'EC': '1.11.1.7', 'KEGG': 'R00602'}},\n",
    "  {'reaction': {'EC': '1.14.13.25', 'KEGG': 'R01142'}},\n",
    "  {'reaction': {'EC': '1.1.1.27', 'KEGG': 'R00703'}},\n",
    "  {'reaction': None}],\n",
    " [{'reaction': None},\n",
    "  {'reaction': {'EC': '1.11.1.7', 'KEGG': 'R00602'}},\n",
    "  {'reaction': {'EC': '1.14.13.25', 'KEGG': 'R01142'}},\n",
    "  {'reaction': {'EC': '1.2.1.22', 'KEGG': 'R01446'}},\n",
    "  {'reaction': None}],\n",
    " [{'reaction': {'EC': '1.1.1.244', 'KEGG': 'R00605'}},\n",
    "  {'reaction': {'EC': '1.14.18.3', 'KEGG': 'R09518'}},\n",
    "  {'reaction': {'EC': '1.1.1.27', 'KEGG': 'R00703'}}],\n",
    " [{'reaction': {'EC': '1.1.1.244', 'KEGG': 'R00605'}},\n",
    "  {'reaction': {'EC': '1.14.18.3', 'KEGG': 'R09518'}},\n",
    "  {'reaction': {'EC': '1.2.1.22', 'KEGG': 'R01446'}}],\n",
    " [{'reaction': {'EC': '1.14.13.25', 'KEGG': 'R01142'}},\n",
    "  {'reaction': {'EC': '1.1.1.244', 'KEGG': 'R00605'}},\n",
    "  {'reaction': {'EC': '1.1.1.27', 'KEGG': 'R00703'}}],\n",
    " [{'reaction': {'EC': '1.1.1.244', 'KEGG': 'R00605'}},\n",
    "  {'reaction': {'EC': '1.14.13.25', 'KEGG': 'R01143'}},\n",
    "  {'reaction': {'EC': '1.1.1.27', 'KEGG': 'R00703'}}],\n",
    " [{'reaction': {'EC': '1.1.1.244', 'KEGG': 'R00605'}},\n",
    "  {'reaction': {'EC': '1.14.13.25', 'KEGG': 'R01143'}},\n",
    "  {'reaction': {'EC': '5.1.2.1', 'KEGG': 'R01450'}}],\n",
    " [{'reaction': {'EC': '1.1.1.244', 'KEGG': 'R00605'}},\n",
    "  {'reaction': {'EC': '1.14.13.25', 'KEGG': 'R01143'}},\n",
    "  {'reaction': {'EC': '1.2.1.22', 'KEGG': 'R01446'}}]]"
   ]
  },
  {
   "cell_type": "code",
   "execution_count": 12,
   "metadata": {},
   "outputs": [
    {
     "name": "stderr",
     "output_type": "stream",
     "text": [
      "DEBUG:root:n = 1\n",
      "DEBUG:root:dict_keys(['R01142', 'ALCD1', 'LDH_L'])\n",
      "DEBUG:root:0\n",
      "DEBUG:root:{'EC': '1.1.1.244', 'KEGG': 'R00605'}\n",
      "DEBUG:root:3_lac__L_Run_1\n",
      "DEBUG:root:3_lac__L_Run_1\n",
      "DEBUG:root:3_lac__L_Run_1\n",
      "DEBUG:root:3_lac__L_Run_1\n",
      "DEBUG:root:3_lac__L_Run_1\n",
      "DEBUG:root:3_lac__L_Run_1\n",
      "DEBUG:root:3_lac__L_Run_1\n",
      "DEBUG:root:n = 2\n",
      "DEBUG:root:dict_keys(['POX2', 'PRDX', 'R01142', 'ASPt2r', 'LacR'])\n",
      "DEBUG:root:0\n",
      "DEBUG:root:None\n",
      "DEBUG:root:3_lac__L_Run_2\n",
      "DEBUG:root:3_lac__L_Run_2\n",
      "DEBUG:root:3_lac__L_Run_2\n",
      "DEBUG:root:3_lac__L_Run_2\n",
      "DEBUG:root:3_lac__L_Run_2\n",
      "DEBUG:root:3_lac__L_Run_2\n",
      "DEBUG:root:3_lac__L_Run_2\n",
      "DEBUG:root:3_lac__L_Run_2\n",
      "DEBUG:root:3_lac__L_Run_2\n",
      "DEBUG:root:3_lac__L_Run_2\n",
      "DEBUG:root:3_lac__L_Run_2\n",
      "DEBUG:root:3_lac__L_Run_2\n",
      "DEBUG:root:n = 3\n",
      "DEBUG:root:dict_keys(['POX2', 'PRDX', 'R01142', 'LDH_L', 'SUCCt2r'])\n",
      "DEBUG:root:0\n",
      "DEBUG:root:None\n",
      "DEBUG:root:3_lac__L_Run_4\n",
      "DEBUG:root:3_lac__L_Run_4\n",
      "DEBUG:root:3_lac__L_Run_4\n",
      "DEBUG:root:3_lac__L_Run_4\n",
      "DEBUG:root:3_lac__L_Run_4\n",
      "DEBUG:root:3_lac__L_Run_4\n",
      "DEBUG:root:3_lac__L_Run_4\n",
      "DEBUG:root:3_lac__L_Run_4\n",
      "DEBUG:root:3_lac__L_Run_4\n",
      "DEBUG:root:3_lac__L_Run_4\n",
      "DEBUG:root:3_lac__L_Run_4\n",
      "DEBUG:root:3_lac__L_Run_4\n",
      "DEBUG:root:n = 4\n",
      "DEBUG:root:dict_keys(['POX2', 'PRDX', 'R01142', 'LCADi', 'SUCCt2b'])\n",
      "DEBUG:root:0\n",
      "DEBUG:root:None\n",
      "DEBUG:root:3_lac__L_Run_3\n",
      "DEBUG:root:3_lac__L_Run_3\n",
      "DEBUG:root:3_lac__L_Run_3\n",
      "DEBUG:root:3_lac__L_Run_3\n",
      "DEBUG:root:3_lac__L_Run_3\n",
      "DEBUG:root:3_lac__L_Run_3\n",
      "DEBUG:root:3_lac__L_Run_3\n",
      "DEBUG:root:3_lac__L_Run_3\n",
      "DEBUG:root:3_lac__L_Run_3\n",
      "DEBUG:root:3_lac__L_Run_3\n",
      "DEBUG:root:3_lac__L_Run_3\n",
      "DEBUG:root:3_lac__L_Run_3\n",
      "DEBUG:root:n = 5\n",
      "DEBUG:root:dict_keys(['ALCD1', 'MMO2', 'LacR'])\n",
      "DEBUG:root:0\n",
      "DEBUG:root:{'EC': '1.1.1.244', 'KEGG': 'R00605'}\n",
      "DEBUG:root:2_lac__L_Run_3\n",
      "DEBUG:root:2_lac__L_Run_3\n",
      "DEBUG:root:2_lac__L_Run_3\n",
      "DEBUG:root:2_lac__L_Run_3\n",
      "DEBUG:root:2_lac__L_Run_3\n",
      "DEBUG:root:2_lac__L_Run_3\n",
      "DEBUG:root:2_lac__L_Run_3\n",
      "DEBUG:root:n = 6\n",
      "DEBUG:root:dict_keys(['ALCD1', 'MMO2', 'LDH_L'])\n",
      "DEBUG:root:0\n",
      "DEBUG:root:{'EC': '1.1.1.244', 'KEGG': 'R00605'}\n",
      "DEBUG:root:2_lac__L_Run_2\n",
      "DEBUG:root:2_lac__L_Run_2\n",
      "DEBUG:root:2_lac__L_Run_2\n",
      "DEBUG:root:2_lac__L_Run_2\n",
      "DEBUG:root:2_lac__L_Run_2\n",
      "DEBUG:root:2_lac__L_Run_2\n",
      "DEBUG:root:2_lac__L_Run_2\n",
      "DEBUG:root:n = 7\n",
      "DEBUG:root:dict_keys(['ALCD1', 'MMO2', 'LCADi'])\n",
      "DEBUG:root:0\n",
      "DEBUG:root:{'EC': '1.14.13.25', 'KEGG': 'R01142'}\n",
      "DEBUG:root:2_lac__L_Run_1\n",
      "DEBUG:root:2_lac__L_Run_1\n",
      "DEBUG:root:2_lac__L_Run_1\n",
      "DEBUG:root:2_lac__L_Run_1\n",
      "DEBUG:root:2_lac__L_Run_1\n",
      "DEBUG:root:2_lac__L_Run_1\n",
      "DEBUG:root:2_lac__L_Run_1\n",
      "DEBUG:root:n = 8\n",
      "DEBUG:root:dict_keys(['ALCD1', 'R01143', 'LDH_L'])\n",
      "DEBUG:root:0\n",
      "DEBUG:root:{'EC': '1.1.1.244', 'KEGG': 'R00605'}\n",
      "DEBUG:root:1_lac__L_Run_3\n",
      "DEBUG:root:1_lac__L_Run_3\n",
      "DEBUG:root:1_lac__L_Run_3\n",
      "DEBUG:root:1_lac__L_Run_3\n",
      "DEBUG:root:1_lac__L_Run_3\n",
      "DEBUG:root:1_lac__L_Run_3\n",
      "DEBUG:root:1_lac__L_Run_3\n",
      "DEBUG:root:n = 9\n",
      "DEBUG:root:dict_keys(['ALCD1', 'R01143', 'LacR'])\n",
      "DEBUG:root:0\n",
      "DEBUG:root:{'EC': '1.1.1.244', 'KEGG': 'R00605'}\n",
      "DEBUG:root:1_lac__L_Run_1\n",
      "DEBUG:root:1_lac__L_Run_1\n",
      "DEBUG:root:1_lac__L_Run_1\n",
      "DEBUG:root:1_lac__L_Run_1\n",
      "DEBUG:root:1_lac__L_Run_1\n",
      "DEBUG:root:1_lac__L_Run_1\n",
      "DEBUG:root:1_lac__L_Run_1\n",
      "DEBUG:root:n = 10\n",
      "DEBUG:root:dict_keys(['ALCD1', 'R01143', 'LCADi'])\n",
      "DEBUG:root:0\n",
      "DEBUG:root:{'EC': '1.1.1.244', 'KEGG': 'R00605'}\n",
      "DEBUG:root:1_lac__L_Run_2\n",
      "DEBUG:root:1_lac__L_Run_2\n",
      "DEBUG:root:1_lac__L_Run_2\n",
      "DEBUG:root:1_lac__L_Run_2\n",
      "DEBUG:root:1_lac__L_Run_2\n",
      "DEBUG:root:1_lac__L_Run_2\n",
      "DEBUG:root:1_lac__L_Run_2\n"
     ]
    }
   ],
   "source": [
    "metab_out_chain('./pipeline/inputs/lac_200925.csv', consumption, final, scores_final2, new2, out_harm) "
   ]
  },
  {
   "cell_type": "code",
   "execution_count": 14,
   "metadata": {},
   "outputs": [],
   "source": [
    "score_bb = [('2_lac__L_Run_2', 0.6666666666666666),\n",
    " ('2_lac__L_Run_3', 1.0),\n",
    " ('2_lac__L_Run_1', 0.6666666666666666),\n",
    " ('3_lac__L_Run_2', 0.3333333333333333),\n",
    " ('3_lac__L_Run_3', 0.0),\n",
    " ('3_lac__L_Run_1', 0.3333333333333333),\n",
    " ('1_lac__L_Run_2', 1.0),\n",
    " ('1_lac__L_Run_3', 0.3333333333333333),\n",
    " ('1_lac__L_Run_1', 1.0),\n",
    " ('3_lac__L_Run_4', 0.6666666666666666)]"
   ]
  },
  {
   "cell_type": "code",
   "execution_count": 15,
   "metadata": {},
   "outputs": [],
   "source": [
    "summary_output(scores_final2, score_bb)"
   ]
  },
  {
   "cell_type": "code",
   "execution_count": 23,
   "metadata": {},
   "outputs": [
    {
     "name": "stdout",
     "output_type": "stream",
     "text": [
      "[0.7008297947918969, 0.4995693760457667, 0.4995693760457619, 0.49956937604575574, 0.34920635, 0.34920634999999556, 0.3193942454557047, 0.24540148499157144, 0.24540148499157083, 0.24137299133841172]\n",
      "[0.6666666666666666, 1.0, 0.6666666666666666, 0.3333333333333333, 0.0, 0.3333333333333333, 1.0, 0.3333333333333333, 1.0, 0.6666666666666666]\n"
     ]
    },
    {
     "data": {
      "image/png": "[encoded data removed]",
      "text/plain": [
       "<Figure size 432x288 with 1 Axes>"
      ]
     },
     "metadata": {
      "needs_background": "light"
     },
     "output_type": "display_data"
    }
   ],
   "source": [
    "plotting_KI_BB_scores(scores_final2, score_bb)"
   ]
  },
  {
   "cell_type": "markdown",
   "metadata": {},
   "source": [
    "# 4. Generation of plot with mock metabolic scores"
   ]
  },
  {
   "cell_type": "code",
   "execution_count": 1,
   "metadata": {},
   "outputs": [],
   "source": [
    "from pipeline.scripts.scoring_system import plotting_KI_BB_scores"
   ]
  },
  {
   "cell_type": "code",
   "execution_count": 2,
   "metadata": {},
   "outputs": [],
   "source": [
    "scores = {1: ('A ', 0.8), \n",
    "          2: ('B ', 0.75), \n",
    "          3: ('C ', 0.65), \n",
    "          4: ('D ', 0.65), \n",
    "          5: ('E ', 0.60), \n",
    "          6: ('F ', 0.3), \n",
    "          7: ('G ', 0.29),\n",
    "          8: ('H ', 0.16), \n",
    "          9: ('I ', 0.11)}\n",
    "\n",
    "bb = [('A ', 0.6666666666666666),\n",
    "      ('B ', 1.0),\n",
    "      ('C ', 0.6666666666666666),\n",
    "      ('D ', 0.3333333333333333),\n",
    "      ('E ', 0.0),\n",
    "      ('F ', 0.3333333333333333),\n",
    "      ('G ', 1.0),\n",
    "      ('H ', 0.3333333333333333),\n",
    "      ('I ', 1.0)]"
   ]
  },
  {
   "cell_type": "code",
   "execution_count": 4,
   "metadata": {},
   "outputs": [
    {
     "name": "stdout",
     "output_type": "stream",
     "text": [
      "[0.8, 0.75, 0.65, 0.65, 0.6, 0.3, 0.29, 0.16, 0.11]\n",
      "[0.6666666666666666, 1.0, 0.6666666666666666, 0.3333333333333333, 0.0, 0.3333333333333333, 1.0, 0.3333333333333333, 1.0]\n"
     ]
    },
    {
     "data": {
      "image/png": "[encoded data removed]",
      "text/plain": [
       "<Figure size 432x288 with 1 Axes>"
      ]
     },
     "metadata": {
      "needs_background": "light"
     },
     "output_type": "display_data"
    }
   ],
   "source": [
    "plotting_KI_BB_scores(scores, bb)"
   ]
  },
  {
   "cell_type": "markdown",
   "metadata": {},
   "source": [
    "# 5. Plot for Figure 2  "
   ]
  },
  {
   "cell_type": "code",
   "execution_count": 10,
   "metadata": {},
   "outputs": [],
   "source": [
    "scores = {1: ('0_lac__L_Run_1', 1), \n",
    "          2: ('0_lac__L_Run_2', 1), \n",
    "          3: ('0_lac__L_Run_3', 0.5),\n",
    "         4: ('0_lac__L_Run_0', 0)} \n",
    "\n",
    "\n",
    "bb = [('0_lac__L_Run_1', 1),\n",
    "      ('0_lac__L_Run_2', 0.5),\n",
    "      ('0_lac__L_Run_3', 1),\n",
    "     ('0_lac__L_Run_0', 0)]\n"
   ]
  },
  {
   "cell_type": "code",
   "execution_count": 11,
   "metadata": {},
   "outputs": [
    {
     "name": "stdout",
     "output_type": "stream",
     "text": [
      "[1, 1, 0.5, 0]\n",
      "[1, 0.5, 1, 0]\n"
     ]
    },
    {
     "data": {
      "image/png": "[encoded data removed]",
      "text/plain": [
       "<Figure size 432x288 with 1 Axes>"
      ]
     },
     "metadata": {
      "needs_background": "light"
     },
     "output_type": "display_data"
    }
   ],
   "source": [
    "plotting_KI_BB_scores(scores, bb)"
   ]
  },
  {
   "cell_type": "code",
   "execution_count": null,
   "metadata": {},
   "outputs": [],
   "source": []
  }
 ],
 "metadata": {
  "kernelspec": {
   "display_name": "Python 3",
   "language": "python",
   "name": "python3"
  },
  "language_info": {
   "codemirror_mode": {
    "name": "ipython",
    "version": 3
   },
   "file_extension": ".py",
   "mimetype": "text/x-python",
   "name": "python",
   "nbconvert_exporter": "python",
   "pygments_lexer": "ipython3",
   "version": "3.6.10"
  }
 },
 "nbformat": 4,
 "nbformat_minor": 4
}
