{
 "cells": [
  {
   "cell_type": "markdown",
   "metadata": {},
   "source": [
    "# How to load the models and set them up for further analyses\n",
    "\n",
    "### Loading the models\n",
    "The pipeline has two functions to load the models used in the analyses: \n",
    "1. *get_reference_model* is used to load the model of the organism that has to be engineered\n",
    "2. *get_universal_main* is used to load the universal model, which is one of the 5 versions of BiGG database contained in CarveMe [Gitlab repostiory](https://github.com/cdanielmachado/carveme/tree/master/carveme/data/generated).  \n",
    "\n",
    "    - The reactions from all bacteria species in BiGG\n",
    "    - A special universal reaction database with reactions specific for Gram negative and one for Gram positive bacetia\n",
    "    - Another special reaction database specific for archaea\n",
    "    - Finally a set of reactions that inlcudes specific cyanobacteria reactions\n",
    "    \n",
    "For more information on the different universal models see CarveMe pubblication of Machado et al 2018 [1] \n",
    "\n",
    "### Preparing the models\n",
    "The *main* function is used to read the information in the input file (look at tutorial n° 0) and check for the presence of exchange reactions and transporters in the model of the organism of interest. Additionally it adds to the universal model any reactions that the user might have indicated as possibly involved in the conversion/production pathway.  \n",
    "\n",
    "\n",
    "The inport statement should always import COBRApy[2], since it is useful to complement the pipeline's specific functions with the wide variaty of functions of COBRApy."
   ]
  },
  {
   "cell_type": "markdown",
   "metadata": {},
   "source": [
    "#### Import statemets"
   ]
  },
  {
   "cell_type": "code",
   "execution_count": 1,
   "metadata": {},
   "outputs": [],
   "source": [
    "import cobra\n",
    "\n",
    "from pipeline.scripts.import_models import get_universal_main, get_reference_model\n",
    "from pipeline.scripts.input_parser import main"
   ]
  },
  {
   "cell_type": "markdown",
   "metadata": {},
   "source": [
    "#### Load models"
   ]
  },
  {
   "cell_type": "code",
   "execution_count": 2,
   "metadata": {},
   "outputs": [
    {
     "name": "stdout",
     "output_type": "stream",
     "text": [
      "Using license file C:\\Users\\delip\\gurobi.lic\n",
      "Academic license - for non-commercial use only\n"
     ]
    }
   ],
   "source": [
    "data_repo = \"./pipeline/inputs\"\n",
    "model = get_reference_model(data_repo, './pipeline/inputs/ecoli_tutorial.csv')\n",
    "universal = get_universal_main(data_repo, './pipeline/inputs/ecoli_tutorial.csv')"
   ]
  },
  {
   "cell_type": "markdown",
   "metadata": {},
   "source": [
    "#### Prepare models"
   ]
  },
  {
   "cell_type": "code",
   "execution_count": 3,
   "metadata": {},
   "outputs": [
    {
     "name": "stdout",
     "output_type": "stream",
     "text": [
      "For ch4 there isn't any uptake trasnsporter in the reference model\n",
      "The trasporter has been added to the \n",
      "                                reference model from the input file\n",
      "For nh4 there isn't any uptake trasnsporter in the reference model\n",
      "\n",
      "For lac__L there is already a transport reaction allowing the uptake from the periplasmic space:  \n",
      "Reaction ID:  L_LACt2rpp \n",
      "Reaction equation:  h_p + lac__L_p <=> h_c + lac__L_c\n",
      "\n",
      "The following reactions will be added to the universal model: ['R01142', 'R01143', 'MMO1', 'MMO2']\n",
      "unknown metabolite 'ch4_c' created\n",
      "unknown metabolite 'focytcc_c' created\n",
      "unknown metabolite 'ficytcc_c' created\n"
     ]
    },
    {
     "data": {
      "text/html": [
       "\n",
       "        <table>\n",
       "            <tr>\n",
       "                <td><strong>Name</strong></td>\n",
       "                <td>iML1515</td>\n",
       "            </tr><tr>\n",
       "                <td><strong>Memory address</strong></td>\n",
       "                <td>0x020942a30e48</td>\n",
       "            </tr><tr>\n",
       "                <td><strong>Number of metabolites</strong></td>\n",
       "                <td>1877</td>\n",
       "            </tr><tr>\n",
       "                <td><strong>Number of reactions</strong></td>\n",
       "                <td>2713</td>\n",
       "            </tr><tr>\n",
       "                <td><strong>Number of groups</strong></td>\n",
       "                <td>0</td>\n",
       "            </tr><tr>\n",
       "                <td><strong>Objective expression</strong></td>\n",
       "                <td>1.0*BIOMASS_Ec_iML1515_core_75p37M - 1.0*BIOMASS_Ec_iML1515_core_75p37M_reverse_35685</td>\n",
       "            </tr><tr>\n",
       "                <td><strong>Compartments</strong></td>\n",
       "                <td>cytosol, extracellular space, periplasm</td>\n",
       "            </tr>\n",
       "          </table>"
      ],
      "text/plain": [
       "<Model iML1515 at 0x20942a30e48>"
      ]
     },
     "execution_count": 3,
     "metadata": {},
     "output_type": "execute_result"
    }
   ],
   "source": [
    "main('./pipeline/inputs/ecoli_tutorial.csv', universal, model)"
   ]
  },
  {
   "cell_type": "markdown",
   "metadata": {},
   "source": [
    "The printed output above can be unserstood better looking at the example input file *ecoli_tutorial.csv* that can be found in the inputs directory. \n",
    "\n",
    "* There is not transporter of methane in E. coli model iML1515. Thus, the pipeline adds the reaction included in the input file \n",
    "* ALCD1 reaction (methanole dehydrogenase) is already in the model, so the pipeline recognize it and does not add it to the universal\n",
    "* There are no methane oxidizing reactions in the BiGG database, therefore the pipeline adds them to the universal reaction model.\n",
    "\n",
    "![input_main](./main.png)"
   ]
  },
  {
   "cell_type": "markdown",
   "metadata": {},
   "source": [
    "**Analysis for reactions addition allowing growth on uncommon substrates (everything until consumption, maybe look for putida xyl notebooks for final dict and scores if I did it)**"
   ]
  },
  {
   "cell_type": "markdown",
   "metadata": {},
   "source": [
    "**References**\n",
    "\n",
    "1. D. Machado, S. Andrejev, M. Tramontano, and K. R. Patil, “Fast automated reconstruction of genome-scale metabolic models for microbial species and communities,” Nucleic Acids Res., vol. 46, no. 15, pp. 7542–7553, 2018, [doi: 10.1093/nar/gky537](https://academic.oup.com/nar/article/46/15/7542/5042022)\n",
    "2. A. Ebrahim, J. A. Lerman, B. O. Palsson, and D. R. Hyduke, “COBRApy: COnstraints-Based Reconstruction and Analysis for Python,” BMC Syst. Biol., vol. 7, no. 1, p. 74, Aug. 2013, doi: 10.1186/1752-0509-7-74."
   ]
  }
 ],
 "metadata": {
  "kernelspec": {
   "display_name": "Python 3",
   "language": "python",
   "name": "python3"
  },
  "language_info": {
   "codemirror_mode": {
    "name": "ipython",
    "version": 3
   },
   "file_extension": ".py",
   "mimetype": "text/x-python",
   "name": "python",
   "nbconvert_exporter": "python",
   "pygments_lexer": "ipython3",
   "version": "3.6.10"
  }
 },
 "nbformat": 4,
 "nbformat_minor": 4
}
