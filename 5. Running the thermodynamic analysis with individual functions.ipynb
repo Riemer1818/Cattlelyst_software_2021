{
 "cells": [
  {
   "cell_type": "markdown",
   "metadata": {},
   "source": [
    "# Running the thermodynamic analysis using the functions of the pipeline\n",
    "\n",
    "Each model resulting from the first analysis meking use of GapFilling for finding new functionalities has a different combination of reactions allowing the substrate to be used for growth and/or be converted into the target compound. Hence, the list of reactions involved in the transformations changes among the variants. Thus the pipeline uses pathway length and thermodynamic driving force as two parameters for the evaluation of the strain designs. In this pipeline the MDF value [1] of a pathway is used to determine its thermodynamic feasibility. The aim of this module (Figure 1, step iii) is to first  identify which reactions are involved in the pathway and then calculate the pathway’s Max-min driving force (MDF) value. The thermidynamic analysis done by the pipeline make use of a the Python package [equilibrator-pathway](https://gitlab.com/equilibrator/equilibrator-pathway) for MDF calculation. This package is still under development and the the module of the pipeline reliying on it is the one that still needs further improvements. \n",
    "\n",
    "The functions for thermodynamic analysis are called within the analysis module by the function *cons_prod_dict*. In the following tutorial some of the functions for the thermodynamic analysis are used individually on one of the combination of the strains of *E. coli* growing on methane. \n",
    "\n",
    "The logic of the analysis is the following:\n",
    "1.\tAdd the reactions for growth on methane\n",
    "2.\tCheck if it grows on methane\n",
    "3.\tCheck if it produce the target (i.e. itacon)\n",
    "4.  Use the pipeline function for the rest of the analusis\n"
   ]
  },
  {
   "cell_type": "code",
   "execution_count": 1,
   "metadata": {},
   "outputs": [],
   "source": [
    "import cobra\n",
    "\n",
    "from cobra.manipulation import modify \n",
    "import csv\n",
    "from pipeline.scripts.input_parser import *\n",
    "from pipeline.scripts.import_models import get_universal_main, get_reference_model\n",
    "from pipeline.scripts.analysis import *\n",
    "from pipeline.scripts.path_definition_mdf import whole_procedure_path_definition, mdf_analysis\n"
   ]
  },
  {
   "cell_type": "code",
   "execution_count": 2,
   "metadata": {},
   "outputs": [
    {
     "name": "stdout",
     "output_type": "stream",
     "text": [
      "Using license file C:\\Users\\delip\\gurobi.lic\n",
      "Academic license - for non-commercial use only\n"
     ]
    }
   ],
   "source": [
    "data_repo = \"./pipeline/inputs\"\n",
    "model = get_reference_model(data_repo, './pipeline/inputs/ecoli_tutorial.csv')\n",
    "universal = get_universal_main(data_repo, './pipeline/inputs/ecoli_tutorial.csv')"
   ]
  },
  {
   "cell_type": "code",
   "execution_count": 3,
   "metadata": {},
   "outputs": [
    {
     "name": "stdout",
     "output_type": "stream",
     "text": [
      "For ch4 there isn't any uptake trasnsporter in the reference model\n",
      "The trasporter has been added to the \n",
      "                                reference model from the input file\n",
      "For nh4 there isn't any uptake trasnsporter in the reference model\n",
      "\n",
      "For nh4 there is a transport reaction in the universal model for the uptake from the extracellular space:  \n",
      "Reaction ID:  NH4t \n",
      "Reaction equation:  nh4_e <=> nh4_c\n",
      "\n",
      "For nh4 there is a transport reaction \n",
      "                                    in the universal model for the uptake \n",
      "                                    from the periplasm:  \n",
      "Reaction ID:  NH4t4pp \n",
      "Reaction equation:  k_c + nh4_p --> k_p + nh4_c \n",
      "\n",
      "\n",
      "For nh4 there is a transport reaction \n",
      "                                    in the universal model for the uptake \n",
      "                                    from the periplasm:  \n",
      "Reaction ID:  NH4tpp \n",
      "Reaction equation:  nh4_p <=> nh4_c \n",
      "\n",
      "\n",
      "For nh4 there is a transport reaction \n",
      "                                    in the universal model for the uptake \n",
      "                                    from the periplasm:  \n",
      "Reaction ID:  NH4tpp_1 \n",
      "Reaction equation:  h_p + nh4_p --> h_c + nh4_c \n",
      "\n",
      "\n",
      "For lac__L there is already a transport reaction allowing the uptake from the periplasmic space:  \n",
      "Reaction ID:  L_LACt2rpp \n",
      "Reaction equation:  h_p + lac__L_p <=> h_c + lac__L_c\n",
      "\n",
      "The following reactions will be added to the universal model: ['R01142', 'R01143', 'MMO1', 'MMO2']\n",
      "unknown metabolite 'ch4_c' created\n",
      "unknown metabolite 'focytcc_c' created\n",
      "unknown metabolite 'ficytcc_c' created\n"
     ]
    },
    {
     "data": {
      "text/html": [
       "\n",
       "        <table>\n",
       "            <tr>\n",
       "                <td><strong>Name</strong></td>\n",
       "                <td>iML1515</td>\n",
       "            </tr><tr>\n",
       "                <td><strong>Memory address</strong></td>\n",
       "                <td>0x017ca54b6828</td>\n",
       "            </tr><tr>\n",
       "                <td><strong>Number of metabolites</strong></td>\n",
       "                <td>1877</td>\n",
       "            </tr><tr>\n",
       "                <td><strong>Number of reactions</strong></td>\n",
       "                <td>2716</td>\n",
       "            </tr><tr>\n",
       "                <td><strong>Number of groups</strong></td>\n",
       "                <td>0</td>\n",
       "            </tr><tr>\n",
       "                <td><strong>Objective expression</strong></td>\n",
       "                <td>1.0*BIOMASS_Ec_iML1515_core_75p37M - 1.0*BIOMASS_Ec_iML1515_core_75p37M_reverse_35685</td>\n",
       "            </tr><tr>\n",
       "                <td><strong>Compartments</strong></td>\n",
       "                <td>cytosol, extracellular space, periplasm</td>\n",
       "            </tr>\n",
       "          </table>"
      ],
      "text/plain": [
       "<Model iML1515 at 0x17ca54b6828>"
      ]
     },
     "execution_count": 3,
     "metadata": {},
     "output_type": "execute_result"
    }
   ],
   "source": [
    "main('./pipeline/inputs/ecoli_tutorial.csv', universal, model)"
   ]
  },
  {
   "cell_type": "code",
   "execution_count": 4,
   "metadata": {},
   "outputs": [
    {
     "data": {
      "text/html": [
       "\n",
       "        <table>\n",
       "            <tr>\n",
       "                <td><strong>Reaction identifier</strong></td><td>EX_ch4_e</td>\n",
       "            </tr><tr>\n",
       "                <td><strong>Name</strong></td><td>EX ch4 LPAREN e RPAREN </td>\n",
       "            </tr><tr>\n",
       "                <td><strong>Memory address</strong></td>\n",
       "                <td>0x017cae39f898</td>\n",
       "            </tr><tr>\n",
       "                <td><strong>Stoichiometry</strong></td>\n",
       "                <td>\n",
       "                    <p style='text-align:right'>ch4_e --> </p>\n",
       "                    <p style='text-align:right'>Methane --> </p>\n",
       "                </td>\n",
       "            </tr><tr>\n",
       "                <td><strong>GPR</strong></td><td></td>\n",
       "            </tr><tr>\n",
       "                <td><strong>Lower bound</strong></td><td>0.0</td>\n",
       "            </tr><tr>\n",
       "                <td><strong>Upper bound</strong></td><td>1000.0</td>\n",
       "            </tr>\n",
       "        </table>\n",
       "        "
      ],
      "text/plain": [
       "<Reaction EX_ch4_e at 0x17cae39f898>"
      ]
     },
     "execution_count": 4,
     "metadata": {},
     "output_type": "execute_result"
    }
   ],
   "source": [
    "model.reactions.EX_ch4_e"
   ]
  },
  {
   "cell_type": "markdown",
   "metadata": {},
   "source": [
    "## 1. Add reactions needed for growth on methane"
   ]
  },
  {
   "cell_type": "code",
   "execution_count": 5,
   "metadata": {},
   "outputs": [],
   "source": [
    "mmo = universal.reactions.R01143\n",
    "model.add_reaction(mmo)"
   ]
  },
  {
   "cell_type": "code",
   "execution_count": 6,
   "metadata": {},
   "outputs": [
    {
     "data": {
      "text/html": [
       "\n",
       "        <table>\n",
       "            <tr>\n",
       "                <td><strong>Reaction identifier</strong></td><td>R01143</td>\n",
       "            </tr><tr>\n",
       "                <td><strong>Name</strong></td><td>1 H(+) + 1 dioxygen + 1 NADPH + 1 methane = 1 methanol + 1 H2O + 1 NADP(+)</td>\n",
       "            </tr><tr>\n",
       "                <td><strong>Memory address</strong></td>\n",
       "                <td>0x017cb179a780</td>\n",
       "            </tr><tr>\n",
       "                <td><strong>Stoichiometry</strong></td>\n",
       "                <td>\n",
       "                    <p style='text-align:right'>ch4_c + h_c + nadph_c + o2_c <=> h2o_c + meoh_c + nadp_c</p>\n",
       "                    <p style='text-align:right'>Methane + H+ + Nicotinamide adenine dinucleotide phosphate - reduced + O2 O2 <=> H2O H2O + Methanol + Nicotinamide adenine dinucleotide phosphate</p>\n",
       "                </td>\n",
       "            </tr><tr>\n",
       "                <td><strong>GPR</strong></td><td>MetaCyc_GJFB_518_MONOMER_i or MetaCyc_GJFB_519_MONOMER_i or MetaCyc_GJFB_520_MONOMER_i</td>\n",
       "            </tr><tr>\n",
       "                <td><strong>Lower bound</strong></td><td>-1000</td>\n",
       "            </tr><tr>\n",
       "                <td><strong>Upper bound</strong></td><td>1000</td>\n",
       "            </tr>\n",
       "        </table>\n",
       "        "
      ],
      "text/plain": [
       "<Reaction R01143 at 0x17cb179a780>"
      ]
     },
     "execution_count": 6,
     "metadata": {},
     "output_type": "execute_result"
    }
   ],
   "source": [
    "model.reactions.R01143"
   ]
  },
  {
   "cell_type": "code",
   "execution_count": 7,
   "metadata": {},
   "outputs": [],
   "source": [
    "alcd1 = universal.reactions.ALCD1\n",
    "model.add_reaction(alcd1)"
   ]
  },
  {
   "cell_type": "code",
   "execution_count": 8,
   "metadata": {},
   "outputs": [
    {
     "data": {
      "text/html": [
       "\n",
       "        <table>\n",
       "            <tr>\n",
       "                <td><strong>Reaction identifier</strong></td><td>ALCD1</td>\n",
       "            </tr><tr>\n",
       "                <td><strong>Name</strong></td><td>Alcohol dehydrogenase (methanol)</td>\n",
       "            </tr><tr>\n",
       "                <td><strong>Memory address</strong></td>\n",
       "                <td>0x017cb0843828</td>\n",
       "            </tr><tr>\n",
       "                <td><strong>Stoichiometry</strong></td>\n",
       "                <td>\n",
       "                    <p style='text-align:right'>meoh_c + nad_c <=> fald_c + h_c + nadh_c</p>\n",
       "                    <p style='text-align:right'>Methanol + Nicotinamide adenine dinucleotide <=> Formaldehyde + H+ + Nicotinamide adenine dinucleotide - reduced</p>\n",
       "                </td>\n",
       "            </tr><tr>\n",
       "                <td><strong>GPR</strong></td><td></td>\n",
       "            </tr><tr>\n",
       "                <td><strong>Lower bound</strong></td><td>-1000.0</td>\n",
       "            </tr><tr>\n",
       "                <td><strong>Upper bound</strong></td><td>1000.0</td>\n",
       "            </tr>\n",
       "        </table>\n",
       "        "
      ],
      "text/plain": [
       "<Reaction ALCD1 at 0x17cb0843828>"
      ]
     },
     "execution_count": 8,
     "metadata": {},
     "output_type": "execute_result"
    }
   ],
   "source": [
    "model.reactions.ALCD1"
   ]
  },
  {
   "cell_type": "markdown",
   "metadata": {},
   "source": [
    "## 2. Check if it indeed grows on methane"
   ]
  },
  {
   "cell_type": "code",
   "execution_count": 9,
   "metadata": {},
   "outputs": [
    {
     "name": "stdout",
     "output_type": "stream",
     "text": [
      "1.0*BIOMASS_Ec_iML1515_core_75p37M - 1.0*BIOMASS_Ec_iML1515_core_75p37M_reverse_35685\n"
     ]
    }
   ],
   "source": [
    "print(model.objective.expression)"
   ]
  },
  {
   "cell_type": "code",
   "execution_count": 10,
   "metadata": {},
   "outputs": [],
   "source": [
    "from cobra.flux_analysis import phenotype_phase_plane\n",
    "from cobra.flux_analysis import production_envelope"
   ]
  },
  {
   "cell_type": "code",
   "execution_count": 11,
   "metadata": {},
   "outputs": [
    {
     "data": {
      "text/plain": [
       "(0.0, 1000.0)"
      ]
     },
     "execution_count": 11,
     "metadata": {},
     "output_type": "execute_result"
    }
   ],
   "source": [
    "metex = model.reactions.EX_ch4_e\n",
    "metex.bounds "
   ]
  },
  {
   "cell_type": "code",
   "execution_count": 12,
   "metadata": {},
   "outputs": [],
   "source": [
    "metex.lower_bound = -1000"
   ]
  },
  {
   "cell_type": "code",
   "execution_count": 13,
   "metadata": {},
   "outputs": [],
   "source": [
    "glc = model.reactions.EX_glc__D_e\n",
    "glc.lower_bound = 0"
   ]
  },
  {
   "cell_type": "code",
   "execution_count": 14,
   "metadata": {},
   "outputs": [],
   "source": [
    "biomass = get_biomass_equation(model)"
   ]
  },
  {
   "cell_type": "code",
   "execution_count": 15,
   "metadata": {},
   "outputs": [],
   "source": [
    "biomass.upper_bound = 0.877\n",
    "biomass.lower_bound = 0.04385"
   ]
  },
  {
   "cell_type": "code",
   "execution_count": 16,
   "metadata": {},
   "outputs": [
    {
     "name": "stdout",
     "output_type": "stream",
     "text": [
      "0.877 \n",
      " -225.59855453792775\n"
     ]
    }
   ],
   "source": [
    "fba_check = model.optimize()\n",
    "print(fba_check.objective_value, '\\n', fba_check.fluxes['EX_ch4_e'])"
   ]
  },
  {
   "cell_type": "code",
   "execution_count": 17,
   "metadata": {},
   "outputs": [
    {
     "name": "stdout",
     "output_type": "stream",
     "text": [
      "EX_ch4_e ch4_e <=>  -225.59855453792775\n",
      "EX_o2_e o2_e <=>  -413.3287546663555\n"
     ]
    }
   ],
   "source": [
    "for i in model.reactions:\n",
    "    if i.flux <= -10 and 'EX_' in i.id: \n",
    "        print(i.id, i.reaction, i.flux)"
   ]
  },
  {
   "cell_type": "markdown",
   "metadata": {},
   "source": [
    "It does consume as much methane as possible!"
   ]
  },
  {
   "cell_type": "markdown",
   "metadata": {},
   "source": [
    "## 3. Does it produce the target?"
   ]
  },
  {
   "cell_type": "code",
   "execution_count": 18,
   "metadata": {},
   "outputs": [
    {
     "data": {
      "text/plain": [
       "0.0"
      ]
     },
     "execution_count": 18,
     "metadata": {},
     "output_type": "execute_result"
    }
   ],
   "source": [
    "fba_check.fluxes['EX_lac__L_e']"
   ]
  },
  {
   "cell_type": "code",
   "execution_count": 19,
   "metadata": {},
   "outputs": [],
   "source": [
    "lacex = model.reactions.get_by_id('EX_lac__L_e')\n",
    "lacex.lower_bound = 2"
   ]
  },
  {
   "cell_type": "code",
   "execution_count": 20,
   "metadata": {},
   "outputs": [
    {
     "name": "stdout",
     "output_type": "stream",
     "text": [
      "0.877 \n",
      " -258.66522120459376\n"
     ]
    }
   ],
   "source": [
    "fba_check_production = model.optimize()\n",
    "print(fba_check_production.objective_value, '\\n', fba_check_production.fluxes['EX_ch4_e'])"
   ]
  },
  {
   "cell_type": "code",
   "execution_count": 21,
   "metadata": {},
   "outputs": [
    {
     "data": {
      "text/plain": [
       "2.0"
      ]
     },
     "execution_count": 21,
     "metadata": {},
     "output_type": "execute_result"
    }
   ],
   "source": [
    "fba_check_production.fluxes['EX_lac__L_e']"
   ]
  },
  {
   "cell_type": "markdown",
   "metadata": {},
   "source": [
    "##### It does not produce lactate while the objective of the model is the biomass reaction but it produces lactate when its exchange reaction is set to be the objective of the model's optimization"
   ]
  },
  {
   "cell_type": "markdown",
   "metadata": {},
   "source": [
    "## 4. Use the pipelines function for the rest of the analysis\n",
    "These two functions *whole_procedure_path_definition* and *mdf_analysis* are used. The former prepares for the analysis of MDF. The latter makes use of the function from [equilibrator-pathway](https://gitlab.com/equilibrator/equilibrator-pathway) package to calculate MDF. More details on the functionaliies below.\n",
    "\n",
    "*whole_procedure_path_definition* Calls the functions involved in finding the minimal set of reactions for the production of the target, in particular:\n",
    "1. adds the free balancing reactions\n",
    "2. remove maintenance\n",
    "3. constrains substrate and product using the stoichiometric\n",
    "    coefficients\n",
    "4. checks the carbon source to be the expected one\n",
    "5. set the target as model objective\n",
    "6. checks the metabolism\n",
    "7. gets reactions list from pFBA \n",
    "8. processes the raw list to get the minimal reaction set\n",
    "9. generates SBtab file with the results ready for MDF calculation\n",
    "\n",
    "*mdf_analysis* Salls the function for the identification fo the minimal\n",
    "1. set of reactions active in the conversion. \n",
    "2. uses the gneerated SBtab for mdf calculation"
   ]
  },
  {
   "cell_type": "code",
   "execution_count": 23,
   "metadata": {},
   "outputs": [
    {
     "name": "stdout",
     "output_type": "stream",
     "text": [
      "Substrate's exchange reaction bounds :  (-6.6000000000000005, -5.4)\n",
      "Target's exchange reaction bounds :  (2.0, 1000.0)\n",
      "Carbon source:  []\n",
      "Target:  EX_lac__L_e: lac__L_e --> \n",
      "FBA objective value:  None \n",
      "Substrate consumption flux:  -6.6000000000000005 \n",
      "Target production flux:  37.81615397732563 \n",
      "Biomass:  0.04385 \n",
      "\n",
      "pFBA is infeasible, control if the coefficients of the \n",
      "        reaction equation are correct (or use a different boudary \n",
      "        reaction of the target as model objective):  None (infeasible)\n",
      "The thermodynamic analysis cannot proceed because of infeasible pFBA\n",
      "Substrate's exchange reaction bounds :  (-6.6000000000000005, -5.4)\n",
      "Target's exchange reaction bounds :  (2.0, 1000.0)\n",
      "Carbon source:  []\n",
      "Target:  EX_lac__L_e: lac__L_e --> \n",
      "FBA objective value:  None \n",
      "Substrate consumption flux:  -6.6000000000000005 \n",
      "Target production flux:  32.40494097019504 \n",
      "Biomass:  0.04385 \n",
      "\n",
      "pFBA is infeasible, control if the coefficients of the \n",
      "        reaction equation are correct (or use a different boudary \n",
      "        reaction of the target as model objective):  None (infeasible)\n",
      "The thermodynamic analysis cannot proceed because of infeasible pFBA\n",
      "The thermodynimac analysis has been unsuccesful\n"
     ]
    }
   ],
   "source": [
    "pruned_path = whole_procedure_path_definition('./pipeline/inputs/ecoli_tutorial.csv', model, '{}_Run_{}.tsv'.format('lac', '9-10'), 'input_mdf_{}_Run_{}.tsv'.format('lac', '9-10'))\n",
    "mdf_value, path_length = mdf_analysis('./pipeline/inputs/ecoli_tutorial.csv', model, '{}_Run_{}.tsv'.format('lac', '9-10'), 'input_mdf_{}_Run_{}.tsv'.format('lac', '9-10'))\n",
    "thermodynamic = {} \n",
    "if mdf_value == None:\n",
    "    thermodynamic['mdf'] = mdf_value\n",
    "else:\n",
    "    thermodynamic['mdf'] = mdf_value.magnitude\n",
    "thermodynamic['pathway_langth'] = path_length"
   ]
  },
  {
   "cell_type": "code",
   "execution_count": 24,
   "metadata": {},
   "outputs": [
    {
     "data": {
      "text/plain": [
       "{'mdf': None, 'pathway_langth': None}"
      ]
     },
     "execution_count": 24,
     "metadata": {},
     "output_type": "execute_result"
    }
   ],
   "source": [
    "thermodynamic"
   ]
  },
  {
   "cell_type": "code",
   "execution_count": 25,
   "metadata": {},
   "outputs": [
    {
     "ename": "TypeError",
     "evalue": "'NoneType' object is not iterable",
     "output_type": "error",
     "traceback": [
      "\u001b[1;31m---------------------------------------------------------------------------\u001b[0m",
      "\u001b[1;31mTypeError\u001b[0m                                 Traceback (most recent call last)",
      "\u001b[1;32m<ipython-input-25-22ac503a009c>\u001b[0m in \u001b[0;36m<module>\u001b[1;34m\u001b[0m\n\u001b[1;32m----> 1\u001b[1;33m \u001b[1;32mfor\u001b[0m \u001b[0mi\u001b[0m \u001b[1;32min\u001b[0m \u001b[0mpruned_path\u001b[0m\u001b[1;33m:\u001b[0m\u001b[1;33m\u001b[0m\u001b[1;33m\u001b[0m\u001b[0m\n\u001b[0m\u001b[0;32m      2\u001b[0m     \u001b[0mprint\u001b[0m\u001b[1;33m(\u001b[0m\u001b[0mi\u001b[0m\u001b[1;33m.\u001b[0m\u001b[0mid\u001b[0m\u001b[1;33m,\u001b[0m \u001b[0mi\u001b[0m\u001b[1;33m.\u001b[0m\u001b[0mreaction\u001b[0m\u001b[1;33m,\u001b[0m \u001b[0mi\u001b[0m\u001b[1;33m.\u001b[0m\u001b[0mbounds\u001b[0m\u001b[1;33m,\u001b[0m \u001b[0mi\u001b[0m\u001b[1;33m.\u001b[0m\u001b[0mflux\u001b[0m\u001b[1;33m)\u001b[0m\u001b[1;33m\u001b[0m\u001b[1;33m\u001b[0m\u001b[0m\n",
      "\u001b[1;31mTypeError\u001b[0m: 'NoneType' object is not iterable"
     ]
    }
   ],
   "source": [
    "for i in pruned_path:\n",
    "    print(i.id, i.reaction, i.bounds, i.flux)"
   ]
  },
  {
   "cell_type": "code",
   "execution_count": 26,
   "metadata": {},
   "outputs": [
    {
     "name": "stdout",
     "output_type": "stream",
     "text": [
      "1.0*EX_lac__L_e - 1.0*EX_lac__L_e_reverse_8586b\n"
     ]
    }
   ],
   "source": [
    "print(model.objective.expression)"
   ]
  },
  {
   "cell_type": "markdown",
   "metadata": {},
   "source": [
    "<h1 style=\"color: red;\"> TODO </h1>\n",
    "\n",
    "<h4 style=\"color: blue;\"> Debug: why does it have FBA obj value = None when the previous FBA calculation give a value? Check the thermodynamic module. </h4>"
   ]
  },
  {
   "cell_type": "markdown",
   "metadata": {},
   "source": [
    "## Conclusions\n",
    "\n",
    "This module has not be fully debugged yet, since the strategy used is not the most ideal one, but is one of the more easily available at the moment in which the pipeline has been written. The identification and evaluation of pathways could be facilitated by an algorithm able to enumerate all the possible pathways for a desired phenotype (e.g production of L-lactate from *E. coli* strain assimilating methane) and calculate their MDF values. This is exactly what [OptMDFpathway](https://journals.plos.org/ploscompbiol/article?id=10.1371/journal.pcbi.1006492) does [2]. This program has been implemented as function in [CellNetAnalyzer toolbox](https://www2.mpi-magdeburg.mpg.de/projects/cna/cna.html) in Matlab [3]. CellNetAnalyser toolbox is being [rewritten in Python](https://github.com/ARB-Lab/CNApy), but the OptMDFpathway function still has to be implemented. Once that function will be available the pipeline will make use of it in substitution to the pFBA-MDF approach.\n",
    "\n",
    "##### References\n",
    "1. E. Noor, A. Bar-Even, A. Flamholz, E. Reznik, W. Liebermeister, and R. Milo, “Pathway Thermodynamics Highlights Kinetic Obstacles in Central Metabolism,” PLoS Comput. Biol., vol. 10, no. 2, p. e1003483, Feb. 2014, doi: 10.1371/journal.pcbi.1003483\n",
    "2. O. Hädicke, A. von Kamp, T. Aydogan, and S. Klamt, “OptMDFpathway: Identification of metabolic pathways with maximal thermodynamic driving force and its application for analyzing the endogenous CO2 fixation potential of Escherichia coli,” PLoS Comput. Biol., vol. 14, no. 9, p. e1006492, Sep. 2018, doi: 10.1371/journal.pcbi.1006492.\n",
    "3. A. von Kamp, S. Thiele, O. Hädicke, and S. Klamt, “Use of CellNetAnalyzer in biotechnology and metabolic engineering,” Journal of Biotechnology, vol. 261. Elsevier B.V., pp. 221–228, Nov. 10, 2017, doi: 10.1016/j.jbiotec.2017.05.001."
   ]
  }
 ],
 "metadata": {
  "kernelspec": {
   "display_name": "Python 3",
   "language": "python",
   "name": "python3"
  },
  "language_info": {
   "codemirror_mode": {
    "name": "ipython",
    "version": 3
   },
   "file_extension": ".py",
   "mimetype": "text/x-python",
   "name": "python",
   "nbconvert_exporter": "python",
   "pygments_lexer": "ipython3",
   "version": "3.6.10"
  }
 },
 "nbformat": 4,
 "nbformat_minor": 4
}
