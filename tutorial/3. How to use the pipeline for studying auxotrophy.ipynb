{
 "cells": [
  {
   "cell_type": "markdown",
   "source": [
    "# Using the pipeline together with COBRApy functions to studying auxotrophy\n",
    "\n",
    "In this tutorial the pipeline will suggest the reactions to knock-in to allow _E. coli_ auxotrophic for Tryptophan to grow on methane and produce Arginine. \n",
    "\n",
    "It is already known that *E. coli* can't grow on methane thus reactions should be added to give the model this functionality. So the approach is to:\n",
    "\n",
    "1. make the model iML1515 auxotrophic for Tryptophan\n",
    "2. add the Trp back to the medium to restore growth\n",
    "3. on these conditions run the analysis for growth on methane and production of Arginine\n"
   ],
   "metadata": {}
  },
  {
   "cell_type": "markdown",
   "source": [
    "## 1) Make the model auxotrophic for Trp\n",
    "\n",
    "For this some previous research is needed:\n",
    "- It is important to find out which genes are usually knocked-out to make a stain of *E. coli* auxotrophic for Trp\n",
    "- Then the correspondant reaction(s) that is catalyzed by the enzyme encoded by the gene(s) have to be identified. For this  the [BiGG database](http://bigg.ucsd.edu/) is of help. Typing the gene in there allow you to find the reactions that are associated to it.\n",
    "For instance in the following example, it was known that trpC is the gene that is commonly knocked-out to make *E. coli* auxotrophic for Trp, therefore trpc was typed in the BiGG search bar and the first lines of the results are the following\n",
    "\n",
    "<img src=\"./images/aux1.png\" alt=\"IGPS reaction search\" title=\"Bigg\" width=\"500\" height=\"100\" />\n",
    "\n",
    "The model that is being used (i.e iML1515) is not included in the result, however, the reaction accociated to trpC in iML1515 can be found by following the link of the gene. In this case the first solution was clicked and the following is the information on gene reaction association:\n",
    "\n",
    "<img src=\"./images/aux2.png\" alt=\"IGPS reaction search\" title=\"Bigg\" width=\"500\" height=\"100\" />\n",
    "\n",
    "Then clicking in one of the two reactions you could find on the right the list of the models in which it is found (see the red arro in the picture below).\n",
    "\n",
    "<img src=\"./images/aux3.png\" alt=\"IGPS reaction search\" title=\"IGPS page & models\" width=\"500\" height=\"100\" />\n",
    "\n",
    "- Once the reaction(s) correspondant to the gene KO is identified, those should be removed from the model which should not grow in a normal medium composition\n",
    "\n"
   ],
   "metadata": {}
  },
  {
   "cell_type": "code",
   "execution_count": 1,
   "source": [
    "from pipeline_package import import_models, input_parser, analysis\n",
    "import cobra"
   ],
   "outputs": [],
   "metadata": {}
  },
  {
   "cell_type": "code",
   "execution_count": 2,
   "source": [
    "data_repo = \"../inputs\"\n",
    "model_aux = import_models.get_reference_model(data_repo, '../inputs/ecoli_ch4_arg.csv')\n",
    "universal = import_models.get_universal_main(data_repo, '../inputs/ecoli_ch4_arg.csv')"
   ],
   "outputs": [],
   "metadata": {}
  },
  {
   "cell_type": "code",
   "execution_count": 3,
   "source": [
    "trpC = model_aux.reactions.IGPS"
   ],
   "outputs": [],
   "metadata": {}
  },
  {
   "cell_type": "code",
   "execution_count": 4,
   "source": [
    "trpC"
   ],
   "outputs": [
    {
     "output_type": "execute_result",
     "data": {
      "text/html": [
       "\n",
       "        <table>\n",
       "            <tr>\n",
       "                <td><strong>Reaction identifier</strong></td><td>IGPS</td>\n",
       "            </tr><tr>\n",
       "                <td><strong>Name</strong></td><td>Indole-3-glycerol-phosphate synthase</td>\n",
       "            </tr><tr>\n",
       "                <td><strong>Memory address</strong></td>\n",
       "                <td>0x07f818fed2b50</td>\n",
       "            </tr><tr>\n",
       "                <td><strong>Stoichiometry</strong></td>\n",
       "                <td>\n",
       "                    <p style='text-align:right'>2cpr5p_c + h_c --> 3ig3p_c + co2_c + h2o_c</p>\n",
       "                    <p style='text-align:right'>1-(2-Carboxyphenylamino)-1-deoxy-D-ribulose 5-phosphate + H+ --> C'-(3-Indolyl)-glycerol 3-phosphate + CO2 CO2 + H2O H2O</p>\n",
       "                </td>\n",
       "            </tr><tr>\n",
       "                <td><strong>GPR</strong></td><td>b1262</td>\n",
       "            </tr><tr>\n",
       "                <td><strong>Lower bound</strong></td><td>0.0</td>\n",
       "            </tr><tr>\n",
       "                <td><strong>Upper bound</strong></td><td>1000.0</td>\n",
       "            </tr>\n",
       "        </table>\n",
       "        "
      ],
      "text/plain": [
       "<Reaction IGPS at 0x7f818fed2b50>"
      ]
     },
     "metadata": {},
     "execution_count": 4
    }
   ],
   "metadata": {}
  },
  {
   "cell_type": "code",
   "execution_count": 5,
   "source": [
    "growth_wt = model_aux.optimize()"
   ],
   "outputs": [],
   "metadata": {}
  },
  {
   "cell_type": "code",
   "execution_count": 6,
   "source": [
    "growth_wt.objective_value"
   ],
   "outputs": [
    {
     "output_type": "execute_result",
     "data": {
      "text/plain": [
       "0.8769972144269748"
      ]
     },
     "metadata": {},
     "execution_count": 6
    }
   ],
   "metadata": {}
  },
  {
   "cell_type": "code",
   "execution_count": 7,
   "source": [
    "growth_wt.fluxes['IGPS']"
   ],
   "outputs": [
    {
     "output_type": "execute_result",
     "data": {
      "text/plain": [
       "0.04985115265967252"
      ]
     },
     "metadata": {},
     "execution_count": 7
    }
   ],
   "metadata": {}
  },
  {
   "cell_type": "code",
   "execution_count": 8,
   "source": [
    "for i in model_aux.reactions:\n",
    "    if i.flux <= -0.5 and \"EX_\" in i.id:\n",
    "        print(i.id, i.reaction, i.flux)"
   ],
   "outputs": [
    {
     "output_type": "stream",
     "name": "stdout",
     "text": [
      "EX_pi_e pi_e <=>  -0.8459567750194775\n",
      "EX_glc__D_e glc__D_e <=>  -10.0\n",
      "EX_nh4_e nh4_e <=>  -9.471495371048015\n",
      "EX_o2_e o2_e <=>  -22.131763238945897\n"
     ]
    }
   ],
   "metadata": {}
  },
  {
   "cell_type": "code",
   "execution_count": 9,
   "source": [
    "for i in model_aux.reactions:\n",
    "    if i.flux >= 0.5 and \"EX_\" in i.id:\n",
    "        print(i.id, i.reaction, i.flux)"
   ],
   "outputs": [
    {
     "output_type": "stream",
     "name": "stdout",
     "text": [
      "EX_co2_e co2_e <=>  24.003293272976023\n",
      "EX_h_e h_e <=>  8.058200328043572\n",
      "EX_h2o_e h2o_e <=>  47.1623648086943\n"
     ]
    }
   ],
   "metadata": {}
  },
  {
   "cell_type": "code",
   "execution_count": 10,
   "source": [
    "model_aux.remove_reactions([trpC])"
   ],
   "outputs": [],
   "metadata": {}
  },
  {
   "cell_type": "code",
   "execution_count": 11,
   "source": [
    "growth_ko = model_aux.optimize()"
   ],
   "outputs": [],
   "metadata": {}
  },
  {
   "cell_type": "code",
   "execution_count": 12,
   "source": [
    "growth_ko.objective_value"
   ],
   "outputs": [
    {
     "output_type": "execute_result",
     "data": {
      "text/plain": [
       "-1.7407950579484187e-33"
      ]
     },
     "metadata": {},
     "execution_count": 12
    }
   ],
   "metadata": {}
  },
  {
   "cell_type": "markdown",
   "source": [
    "###### Considerations\n",
    "- Eliminating the reactions associated to trpC causes no growth on the wild type carbon source (glucose)\n",
    "- Adding the amino acid, Trp in this case, to the medium should restore growth\n",
    "\n",
    "## 2) Adding Trp to the medium to restore growth"
   ],
   "metadata": {}
  },
  {
   "cell_type": "code",
   "execution_count": 13,
   "source": [
    "trpgex = model_aux.reactions.EX_trp__L_e"
   ],
   "outputs": [],
   "metadata": {}
  },
  {
   "cell_type": "code",
   "execution_count": 14,
   "source": [
    "trpgex.bounds"
   ],
   "outputs": [
    {
     "output_type": "execute_result",
     "data": {
      "text/plain": [
       "(0.0, 1000.0)"
      ]
     },
     "metadata": {},
     "execution_count": 14
    }
   ],
   "metadata": {}
  },
  {
   "cell_type": "code",
   "execution_count": 15,
   "source": [
    "trpgex.lower_bound = -0.05 #inverse of the flux through the reacion KO in the wt model"
   ],
   "outputs": [],
   "metadata": {}
  },
  {
   "cell_type": "code",
   "execution_count": 16,
   "source": [
    "growth_ms = model_aux.optimize()"
   ],
   "outputs": [],
   "metadata": {}
  },
  {
   "cell_type": "code",
   "execution_count": 17,
   "source": [
    "growth_ms.objective_value"
   ],
   "outputs": [
    {
     "output_type": "execute_result",
     "data": {
      "text/plain": [
       "0.8796157838256256"
      ]
     },
     "metadata": {},
     "execution_count": 17
    }
   ],
   "metadata": {}
  },
  {
   "cell_type": "markdown",
   "source": [
    "## 3) Using the function of the pipeline to find out which reactions should be added\n",
    "\n",
    "*E. coli* can't grow on methane, and the strain auxotrophic for Trp can't grow on it either. Therefore GapFilling is needed to find out possible reaction addition.  "
   ],
   "metadata": {}
  },
  {
   "cell_type": "code",
   "execution_count": 18,
   "source": [
    "input_parser.parser('../inputs/ecoli_ch4_arg.csv', universal, model_aux)"
   ],
   "outputs": [
    {
     "output_type": "stream",
     "name": "stdout",
     "text": [
      "For ch4 there isn't any uptake trasnsporter in the reference model\n",
      "The trasporter has been added to the \n",
      "                                reference model from the input file\n",
      "\n",
      "For arg__L there is already a transport reaction allowing the uptake from the periplasmic space:  \n",
      "Reaction ID:  ARGAGMt7pp \n",
      "Reaction equation:  agm_c + arg__L_p <=> agm_p + arg__L_c\n",
      "\n",
      "The following reactions will be added to the universal model: ['R01142', 'R01143', 'MMO1', 'MMO2']\n",
      "unknown metabolite 'ch4_c' created\n",
      "unknown metabolite 'focytcc_c' created\n",
      "unknown metabolite 'ficytcc_c' created\n"
     ]
    },
    {
     "output_type": "execute_result",
     "data": {
      "text/html": [
       "\n",
       "        <table>\n",
       "            <tr>\n",
       "                <td><strong>Name</strong></td>\n",
       "                <td>iML1515</td>\n",
       "            </tr><tr>\n",
       "                <td><strong>Memory address</strong></td>\n",
       "                <td>0x07f8190864af0</td>\n",
       "            </tr><tr>\n",
       "                <td><strong>Number of metabolites</strong></td>\n",
       "                <td>1877</td>\n",
       "            </tr><tr>\n",
       "                <td><strong>Number of reactions</strong></td>\n",
       "                <td>2712</td>\n",
       "            </tr><tr>\n",
       "                <td><strong>Number of groups</strong></td>\n",
       "                <td>0</td>\n",
       "            </tr><tr>\n",
       "                <td><strong>Objective expression</strong></td>\n",
       "                <td>1.0*BIOMASS_Ec_iML1515_core_75p37M - 1.0*BIOMASS_Ec_iML1515_core_75p37M_reverse_35685</td>\n",
       "            </tr><tr>\n",
       "                <td><strong>Compartments</strong></td>\n",
       "                <td>cytosol, extracellular space, periplasm</td>\n",
       "            </tr>\n",
       "          </table>"
      ],
      "text/plain": [
       "<Model iML1515 at 0x7f8190864af0>"
      ]
     },
     "metadata": {},
     "execution_count": 18
    }
   ],
   "metadata": {}
  },
  {
   "cell_type": "code",
   "execution_count": 19,
   "source": [
    "consumption = analysis.analysis_gf_sol('../inputs/ecoli_ch4_arg.csv', model_aux, universal)"
   ],
   "outputs": [
    {
     "output_type": "stream",
     "name": "stdout",
     "text": [
      "Old biomass (objective) bounds =  (0.0, 1000.0)\n",
      "EX_pi_e pi_e <=>  -0.8484826627728355 \n",
      "\n",
      "EX_glc__D_e glc__D_e <=>  -10.0 \n",
      "\n",
      "EX_nh4_e nh4_e <=>  -9.399775697974992 \n",
      "\n",
      "EX_o2_e o2_e <=>  -22.59369491406178 \n",
      "\n",
      "New biomass (objective) bounds =  (0.0, 0.879615783825625)\n",
      "\n",
      "ch4 is in the medium \n",
      "\n",
      "Exchange ch4:  ch4_e -->  Old bounds:  (0.0, 1000.0)\n",
      "Exchange ch4:  ch4_e <--  New bounds:  (-1000, 0)\n",
      "\n",
      "arg__L is in the medium \n",
      "\n",
      "Exchange arg__L:  arg__L_e -->  Old bounds:  (0.0, 1000.0)\n",
      "Exchange arg__L:  arg__L_e -->  New bounds:  (0, 1000)\n",
      "Starting reaction search with GapFilling . . .\n"
     ]
    }
   ],
   "metadata": {
    "scrolled": true
   }
  },
  {
   "cell_type": "code",
   "execution_count": 23,
   "source": [
    "consumption"
   ],
   "outputs": [
    {
     "output_type": "execute_result",
     "data": {
      "text/plain": [
       "{1: ({'model': 'Model1'},\n",
       "  (['MMO2', 'ALCD1'],\n",
       "   0.8769972144269785,\n",
       "   {'MMO2': 88.16275218658868, 'ALCD1': 88.1627539405831},\n",
       "   {'EX_ch4_e': -88.16275218658868},\n",
       "   {'EX_arg__L_e': 0.0})),\n",
       " 2: ({'model': 'Model2'},\n",
       "  (['R01142', 'ALCD1'],\n",
       "   0.8769972144269785,\n",
       "   {'R01142': 110.201555639305, 'ALCD1': 110.20155739329942},\n",
       "   {'EX_ch4_e': -110.201555639305},\n",
       "   {'EX_arg__L_e': 0.0})),\n",
       " 3: ({'model': 'Model3'},\n",
       "  (['R01143', 'ALCD1'],\n",
       "   0.8769972144269785,\n",
       "   {'R01143': 132.2439718235817, 'ALCD1': 132.24397357757613},\n",
       "   {'EX_ch4_e': -132.2439718235817},\n",
       "   {'EX_arg__L_e': 0.0})),\n",
       " 4: ({'model': 'Model4'},\n",
       "  (['R01142', 'POX2', 'PRDX'],\n",
       "   0.07906382561252327,\n",
       "   {'R01142': 500.5788290740754,\n",
       "    'POX2': 6.828205063204772,\n",
       "    'PRDX': 500.578829232203},\n",
       "   {'EX_ch4_e': -500.5788290740754},\n",
       "   {'EX_arg__L_e': 0.0}))}"
      ]
     },
     "metadata": {},
     "execution_count": 23
    }
   ],
   "metadata": {}
  },
  {
   "cell_type": "code",
   "execution_count": 24,
   "source": [
    "production = analysis.dict_prod_sol('../inputs/ecoli_ch4_arg.csv', consumption, model_aux, universal)"
   ],
   "outputs": [
    {
     "output_type": "stream",
     "name": "stdout",
     "text": [
      "\n",
      "Bounds of biomass during optimization of consumption =  (0.0, 1000.0)\n",
      "\n",
      "Bounds of biomass during optimization of production =  (0.04384986072134892, 1000.0)\n",
      "\n",
      "The metabs to produce are:  ['arg__L']\n",
      "\n",
      "---1---\n",
      "The model can already satisfy the objective\n",
      "\n",
      "---2---\n",
      "The model can already satisfy the objective\n",
      "\n",
      "---3---\n",
      "The model can already satisfy the objective\n",
      "\n",
      "---4---\n",
      "The model can already satisfy the objective\n"
     ]
    }
   ],
   "metadata": {
    "scrolled": true
   }
  },
  {
   "cell_type": "code",
   "execution_count": 25,
   "source": [
    "production"
   ],
   "outputs": [
    {
     "output_type": "execute_result",
     "data": {
      "text/plain": [
       "{'1': {'1': 9.082342543721138},\n",
       " '2': {'2': 8.844247835304447},\n",
       " '3': {'3': 8.685517676574253},\n",
       " '4': {'4': 8.010915181295902}}"
      ]
     },
     "metadata": {},
     "execution_count": 25
    }
   ],
   "metadata": {}
  },
  {
   "cell_type": "code",
   "execution_count": 27,
   "source": [
    "final = analysis.cons_prod_dict('../inputs/ecoli_ch4_arg.csv', model_aux, universal, consumption, production)"
   ],
   "outputs": [
    {
     "output_type": "stream",
     "name": "stdout",
     "text": [
      "unknown metabolite 'qh2_c' created\n",
      "Substrate's exchange reaction bounds :  (-6.6000000000000005, -5.4)\n",
      "Target's exchange reaction bounds :  (2.0, 1000.0)\n",
      "Carbon source:  []\n",
      "Target:  EX_arg__L_e: arg__L_e --> \n",
      "FBA objective value:  2.0 \n",
      "Substrate consumption flux:  -5.4 \n",
      "Target production flux:  2.0 \n",
      "Biomass:  0.0438498607213489 \n",
      "\n",
      "pFBA is infeasible, control if the coefficients of the \n",
      "        reaction equation are correct (or use a different boudary \n",
      "        reaction of the target as model objective):  None (infeasible)\n",
      "The thermodynamic analysis cannot proceed because of infeasible pFBA\n",
      "The thermodynimac analysis has been unsuccesful\n",
      "unknown metabolite 'qh2_c' created\n",
      "Substrate's exchange reaction bounds :  (-6.6000000000000005, -5.4)\n",
      "Target's exchange reaction bounds :  (2.0, 1000.0)\n",
      "Carbon source:  []\n",
      "Target:  EX_arg__L_e: arg__L_e --> \n",
      "FBA objective value:  2.0 \n",
      "Substrate consumption flux:  -5.4 \n",
      "Target production flux:  2.0 \n",
      "Biomass:  0.0438498607213489 \n",
      "\n",
      "pFBA is infeasible, control if the coefficients of the \n",
      "        reaction equation are correct (or use a different boudary \n",
      "        reaction of the target as model objective):  None (infeasible)\n",
      "The thermodynamic analysis cannot proceed because of infeasible pFBA\n",
      "The thermodynimac analysis has been unsuccesful\n",
      "unknown metabolite 'qh2_c' created\n",
      "Substrate's exchange reaction bounds :  (-6.6000000000000005, -5.4)\n",
      "Target's exchange reaction bounds :  (2.0, 1000.0)\n",
      "Carbon source:  []\n",
      "Target:  EX_arg__L_e: arg__L_e --> \n",
      "FBA objective value:  2.0 \n",
      "Substrate consumption flux:  -5.4 \n",
      "Target production flux:  2.0 \n",
      "Biomass:  0.0438498607213489 \n",
      "\n",
      "pFBA is infeasible, control if the coefficients of the \n",
      "        reaction equation are correct (or use a different boudary \n",
      "        reaction of the target as model objective):  None (infeasible)\n",
      "The thermodynamic analysis cannot proceed because of infeasible pFBA\n",
      "The thermodynimac analysis has been unsuccesful\n",
      "unknown metabolite 'qh2_c' created\n",
      "Substrate's exchange reaction bounds :  (-6.6000000000000005, -5.4)\n",
      "Target's exchange reaction bounds :  (2.0, 1000.0)\n",
      "Carbon source:  []\n",
      "Target:  EX_arg__L_e: arg__L_e --> \n",
      "FBA objective value:  2.0 \n",
      "Substrate consumption flux:  -5.4 \n",
      "Target production flux:  2.0 \n",
      "Biomass:  0.0438498607213489 \n",
      "\n",
      "pFBA is infeasible, control if the coefficients of the \n",
      "        reaction equation are correct (or use a different boudary \n",
      "        reaction of the target as model objective):  None (infeasible)\n",
      "The thermodynamic analysis cannot proceed because of infeasible pFBA\n",
      "The thermodynimac analysis has been unsuccesful\n"
     ]
    }
   ],
   "metadata": {
    "scrolled": true
   }
  },
  {
   "cell_type": "code",
   "execution_count": 28,
   "source": [
    "final"
   ],
   "outputs": [
    {
     "output_type": "execute_result",
     "data": {
      "text/plain": [
       "{'consumption_1': ({'model': 'Model1'},\n",
       "  (['MMO2', 'ALCD1'],\n",
       "   0.8769972144269785,\n",
       "   {'MMO2': 88.16275218658868, 'ALCD1': 88.1627539405831},\n",
       "   {'EX_ch4_e': -88.16275218658868},\n",
       "   {'EX_arg__L_e': 0.0})),\n",
       " 'production_1': {'arg__L': {'EX_arg__L_e flux': 9.082342543721138,\n",
       "   'thermodynamic': {'mdf': None, 'pathway_length': None}}},\n",
       " 'consumption_2': ({'model': 'Model2'},\n",
       "  (['R01142', 'ALCD1'],\n",
       "   0.8769972144269785,\n",
       "   {'R01142': 110.201555639305, 'ALCD1': 110.20155739329942},\n",
       "   {'EX_ch4_e': -110.201555639305},\n",
       "   {'EX_arg__L_e': 0.0})),\n",
       " 'production_2': {'arg__L': {'EX_arg__L_e flux': 8.844247835304447,\n",
       "   'thermodynamic': {'mdf': None, 'pathway_length': None}}},\n",
       " 'consumption_3': ({'model': 'Model3'},\n",
       "  (['R01143', 'ALCD1'],\n",
       "   0.8769972144269785,\n",
       "   {'R01143': 132.2439718235817, 'ALCD1': 132.24397357757613},\n",
       "   {'EX_ch4_e': -132.2439718235817},\n",
       "   {'EX_arg__L_e': 0.0})),\n",
       " 'production_3': {'arg__L': {'EX_arg__L_e flux': 8.685517676574253,\n",
       "   'thermodynamic': {'mdf': None, 'pathway_length': None}}},\n",
       " 'consumption_4': ({'model': 'Model4'},\n",
       "  (['R01142', 'POX2', 'PRDX'],\n",
       "   0.07906382561252327,\n",
       "   {'R01142': 500.5788290740754,\n",
       "    'POX2': 6.828205063204772,\n",
       "    'PRDX': 500.578829232203},\n",
       "   {'EX_ch4_e': -500.5788290740754},\n",
       "   {'EX_arg__L_e': 0.0})),\n",
       " 'production_4': {'arg__L': {'EX_arg__L_e flux': 8.010915181295902,\n",
       "   'thermodynamic': {'mdf': None, 'pathway_length': None}}}}"
      ]
     },
     "metadata": {},
     "execution_count": 28
    }
   ],
   "metadata": {
    "scrolled": true
   }
  },
  {
   "cell_type": "markdown",
   "source": [
    "## Concluding considerations\n",
    "This approach mixes some individual research of the candidate reactions to remove from the model to generate the auxotrophic strain before using the functions of the pipeline to find out if the auxotrophic model can grow on a particular substrate and produce a target. \n"
   ],
   "metadata": {}
  },
  {
   "cell_type": "markdown",
   "source": [
    "<h4 style=\"color: red;\"> In principle both reaction addition and reaction removal for growth coupled production should be found, however, the module of the pipeline using Optknock has very long running times, thus the followin analysis is uncompleted </h4>"
   ],
   "metadata": {}
  },
  {
   "cell_type": "code",
   "execution_count": 6,
   "source": [
    "from pipeline_package import call_Optknock"
   ],
   "outputs": [
    {
     "output_type": "error",
     "ename": "ModuleNotFoundError",
     "evalue": "No module named 'pipeline'",
     "traceback": [
      "\u001b[0;31m---------------------------------------------------------------------------\u001b[0m",
      "\u001b[0;31mModuleNotFoundError\u001b[0m                       Traceback (most recent call last)",
      "\u001b[0;32m<ipython-input-6-be5f6c49bbb5>\u001b[0m in \u001b[0;36m<module>\u001b[0;34m\u001b[0m\n\u001b[0;32m----> 1\u001b[0;31m \u001b[0;32mfrom\u001b[0m \u001b[0mpipeline_package\u001b[0m \u001b[0;32mimport\u001b[0m \u001b[0mcall_Optknock\u001b[0m\u001b[0;34m\u001b[0m\u001b[0;34m\u001b[0m\u001b[0m\n\u001b[0m",
      "\u001b[0;32m~/.local/lib/python3.8/site-packages/pipeline_package/call_Optknock.py\u001b[0m in \u001b[0;36m<module>\u001b[0;34m\u001b[0m\n\u001b[1;32m     29\u001b[0m     OPTLANG_TO_EXCEPTIONS_DICT, Infeasible, OptimizationError, SolverNotFound)\n\u001b[1;32m     30\u001b[0m \u001b[0;34m\u001b[0m\u001b[0m\n\u001b[0;32m---> 31\u001b[0;31m \u001b[0;32mfrom\u001b[0m \u001b[0mpipeline\u001b[0m\u001b[0;34m.\u001b[0m\u001b[0mscripts\u001b[0m\u001b[0;34m.\u001b[0m\u001b[0mcall_Optknock_robustknock\u001b[0m \u001b[0;32mimport\u001b[0m \u001b[0mlist_excluded_reactions\u001b[0m\u001b[0;34m\u001b[0m\u001b[0;34m\u001b[0m\u001b[0m\n\u001b[0m\u001b[1;32m     32\u001b[0m \u001b[0;32mfrom\u001b[0m \u001b[0mpipeline\u001b[0m\u001b[0;34m.\u001b[0m\u001b[0mscripts\u001b[0m\u001b[0;34m.\u001b[0m\u001b[0mOptknock_robustknock\u001b[0m \u001b[0;32mimport\u001b[0m \u001b[0mRun_OptKnock\u001b[0m\u001b[0;34m\u001b[0m\u001b[0;34m\u001b[0m\u001b[0m\n\u001b[1;32m     33\u001b[0m from pipeline.scripts.analysis import (remove_rlist, get_biomass_equation, \n",
      "\u001b[0;31mModuleNotFoundError\u001b[0m: No module named 'pipeline'"
     ]
    }
   ],
   "metadata": {}
  },
  {
   "cell_type": "code",
   "execution_count": 2,
   "source": [
    "ko_results = call_Optknock.full_knock_out_analysis('../inputs/ecoli_ch4_arg.csv', consumptionr, final, model_aux, universal)"
   ],
   "outputs": [
    {
     "output_type": "error",
     "ename": "NameError",
     "evalue": "name 'call_Optknock' is not defined",
     "traceback": [
      "\u001b[0;31m---------------------------------------------------------------------------\u001b[0m",
      "\u001b[0;31mNameError\u001b[0m                                 Traceback (most recent call last)",
      "\u001b[0;32m<ipython-input-2-283b5d076403>\u001b[0m in \u001b[0;36m<module>\u001b[0;34m\u001b[0m\n\u001b[0;32m----> 1\u001b[0;31m \u001b[0mko_results\u001b[0m \u001b[0;34m=\u001b[0m \u001b[0mcall_Optknock\u001b[0m\u001b[0;34m.\u001b[0m\u001b[0mfull_knock_out_analysis\u001b[0m\u001b[0;34m(\u001b[0m\u001b[0;34m'../inputs/ecoli_ch4_arg.csv'\u001b[0m\u001b[0;34m,\u001b[0m \u001b[0mconsumptionr\u001b[0m\u001b[0;34m,\u001b[0m \u001b[0mfinal\u001b[0m\u001b[0;34m,\u001b[0m \u001b[0mmodel_aux\u001b[0m\u001b[0;34m,\u001b[0m \u001b[0muniversal\u001b[0m\u001b[0;34m)\u001b[0m\u001b[0;34m\u001b[0m\u001b[0;34m\u001b[0m\u001b[0m\n\u001b[0m",
      "\u001b[0;31mNameError\u001b[0m: name 'call_Optknock' is not defined"
     ]
    }
   ],
   "metadata": {}
  },
  {
   "cell_type": "code",
   "execution_count": null,
   "source": [
    "ko_results"
   ],
   "outputs": [],
   "metadata": {}
  }
 ],
 "metadata": {
  "interpreter": {
   "hash": "916dbcbb3f70747c44a77c7bcd40155683ae19c65e1c03b4aa3499c5328201f1"
  },
  "kernelspec": {
   "name": "python3",
   "display_name": "Python 3.8.10 64-bit"
  },
  "language_info": {
   "codemirror_mode": {
    "name": "ipython",
    "version": 3
   },
   "file_extension": ".py",
   "mimetype": "text/x-python",
   "name": "python",
   "nbconvert_exporter": "python",
   "pygments_lexer": "ipython3",
   "version": "3.8.10"
  }
 },
 "nbformat": 4,
 "nbformat_minor": 4
}