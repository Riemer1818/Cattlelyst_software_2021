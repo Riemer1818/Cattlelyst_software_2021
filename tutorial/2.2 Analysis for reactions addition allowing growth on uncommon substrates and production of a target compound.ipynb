{
 "cells": [
  {
   "cell_type": "markdown",
   "source": [
    "# Analysis for reactions addition allowing growth on uncommon substrates and production of a target compound\n",
    "\n",
    "Once the models have been loaded and prepared (*see Tutorial 1*) the analysis can be performed. The pipeline first conisders if the model is able to grow on the user-indicated carbon source and if not it looks for which reactions from the universal model could be added to the model of the chassis organism in order to confer that function to it.\n",
    "\n",
    "This first search of reactions allowing growth on an uncommon substrate is done with the function *analysis_gf_sol*. This function sets the right constraint in the model of the chassis and then calls the COBRApy[1] function for [gapfilling analysis](https://cobrapy.readthedocs.io/en/latest/gapfilling.html). In particular, *analysis_gf_sol* sets the upper bound of the biomass reactions to the normal growth rate in the wild type chassis. Thus, any reaction addition that is identified with gap-filling leads to a growth rate that is maximally equal to the wild type. (The objective of the optimization is the biomass reaction)\n",
    "\n",
    "The function *dict_prod_sol* is used to evaluate if the addition of the reactions indicated by the gapfilling analysis makes the chassis' model also able to produce a target product indicate by the user. If the model can't already simulate production the function *dict_prod_sol* calls again the COBRApy[1] function for [gapfilling analysis](https://cobrapy.readthedocs.io/en/latest/gapfilling.html).\n",
    "\n",
    "Checking the model's ability to produce the target compound requires a different model objective and additional constraints. The objective of the optimization is set to be the exchange reaction of the target. The biomass reaction has to be constrained in the lower bound, to indicate the model that the optimization of the formation of the target should still allow growth, otherwise the simulation will maximize production leading to 0 1/h growth rate, which is not realistic. Additionally, the uptake of the substrate is constrained by setting a minium lower value that can be indicated by the user if the ammount of substrate in the medium can be estimated. \n",
    "\n",
    "The functions downstream to *analysis_gf_sol* build upon the output of this function, hence *dict_prod_sol* uses the output of *analysis_gf_sol* as argument, while the output of both previous function is used by *cons_prod_dict* to generate a final object comprehensive of all the information gathered previously and calls the thermodynamic analysis too. This final output is used among others by *scores_evaluations* to score the several alternative reaction addition and the fluxes of substrate uptake and product formation.  \n",
    "\n",
    "\n",
    "In this tutorial a model of *Escherichia coli* is used to generate strains growing on methane and producing itaconate."
   ],
   "metadata": {}
  },
  {
   "cell_type": "markdown",
   "source": [
    "#### Import statemets"
   ],
   "metadata": {}
  },
  {
   "cell_type": "code",
   "execution_count": 1,
   "source": [
    "from pipeline_package import import_models, input_parser, analysis\n"
   ],
   "outputs": [],
   "metadata": {}
  },
  {
   "cell_type": "markdown",
   "source": [
    "#### Load models"
   ],
   "metadata": {}
  },
  {
   "cell_type": "code",
   "execution_count": 2,
   "source": [
    "data_repo = \"../inputs\"\n",
    "model3 = import_models.get_reference_model(data_repo, '../inputs/ecoli_tutorial3.csv')\n",
    "universal3 = import_models.get_universal_main(data_repo, '../inputs/ecoli_tutorial3.csv')"
   ],
   "outputs": [],
   "metadata": {}
  },
  {
   "cell_type": "markdown",
   "source": [
    "#### Prepare models"
   ],
   "metadata": {}
  },
  {
   "cell_type": "code",
   "execution_count": 3,
   "source": [
    "input_parser.parser('../inputs/ecoli_tutorial3.csv', universal3, model3)"
   ],
   "outputs": [
    {
     "output_type": "stream",
     "name": "stdout",
     "text": [
      "For ch4 there isn't any uptake trasnsporter in the reference model\n",
      "The trasporter has been added to the \n",
      "                                reference model from the input file\n",
      "For nh4 there isn't any uptake trasnsporter in the reference model\n",
      "\n",
      "For nh4 there is a transport reaction in the universal model for the uptake from the extracellular space:  \n",
      "Reaction ID:  NH4t \n",
      "Reaction equation:  nh4_e <=> nh4_c\n",
      "\n",
      "For nh4 there is a transport reaction \n",
      "                                    in the universal model for the uptake \n",
      "                                    from the periplasm:  \n",
      "Reaction ID:  NH4t4pp \n",
      "Reaction equation:  k_c + nh4_p --> k_p + nh4_c \n",
      "\n",
      "\n",
      "For nh4 there is a transport reaction \n",
      "                                    in the universal model for the uptake \n",
      "                                    from the periplasm:  \n",
      "Reaction ID:  NH4tpp \n",
      "Reaction equation:  nh4_p <=> nh4_c \n",
      "\n",
      "\n",
      "For nh4 there is a transport reaction \n",
      "                                    in the universal model for the uptake \n",
      "                                    from the periplasm:  \n",
      "Reaction ID:  NH4tpp_1 \n",
      "Reaction equation:  h_p + nh4_p --> h_c + nh4_c \n",
      "\n",
      "For itacon there isn't any uptake trasnsporter in the reference model\n",
      "\n",
      "The following reactions will be added to the universal model: ['R01142', 'R01143', 'MMO1', 'MMO2', 'ITAtr', 'ACDCX']\n",
      "unknown metabolite 'ch4_c' created\n",
      "unknown metabolite 'focytcc_c' created\n",
      "unknown metabolite 'ficytcc_c' created\n",
      "unknown metabolite 'itacon_e' created\n",
      "unknown metabolite 'itacon_c' created\n"
     ]
    },
    {
     "output_type": "execute_result",
     "data": {
      "text/html": [
       "\n",
       "        <table>\n",
       "            <tr>\n",
       "                <td><strong>Name</strong></td>\n",
       "                <td>iML1515</td>\n",
       "            </tr><tr>\n",
       "                <td><strong>Memory address</strong></td>\n",
       "                <td>0x07f0bbf8a1cd0</td>\n",
       "            </tr><tr>\n",
       "                <td><strong>Number of metabolites</strong></td>\n",
       "                <td>1877</td>\n",
       "            </tr><tr>\n",
       "                <td><strong>Number of reactions</strong></td>\n",
       "                <td>2716</td>\n",
       "            </tr><tr>\n",
       "                <td><strong>Number of groups</strong></td>\n",
       "                <td>0</td>\n",
       "            </tr><tr>\n",
       "                <td><strong>Objective expression</strong></td>\n",
       "                <td>1.0*BIOMASS_Ec_iML1515_core_75p37M - 1.0*BIOMASS_Ec_iML1515_core_75p37M_reverse_35685</td>\n",
       "            </tr><tr>\n",
       "                <td><strong>Compartments</strong></td>\n",
       "                <td>cytosol, extracellular space, periplasm</td>\n",
       "            </tr>\n",
       "          </table>"
      ],
      "text/plain": [
       "<Model iML1515 at 0x7f0bbf8a1cd0>"
      ]
     },
     "metadata": {},
     "execution_count": 3
    }
   ],
   "metadata": {}
  },
  {
   "cell_type": "markdown",
   "source": [
    "The printed output above can be unserstood better looking at the example input file *ecoli_tutorial2.csv* that can be found in the inputs directory. \n",
    " \n",
    "* There is not transporter of methane in E. coli model iML1515. Thus, the pipeline adds the reaction included in the input file \n",
    "* Itaconate is indicated as target\n",
    "* ALCD1 reaction (methanole dehydrogenase) is already in the model, so the pipeline recognize it and does not add it to the universal\n",
    "* There are no methane oxidizing reactions in the BiGG database, therefore the pipeline adds them to the universal reaction model.\n",
    "\n",
    "![input_main](./images/main_itacon.png)\n",
    "\n",
    "\n",
    "## Running the analysis for making the model able to grow on the indicated substrate\n",
    "\n",
    "In this case the objective is to have an *E. coli* strain able to grow on methane. The chassis can't naturally grow on methane, therefore it is expected that the pipeline will use gapfilling to serach for additional reactions. The search can take few hours, depending on the PC, the number of iteration and the type of reactions needed. For this analysis on a Windows AMD64 processor running the pipeline via Jupyter notebook it takes apporximately 4 hours.  "
   ],
   "metadata": {}
  },
  {
   "cell_type": "code",
   "execution_count": 4,
   "source": [
    "consumption3 = analysis.analysis_gf_sol('../inputs/ecoli_tutorial3.csv', model3, universal3)"
   ],
   "outputs": [
    {
     "output_type": "stream",
     "name": "stdout",
     "text": [
      "Old biomass (objective) bounds =  (0.0, 1000.0)\n",
      "EX_pi_e pi_e <=>  -0.8459567750196153 \n",
      "\n",
      "EX_glc__D_e glc__D_e <=>  -10.0 \n",
      "\n",
      "EX_nh4_e nh4_e <=>  -9.471495371048153 \n",
      "\n",
      "EX_o2_e o2_e <=>  -22.131763238945883 \n",
      "\n",
      "New biomass (objective) bounds =  (0.0, 0.8769972144269667)\n",
      "\n",
      "ch4 is in the medium \n",
      "\n",
      "Exchange ch4:  ch4_e -->  Old bounds:  (0.0, 1000.0)\n",
      "Exchange ch4:  ch4_e <--  New bounds:  (-1000, 0)\n",
      "\n",
      "nh4 is in the medium \n",
      "\n",
      "Exchange nh4:  nh4_e <=>  Old bounds:  (-1000.0, 1000.0)\n",
      "Exchange nh4:  nh4_e <--  New bounds:  (-1000, 0)\n",
      "\n",
      "itacon is not in the medium \n",
      "\n",
      "Ther reaction EX_itacon_e has been added to the reference model, hence itacon_e is now in the medium\n",
      "Exchange itacon:  itacon_e <--  Old bounds:  (-1000, 0)\n",
      "Exchange itacon:  itacon_e -->  New bounds:  (0, 1000)\n",
      "Starting reaction search with GapFilling . . .\n",
      "\n",
      "---Model 1---\n",
      "\n",
      "Reaction ALCD1, solution of round 1 has been added to the model\n",
      "\n",
      "Reaction MMO2, solution of round 1 has been added to the model\n",
      "\n",
      "Growth rate:  0.8769972144269667\n",
      "\n",
      "The flux throughr EX_ch4_e is:  -88.16124451144248\n",
      "\n",
      "The flux throughr EX_nh4_e is:  -9.471495371047917\n",
      "\n",
      "The flux throughr EX_itacon_e is:  0.0\n",
      "\n",
      "The flux throughr ALCD1 is:  88.1612462654369\n",
      "\n",
      "The flux throughr MMO2 is:  88.16124451144248\n",
      "\n",
      "---Model 2---\n",
      "\n",
      "Reaction ALCD1, solution of round 2 has been added to the model\n",
      "\n",
      "Reaction R01142, solution of round 2 has been added to the model\n",
      "\n",
      "Growth rate:  0.8769972144269667\n",
      "\n",
      "The flux throughr EX_ch4_e is:  -110.20140362645323\n",
      "\n",
      "The flux throughr EX_nh4_e is:  -9.471495371048045\n",
      "\n",
      "The flux throughr EX_itacon_e is:  0.0\n",
      "\n",
      "The flux throughr ALCD1 is:  110.20140538044765\n",
      "\n",
      "The flux throughr R01142 is:  110.20140362645323\n"
     ]
    }
   ],
   "metadata": {}
  },
  {
   "cell_type": "code",
   "execution_count": 5,
   "source": [
    "consumption3"
   ],
   "outputs": [
    {
     "output_type": "execute_result",
     "data": {
      "text/plain": [
       "{1: ({'model': 'Model1'},\n",
       "  (['ALCD1', 'MMO2'],\n",
       "   0.8769972144269667,\n",
       "   {'ALCD1': 88.1612462654369, 'MMO2': 88.16124451144248},\n",
       "   {'EX_ch4_e': -88.16124451144248, 'EX_nh4_e': -9.471495371047917},\n",
       "   {'EX_itacon_e': 0.0})),\n",
       " 2: ({'model': 'Model2'},\n",
       "  (['ALCD1', 'R01142'],\n",
       "   0.8769972144269667,\n",
       "   {'ALCD1': 110.20140538044765, 'R01142': 110.20140362645323},\n",
       "   {'EX_ch4_e': -110.20140362645323, 'EX_nh4_e': -9.471495371048045},\n",
       "   {'EX_itacon_e': 0.0}))}"
      ]
     },
     "metadata": {},
     "execution_count": 5
    }
   ],
   "metadata": {}
  },
  {
   "cell_type": "markdown",
   "source": [
    "## Explanation of the printed output\n",
    "\n",
    "The output reports several information relative to the set up of the analysis as introduced above (e.g. constraints) and the results of the analysis with gapfilling. In order from top to bottom you can find the following information:\n",
    "\n",
    "- The biomass upper bound to the growth rate of the wild type (0.87 1/h)\n",
    "- Indication of the fluxes of the compounds that are take up from the mediume by the wild type strain\n",
    "- The old and new bounds of the exchange reaction of the compounds indicated by the user \n",
    "- The result of the analysis start after the indication that GapFilling algorithm is being run.  \n",
    "- The analysis of gapfilling can be run in several iteration (each one looking for reactions that if added satisfy the model's objective, growth in this case). The result of each iteration starts with a number. \n",
    "\n",
    "This function also generate an intermediate .csv file that can be found in the pipeline/outputs folder. It is advicable to rename the file before running *analysis_gf_sol* further, otherwise it get overwritten"
   ],
   "metadata": {}
  },
  {
   "cell_type": "code",
   "execution_count": 6,
   "source": [
    "production3 = analysis.dict_prod_sol('../inputs/ecoli_tutorial3.csv', consumption3, model3, universal3)"
   ],
   "outputs": [
    {
     "output_type": "stream",
     "name": "stdout",
     "text": [
      "\n",
      "Bounds of biomass during optimization of consumption =  (0.0, 0.8769972144269667)\n",
      "\n",
      "Bounds of biomass during optimization of production =  (0.04384986072134833, 0.8769972144269667)\n",
      "\n",
      "The metabs to produce are:  ['itacon']\n",
      "\n",
      "---1---\n",
      "\n",
      "---2---\n"
     ]
    }
   ],
   "metadata": {}
  },
  {
   "cell_type": "code",
   "execution_count": 7,
   "source": [
    "production3"
   ],
   "outputs": [
    {
     "output_type": "execute_result",
     "data": {
      "text/plain": [
       "{'1': {'1': {'itacon': {'Run 1': ['ITAtr', 'ACDCX'],\n",
       "    'Run 2': ['ITAtr', 'ACDCX']}}},\n",
       " '2': {'2': {'itacon': {'Run 1': ['ITAtr', 'ACDCX'],\n",
       "    'Run 2': ['ITAtr', 'ACDCX']}}}}"
      ]
     },
     "metadata": {},
     "execution_count": 7
    }
   ],
   "metadata": {}
  },
  {
   "cell_type": "markdown",
   "source": [
    "### Explanation of the printed output\n",
    "\n",
    "The wild type model can't produce itaconate, therefore gapfilling analysis is run for each solution indicated in the \"consumption\" dictionary (i.e. different strains growing on methane). The same amount of iteration is used for each strain growing on methane. This output is not to be read on its own but mostly needed by the following function, that integrates it with the output of *analysis_gf_sol* function"
   ],
   "metadata": {}
  },
  {
   "cell_type": "markdown",
   "source": [
    "<h1 style=\"color: red;\"> TODO: </h1>\n",
    "<h4 style=\"color: blue;\"> Check why the reactions are repeated. The expected result would be ACDX for iteration of both variants growing on methane </h4>"
   ],
   "metadata": {}
  },
  {
   "cell_type": "code",
   "execution_count": 8,
   "source": [
    "final3 = analysis.cons_prod_dict('../inputs/ecoli_tutorial3.csv', model3, universal3, consumption3, production3)"
   ],
   "outputs": [
    {
     "output_type": "stream",
     "name": "stdout",
     "text": [
      "\n",
      " solutions for consumption =  ALCD1\n",
      "\n",
      " solutions for consumption =  MMO2\n",
      "unknown metabolite 'qh2_c' created\n",
      "Substrate's exchange reaction bounds :  (-6.6000000000000005, -5.4)\n",
      "Target's exchange reaction bounds :  (2.0, 1000)\n",
      "Carbon source:  []\n",
      "Target:  EX_itacon_e: itacon_e --> \n",
      "FBA objective value:  2.0 \n",
      "Substrate consumption flux:  -6.6000000000000005 \n",
      "Target production flux:  2.0 \n",
      "Biomass:  0.0438498607213483 \n",
      "\n",
      "pFBA is infeasible, control if the coefficients of the \n",
      "        reaction equation are correct (or use a different boudary \n",
      "        reaction of the target as model objective):  None (infeasible).\n",
      "The thermodynamic analysis cannot proceed because of infeasible pFBA\n",
      "The thermodynimac analysis has been unsuccesful\n",
      "\n",
      " solutions for consumption =  ALCD1\n",
      "\n",
      " solutions for consumption =  R01142\n",
      "unknown metabolite 'qh2_c' created\n",
      "Substrate's exchange reaction bounds :  (-6.6000000000000005, -5.4)\n",
      "Target's exchange reaction bounds :  (2.0, 1000)\n",
      "Carbon source:  []\n",
      "Target:  EX_itacon_e: itacon_e --> \n",
      "FBA objective value:  2.0 \n",
      "Substrate consumption flux:  -6.6000000000000005 \n",
      "Target production flux:  2.0 \n",
      "Biomass:  0.0438498607213483 \n",
      "\n",
      "pFBA is infeasible, control if the coefficients of the \n",
      "        reaction equation are correct (or use a different boudary \n",
      "        reaction of the target as model objective):  None (infeasible).\n",
      "The thermodynamic analysis cannot proceed because of infeasible pFBA\n",
      "The thermodynimac analysis has been unsuccesful\n"
     ]
    }
   ],
   "metadata": {}
  },
  {
   "cell_type": "markdown",
   "source": [
    "### Explanation of the printed output\n",
    "\n",
    "Most of what is printed is related to the thermodynamic analysis. This output is the most comprehensive one and is structured with nested python dictionaries. Every solution of *analysis_gf_sol* is indicated as with the key consumption following by the number of the round of iteration of gapfilling (with the fluxes of consumption of the substrate). The respective production key reports the results of *dict_prod_sol* analysis (i.e. the fluxes of production of the target) and the result of the thermodynamic analysis."
   ],
   "metadata": {}
  },
  {
   "cell_type": "markdown",
   "source": [
    "<h1 style=\"color: red;\"> TODO: </h1>\n",
    "\n",
    "<h4 style=\"color: blue;\"> Debug final loops lines 907 989 </h4>"
   ],
   "metadata": {}
  },
  {
   "cell_type": "markdown",
   "source": [
    "scores_output3 = scores_evaluations('../inputs/ecoli_tutorial3.csv', consumption3, final3)"
   ],
   "metadata": {}
  },
  {
   "cell_type": "markdown",
   "source": [
    "**References**\n",
    "1. A. Ebrahim, J. A. Lerman, B. O. Palsson, and D. R. Hyduke, “COBRApy: COnstraints-Based Reconstruction and Analysis for Python,” BMC Syst. Biol., vol. 7, no. 1, p. 74, Aug. 2013, doi: 10.1186/1752-0509-7-74."
   ],
   "metadata": {}
  }
 ],
 "metadata": {
  "kernelspec": {
   "name": "python3",
   "display_name": "Python 3.8.10 64-bit"
  },
  "language_info": {
   "codemirror_mode": {
    "name": "ipython",
    "version": 3
   },
   "file_extension": ".py",
   "mimetype": "text/x-python",
   "name": "python",
   "nbconvert_exporter": "python",
   "pygments_lexer": "ipython3",
   "version": "3.8.10"
  },
  "interpreter": {
   "hash": "31f2aee4e71d21fbe5cf8b01ff0e069b9275f58929596ceb00d14d90e3e16cd6"
  }
 },
 "nbformat": 4,
 "nbformat_minor": 4
}