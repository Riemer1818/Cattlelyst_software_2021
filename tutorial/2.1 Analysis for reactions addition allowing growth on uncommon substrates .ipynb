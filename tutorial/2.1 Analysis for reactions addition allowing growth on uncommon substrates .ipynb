{
 "cells": [
  {
   "cell_type": "markdown",
   "source": [
    "# Analysis for reactions addition allowing growth on uncommon substrates \n",
    "\n",
    "Once the models have been loaded and prepared (*see Tutorial 1*) the analysis can be performed. The pipeline first conisders if the model is able to grow on the user-indicated carbon source and if not it looks for which reactions from the universal model could be added to the model of the chassis organism in order to confer that function to it.\n",
    "\n",
    "This first search of reactions allowing growth on an uncommon substrate is done with the function *analysis_gf_sol*. This function sets the right constraint in the model of the chassis and then calls the COBRApy[1] function for [gapfilling analysis](https://cobrapy.readthedocs.io/en/latest/gapfilling.html). In particular, *analysis_gf_sol* sets the upper bound of the biomass reactions to the normal growth rate in the wild type chassis. Thus, any reaction addition that is identified with gap-filling leads to a growth rate that is maximally equal to the wild type. (The objective of the optimization is the biomass reaction)\n",
    "\n",
    "The function *dict_prod_sol* is used to evaluate if the addition of the reactions indicated by the gapfilling analysis makes the chassis' model also able to produce a target product indicate by the user. If the model can't already simulate production the function *dict_prod_sol* calls again the COBRApy[1] function for [gapfilling analysis](https://cobrapy.readthedocs.io/en/latest/gapfilling.html).\n",
    "\n",
    "Checking the model's ability to produce the target compound requires a different model objective and additional constraints. The objective of the optimization is set to be the exchange reaction of the target. The biomass reaction has to be constrained in the lower bound, to indicate the model that the optimization of the formation of the target should still allow growth, otherwise the simulation will maximize production leading to 0 1/h growth rate, which is not realistic. Additionally, the uptake of the substrate is constrained by setting a minium lower value that can be indicated by the user if the ammount of substrate in the medium can be estimated. \n",
    "\n",
    "If the consumption of a compound in the medium is the only optimization of interest, an intermediate of the degradation pathway should be indicated anyway in order to be able to use the other functions of the pipeline (including the one needed to score the options). This is due to the fact that the functions downstream to *analysis_gf_sol* build upon the output of this function, hence *dict_prod_sol* uses the output of *analysis_gf_sol* as argument, while the output of both previous function is used by *cons_prod_dict* to generate a final object comprehensive of all the information gathered previously and calls the thermodynamic analysis too. This final output is used among others by *scores_evaluations* to score the several alternative reaction addition and the fluxes of substrate uptake and product formation.  \n",
    "\n",
    "In this example a model of *Escherichia coli* is used to generate strains able to grow on methane. Formate is indicated as target product as it is an intermediate of methane oxidation pathway.  "
   ],
   "metadata": {}
  },
  {
   "cell_type": "markdown",
   "source": [
    "#### Import statemets"
   ],
   "metadata": {}
  },
  {
   "cell_type": "code",
   "execution_count": 4,
   "source": [
    "from pipeline_package import import_models, input_parser, analysis\n"
   ],
   "outputs": [],
   "metadata": {}
  },
  {
   "cell_type": "markdown",
   "source": [
    "#### Load models"
   ],
   "metadata": {}
  },
  {
   "cell_type": "code",
   "execution_count": 5,
   "source": [
    "data_repo = \"../inputs\"\n",
    "model = import_models.get_reference_model(data_repo, '../inputs/ecoli_tutorial2.csv')\n",
    "universal = import_models.get_universal_main(data_repo, '../inputs/ecoli_tutorial2.csv')"
   ],
   "outputs": [
    {
     "output_type": "error",
     "ename": "CobraSBMLError",
     "evalue": "Something went wrong reading the SBML model. Most likely the SBML model is not valid. Please check that your model is valid using the `cobra.io.sbml.validate_sbml_model` function or via the online validator at http://sbml.org/validator .\n\t`(model, errors) = validate_sbml_model(filename)`\nIf the model is valid and cannot be read please open an issue at https://github.com/opencobra/cobrapy/issues .",
     "traceback": [
      "\u001b[0;31m---------------------------------------------------------------------------\u001b[0m",
      "\u001b[0;31mKeyboardInterrupt\u001b[0m                         Traceback (most recent call last)",
      "\u001b[0;32m/usr/local/lib/python3.8/dist-packages/libsbml/__init__.py\u001b[0m in \u001b[0;36m<lambda>\u001b[0;34m(self, name, value)\u001b[0m\n\u001b[1;32m  13044\u001b[0m         \u001b[0m__swig_setmethods__\u001b[0m\u001b[0;34m.\u001b[0m\u001b[0mupdate\u001b[0m\u001b[0;34m(\u001b[0m\u001b[0mgetattr\u001b[0m\u001b[0;34m(\u001b[0m\u001b[0m_s\u001b[0m\u001b[0;34m,\u001b[0m \u001b[0;34m'__swig_setmethods__'\u001b[0m\u001b[0;34m,\u001b[0m \u001b[0;34m{\u001b[0m\u001b[0;34m}\u001b[0m\u001b[0;34m)\u001b[0m\u001b[0;34m)\u001b[0m\u001b[0;34m\u001b[0m\u001b[0;34m\u001b[0m\u001b[0m\n\u001b[0;32m> 13045\u001b[0;31m     \u001b[0m__setattr__\u001b[0m \u001b[0;34m=\u001b[0m \u001b[0;32mlambda\u001b[0m \u001b[0mself\u001b[0m\u001b[0;34m,\u001b[0m \u001b[0mname\u001b[0m\u001b[0;34m,\u001b[0m \u001b[0mvalue\u001b[0m\u001b[0;34m:\u001b[0m \u001b[0m_swig_setattr\u001b[0m\u001b[0;34m(\u001b[0m\u001b[0mself\u001b[0m\u001b[0;34m,\u001b[0m \u001b[0mSBMLDocument\u001b[0m\u001b[0;34m,\u001b[0m \u001b[0mname\u001b[0m\u001b[0;34m,\u001b[0m \u001b[0mvalue\u001b[0m\u001b[0;34m)\u001b[0m\u001b[0;34m\u001b[0m\u001b[0;34m\u001b[0m\u001b[0m\n\u001b[0m\u001b[1;32m  13046\u001b[0m     \u001b[0m__swig_getmethods__\u001b[0m \u001b[0;34m=\u001b[0m \u001b[0;34m{\u001b[0m\u001b[0;34m}\u001b[0m\u001b[0;34m\u001b[0m\u001b[0;34m\u001b[0m\u001b[0m\n",
      "\u001b[0;31mKeyboardInterrupt\u001b[0m: ",
      "\nThe above exception was the direct cause of the following exception:\n",
      "\u001b[0;31mSystemError\u001b[0m                               Traceback (most recent call last)",
      "\u001b[0;32m/usr/local/lib/python3.8/dist-packages/cobra/io/sbml.py\u001b[0m in \u001b[0;36mread_sbml_model\u001b[0;34m(filename, number, f_replace, **kwargs)\u001b[0m\n\u001b[1;32m    249\u001b[0m     \u001b[0;32mtry\u001b[0m\u001b[0;34m:\u001b[0m\u001b[0;34m\u001b[0m\u001b[0;34m\u001b[0m\u001b[0m\n\u001b[0;32m--> 250\u001b[0;31m         \u001b[0mdoc\u001b[0m \u001b[0;34m=\u001b[0m \u001b[0m_get_doc_from_filename\u001b[0m\u001b[0;34m(\u001b[0m\u001b[0mfilename\u001b[0m\u001b[0;34m)\u001b[0m\u001b[0;34m\u001b[0m\u001b[0;34m\u001b[0m\u001b[0m\n\u001b[0m\u001b[1;32m    251\u001b[0m         \u001b[0;32mreturn\u001b[0m \u001b[0m_sbml_to_model\u001b[0m\u001b[0;34m(\u001b[0m\u001b[0mdoc\u001b[0m\u001b[0;34m,\u001b[0m \u001b[0mnumber\u001b[0m\u001b[0;34m=\u001b[0m\u001b[0mnumber\u001b[0m\u001b[0;34m,\u001b[0m \u001b[0mf_replace\u001b[0m\u001b[0;34m=\u001b[0m\u001b[0mf_replace\u001b[0m\u001b[0;34m,\u001b[0m \u001b[0;34m**\u001b[0m\u001b[0mkwargs\u001b[0m\u001b[0;34m)\u001b[0m\u001b[0;34m\u001b[0m\u001b[0;34m\u001b[0m\u001b[0m\n",
      "\u001b[0;32m/usr/local/lib/python3.8/dist-packages/cobra/io/sbml.py\u001b[0m in \u001b[0;36m_get_doc_from_filename\u001b[0;34m(filename)\u001b[0m\n\u001b[1;32m    286\u001b[0m             \u001b[0;31m# path other\u001b[0m\u001b[0;34m\u001b[0m\u001b[0;34m\u001b[0m\u001b[0;34m\u001b[0m\u001b[0m\n\u001b[0;32m--> 287\u001b[0;31m             doc = libsbml.readSBMLFromFile(\n\u001b[0m\u001b[1;32m    288\u001b[0m                 \u001b[0mfilename\u001b[0m\u001b[0;34m\u001b[0m\u001b[0;34m\u001b[0m\u001b[0m\n",
      "\u001b[0;32m/usr/local/lib/python3.8/dist-packages/libsbml/__init__.py\u001b[0m in \u001b[0;36mreadSBMLFromFile\u001b[0;34m(filename)\u001b[0m\n\u001b[1;32m   2448\u001b[0m     \"\"\"\n\u001b[0;32m-> 2449\u001b[0;31m     \u001b[0;32mreturn\u001b[0m \u001b[0m_libsbml\u001b[0m\u001b[0;34m.\u001b[0m\u001b[0mreadSBMLFromFile\u001b[0m\u001b[0;34m(\u001b[0m\u001b[0mfilename\u001b[0m\u001b[0;34m)\u001b[0m\u001b[0;34m\u001b[0m\u001b[0;34m\u001b[0m\u001b[0m\n\u001b[0m\u001b[1;32m   2450\u001b[0m \u001b[0;34m\u001b[0m\u001b[0m\n",
      "\u001b[0;31mSystemError\u001b[0m: <built-in function readSBMLFromFile> returned a result with an error set",
      "\nThe above exception was the direct cause of the following exception:\n",
      "\u001b[0;31mCobraSBMLError\u001b[0m                            Traceback (most recent call last)",
      "\u001b[0;32m<ipython-input-5-4bc3291d5702>\u001b[0m in \u001b[0;36m<module>\u001b[0;34m\u001b[0m\n\u001b[1;32m      1\u001b[0m \u001b[0mdata_repo\u001b[0m \u001b[0;34m=\u001b[0m \u001b[0;34m\"../inputs\"\u001b[0m\u001b[0;34m\u001b[0m\u001b[0;34m\u001b[0m\u001b[0m\n\u001b[1;32m      2\u001b[0m \u001b[0mmodel\u001b[0m \u001b[0;34m=\u001b[0m \u001b[0mimport_models\u001b[0m\u001b[0;34m.\u001b[0m\u001b[0mget_reference_model\u001b[0m\u001b[0;34m(\u001b[0m\u001b[0mdata_repo\u001b[0m\u001b[0;34m,\u001b[0m \u001b[0;34m'../inputs/ecoli_tutorial2.csv'\u001b[0m\u001b[0;34m)\u001b[0m\u001b[0;34m\u001b[0m\u001b[0;34m\u001b[0m\u001b[0m\n\u001b[0;32m----> 3\u001b[0;31m \u001b[0muniversal\u001b[0m \u001b[0;34m=\u001b[0m \u001b[0mimport_models\u001b[0m\u001b[0;34m.\u001b[0m\u001b[0mget_universal_main\u001b[0m\u001b[0;34m(\u001b[0m\u001b[0mdata_repo\u001b[0m\u001b[0;34m,\u001b[0m \u001b[0;34m'../inputs/ecoli_tutorial2.csv'\u001b[0m\u001b[0;34m)\u001b[0m\u001b[0;34m\u001b[0m\u001b[0;34m\u001b[0m\u001b[0m\n\u001b[0m",
      "\u001b[0;32m~/.local/lib/python3.8/site-packages/pipeline_package/import_models.py\u001b[0m in \u001b[0;36mget_universal_main\u001b[0;34m(data_dir, infile)\u001b[0m\n\u001b[1;32m     65\u001b[0m     \u001b[0muni_name\u001b[0m \u001b[0;34m=\u001b[0m \u001b[0;34m'universe_'\u001b[0m\u001b[0;34m+\u001b[0m\u001b[0msuffix\u001b[0m\u001b[0;34m+\u001b[0m\u001b[0;34m'.xml.gz'\u001b[0m\u001b[0;34m\u001b[0m\u001b[0;34m\u001b[0m\u001b[0m\n\u001b[1;32m     66\u001b[0m     \u001b[0muniversal\u001b[0m \u001b[0;34m=\u001b[0m \u001b[0mcobra\u001b[0m\u001b[0;34m.\u001b[0m\u001b[0mModel\u001b[0m\u001b[0;34m(\u001b[0m\u001b[0;34m\"reaction_reference\"\u001b[0m\u001b[0;34m)\u001b[0m\u001b[0;34m\u001b[0m\u001b[0;34m\u001b[0m\u001b[0m\n\u001b[0;32m---> 67\u001b[0;31m     \u001b[0muniversal\u001b[0m \u001b[0;34m=\u001b[0m \u001b[0mcobra\u001b[0m\u001b[0;34m.\u001b[0m\u001b[0mio\u001b[0m\u001b[0;34m.\u001b[0m\u001b[0mread_sbml_model\u001b[0m\u001b[0;34m(\u001b[0m\u001b[0mjoin\u001b[0m\u001b[0;34m(\u001b[0m\u001b[0mdata_dir\u001b[0m\u001b[0;34m,\u001b[0m \u001b[0muni_name\u001b[0m\u001b[0;34m)\u001b[0m\u001b[0;34m)\u001b[0m\u001b[0;34m\u001b[0m\u001b[0;34m\u001b[0m\u001b[0m\n\u001b[0m\u001b[1;32m     68\u001b[0m     \u001b[0;31m#TODO: check path of universal\u001b[0m\u001b[0;34m\u001b[0m\u001b[0;34m\u001b[0m\u001b[0;34m\u001b[0m\u001b[0m\n\u001b[1;32m     69\u001b[0m \u001b[0;34m\u001b[0m\u001b[0m\n",
      "\u001b[0;32m/usr/local/lib/python3.8/dist-packages/cobra/io/sbml.py\u001b[0m in \u001b[0;36mread_sbml_model\u001b[0;34m(filename, number, f_replace, **kwargs)\u001b[0m\n\u001b[1;32m    263\u001b[0m             \u001b[0;34m\"at https://github.com/opencobra/cobrapy/issues .\"\u001b[0m\u001b[0;34m\u001b[0m\u001b[0;34m\u001b[0m\u001b[0m\n\u001b[1;32m    264\u001b[0m         )\n\u001b[0;32m--> 265\u001b[0;31m         \u001b[0mraise_from\u001b[0m\u001b[0;34m(\u001b[0m\u001b[0mcobra_error\u001b[0m\u001b[0;34m,\u001b[0m \u001b[0moriginal_error\u001b[0m\u001b[0;34m)\u001b[0m\u001b[0;34m\u001b[0m\u001b[0;34m\u001b[0m\u001b[0m\n\u001b[0m\u001b[1;32m    266\u001b[0m \u001b[0;34m\u001b[0m\u001b[0m\n\u001b[1;32m    267\u001b[0m \u001b[0;34m\u001b[0m\u001b[0m\n",
      "\u001b[0;32m/usr/lib/python3/dist-packages/six.py\u001b[0m in \u001b[0;36mraise_from\u001b[0;34m(value, from_value)\u001b[0m\n",
      "\u001b[0;31mCobraSBMLError\u001b[0m: Something went wrong reading the SBML model. Most likely the SBML model is not valid. Please check that your model is valid using the `cobra.io.sbml.validate_sbml_model` function or via the online validator at http://sbml.org/validator .\n\t`(model, errors) = validate_sbml_model(filename)`\nIf the model is valid and cannot be read please open an issue at https://github.com/opencobra/cobrapy/issues ."
     ]
    }
   ],
   "metadata": {}
  },
  {
   "cell_type": "markdown",
   "source": [
    "#### Prepare models"
   ],
   "metadata": {}
  },
  {
   "cell_type": "code",
   "execution_count": 3,
   "source": [
    "input_parser.parser('../inputs/ecoli_tutorial2.csv', universal, model)"
   ],
   "outputs": [
    {
     "output_type": "stream",
     "name": "stdout",
     "text": [
      "For ch4 there isn't any uptake trasnsporter in the reference model\n",
      "The trasporter has been added to the \n",
      "                                reference model from the input file\n",
      "For nh4 there isn't any uptake trasnsporter in the reference model\n",
      "For for there isn't any uptake trasnsporter in the reference model\n",
      "\n",
      "The following reactions will be added to the universal model: ['R01142', 'R01143', 'MMO1', 'MMO2']\n",
      "unknown metabolite 'ch4_c' created\n",
      "unknown metabolite 'focytcc_c' created\n",
      "unknown metabolite 'ficytcc_c' created\n"
     ]
    },
    {
     "output_type": "execute_result",
     "data": {
      "text/html": [
       "\n",
       "        <table>\n",
       "            <tr>\n",
       "                <td><strong>Name</strong></td>\n",
       "                <td>iML1515</td>\n",
       "            </tr><tr>\n",
       "                <td><strong>Memory address</strong></td>\n",
       "                <td>0x0266e33293c8</td>\n",
       "            </tr><tr>\n",
       "                <td><strong>Number of metabolites</strong></td>\n",
       "                <td>1877</td>\n",
       "            </tr><tr>\n",
       "                <td><strong>Number of reactions</strong></td>\n",
       "                <td>2713</td>\n",
       "            </tr><tr>\n",
       "                <td><strong>Number of groups</strong></td>\n",
       "                <td>0</td>\n",
       "            </tr><tr>\n",
       "                <td><strong>Objective expression</strong></td>\n",
       "                <td>1.0*BIOMASS_Ec_iML1515_core_75p37M - 1.0*BIOMASS_Ec_iML1515_core_75p37M_reverse_35685</td>\n",
       "            </tr><tr>\n",
       "                <td><strong>Compartments</strong></td>\n",
       "                <td>cytosol, extracellular space, periplasm</td>\n",
       "            </tr>\n",
       "          </table>"
      ],
      "text/plain": [
       "<Model iML1515 at 0x266e33293c8>"
      ]
     },
     "metadata": {},
     "execution_count": 3
    }
   ],
   "metadata": {}
  },
  {
   "cell_type": "markdown",
   "source": [
    "The printed output above can be unserstood better looking at the example input file *ecoli_tutorial2.csv* that can be found in the inputs directory. \n",
    " \n",
    "* There is not transporter of methane in E. coli model iML1515. Thus, the pipeline adds the reaction included in the input file \n",
    "* Formate, intermediate product of methane oxidation is indicated as target\n",
    "* ALCD1 reaction (methanole dehydrogenase) is already in the model, so the pipeline recognize it and does not add it to the universal\n",
    "* There are no methane oxidizing reactions in the BiGG database, therefore the pipeline adds them to the universal reaction model.\n",
    "\n",
    "![input_main](./images/formate.png)\n",
    "\n",
    "\n",
    "## Running the analysis for making the model able to grow on the indicated substrate\n",
    "\n",
    "In this case the objective is to have an *E. coli* strain able to grow on methane. The chassis can't naturally grow on methane, therefore it is expected that the pipeline will use gapfilling to serach for additional reactions. The search can take few hours, depending on the PC, the number of iteration and the type of reactions needed. For this analysis on a Windows AMD64 processor running the pipeline via Jupyter notebook it takes apporximately 4 hours.  "
   ],
   "metadata": {}
  },
  {
   "cell_type": "code",
   "execution_count": 4,
   "source": [
    "consumption = analysis.analysis_gf_sol('../inputs/ecoli_tutorial2.csv', model, universal)"
   ],
   "outputs": [
    {
     "output_type": "stream",
     "name": "stdout",
     "text": [
      "Old biomass (objective) bounds =  (0.0, 1000.0)\n",
      "EX_pi_e pi_e <=>  -0.8459567750194139 \n",
      "\n",
      "EX_glc__D_e glc__D_e <=>  -10.0 \n",
      "\n",
      "EX_nh4_e nh4_e <=>  -9.471495371047927 \n",
      "\n",
      "EX_o2_e o2_e <=>  -22.131763238945897 \n",
      "\n",
      "New biomass (objective) bounds =  (0.0, 0.8769972144269785)\n",
      "\n",
      "ch4 is in the medium \n",
      "\n",
      "Exchange ch4:  ch4_e -->  Old bounds:  (0.0, 1000.0)\n",
      "Exchange ch4:  ch4_e <--  New bounds:  (-1000, 0)\n",
      "\n",
      "nh4 is in the medium \n",
      "\n",
      "Exchange nh4:  nh4_e <=>  Old bounds:  (-1000.0, 1000.0)\n",
      "Exchange nh4:  nh4_e <--  New bounds:  (-1000, 0)\n",
      "\n",
      "for is in the medium \n",
      "\n",
      "Exchange for:  for_e -->  Old bounds:  (0.0, 1000.0)\n",
      "Exchange for:  for_e -->  New bounds:  (0, 1000)\n",
      "Starting reaction search with GapFilling . . .\n",
      "\n",
      "---Model 1---\n",
      "\n",
      "Reaction ALCD1, solution of round 1 has been added to the model\n",
      "\n",
      "Reaction R01143, solution of round 1 has been added to the model\n",
      "\n",
      "Growth rate:  0.8769972144269785\n",
      "\n",
      "The flux throughr EX_ch4_e is:  -132.35498528817257\n",
      "\n",
      "The flux throughr EX_nh4_e is:  -9.471495371048267\n",
      "\n",
      "The flux throughr EX_for_e is:  0.0\n",
      "\n",
      "The flux throughr ALCD1 is:  132.354987042167\n",
      "\n",
      "The flux throughr R01143 is:  132.35498528817257\n",
      "\n",
      "---Model 2---\n",
      "\n",
      "Reaction ALCD1, solution of round 2 has been added to the model\n",
      "\n",
      "Reaction MMO2, solution of round 2 has been added to the model\n",
      "\n",
      "Growth rate:  0.8769972144269785\n",
      "\n",
      "The flux throughr EX_ch4_e is:  -88.16265443063291\n",
      "\n",
      "The flux throughr EX_nh4_e is:  -9.471495371048317\n",
      "\n",
      "The flux throughr EX_for_e is:  0.0\n",
      "\n",
      "The flux throughr ALCD1 is:  88.16265618462734\n",
      "\n",
      "The flux throughr MMO2 is:  88.16265443063291\n"
     ]
    }
   ],
   "metadata": {}
  },
  {
   "cell_type": "markdown",
   "source": [
    "## Explanation of the printed output\n",
    "\n",
    "The output reports several information relative to the set up of the analysis as introduced above (e.g. constraints) and the results of the analysis with gapfilling. In order from top to bottom you can find the following information:\n",
    "\n",
    "- The biomass upper bound to the growth rate of the wild type (0.87 1/h)\n",
    "- Indication of the fluxes of the compounds that are take up from the mediume by the wild type strain\n",
    "- The old and new bounds of the exchange reaction of the compounds indicated by the user \n",
    "- The result of the analysis start after the indication that GapFilling algorithm is being run.  \n",
    "- The analysis of gapfilling can be run in several iteration (each one looking for reactions that if added satisfy the model's objective, growth in this case). The result of each iteration starts with a number. \n",
    "\n",
    "This function also generate an intermediate .csv file that can be found in the pipeline/outputs folder. It is advicable to rename the file before running *analysis_gf_sol* further, otherwise it get overwritten"
   ],
   "metadata": {}
  },
  {
   "cell_type": "code",
   "execution_count": 5,
   "source": [
    "production = analysis.dict_prod_sol('../inputs/ecoli_tutorial2.csv', consumption, model, universal)"
   ],
   "outputs": [
    {
     "output_type": "stream",
     "name": "stdout",
     "text": [
      "\n",
      "Bounds of biomass during optimization of consumption =  (0.0, 0.8769972144269785)\n",
      "\n",
      "Bounds of biomass during optimization of production =  (0.04384986072134892, 0.8769972144269785)\n",
      "\n",
      "The metabs to produce are:  ['for']\n",
      "\n",
      "---1---\n",
      "The model can already satisfy the objective\n",
      "\n",
      "---2---\n",
      "The model can already satisfy the objective\n"
     ]
    }
   ],
   "metadata": {}
  },
  {
   "cell_type": "markdown",
   "source": [
    "### Explanation of the printed output\n",
    "\n",
    "since the model can already produce formate, gapfilling analysis is not run and thus the analysis is way faster. production variable is then a dictionary in which the production rates are indicated. This output is not to be read on its own but mostly needed by the following function, that integrates it with the output of *analysis_gf_sol* function"
   ],
   "metadata": {}
  },
  {
   "cell_type": "code",
   "execution_count": 6,
   "source": [
    "final = analysis.cons_prod_dict('../inputs/ecoli_tutorial2.csv', model, universal, consumption, production)"
   ],
   "outputs": [
    {
     "output_type": "stream",
     "name": "stdout",
     "text": [
      "unknown metabolite 'qh2_c' created\n",
      "Substrate's exchange reaction bounds :  (-6.6000000000000005, -5.4)\n",
      "Target's exchange reaction bounds :  (2.0, 1000)\n",
      "Carbon source:  []\n",
      "Target:  EX_for_e: for_e --> \n",
      "FBA objective value:  2.0 \n",
      "Substrate consumption flux:  -5.4 \n",
      "Target production flux:  2.0 \n",
      "Biomass:  0.0438498607213489 \n",
      "\n",
      "pFBA is infeasible, control if the coefficients of the \n",
      "        reaction equation are correct (or use a different boudary \n",
      "        reaction of the target as model objective):  None (infeasible)\n",
      "The thermodynamic analysis cannot proceed because of infeasible pFBA\n",
      "The thermodynimac analysis has been unsuccesful\n",
      "unknown metabolite 'qh2_c' created\n",
      "Substrate's exchange reaction bounds :  (-6.6000000000000005, -5.4)\n",
      "Target's exchange reaction bounds :  (2.0, 1000)\n",
      "Carbon source:  []\n",
      "Target:  EX_for_e: for_e --> \n",
      "FBA objective value:  2.0 \n",
      "Substrate consumption flux:  -5.4 \n",
      "Target production flux:  2.0 \n",
      "Biomass:  0.0438498607213489 \n",
      "\n",
      "pFBA is infeasible, control if the coefficients of the \n",
      "        reaction equation are correct (or use a different boudary \n",
      "        reaction of the target as model objective):  None (infeasible)\n",
      "The thermodynamic analysis cannot proceed because of infeasible pFBA\n",
      "The thermodynimac analysis has been unsuccesful\n"
     ]
    }
   ],
   "metadata": {}
  },
  {
   "cell_type": "markdown",
   "source": [
    "### Explanation of the printed output\n",
    "\n",
    "Most of what is preinted is related to the thermodynamic analysis. This output is the most comprehensive one and is structured with nested python dictionaries. Every solution of *analysis_gf_sol* is indicated as with the key consumption following by the number of the round of iteration of gapfilling (with the fluxes of consumption of the substrate). The respective production key reports the results of *dict_prod_sol* analysis (i.e. the fluxes of production of the target) and the result of the thermodynamic analysis."
   ],
   "metadata": {}
  },
  {
   "cell_type": "markdown",
   "source": [
    "scores_output = scores_evaluations('../inputs/ecoli_tutorial2.csv', consumption, final)"
   ],
   "metadata": {}
  },
  {
   "cell_type": "markdown",
   "source": [
    "**References**\n",
    "1. A. Ebrahim, J. A. Lerman, B. O. Palsson, and D. R. Hyduke, “COBRApy: COnstraints-Based Reconstruction and Analysis for Python,” BMC Syst. Biol., vol. 7, no. 1, p. 74, Aug. 2013, doi: 10.1186/1752-0509-7-74."
   ],
   "metadata": {}
  }
 ],
 "metadata": {
  "kernelspec": {
   "name": "python3",
   "display_name": "Python 3.8.10 64-bit"
  },
  "language_info": {
   "codemirror_mode": {
    "name": "ipython",
    "version": 3
   },
   "file_extension": ".py",
   "mimetype": "text/x-python",
   "name": "python",
   "nbconvert_exporter": "python",
   "pygments_lexer": "ipython3",
   "version": "3.8.10"
  },
  "interpreter": {
   "hash": "31f2aee4e71d21fbe5cf8b01ff0e069b9275f58929596ceb00d14d90e3e16cd6"
  }
 },
 "nbformat": 4,
 "nbformat_minor": 4
}