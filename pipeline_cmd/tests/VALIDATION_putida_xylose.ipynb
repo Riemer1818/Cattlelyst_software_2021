{
 "cells": [
  {
   "cell_type": "markdown",
   "metadata": {},
   "source": [
    "# Generating strain growing on xylose\n",
    "\n",
    "For this test case: \n",
    "- consumption needed\n",
    "- production not needed\n",
    "- optknock maybe. \n",
    "\n",
    "### Simulate the strain growing on D-xylose\n",
    "- delete G1Dx or GDH2\n",
    "- Addition of XYLI1 xylose isomerase\n",
    "- Xylulokinase XYlK\n",
    "- D-xylose:H+ symporter XYLt2\n",
    "- add TALA, TKT1 and TKT2 (they are endogenously present, but the flux could be boosted to get better growth rate)\n",
    "\n",
    "### 2. use Gapfilling reaction search to find the solutions mentioned above. \n"
   ]
  },
  {
   "cell_type": "code",
   "execution_count": 1,
   "metadata": {
    "scrolled": true
   },
   "outputs": [
    {
     "name": "stderr",
     "output_type": "stream",
     "text": [
      "DEBUG:matplotlib:(private) matplotlib data path: C:\\Users\\delip\\anaconda3\\envs\\cameo\\lib\\site-packages\\matplotlib\\mpl-data\n",
      "DEBUG:matplotlib:matplotlib data path: C:\\Users\\delip\\anaconda3\\envs\\cameo\\lib\\site-packages\\matplotlib\\mpl-data\n",
      "DEBUG:matplotlib:CONFIGDIR=C:\\Users\\delip\\.matplotlib\n",
      "DEBUG:matplotlib:matplotlib version 3.3.0\n",
      "DEBUG:matplotlib:interactive is False\n",
      "DEBUG:matplotlib:platform is win32\n",
      "DEBUG:matplotlib:loaded modules: ['builtins', 'sys', '_frozen_importlib', '_imp', '_warnings', '_thread', '_weakref', '_frozen_importlib_external', '_io', 'marshal', 'nt', 'winreg', 'zipimport', 'encodings', 'codecs', '_codecs', 'encodings.aliases', 'encodings.utf_8', '_signal', '__main__', 'encodings.latin_1', 'io', 'abc', '_weakrefset', '_bootlocale', '_locale', 'encodings.cp1252', 'site', 'os', 'errno', 'stat', '_stat', 'ntpath', 'genericpath', 'os.path', '_collections_abc', '_sitebuiltins', 'sysconfig', 'types', 'functools', '_functools', 'collections', 'operator', '_operator', 'keyword', 'heapq', '_heapq', 'itertools', 'reprlib', '_collections', 'weakref', 'collections.abc', 'importlib', 'importlib._bootstrap', 'importlib._bootstrap_external', 'warnings', 'importlib.util', 'importlib.abc', 'importlib.machinery', 'contextlib', 'mpl_toolkits', 'ruamel', 'zope', 'runpy', 'pkgutil', 'ipykernel', 'ipykernel._version', 'ipykernel.connect', '__future__', 'json', 'json.decoder', 're', 'enum', 'sre_compile', '_sre', 'sre_parse', 'sre_constants', 'copyreg', 'json.scanner', '_json', 'json.encoder', 'subprocess', 'time', 'signal', 'threading', 'traceback', 'linecache', 'tokenize', 'token', 'msvcrt', '_winapi', 'IPython', 'IPython.core', 'IPython.core.getipython', 'IPython.core.release', 'IPython.core.application', 'atexit', 'copy', 'glob', 'fnmatch', 'posixpath', 'logging', 'string', '_string', 'shutil', 'zlib', 'bz2', '_compression', '_bz2', 'lzma', '_lzma', 'traitlets', 'traitlets.traitlets', 'inspect', 'ast', '_ast', 'dis', 'opcode', '_opcode', 'six', 'struct', '_struct', 'traitlets.utils', 'traitlets.utils.getargspec', 'traitlets.utils.importstring', 'ipython_genutils', 'ipython_genutils._version', 'ipython_genutils.py3compat', 'ipython_genutils.encoding', 'locale', 'platform', 'traitlets.utils.sentinel', 'traitlets.utils.bunch', 'traitlets._version', 'traitlets.config', 'traitlets.config.application', 'decorator', 'traitlets.config.configurable', 'traitlets.config.loader', 'argparse', 'textwrap', 'gettext', 'ipython_genutils.path', 'random', 'math', 'hashlib', '_hashlib', '_blake2', '_sha3', 'bisect', '_bisect', '_random', 'ipython_genutils.text', 'ipython_genutils.importstring', 'IPython.core.crashhandler', 'pprint', 'IPython.core.ultratb', 'pydoc', 'urllib', 'urllib.parse', 'IPython.core.debugger', 'bdb', 'IPython.utils', 'IPython.utils.PyColorize', 'IPython.utils.coloransi', 'IPython.utils.ipstruct', 'IPython.utils.colorable', 'pygments', 'IPython.utils.py3compat', 'IPython.utils.encoding', 'IPython.core.excolors', 'IPython.testing', 'IPython.testing.skipdoctest', 'pdb', 'cmd', 'code', 'codeop', 'IPython.core.display_trap', 'IPython.utils.path', 'IPython.utils.process', 'IPython.utils._process_win32', 'ctypes', '_ctypes', 'ctypes._endian', 'ctypes.wintypes', 'IPython.utils._process_common', 'shlex', 'IPython.utils.decorators', 'IPython.utils.data', 'IPython.utils.terminal', 'IPython.utils.sysinfo', 'IPython.utils._sysinfo', 'IPython.core.profiledir', 'IPython.paths', 'tempfile', 'IPython.utils.importstring', 'IPython.terminal', 'IPython.terminal.embed', 'IPython.core.compilerop', 'IPython.core.magic_arguments', 'IPython.core.error', 'IPython.utils.text', 'pathlib', 'IPython.core.magic', 'getopt', 'IPython.core.oinspect', 'typing', 'typing.io', 'typing.re', 'IPython.core.page', 'IPython.core.display', 'binascii', 'mimetypes', 'IPython.lib', 'IPython.lib.security', 'getpass', 'IPython.lib.pretty', 'datetime', '_datetime', 'IPython.utils.openpy', 'IPython.utils.dir2', 'IPython.utils.wildcard', 'pygments.lexers', 'pygments.lexers._mapping', 'pygments.modeline', 'pygments.plugin', 'pygments.util', 'pygments.lexers.python', 'pygments.lexer', 'pygments.filter', 'pygments.filters', 'pygments.token', 'pygments.regexopt', 'pygments.unistring', 'pygments.formatters', 'pygments.formatters._mapping', 'pygments.formatters.html', 'pygments.formatter', 'pygments.styles', 'IPython.core.inputtransformer2', 'IPython.core.interactiveshell', 'pickleshare', 'pickle', '_compat_pickle', '_pickle', 'IPython.core.prefilter', 'IPython.core.autocall', 'IPython.core.macro', 'IPython.core.splitinput', 'IPython.core.alias', 'IPython.core.builtin_trap', 'IPython.core.events', 'backcall', 'backcall.backcall', 'IPython.core.displayhook', 'IPython.core.displaypub', 'IPython.core.extensions', 'IPython.core.formatters', 'IPython.utils.sentinel', 'IPython.core.history', 'sqlite3', 'sqlite3.dbapi2', '_sqlite3', 'IPython.core.logger', 'IPython.core.payload', 'IPython.core.usage', 'IPython.display', 'IPython.lib.display', 'html', 'html.entities', 'IPython.utils.io', 'IPython.utils.capture', 'IPython.utils.strdispatch', 'IPython.core.hooks', 'IPython.utils.syspathcontext', 'IPython.utils.tempdir', 'IPython.utils.contexts', 'IPython.core.async_helpers', 'IPython.terminal.interactiveshell', 'asyncio', 'selectors', 'select', '_socket', '_overlapped', 'asyncio.base_events', 'concurrent', 'concurrent.futures', 'concurrent.futures._base', 'concurrent.futures.process', 'queue', 'multiprocessing', 'multiprocessing.context', 'multiprocessing.process', 'multiprocessing.reduction', 'socket', '__mp_main__', 'multiprocessing.connection', '_multiprocessing', 'multiprocessing.util', 'concurrent.futures.thread', 'asyncio.compat', 'asyncio.coroutines', 'asyncio.constants', 'asyncio.events', 'asyncio.base_futures', 'asyncio.log', 'asyncio.futures', 'asyncio.base_tasks', '_asyncio', 'asyncio.tasks', 'asyncio.locks', 'asyncio.protocols', 'asyncio.queues', 'asyncio.streams', 'asyncio.subprocess', 'asyncio.transports', 'asyncio.windows_events', 'asyncio.base_subprocess', 'asyncio.proactor_events', 'asyncio.sslproto', 'ssl', 'ipaddress', '_ssl', 'base64', 'asyncio.selector_events', 'asyncio.windows_utils', 'prompt_toolkit', 'prompt_toolkit.application', 'prompt_toolkit.application.application', 'prompt_toolkit.buffer', 'prompt_toolkit.application.current', 'prompt_toolkit.eventloop', 'prompt_toolkit.eventloop.async_generator', 'prompt_toolkit.eventloop.utils', 'prompt_toolkit.eventloop.dummy_contextvars', 'prompt_toolkit.eventloop.inputhook', 'prompt_toolkit.utils', 'wcwidth', 'wcwidth.wcwidth', 'wcwidth.table_wide', 'wcwidth.table_zero', 'wcwidth.unicode_versions', 'prompt_toolkit.application.run_in_terminal', 'prompt_toolkit.eventloop.async_context_manager', 'prompt_toolkit.auto_suggest', 'prompt_toolkit.document', 'prompt_toolkit.clipboard', 'prompt_toolkit.clipboard.base', 'prompt_toolkit.selection', 'prompt_toolkit.clipboard.in_memory', 'prompt_toolkit.filters', 'prompt_toolkit.filters.app', 'prompt_toolkit.cache', 'prompt_toolkit.enums', 'prompt_toolkit.filters.base', 'prompt_toolkit.filters.cli', 'prompt_toolkit.filters.utils', 'prompt_toolkit.completion', 'prompt_toolkit.completion.base', 'prompt_toolkit.formatted_text', 'prompt_toolkit.formatted_text.ansi', 'prompt_toolkit.output', 'prompt_toolkit.output.base', 'prompt_toolkit.data_structures', 'prompt_toolkit.styles', 'prompt_toolkit.styles.base', 'prompt_toolkit.styles.defaults', 'prompt_toolkit.styles.named_colors', 'prompt_toolkit.styles.style', 'prompt_toolkit.styles.pygments', 'prompt_toolkit.styles.style_transformation', 'colorsys', 'prompt_toolkit.output.color_depth', 'prompt_toolkit.output.defaults', 'prompt_toolkit.patch_stdout', 'prompt_toolkit.output.vt100', 'array', 'prompt_toolkit.formatted_text.base', 'prompt_toolkit.mouse_events', 'prompt_toolkit.formatted_text.html', 'xml', 'xml.dom', 'xml.dom.domreg', 'xml.dom.minidom', 'xml.dom.minicompat', 'xml.dom.xmlbuilder', 'xml.dom.NodeFilter', 'prompt_toolkit.formatted_text.pygments', 'prompt_toolkit.formatted_text.utils', 'prompt_toolkit.completion.filesystem', 'prompt_toolkit.completion.fuzzy_completer', 'prompt_toolkit.completion.word_completer', 'prompt_toolkit.completion.nested', 'prompt_toolkit.history', 'prompt_toolkit.search', 'prompt_toolkit.key_binding', 'prompt_toolkit.key_binding.key_bindings', 'prompt_toolkit.keys', 'prompt_toolkit.key_binding.key_processor', 'prompt_toolkit.key_binding.vi_state', 'prompt_toolkit.validation', 'prompt_toolkit.input', 'prompt_toolkit.input.base', 'prompt_toolkit.input.defaults', 'prompt_toolkit.input.typeahead', 'prompt_toolkit.key_binding.bindings', 'prompt_toolkit.key_binding.bindings.page_navigation', 'prompt_toolkit.key_binding.bindings.scroll', 'prompt_toolkit.key_binding.defaults', 'prompt_toolkit.key_binding.bindings.basic', 'prompt_toolkit.key_binding.bindings.named_commands', 'prompt_toolkit.layout', 'prompt_toolkit.layout.containers', 'prompt_toolkit.layout.controls', 'prompt_toolkit.lexers', 'prompt_toolkit.lexers.base', 'prompt_toolkit.lexers.pygments', 'prompt_toolkit.layout.processors', 'prompt_toolkit.layout.utils', 'prompt_toolkit.layout.dimension', 'prompt_toolkit.layout.margins', 'prompt_toolkit.layout.mouse_handlers', 'prompt_toolkit.layout.screen', 'prompt_toolkit.layout.layout', 'prompt_toolkit.layout.menus', 'prompt_toolkit.key_binding.bindings.completion', 'prompt_toolkit.key_binding.bindings.cpr', 'prompt_toolkit.key_binding.bindings.emacs', 'prompt_toolkit.key_binding.bindings.mouse', 'prompt_toolkit.key_binding.bindings.vi', 'prompt_toolkit.input.vt100_parser', 'prompt_toolkit.input.ansi_escape_sequences', 'prompt_toolkit.key_binding.digraphs', 'prompt_toolkit.key_binding.emacs_state', 'prompt_toolkit.layout.dummy', 'prompt_toolkit.renderer', 'prompt_toolkit.application.dummy', 'prompt_toolkit.shortcuts', 'prompt_toolkit.shortcuts.dialogs', 'prompt_toolkit.key_binding.bindings.focus', 'prompt_toolkit.widgets', 'prompt_toolkit.widgets.base', 'prompt_toolkit.widgets.toolbars', 'prompt_toolkit.widgets.dialogs', 'prompt_toolkit.widgets.menus', 'prompt_toolkit.shortcuts.progress_bar', 'prompt_toolkit.shortcuts.progress_bar.base', 'prompt_toolkit.shortcuts.progress_bar.formatters', 'prompt_toolkit.shortcuts.prompt', 'prompt_toolkit.key_binding.bindings.auto_suggest', 'prompt_toolkit.key_binding.bindings.open_in_editor', 'prompt_toolkit.shortcuts.utils', 'pygments.style', 'IPython.terminal.debugger', 'IPython.core.completer', 'unicodedata', 'IPython.core.latex_symbols', 'IPython.utils.generics', 'jedi', 'jedi.api', 'parso', 'parso.parser', 'parso.tree', 'parso._compatibility', 'parso.utils', 'parso.pgen2', 'parso.pgen2.generator', 'parso.pgen2.grammar_parser', 'parso.python', 'parso.python.tokenize', 'parso.python.token', 'parso.grammar', 'parso.python.diff', 'difflib', 'parso.python.parser', 'parso.python.tree', 'parso.python.prefix', 'parso.cache', 'gc', 'parso.python.errors', 'parso.normalizer', 'parso.python.pep8', 'parso.file_io', 'jedi._compatibility', 'jedi.file_io', 'jedi.parser_utils', 'jedi.debug', 'jedi.settings', 'jedi.cache', 'jedi.api.classes', 'jedi.inference', 'jedi.inference.imports', 'jedi.inference.sys_path', 'jedi.inference.cache', 'jedi.inference.base_value', 'jedi.inference.helpers', 'jedi.inference.utils', 'jedi.common', 'jedi.inference.compiled', 'jedi.inference.compiled.value', 'jedi.inference.filters', 'jedi.inference.flow_analysis', 'jedi.inference.recursion', 'jedi.inference.names', 'jedi.inference.docstrings', 'jedi.inference.lazy_value', 'jedi.plugins', 'jedi.inference.compiled.access', 'jedi.inference.compiled.getattr_static', 'jedi.inference.signature', 'jedi.inference.context', 'jedi.inference.analysis', 'jedi.inference.gradual', 'jedi.inference.gradual.typeshed', 'jedi.inference.gradual.stub_value', 'jedi.inference.value', 'jedi.inference.value.module', 'jedi.inference.value.klass', 'jedi.inference.arguments', 'jedi.inference.value.iterable', 'jedi.inference.value.dynamic_arrays', 'jedi.inference.value.function', 'jedi.inference.parser_cache', 'jedi.inference.gradual.generics', 'jedi.inference.value.instance', 'jedi.inference.gradual.typing', 'jedi.inference.gradual.base', 'jedi.inference.gradual.type_var', 'jedi.inference.syntax_tree', 'jedi.inference.gradual.annotation', 'jedi.inference.param', 'jedi.inference.value.decorator', 'jedi.inference.compiled.mixed', 'jedi.inference.gradual.conversion', 'jedi.api.keywords', 'pydoc_data', 'pydoc_data.topics', 'jedi.api.completion_cache', 'jedi.api.helpers', 'jedi.api.interpreter', 'jedi.api.completion', 'jedi.api.strings', 'jedi.api.file_name', 'jedi.api.environment', 'filecmp', 'jedi.inference.compiled.subprocess', 'jedi.inference.compiled.subprocess.functions', 'jedi.api.exceptions', 'jedi.api.project', 'jedi.inference.references', 'jedi.api.errors', 'jedi.api.refactoring', 'jedi.api.refactoring.extract', 'jedi.inference.gradual.utils', 'jedi.plugins.registry', 'jedi.plugins.stdlib', 'jedi.plugins.flask', 'jedi.plugins.pytest', 'jedi.plugins.django', 'IPython.terminal.ptutils', 'IPython.terminal.shortcuts', 'IPython.lib.clipboard', 'IPython.terminal.magics', 'IPython.terminal.pt_inputhooks', 'IPython.terminal.prompts', 'IPython.terminal.ipapp', 'IPython.core.magics', 'IPython.core.magics.auto', 'IPython.core.magics.basic', 'IPython.core.magics.code', 'urllib.request', 'email', 'http', 'http.client', 'email.parser', 'email.feedparser', 'email.errors', 'email._policybase', 'email.header', 'email.quoprimime', 'email.base64mime', 'email.charset', 'email.encoders', 'quopri', 'email.utils', 'email._parseaddr', 'calendar', 'email.message', 'uu', 'email._encoded_words', 'email.iterators', 'urllib.error', 'urllib.response', 'nturl2path', 'IPython.core.magics.config', 'IPython.core.magics.display', 'IPython.core.magics.execution', 'timeit', 'cProfile', '_lsprof', 'profile', 'optparse', 'pstats', 'IPython.utils.module_paths', 'IPython.utils.timing', 'IPython.core.magics.extension', 'IPython.core.magics.history', 'IPython.core.magics.logging', 'IPython.core.magics.namespace', 'IPython.core.magics.osm', 'IPython.core.magics.packaging', 'IPython.core.magics.pylab', 'IPython.core.pylabtools', 'IPython.core.magics.script', 'IPython.lib.backgroundjobs', 'IPython.core.shellapp', 'IPython.extensions', 'IPython.extensions.storemagic', 'IPython.utils.frame', 'jupyter_client', 'jupyter_client._version', 'jupyter_client.connect', 'zmq', 'zmq.libzmq', 'zmq.backend', 'zmq.backend.select', 'zmq.backend.cython', 'zmq.backend.cython.constants', 'cython_runtime', 'zmq.backend.cython.error', '_cython_0_29_21', 'zmq.backend.cython.message', 'zmq.error', 'zmq.backend.cython.context', 'zmq.backend.cython.socket', 'zmq.backend.cython.utils', 'zmq.backend.cython._poll', 'zmq.backend.cython._version', 'zmq.backend.cython._device', 'zmq.backend.cython._proxy_steerable', 'zmq.sugar', 'zmq.sugar.constants', 'zmq.utils', 'zmq.utils.constant_names', 'zmq.sugar.context', 'zmq.sugar.attrsettr', 'zmq.sugar.socket', 'zmq.sugar.poll', 'zmq.utils.jsonapi', 'zmq.utils.strtypes', 'zmq.sugar.frame', 'zmq.sugar.tracker', 'zmq.sugar.version', 'zmq.sugar.stopwatch', 'jupyter_client.localinterfaces', 'jupyter_core', 'jupyter_core.version', 'jupyter_core.paths', 'distutils', 'distutils.util', 'distutils.errors', 'distutils.dep_util', 'distutils.spawn', 'distutils.debug', 'distutils.log', 'jupyter_client.launcher', 'traitlets.log', 'jupyter_client.client', 'jupyter_client.channels', 'jupyter_client.channelsabc', 'jupyter_client.clientabc', 'jupyter_client.manager', 'jupyter_client.kernelspec', 'jupyter_client.managerabc', 'jupyter_client.blocking', 'jupyter_client.blocking.client', 'jupyter_client.blocking.channels', 'jupyter_client.asynchronous', 'jupyter_client.asynchronous.client', 'zmq.asyncio', 'zmq._future', 'jupyter_client.asynchronous.channels', 'jupyter_client.multikernelmanager', 'uuid', 'ctypes.util', 'ipykernel.kernelapp', 'tornado', 'tornado.ioloop', 'numbers', 'tornado.concurrent', 'tornado.log', 'logging.handlers', 'tornado.escape', 'tornado.util', 'tornado.speedups', 'colorama', 'colorama.initialise', 'colorama.ansitowin32', 'colorama.ansi', 'colorama.winterm', 'colorama.win32', 'zmq.eventloop', 'zmq.eventloop.ioloop', 'tornado.platform', 'tornado.platform.asyncio', 'tornado.gen', 'zmq.eventloop.zmqstream', 'ipykernel.iostream', 'imp', 'jupyter_client.session', 'hmac', 'jupyter_client.jsonutil', 'dateutil', 'dateutil._version', 'dateutil.parser', 'dateutil.parser._parser', 'decimal', '_decimal', 'dateutil.relativedelta', 'dateutil._common', 'dateutil.tz', 'dateutil.tz.tz', 'six.moves', 'dateutil.tz._common', 'dateutil.tz._factories', 'dateutil.tz.win', 'dateutil.parser.isoparser', '_strptime', 'jupyter_client.adapter', 'ipykernel.heartbeat', 'ipykernel.ipkernel', 'IPython.utils.tokenutil', 'ipykernel.comm', 'ipykernel.comm.manager', 'ipykernel.comm.comm', 'ipykernel.kernelbase', 'tornado.queues', 'tornado.locks', 'ipykernel.jsonutil', 'ipykernel.zmqshell', 'IPython.core.payloadpage', 'ipykernel.displayhook', 'ipykernel.eventloops', 'distutils.version', 'ipykernel.parentpoller', 'win32api', 'win32security', 'ntsecuritycon', 'faulthandler', 'ipykernel.datapub', 'ipykernel.serialize', 'ipykernel.pickleutil', 'ipykernel.codeutil', 'IPython.core.completerlib', 'storemagic', 'cobra', 'cobra.core', 'cobra.core.configuration', 'cobra.core.singleton', 'cobra.exceptions', 'optlang', 'optlang._version', 'optlang.util', 'sympy', 'mpmath', 'mpmath.usertools', 'mpmath.ctx_fp', 'mpmath.ctx_base', 'mpmath.libmp', 'mpmath.libmp.libmpf', 'mpmath.libmp.backend', 'mpmath.libmp.six', 'mpmath.libmp.six.moves', 'mpmath.libmp.libintmath', 'mpmath.libmp.libmpc', 'mpmath.libmp.libelefun', 'mpmath.libmp.libhyper', 'mpmath.libmp.gammazeta', 'mpmath.libmp.libmpi', 'mpmath.functions', 'mpmath.functions.functions', 'cmath', 'mpmath.functions.factorials', 'mpmath.functions.hypergeometric', 'mpmath.functions.expintegrals', 'mpmath.functions.bessel', 'mpmath.functions.orthogonal', 'mpmath.functions.theta', 'mpmath.functions.elliptic', 'mpmath.functions.zeta', 'mpmath.functions.rszeta', 'mpmath.functions.zetazeros', 'mpmath.functions.qfunctions', 'mpmath.calculus', 'mpmath.calculus.calculus', 'mpmath.calculus.approximation', 'mpmath.calculus.differentiation', 'mpmath.calculus.extrapolation', 'mpmath.calculus.polynomials', 'mpmath.calculus.quadrature', 'mpmath.calculus.inverselaplace', 'mpmath.calculus.optimization', 'mpmath.calculus.odes', 'mpmath.matrices', 'mpmath.matrices.eigen', 'mpmath.matrices.eigen_symmetric', 'mpmath.matrices.matrices', 'mpmath.matrices.calculus', 'mpmath.matrices.linalg', 'mpmath.identification', 'mpmath.visualization', 'mpmath.math2', 'mpmath.function_docs', 'mpmath.ctx_mp', 'mpmath.rational', 'mpmath.ctx_mp_python', 'mpmath.ctx_iv', 'sympy.release', 'sympy.core', 'sympy.core.sympify', 'sympy.core.compatibility', 'sympy.external', 'sympy.external.importtools', 'sympy.core.parameters', 'sympy.core.cache', 'sympy.core.basic', 'sympy.core.assumptions', 'sympy.core.facts', 'sympy.core.logic', 'sympy.core.core', 'sympy.core.singleton', 'sympy.core.decorators', 'sympy.core.expr', 'sympy.core.evalf', 'sympy.utilities', 'sympy.utilities.iterables', 'sympy.utilities.enumerative', 'sympy.utilities.misc', 'sympy.utilities.lambdify', 'sympy.utilities.decorator', 'sympy.testing', 'sympy.testing.runtests', 'doctest', 'unittest', 'unittest.result', 'unittest.util', 'unittest.case', 'unittest.suite', 'unittest.loader', 'unittest.main', 'unittest.runner', 'unittest.signals', 'sympy.utilities.source', 'sympy.utilities.exceptions', 'sympy.utilities.timeutils', 'sympy.core.mul', 'sympy.core.operations', 'sympy.core.numbers', 'fractions', 'sympy.core.containers', 'sympy.core.power', 'sympy.core.function', 'sympy.core.add', 'sympy.core.rules', 'sympy.core.symbol', 'sympy.logic', 'sympy.logic.boolalg', 'sympy.logic.inference', 'sympy.core.mod', 'sympy.core.exprtools', 'sympy.core.coreerrors', 'sympy.core.relational', 'sympy.core.multidimensional', 'sympy.assumptions', 'sympy.assumptions.assume', 'sympy.assumptions.ask', 'sympy.assumptions.cnf', 'sympy.assumptions.ask_generated', 'sympy.assumptions.refine', 'sympy.polys', 'sympy.polys.polytools', 'sympy.polys.polyoptions', 'sympy.polys.polyerrors', 'sympy.polys.constructor', 'sympy.polys.domains', 'sympy.polys.domains.domain', 'sympy.polys.domains.domainelement', 'sympy.polys.orderings', 'sympy.polys.polyutils', 'sympy.polys.domains.finitefield', 'sympy.polys.domains.field', 'sympy.polys.domains.ring', 'sympy.polys.domains.groundtypes', 'sympy.polys.domains.pythonrational', 'sympy.printing', 'sympy.printing.pretty', 'sympy.printing.pretty.pretty', 'sympy.printing.conventions', 'sympy.printing.precedence', 'sympy.printing.printer', 'sympy.printing.str', 'sympy.printing.pretty.stringpict', 'sympy.printing.pretty.pretty_symbology', 'sympy.core.alphabets', 'sympy.printing.latex', 'sympy.printing.mathml', 'sympy.printing.python', 'sympy.printing.repr', 'sympy.printing.pycode', 'sympy.printing.codeprinter', 'sympy.codegen', 'sympy.codegen.ast', 'sympy.printing.ccode', 'sympy.sets', 'sympy.sets.sets', 'sympy.sets.contains', 'sympy.sets.fancysets', 'sympy.sets.conditionset', 'sympy.sets.ordinals', 'sympy.sets.powerset', 'sympy.printing.glsl', 'sympy.printing.cxxcode', 'sympy.printing.fcode', 'sympy.codegen.fnodes', 'sympy.printing.rcode', 'sympy.printing.jscode', 'sympy.printing.julia', 'sympy.printing.mathematica', 'sympy.printing.octave', 'sympy.printing.rust', 'sympy.printing.gtk', 'sympy.utilities.mathml', 'sympy.utilities.pkgdata', 'sympy.printing.preview', 'sympy.printing.tree', 'sympy.printing.tableform', 'sympy.printing.dot', 'sympy.printing.maple', 'sympy.printing.defaults', 'sympy.polys.domains.modularinteger', 'sympy.polys.domains.simpledomain', 'sympy.polys.domains.integerring', 'sympy.polys.domains.characteristiczero', 'sympy.polys.domains.rationalfield', 'sympy.polys.domains.realfield', 'sympy.polys.domains.mpelements', 'sympy.polys.domains.complexfield', 'sympy.polys.domains.pythonfinitefield', 'sympy.polys.domains.pythonintegerring', 'sympy.polys.domains.gmpyfinitefield', 'sympy.polys.domains.gmpyintegerring', 'sympy.polys.domains.pythonrationalfield', 'sympy.polys.domains.gmpyrationalfield', 'sympy.polys.domains.algebraicfield', 'sympy.polys.polyclasses', 'sympy.polys.densebasic', 'sympy.polys.monomials', 'sympy.polys.densearith', 'sympy.polys.densetools', 'sympy.polys.euclidtools', 'sympy.ntheory', 'sympy.ntheory.generate', 'sympy.ntheory.primetest', 'sympy.ntheory.factor_', 'sympy.ntheory.digits', 'sympy.ntheory.partitions_', 'sympy.ntheory.residue_ntheory', 'sympy.ntheory.multinomial', 'sympy.ntheory.continued_fraction', 'sympy.ntheory.egyptian_fraction', 'sympy.polys.galoistools', 'sympy.polys.polyconfig', 'sympy.polys.sqfreetools', 'sympy.polys.factortools', 'sympy.polys.rootisolation', 'sympy.polys.domains.polynomialring', 'sympy.polys.domains.compositedomain', 'sympy.polys.domains.fractionfield', 'sympy.polys.domains.expressiondomain', 'sympy.polys.fglmtools', 'sympy.polys.groebnertools', 'sympy.polys.rationaltools', 'sympy.polys.polyfuncs', 'sympy.polys.specialpolys', 'sympy.functions', 'sympy.functions.combinatorial', 'sympy.functions.combinatorial.factorials', 'sympy.functions.combinatorial.numbers', 'sympy.functions.elementary', 'sympy.functions.elementary.exponential', 'sympy.functions.elementary.miscellaneous', 'sympy.functions.elementary.integers', 'sympy.functions.elementary.trigonometric', 'sympy.functions.elementary.hyperbolic', 'sympy.functions.elementary.piecewise', 'sympy.utilities.memoization', 'sympy.functions.elementary.complexes', 'sympy.functions.special', 'sympy.functions.special.error_functions', 'sympy.functions.special.hyper', 'sympy.functions.special.gamma_functions', 'sympy.functions.special.zeta_functions', 'sympy.functions.special.tensor_functions', 'sympy.functions.special.singularity_functions', 'sympy.functions.special.delta_functions', 'sympy.functions.special.bsplines', 'sympy.functions.special.bessel', 'sympy.polys.orthopolys', 'sympy.functions.special.polynomials', 'sympy.functions.special.spherical_harmonics', 'sympy.functions.special.elliptic_integrals', 'sympy.functions.special.beta_functions', 'sympy.functions.special.mathieu_functions', 'sympy.polys.rings', 'sympy.polys.compatibility', 'sympy.polys.heuristicgcd', 'sympy.utilities.magic', 'sympy.polys.numberfields', 'sympy.polys.ring_series', 'sympy.polys.rootoftools', 'sympy.polys.polyroots', 'sympy.polys.polyquinticconst', 'sympy.simplify', 'sympy.simplify.simplify', 'sympy.simplify.combsimp', 'sympy.simplify.gammasimp', 'sympy.simplify.cse_opts', 'sympy.simplify.powsimp', 'sympy.simplify.radsimp', 'sympy.simplify.sqrtdenest', 'sympy.simplify.trigsimp', 'sympy.simplify.cse_main', 'sympy.strategies', 'sympy.strategies.rl', 'sympy.strategies.util', 'sympy.strategies.traverse', 'sympy.strategies.core', 'sympy.strategies.tools', 'sympy.strategies.branch', 'sympy.strategies.branch.traverse', 'sympy.strategies.branch.core', 'sympy.strategies.branch.tools', 'sympy.strategies.tree', 'sympy.simplify.fu', 'sympy.simplify.traversaltools', 'sympy.simplify.epathtools', 'sympy.simplify.hyperexpand', 'sympy.series', 'sympy.series.order', 'sympy.series.limits', 'sympy.simplify.ratsimp', 'sympy.series.gruntz', 'sympy.series.series', 'sympy.series.approximants', 'sympy.series.residues', 'sympy.series.sequences', 'sympy.tensor', 'sympy.tensor.indexed', 'sympy.tensor.index_methods', 'sympy.tensor.array', 'sympy.tensor.array.dense_ndim_array', 'sympy.tensor.array.mutable_ndim_array', 'sympy.tensor.array.ndim_array', 'sympy.tensor.array.sparse_ndim_array', 'sympy.tensor.array.arrayop', 'sympy.tensor.array.array_comprehension', 'sympy.series.fourier', 'sympy.series.series_class', 'sympy.series.formal', 'sympy.discrete', 'sympy.discrete.transforms', 'sympy.discrete.convolutions', 'sympy.series.limitseq', 'sympy.printing.lambdarepr', 'sympy.polys.partfrac', 'sympy.matrices', 'sympy.matrices.common', 'sympy.matrices.utilities', 'sympy.matrices.dense', 'sympy.matrices.matrices', 'sympy.matrices.determinant', 'sympy.matrices.reductions', 'sympy.matrices.subspaces', 'sympy.matrices.eigen', 'sympy.matrices.decompositions', 'sympy.matrices.graph', 'sympy.matrices.solvers', 'sympy.matrices.inverse', 'sympy.matrices.sparse', 'sympy.matrices.sparsetools', 'sympy.matrices.immutable', 'sympy.matrices.expressions', 'sympy.matrices.expressions.slice', 'sympy.matrices.expressions.matexpr', 'sympy.matrices.expressions.matmul', 'sympy.matrices.expressions.inverse', 'sympy.matrices.expressions.matpow', 'sympy.matrices.expressions.transpose', 'sympy.matrices.expressions.permutation', 'sympy.matrices.expressions.matadd', 'sympy.matrices.expressions.blockmatrix', 'sympy.matrices.expressions.trace', 'sympy.matrices.expressions.determinant', 'sympy.matrices.expressions.funcmatrix', 'sympy.matrices.expressions.adjoint', 'sympy.matrices.expressions.hadamard', 'sympy.matrices.expressions.diagonal', 'sympy.matrices.expressions.dotproduct', 'sympy.matrices.expressions.kronecker', 'sympy.polys.fields', 'sympy.concrete', 'sympy.concrete.products', 'sympy.concrete.expr_with_intlimits', 'sympy.concrete.expr_with_limits', 'sympy.concrete.summations', 'sympy.calculus', 'sympy.calculus.euler', 'sympy.calculus.singularities', 'sympy.solvers', 'sympy.solvers.solvers', 'sympy.integrals', 'sympy.integrals.integrals', 'sympy.integrals.manualintegrate', 'sympy.integrals.trigonometry', 'sympy.integrals.meijerint', 'sympy.integrals.transforms', 'sympy.solvers.inequalities', 'sympy.integrals.singularityfunctions', 'sympy.solvers.polysys', 'sympy.solvers.bivariate', 'sympy.solvers.diophantine', 'sympy.solvers.diophantine.diophantine', 'sympy.solvers.solveset', 'sympy.calculus.util', 'sympy.solvers.recurr', 'sympy.solvers.ode', 'sympy.solvers.ode.ode', 'sympy.solvers.pde', 'sympy.solvers.deutils', 'sympy.solvers.ode.subscheck', 'sympy.solvers.ode.single', 'sympy.solvers.decompogen', 'sympy.calculus.finite_diff', 'sympy.concrete.gosper', 'sympy.geometry', 'sympy.geometry.point', 'sympy.geometry.exceptions', 'sympy.geometry.entity', 'sympy.multipledispatch', 'sympy.multipledispatch.core', 'sympy.multipledispatch.dispatcher', 'sympy.multipledispatch.conflict', 'sympy.multipledispatch.utils', 'sympy.sets.handlers', 'sympy.sets.handlers.intersection', 'sympy.sets.handlers.union', 'sympy.geometry.line', 'sympy.geometry.util', 'sympy.geometry.plane', 'sympy.geometry.ellipse', 'sympy.geometry.polygon', 'sympy.geometry.curve', 'sympy.geometry.parabola', 'sympy.parsing', 'sympy.parsing.sympy_parser', 'sympy.algebras', 'sympy.algebras.quaternion', 'sympy.plotting', 'sympy.plotting.plot', 'sympy.plotting.experimental_lambdify', 'sympy.plotting.textplot', 'sympy.plotting.plot_implicit', 'sympy.plotting.intervalmath', 'sympy.plotting.intervalmath.interval_arithmetic', 'sympy.plotting.intervalmath.interval_membership', 'sympy.plotting.intervalmath.lib_interval', 'sympy.plotting.pygletplot', 'sympy.interactive', 'sympy.interactive.printing', 'sympy.interactive.session', 'sympy.deprecated', 'sympy.deprecated.class_registry', 'optlang.symbolics', 'optlang.interface', 'optlang.exceptions', 'optlang.container', 'optlang.duality', 'gurobipy', '_cython_0_28_5', 'gurobipy.gurobipy', 'swiglpk', 'swiglpk.swiglpk', 'swig_runtime_data4', 'swiglpk._swiglpk', 'cplex', 'cplex.aborter', 'cplex._internal', 'cplex._internal._aux_functions', 'cplex.exceptions', 'cplex.exceptions.error_codes', 'cplex.exceptions.errors', 'cplex._internal._baseinterface', 'cplex._internal._list_array_utils', 'cplex._internal._pycplex', 'cplex._internal._pycplex_platform', 'cplex._internal.py36_cplex12100', 'cplex._internal._ostream', 'cplex._internal._procedural', 'cplex._internal._constants', 'cplex._internal._matrices', 'cplex._internal._multiobj', 'cplex._internal._subinterfaces', 'cplex._internal._multiobjsoln', 'cplex.constant_class', 'cplex._internal._parameter_classes', 'cplex.paramset', 'cplex._internal._parameter_hierarchy', 'cplex._internal._parameters_auto', 'cplex._internal._anno', 'cplex._internal._pwl', 'cplex._internal._constantsenum', 'cplex._internal._callbackinfoenum', 'cplex._internal._solutionstrategyenum', 'cplex.callbacks', 'cplex.model_info', 'scipy', 'numpy', 'numpy._globals', 'numpy.__config__', 'numpy.version', 'numpy._distributor_init', 'numpy.core', 'numpy.core.multiarray', 'numpy.core.overrides', 'numpy.core._multiarray_umath', 'numpy.compat', 'numpy.compat._inspect', 'numpy.compat.py3k', 'numpy.core.umath', 'numpy.core.numerictypes', 'numpy.core._string_helpers', 'numpy.core._type_aliases', 'numpy.core._dtype', 'numpy.core.numeric', 'numpy.core.shape_base', 'numpy.core._asarray', 'numpy.core.fromnumeric', 'numpy.core._methods', 'numpy.core._exceptions', 'numpy.core._ufunc_config', 'numpy.core.arrayprint', 'numpy.core.defchararray', 'numpy.core.records', 'numpy.core.memmap', 'numpy.core.function_base', 'numpy.core.machar', 'numpy.core.getlimits', 'numpy.core.einsumfunc', 'numpy.core._add_newdocs', 'numpy.core._multiarray_tests', 'numpy.core._dtype_ctypes', 'numpy.core._internal', 'numpy._pytesttester', 'numpy.lib', 'numpy.lib.mixins', 'numpy.lib.scimath', 'numpy.lib.type_check', 'numpy.lib.ufunclike', 'numpy.lib.index_tricks', 'numpy.matrixlib', 'numpy.matrixlib.defmatrix', 'numpy.linalg', 'numpy.linalg.linalg', 'numpy.lib.twodim_base', 'numpy.linalg.lapack_lite', 'numpy.linalg._umath_linalg', 'numpy.lib.function_base', 'numpy.lib.histograms', 'numpy.lib.stride_tricks', 'numpy.lib.nanfunctions', 'numpy.lib.shape_base', 'numpy.lib.polynomial', 'numpy.lib.utils', 'numpy.lib.arraysetops', 'numpy.lib.npyio', 'numpy.lib.format', 'numpy.lib._datasource', 'numpy.lib._iotools', 'numpy.lib.financial', 'numpy.lib.arrayterator', 'numpy.lib.arraypad', 'numpy.lib._version', 'numpy.fft', 'numpy.fft._pocketfft', 'numpy.fft._pocketfft_internal', 'numpy.fft.helper', 'numpy.polynomial', 'numpy.polynomial.polynomial', 'numpy.polynomial.polyutils', 'numpy.polynomial._polybase', 'numpy.polynomial.chebyshev', 'numpy.polynomial.legendre', 'numpy.polynomial.hermite', 'numpy.polynomial.hermite_e', 'numpy.polynomial.laguerre', 'numpy.random', 'numpy.random._pickle', 'numpy.random.mtrand', 'numpy.random._bit_generator', '_cython_0_29_19', 'numpy.random._common', 'secrets', 'numpy.random._bounded_integers', 'numpy.random._mt19937', 'numpy.random._philox', 'numpy.random._pcg64', 'numpy.random._sfc64', 'numpy.random._generator', 'numpy.ctypeslib', 'numpy.ma', 'numpy.ma.core', 'numpy.ma.extras', 'numpy.testing', 'numpy.testing._private', 'numpy.testing._private.utils', 'numpy.testing._private.decorators', 'numpy.testing._private.nosetester', 'scipy._lib', 'scipy._lib._testutils', 'scipy._lib.deprecation', 'scipy._distributor_init', 'scipy.__config__', 'scipy.version', 'scipy._lib._version', 'scipy._lib.six', 'scipy._lib._ccallback', 'scipy._lib._ccallback_c', 'scipy.fft', 'scipy.fft._basic', 'scipy._lib.uarray', 'scipy._lib._uarray', 'scipy._lib._uarray._backend', 'scipy._lib._uarray._uarray', 'scipy.fft._realtransforms', 'scipy.fft._helper', 'scipy.fft._pocketfft', 'scipy.fft._pocketfft.basic', 'scipy.fft._pocketfft.pypocketfft', 'scipy.fft._pocketfft.helper', 'scipy.fft._pocketfft.realtransforms', 'scipy.fft._backend', 'numpy.dual', 'scipy.optimize', 'scipy.optimize.optimize', 'scipy.optimize.linesearch', 'scipy.optimize.minpack2', 'scipy._lib._util', 'scipy.optimize._minimize', 'scipy.optimize._trustregion_dogleg', 'scipy.linalg', 'scipy.linalg.linalg_version', 'scipy.linalg.misc', 'scipy.linalg.blas', 'scipy.linalg._fblas', 'scipy.linalg.lapack', 'scipy.linalg._flapack', 'scipy.linalg.basic', 'scipy.linalg.flinalg', 'scipy.linalg._flinalg', 'scipy.linalg.decomp', 'scipy.linalg.decomp_svd', 'scipy.linalg._solve_toeplitz', '_cython_0_29_13', 'scipy.linalg.decomp_lu', 'scipy.linalg._decomp_ldl', 'scipy.linalg.decomp_cholesky', 'scipy.linalg.decomp_qr', 'scipy.linalg._decomp_qz', 'scipy.linalg.decomp_schur', 'scipy.linalg._decomp_polar', 'scipy.linalg.matfuncs', 'scipy.linalg.special_matrices', 'scipy.linalg._expm_frechet', 'scipy.linalg._matfuncs_sqrtm', 'scipy.linalg._solvers', 'scipy.linalg._procrustes', 'scipy.linalg._decomp_update', 'scipy.linalg.cython_blas', 'scipy.linalg.cython_lapack', 'scipy.linalg._sketches', 'scipy.sparse', 'scipy.sparse.base', 'scipy._lib._numpy_compat', 'scipy.sparse.sputils', 'scipy.sparse.csr', 'scipy.sparse._sparsetools', 'scipy.sparse.compressed', 'scipy.sparse.data', 'scipy.sparse.dia', 'scipy.sparse._index', 'scipy.sparse.csc', 'scipy.sparse.lil', 'scipy.sparse._csparsetools', 'scipy.sparse.dok', 'scipy.sparse.coo', 'scipy.sparse.bsr', 'scipy.sparse.construct', 'scipy.sparse.extract', 'scipy.sparse._matrix_io', 'scipy.sparse.csgraph', 'scipy.sparse.csgraph._laplacian', 'scipy.sparse.csgraph._shortest_path', 'scipy.sparse.csgraph._validation', 'scipy.sparse.csgraph._tools', 'scipy.sparse.csgraph._traversal', 'scipy.sparse.csgraph._min_spanning_tree', 'scipy.sparse.csgraph._flow', 'scipy.sparse.csgraph._matching', 'scipy.sparse.csgraph._reordering', 'scipy.optimize._trustregion', 'scipy.optimize._trustregion_ncg', 'scipy.optimize._trustregion_krylov', 'scipy.optimize._trlib', 'scipy.optimize._trlib._trlib', 'scipy._lib.messagestream', 'scipy.optimize._trustregion_exact', 'scipy.optimize._trustregion_constr', 'scipy.optimize._trustregion_constr.minimize_trustregion_constr', 'scipy.sparse.linalg', 'scipy.sparse.linalg.isolve', 'scipy.sparse.linalg.isolve.iterative', 'scipy.sparse.linalg.isolve._iterative', 'scipy.sparse.linalg.interface', 'scipy.sparse.linalg.isolve.utils', 'scipy._lib._threadsafety', 'scipy._lib.decorator', 'scipy.sparse.linalg.isolve.minres', 'scipy.sparse.linalg.isolve.lgmres', 'scipy.sparse.linalg.isolve._gcrotmk', 'scipy.sparse.linalg.isolve.lsqr', 'scipy.sparse.linalg.isolve.lsmr', 'scipy.sparse.linalg.dsolve', 'scipy.sparse.linalg.dsolve.linsolve', 'scipy.sparse.linalg.dsolve._superlu', 'scipy.sparse.linalg.dsolve._add_newdocs', 'scipy.sparse.linalg.eigen', 'scipy.sparse.linalg.eigen.arpack', 'scipy.sparse.linalg.eigen.arpack.arpack', 'scipy.sparse.linalg.eigen.arpack._arpack', 'scipy.sparse.linalg.eigen.lobpcg', 'scipy.sparse.linalg.eigen.lobpcg.lobpcg', 'scipy.sparse.linalg.matfuncs', 'scipy.special', 'scipy.special.sf_error', 'scipy.special._ufuncs', 'scipy.special._ufuncs_cxx', 'scipy.special._basic', 'scipy.special.specfun', 'scipy.special.orthogonal', 'scipy.special._comb', 'scipy.special._logsumexp', 'scipy.special.spfun_stats', 'scipy.special._ellip_harm', 'scipy.special._ellip_harm_2', 'scipy.special.lambertw', 'scipy.special._spherical_bessel', 'scipy.sparse.linalg._expm_multiply', 'scipy.sparse.linalg._onenormest', 'scipy.sparse.linalg._norm', 'scipy.optimize._differentiable_functions', 'scipy.optimize._numdiff', 'scipy.optimize._group_columns', 'scipy.optimize._hessian_update_strategy', 'scipy.optimize._constraints', 'scipy.optimize._trustregion_constr.equality_constrained_sqp', 'scipy.optimize._trustregion_constr.projections', 'scipy.optimize._trustregion_constr.qp_subproblem', 'scipy.optimize._trustregion_constr.canonical_constraint', 'scipy.optimize._trustregion_constr.tr_interior_point', 'scipy.optimize._trustregion_constr.report', 'scipy.optimize.lbfgsb', 'scipy.optimize._lbfgsb', 'scipy.optimize.tnc', 'scipy.optimize.moduleTNC', 'scipy.optimize.cobyla', 'scipy.optimize._cobyla', 'scipy.optimize.slsqp', 'scipy.optimize._slsqp', 'scipy.optimize._root', 'scipy.optimize.minpack', 'scipy.optimize._minpack', 'scipy.optimize._lsq', 'scipy.optimize._lsq.least_squares', 'scipy.optimize._lsq.trf', 'scipy.optimize._lsq.common', 'scipy.optimize._lsq.dogbox', 'scipy.optimize._lsq.lsq_linear', 'scipy.optimize._lsq.trf_linear', 'scipy.optimize._lsq.givens_elimination', 'scipy.optimize._lsq.bvls', 'scipy.optimize._spectral', 'scipy.optimize.nonlin', 'scipy.optimize._root_scalar', 'scipy.optimize.zeros', 'scipy.optimize._zeros', 'scipy.optimize.nnls', 'scipy.optimize._nnls', 'scipy.optimize._basinhopping', 'scipy.optimize._linprog', 'scipy.optimize._linprog_ip', 'scipy.optimize._linprog_util', 'scipy.optimize._remove_redundancy', 'scipy.optimize._linprog_simplex', 'scipy.optimize._linprog_rs', 'scipy.optimize._bglu_dense', 'scipy.optimize._lsap', 'scipy.optimize._lsap_module', 'scipy.optimize._differentialevolution', 'scipy.optimize._shgo', 'scipy.spatial', 'scipy.spatial.kdtree', 'scipy.spatial.ckdtree', 'scipy.spatial.qhull', 'scipy.spatial._spherical_voronoi', 'scipy.spatial._voronoi', 'scipy.spatial._plotutils', 'scipy.spatial._procrustes', 'scipy.spatial.distance', 'scipy.spatial._distance_wrap', 'scipy.spatial._hausdorff', 'scipy.spatial.transform', 'scipy.spatial.transform.rotation', 'scipy.spatial.transform._rotation_groups', 'scipy.constants', 'scipy.constants.codata', 'scipy.constants.constants', 'scipy.spatial.transform._rotation_spline', 'scipy.optimize._shgo_lib', 'scipy.optimize._shgo_lib.sobol_seq', 'scipy.optimize._shgo_lib.triangulation', 'scipy.optimize._dual_annealing', 'optlang.glpk_interface', 'optlang.expression_parsing', 'optlang.glpk_exact_interface', 'optlang.cplex_interface', 'optlang.gurobi_interface', 'optlang.scipy_interface', 'cobra.util', 'cobra.util.array', 'pandas', 'pytz', 'pytz.exceptions', 'pytz.lazy', 'pytz.tzinfo', 'pytz.tzfile', 'pandas.compat', 'pandas.compat.numpy', 'pandas._libs', 'pandas._libs.tslibs', 'pandas._libs.tslibs.conversion', 'pandas._libs.tslibs.c_timestamp', 'pandas._libs.tslibs.nattype', '_cython_0_29_16', 'pandas._libs.missing', 'pandas._libs.tslibs.np_datetime', 'pandas._libs.ops_dispatch', 'pandas._libs.tslibs.timezones', 'pandas._libs.tslibs.tzconversion', 'pandas._libs.tslibs.timedeltas', 'pandas._libs.tslibs.offsets', 'pandas._libs.tslibs.ccalendar', 'pandas._config', 'pandas._config.config', 'pandas._config.dates', 'pandas._config.display', 'pandas._config.localization', 'pandas._libs.tslibs.strptime', 'pandas._libs.tslibs.fields', 'pandas._libs.tslibs.parsing', 'pandas._libs.tslibs.frequencies', 'pandas._libs.tslibs.period', 'pandas._libs.tslibs.timestamps', 'pandas._libs.tslibs.resolution', 'pandas._libs.hashtable', 'pandas._libs.lib', 'pandas._libs.tslib', 'pandas.core', 'pandas.core.config_init', 'pandas.core.api', 'pandas.core.dtypes', 'pandas.core.dtypes.dtypes', 'pandas._libs.interval', 'pandas._libs.algos', 'pandas._typing', 'pandas.core.dtypes.base', 'pandas.errors', 'pandas.core.dtypes.generic', 'pandas.core.dtypes.inference', 'pandas.core.dtypes.missing', 'pandas.core.dtypes.common', 'pandas.core.algorithms', 'pandas.util', 'pandas.util._decorators', 'pandas._libs.properties', 'pandas.core.util', 'pandas.core.util.hashing', 'pandas._libs.hashing', 'pandas.core.dtypes.cast', 'pandas.util._validators', 'pandas.core.common', 'pandas.core.construction', 'pandas.core.indexers', 'pandas.core.arrays', 'pandas.core.arrays.base', 'pandas.compat.numpy.function', 'pandas.core.ops', 'pandas.core.ops.array_ops', 'pandas._libs.ops', 'pandas.core.ops.missing', 'pandas.core.ops.roperator', 'pandas.core.ops.dispatch', 'pandas.core.ops.invalid', 'pandas.core.ops.common', 'pandas.core.ops.docstrings', 'pandas.core.ops.mask_ops', 'pandas.core.ops.methods', 'pandas.core.missing', 'pandas.compat._optional', 'pandas.core.sorting', 'pandas.core.arrays.boolean', 'pandas.core.nanops', 'pandas.core.arrays.masked', 'pandas.core.arrays.categorical', 'pandas.core.accessor', 'pandas.core.base', 'pandas.io', 'pandas.io.formats', 'pandas.io.formats.console', 'pandas.core.arrays.datetimes', 'pandas.core.arrays.datetimelike', 'pandas.tseries', 'pandas.tseries.frequencies', 'pandas.tseries.offsets', 'dateutil.easter', 'pandas.core.arrays._ranges', 'pandas.core.arrays.integer', 'pandas.core.tools', 'pandas.core.tools.numeric', 'pandas.core.arrays.interval', 'pandas.core.indexes', 'pandas.core.indexes.base', 'pandas._libs.index', 'pandas._libs.join', 'pandas.core.dtypes.concat', 'pandas.core.indexes.frozen', 'pandas.io.formats.printing', 'pandas.core.strings', 'pandas.core.arrays.numpy_', 'pandas.core.arrays.period', 'pandas.core.arrays.sparse', 'pandas.core.arrays.sparse.accessor', 'pandas.core.arrays.sparse.array', 'pandas._libs.sparse', 'pandas.core.arrays.sparse.dtype', 'pandas.core.arrays.string_', 'pandas.core.arrays.timedeltas', 'pandas.core.groupby', 'pandas.core.groupby.generic', 'pandas.core.frame', 'pandas.core.generic', 'pandas.core.indexes.api', 'pandas.core.indexes.category', 'pandas.core.indexes.extension', 'pandas.core.indexes.datetimes', 'pandas.core.indexes.datetimelike', 'pandas.core.indexes.numeric', 'pandas.core.tools.timedeltas', 'pandas.core.tools.datetimes', 'pandas.arrays', 'pandas.core.indexes.interval', 'pandas.util._exceptions', 'pandas.core.indexes.multi', 'pandas.core.indexes.timedeltas', 'pandas.core.indexes.period', 'pandas.core.indexes.range', 'pandas.core.indexing', 'pandas._libs.indexing', 'pandas.core.internals', 'pandas.core.internals.blocks', 'pandas._libs.writers', 'pandas._libs.internals', 'pandas.core.internals.managers', 'pandas.core.internals.concat', 'pandas.io.formats.format', 'pandas.io.common', 'gzip', 'mmap', 'zipfile', 'pandas.core.internals.construction', 'pandas.core.series', 'pandas._libs.reshape', 'pandas.core.indexes.accessors', 'pandas.plotting', 'pandas.plotting._core', 'pandas.plotting._misc', 'pandas.core.window', 'pandas.core.window.ewm', 'pandas._libs.window', 'pandas._libs.window.aggregations', 'pandas.core.window.common', 'pandas.core.groupby.base', 'pandas.core.window.rolling', 'pandas.core.window.indexers', 'pandas._libs.window.indexers', 'pandas.core.window.numba_', 'pandas.core.window.expanding', 'pandas.core.groupby.groupby', 'pandas._libs.groupby', 'pandas.core.groupby.ops', 'pandas._libs.reduction', 'pandas.core.groupby.grouper', 'pandas.core.groupby.categorical', 'pandas.tseries.api', 'pandas.core.computation', 'pandas.core.computation.api', 'pandas.core.computation.eval', 'pandas.core.computation.engines', 'pandas.core.computation.align', 'pandas.core.computation.common', 'pandas.core.computation.ops', 'pandas.core.computation.scope', 'pandas.compat.chainmap', 'pandas.core.computation.expr', 'pandas.core.computation.parsing', 'pandas.core.reshape', 'pandas.core.reshape.api', 'pandas.core.reshape.concat', 'pandas.core.reshape.melt', 'pandas.core.reshape.merge', 'pandas.core.reshape.pivot', 'pandas.core.reshape.util', 'pandas.core.reshape.reshape', 'pandas.core.reshape.tile', 'pandas.api', 'pandas.api.extensions', 'pandas.api.indexers', 'pandas.api.types', 'pandas.core.dtypes.api', 'pandas.util._print_versions', 'pandas.io.api', 'pandas.io.clipboards', 'pandas.io.excel', 'pandas.io.excel._base', 'pandas._libs.parsers', 'csv', '_csv', 'pandas.io.excel._util', 'pandas.io.parsers', 'pandas.io.date_converters', 'pandas.io.excel._odfreader', 'pandas.io.excel._openpyxl', 'pandas.io.excel._xlrd', 'pandas.io.excel._pyxlsb', 'pandas.io.excel._xlsxwriter', 'pandas._libs.json', 'pandas.io.excel._xlwt', 'pandas.io.feather_format', 'pandas.io.gbq', 'pandas.io.html', 'pandas.io.json', 'pandas.io.json._json', 'pandas.io.json._normalize', 'pandas.io.json._table_schema', 'pandas.io.orc', 'pandas.io.parquet', 'pandas.io.pickle', 'pandas.compat.pickle_compat', 'pandas.io.pytables', 'pandas.core.computation.pytables', 'pandas.io.sas', 'pandas.io.sas.sasreader', 'pandas.io.spss', 'pandas.io.sql', 'pandas.io.stata', 'pandas.util._tester', 'pandas.testing', 'pandas._testing', 'pandas._libs.testing', 'pandas._version', 'cobra.util.context', 'cobra.util.solver', 'cobra.util.util', 'depinfo', 'depinfo._version', 'depinfo.info', 'pkg_resources', 'plistlib', 'xml.parsers', 'xml.parsers.expat', 'pyexpat.errors', 'pyexpat.model', 'pyexpat', 'xml.parsers.expat.model', 'xml.parsers.expat.errors', 'pkg_resources.extern', 'pkg_resources._vendor', 'pkg_resources._vendor.six', 'pkg_resources.extern.six', 'pkg_resources._vendor.six.moves', 'pkg_resources.extern.six.moves', 'pkg_resources._vendor.appdirs', 'win32com', 'pythoncom', 'pywintypes', '_win32sysloader', 'win32com.gen_py', 'win32com.shell', 'pkg_resources.extern.appdirs', 'pkg_resources._vendor.packaging', 'pkg_resources._vendor.packaging.__about__', 'pkg_resources.extern.packaging', 'pkg_resources.extern.packaging.version', 'pkg_resources.extern.packaging._structures', 'pkg_resources.extern.packaging._typing', 'pkg_resources.extern.packaging.specifiers', 'pkg_resources.extern.packaging._compat', 'pkg_resources.extern.packaging.utils', 'pkg_resources.extern.packaging.requirements', 'pkg_resources._vendor.pyparsing', 'pkg_resources.extern.pyparsing', 'pkg_resources._vendor.six.moves.urllib', 'pkg_resources.extern.six.moves.urllib', 'pkg_resources.extern.packaging.markers', 'pipdeptree', 'pip', 'pip._internal', 'pip._internal.utils', 'pip._internal.utils.inject_securetransport', 'pip._internal.utils.typing', 'pip._internal.utils.misc', 'pip._vendor', 'pip._vendor.pkg_resources', 'pip._vendor.six', 'pip._vendor.six.moves', 'pip._vendor.six.moves.urllib', 'pip._vendor.pkg_resources.py31compat', 'pip._vendor.appdirs', 'pip._vendor.packaging', 'pip._vendor.packaging.__about__', 'pip._vendor.packaging.version', 'pip._vendor.packaging._structures', 'pip._vendor.packaging._typing', 'pip._vendor.packaging.specifiers', 'pip._vendor.packaging._compat', 'pip._vendor.packaging.utils', 'pip._vendor.packaging.requirements', 'pip._vendor.pyparsing', 'pip._vendor.packaging.markers', 'pip._vendor.retrying', 'pip._vendor.six.moves.urllib.parse', 'pip._internal.exceptions', 'pip._internal.locations', 'distutils.sysconfig', 'distutils.command', 'distutils.command.install', 'distutils.core', 'distutils.dist', 'distutils.fancy_getopt', 'distutils.cmd', 'distutils.dir_util', 'distutils.file_util', 'distutils.archive_util', 'distutils.config', 'configparser', 'distutils.extension', 'pip._internal.models', 'pip._internal.models.scheme', 'pip._internal.utils.appdirs', 'pip._internal.utils.compat', 'pip._internal.utils.virtualenv', 'pip._internal.operations', 'pip._internal.operations.freeze', 'pip._internal.req', 'pip._internal.utils.logging', 'pip._internal.utils.deprecation', 'pip._vendor.colorama', 'pip._vendor.colorama.initialise', 'pip._vendor.colorama.ansitowin32', 'pip._vendor.colorama.ansi', 'pip._vendor.colorama.winterm', 'pip._vendor.colorama.win32', 'pip._internal.req.req_file', 'pip._internal.cli', 'pip._internal.cli.cmdoptions', 'pip._internal.cli.progress_bars', 'pip._vendor.progress', 'pip._vendor.progress.bar', 'pip._vendor.progress.spinner', 'pip._internal.models.format_control', 'pip._internal.models.index', 'pip._internal.models.target_python', 'pip._internal.utils.compatibility_tags', 'pip._vendor.packaging.tags', 'pip._internal.utils.hashes', 'pip._internal.models.search_scope', 'pip._internal.network', 'pip._internal.network.utils', 'pip._vendor.requests', 'pip._vendor.urllib3', 'pip._vendor.urllib3.connectionpool', 'pip._vendor.urllib3.exceptions', 'pip._vendor.urllib3.packages', 'pip._vendor.urllib3.packages.ssl_match_hostname', 'pip._vendor.urllib3.packages.six', 'pip._vendor.urllib3.packages.six.moves', 'pip._vendor.urllib3.packages.six.moves.http_client', 'pip._vendor.urllib3.connection', 'pip._vendor.urllib3.util', 'pip._vendor.urllib3.util.connection', 'pip._vendor.urllib3.util.wait', 'pip._vendor.urllib3.contrib', 'pip._vendor.urllib3.contrib._appengine_environ', 'pip._vendor.urllib3.util.request', 'pip._vendor.urllib3.util.response', 'pip._vendor.urllib3.util.ssl_', 'pip._vendor.urllib3.util.url', 'pip._vendor.urllib3.util.timeout', 'pip._vendor.urllib3.util.retry', 'pip._vendor.urllib3._collections', 'pip._vendor.urllib3.request', 'pip._vendor.urllib3.filepost', 'pip._vendor.urllib3.fields', 'pip._vendor.urllib3.packages.six.moves.urllib', 'pip._vendor.urllib3.packages.six.moves.urllib.parse', 'pip._vendor.urllib3.response', 'pip._vendor.urllib3.util.queue', 'pip._vendor.urllib3.poolmanager', 'pip._vendor.chardet', 'pip._vendor.chardet.compat', 'pip._vendor.chardet.universaldetector', 'pip._vendor.chardet.charsetgroupprober', 'pip._vendor.chardet.enums', 'pip._vendor.chardet.charsetprober', 'pip._vendor.chardet.escprober', 'pip._vendor.chardet.codingstatemachine', 'pip._vendor.chardet.escsm', 'pip._vendor.chardet.latin1prober', 'pip._vendor.chardet.mbcsgroupprober', 'pip._vendor.chardet.utf8prober', 'pip._vendor.chardet.mbcssm', 'pip._vendor.chardet.sjisprober', 'pip._vendor.chardet.mbcharsetprober', 'pip._vendor.chardet.chardistribution', 'pip._vendor.chardet.euctwfreq', 'pip._vendor.chardet.euckrfreq', 'pip._vendor.chardet.gb2312freq', 'pip._vendor.chardet.big5freq', 'pip._vendor.chardet.jisfreq', 'pip._vendor.chardet.jpcntx', 'pip._vendor.chardet.eucjpprober', 'pip._vendor.chardet.gb2312prober', 'pip._vendor.chardet.euckrprober', 'pip._vendor.chardet.cp949prober', 'pip._vendor.chardet.big5prober', 'pip._vendor.chardet.euctwprober', 'pip._vendor.chardet.sbcsgroupprober', 'pip._vendor.chardet.sbcharsetprober', 'pip._vendor.chardet.langcyrillicmodel', 'pip._vendor.chardet.langgreekmodel', 'pip._vendor.chardet.langbulgarianmodel', 'pip._vendor.chardet.langthaimodel', 'pip._vendor.chardet.langhebrewmodel', 'pip._vendor.chardet.hebrewprober', 'pip._vendor.chardet.langturkishmodel', 'pip._vendor.chardet.version', 'pip._vendor.requests.exceptions', 'pip._vendor.requests.__version__', 'pip._vendor.requests.utils', 'pip._vendor.requests.certs', 'pip._vendor.certifi', 'pip._vendor.certifi.core', 'pip._vendor.requests._internal_utils', 'pip._vendor.requests.compat', 'http.cookiejar', 'http.cookies', 'pip._vendor.requests.cookies', 'pip._vendor.requests.structures', 'pip._vendor.requests.packages', 'pip._vendor.requests.packages.urllib3', 'pip._vendor.requests.packages.urllib3.connectionpool', 'pip._vendor.requests.packages.urllib3.exceptions', 'pip._vendor.requests.packages.urllib3.packages', 'pip._vendor.requests.packages.urllib3.packages.ssl_match_hostname', 'pip._vendor.requests.packages.urllib3.packages.six', 'pip._vendor.requests.packages.urllib3.packages.six.moves', 'pip._vendor.requests.packages.urllib3.packages.six.moves.http_client', 'pip._vendor.requests.packages.urllib3.connection', 'pip._vendor.requests.packages.urllib3.util', 'pip._vendor.requests.packages.urllib3.util.connection', 'pip._vendor.requests.packages.urllib3.util.wait', 'pip._vendor.requests.packages.urllib3.contrib', 'pip._vendor.requests.packages.urllib3.contrib._appengine_environ', 'pip._vendor.requests.packages.urllib3.util.request', 'pip._vendor.requests.packages.urllib3.util.response', 'pip._vendor.requests.packages.urllib3.util.ssl_', 'pip._vendor.requests.packages.urllib3.util.url', 'pip._vendor.requests.packages.urllib3.util.timeout', 'pip._vendor.requests.packages.urllib3.util.retry', 'pip._vendor.requests.packages.urllib3._collections', 'pip._vendor.requests.packages.urllib3.request', 'pip._vendor.requests.packages.urllib3.filepost', 'pip._vendor.requests.packages.urllib3.fields', 'pip._vendor.requests.packages.urllib3.packages.six.moves.urllib', 'pip._vendor.requests.packages.urllib3.packages.six.moves.urllib.parse', 'pip._vendor.requests.packages.urllib3.response', 'pip._vendor.requests.packages.urllib3.util.queue', 'pip._vendor.requests.packages.urllib3.poolmanager', 'pip._vendor.idna', 'pip._vendor.idna.package_data', 'pip._vendor.idna.core', 'pip._vendor.idna.idnadata', 'pip._vendor.idna.intranges', 'pip._vendor.requests.packages.idna', 'pip._vendor.requests.packages.idna.package_data', 'pip._vendor.requests.packages.idna.core', 'pip._vendor.requests.packages.idna.idnadata', 'pip._vendor.requests.packages.idna.intranges', 'pip._vendor.requests.packages.chardet', 'pip._vendor.requests.packages.chardet.compat', 'pip._vendor.requests.packages.chardet.universaldetector', 'pip._vendor.requests.packages.chardet.charsetgroupprober', 'pip._vendor.requests.packages.chardet.enums', 'pip._vendor.requests.packages.chardet.charsetprober', 'pip._vendor.requests.packages.chardet.escprober', 'pip._vendor.requests.packages.chardet.codingstatemachine', 'pip._vendor.requests.packages.chardet.escsm', 'pip._vendor.requests.packages.chardet.latin1prober', 'pip._vendor.requests.packages.chardet.mbcsgroupprober', 'pip._vendor.requests.packages.chardet.utf8prober', 'pip._vendor.requests.packages.chardet.mbcssm', 'pip._vendor.requests.packages.chardet.sjisprober', 'pip._vendor.requests.packages.chardet.mbcharsetprober', 'pip._vendor.requests.packages.chardet.chardistribution', 'pip._vendor.requests.packages.chardet.euctwfreq', 'pip._vendor.requests.packages.chardet.euckrfreq', 'pip._vendor.requests.packages.chardet.gb2312freq', 'pip._vendor.requests.packages.chardet.big5freq', 'pip._vendor.requests.packages.chardet.jisfreq', 'pip._vendor.requests.packages.chardet.jpcntx', 'pip._vendor.requests.packages.chardet.eucjpprober', 'pip._vendor.requests.packages.chardet.gb2312prober', 'pip._vendor.requests.packages.chardet.euckrprober', 'pip._vendor.requests.packages.chardet.cp949prober', 'pip._vendor.requests.packages.chardet.big5prober', 'pip._vendor.requests.packages.chardet.euctwprober', 'pip._vendor.requests.packages.chardet.sbcsgroupprober', 'pip._vendor.requests.packages.chardet.sbcharsetprober', 'pip._vendor.requests.packages.chardet.langcyrillicmodel', 'pip._vendor.requests.packages.chardet.langgreekmodel', 'pip._vendor.requests.packages.chardet.langbulgarianmodel', 'pip._vendor.requests.packages.chardet.langthaimodel', 'pip._vendor.requests.packages.chardet.langhebrewmodel', 'pip._vendor.requests.packages.chardet.hebrewprober', 'pip._vendor.requests.packages.chardet.langturkishmodel', 'pip._vendor.requests.packages.chardet.version', 'pip._vendor.requests.models', 'encodings.idna', 'stringprep', 'pip._vendor.requests.hooks', 'pip._vendor.requests.auth', 'pip._vendor.requests.status_codes', 'pip._vendor.requests.api', 'pip._vendor.requests.sessions', 'pip._vendor.requests.adapters', 'pip._internal.utils.encoding', 'pip._internal.utils.urls', 'pip._internal.req.req_install', 'pip._vendor.pep517', 'pip._vendor.pep517.wrappers', 'pip._vendor.pep517.compat', 'pip._internal.build_env', 'pip._internal.cli.spinners', 'pip._internal.utils.subprocess', 'pip._internal.utils.temp_dir', 'pip._vendor.contextlib2', 'pip._internal.models.link', 'pip._internal.utils.filetypes', 'pip._internal.utils.models', 'pip._internal.operations.build', 'pip._internal.operations.build.metadata', 'pip._internal.operations.build.metadata_legacy', 'pip._internal.utils.setuptools_build', 'pip._internal.operations.install', 'pip._internal.operations.install.editable_legacy', 'pip._internal.operations.install.legacy', 'pip._internal.operations.install.wheel', 'compileall', 'py_compile', 'pip._vendor.distlib', 'pip._vendor.distlib.scripts', 'pip._vendor.distlib.compat', 'xmlrpc', 'xmlrpc.client', 'html.parser', '_markupbase', 'logging.config', 'socketserver', 'pip._vendor.distlib.resources', 'pip._vendor.distlib.util', 'tarfile', 'pip._internal.models.direct_url', 'pip._internal.utils.filesystem', 'pip._internal.utils.unpacking', 'pip._internal.utils.wheel', 'pip._internal.utils.pkg_resources', 'pip._internal.pyproject', 'pip._vendor.toml', 'pip._vendor.toml.encoder', 'pip._vendor.toml.decoder', 'pip._vendor.toml.tz', 'pip._internal.req.req_uninstall', 'pip._internal.utils.direct_url_helpers', 'pip._internal.vcs', 'pip._internal.vcs.bazaar', 'pip._internal.vcs.versioncontrol', 'pip._internal.vcs.git', 'pip._internal.vcs.mercurial', 'pip._internal.vcs.subversion', 'pip._internal.utils.packaging', 'pip._internal.req.req_set', 'pip._internal.models.wheel', 'pip._internal.req.constructors', 'cobra.core.dictlist', 'cobra.core.gene', 'cobra.core.species', 'cobra.core.object', 'cobra.core.metabolite', 'future', 'future.utils', 'cobra.core.formula', 'cobra.core.model', 'cobra.core.group', 'cobra.core.reaction', 'cobra.core.solution', 'cobra.medium', 'cobra.medium.boundary_types', 'cobra.medium.minimal_medium', 'cobra.core.summary', 'cobra.core.summary.summary', 'cobra.flux_analysis', 'cobra.flux_analysis.deletion', 'cobra.flux_analysis.moma', 'cobra.flux_analysis.parsimonious', 'cobra.flux_analysis.room', 'cobra.manipulation', 'cobra.manipulation.annotate', 'cobra.manipulation.delete', 'cobra.manipulation.modify', 'cobra.manipulation.validate', 'cobra.flux_analysis.fastcc', 'cobra.flux_analysis.helpers', 'cobra.flux_analysis.gapfilling', 'cobra.flux_analysis.geometric', 'cobra.flux_analysis.variability', 'cobra.flux_analysis.loopless', 'cobra.flux_analysis.phenotype_phase_plane', 'cobra.core.summary.metabolite_summary', 'cobra.core.summary.model_summary', 'cobra.core.summary.reaction_summary', 'cobra.io', 'cobra.io.dict', 'cobra.io.json', 'cobra.io.mat', 'scipy.io', 'scipy.io.matlab', 'scipy.io.matlab.mio', 'scipy.io.matlab.miobase', 'scipy._lib.doccer', 'scipy.io.matlab.byteordercodes', 'scipy.io.matlab.mio4', 'scipy.io.matlab.mio_utils', 'scipy.io.matlab.mio5', 'scipy.io.matlab.mio5_utils', 'scipy.io.matlab.streams', 'scipy.io.matlab.mio5_params', 'scipy.io.netcdf', 'scipy.io._fortran', 'scipy.io.mmio', 'scipy.io.idl', 'scipy.io.harwell_boeing', 'scipy.io.harwell_boeing.hb', 'scipy.io.harwell_boeing._fortran_format_parser', 'cobra.io.sbml', 'libsbml', '_libsbml', 'cobra.io.yaml', 'ruamel.yaml', 'ruamel.yaml.cyaml', '_ruamel_yaml', 'ruamel.yaml.error', 'ruamel.yaml.compat', 'ruamel.yaml.reader', 'ruamel.yaml.util', 'ruamel.yaml.scanner', 'ruamel.yaml.tokens', 'ruamel.yaml.parser', 'ruamel.yaml.events', 'ruamel.yaml.composer', 'ruamel.yaml.nodes', 'ruamel.yaml.constructor', 'ruamel.yaml.comments', 'ruamel.yaml.scalarstring', 'ruamel.yaml.anchor', 'ruamel.yaml.scalarint', 'ruamel.yaml.scalarfloat', 'ruamel.yaml.scalarbool', 'ruamel.yaml.timestamp', 'ruamel.yaml.emitter', 'ruamel.yaml.serializer', 'ruamel.yaml.representer', 'ruamel.yaml.resolver', 'ruamel.yaml.main', 'ruamel.yaml.loader', 'ruamel.yaml.dumper', 'cobra.sampling', 'cobra.sampling.hr_sampler', 'cobra.sampling.achr', 'cobra.sampling.optgp', 'cobra.sampling.sampling', 'pipeline', 'pipeline.scripts', 'pipeline.scripts.analysis', 'pipeline.scripts.input_parser', 'pipeline.scripts.path_definition_mdf', 'tqdm', 'tqdm.std', 'tqdm.utils', 'tqdm._monitor', 'tqdm.gui', 'tqdm._tqdm_pandas', 'tqdm.cli', 'tqdm._version', 'matplotlib', 'matplotlib.cbook', 'matplotlib.cbook.deprecation', 'matplotlib.rcsetup', 'matplotlib.animation', 'matplotlib._animation_data', 'matplotlib.fontconfig_pattern', 'pyparsing', 'matplotlib.colors', 'matplotlib.docstring', 'matplotlib._color_data', 'cycler', 'matplotlib._version', 'matplotlib.ft2font', 'kiwisolver']\n"
     ]
    },
    {
     "name": "stderr",
     "output_type": "stream",
     "text": [
      "DEBUG:matplotlib:CACHEDIR=C:\\Users\\delip\\.matplotlib\n",
      "DEBUG:matplotlib.font_manager:Using fontManager instance from C:\\Users\\delip\\.matplotlib\\fontlist-v330.json\n",
      "DEBUG:matplotlib.pyplot:Loaded backend module://ipykernel.pylab.backend_inline version unknown.\n",
      "DEBUG:matplotlib.pyplot:Loaded backend module://ipykernel.pylab.backend_inline version unknown.\n"
     ]
    },
    {
     "name": "stdout",
     "output_type": "stream",
     "text": [
      "Using license file C:\\Users\\delip\\gurobi.lic\n"
     ]
    },
    {
     "name": "stderr",
     "output_type": "stream",
     "text": [
      "INFO:gurobipy.gurobipy:Using license file C:\\Users\\delip\\gurobi.lic\n"
     ]
    },
    {
     "name": "stdout",
     "output_type": "stream",
     "text": [
      "Academic license - for non-commercial use only\n"
     ]
    },
    {
     "name": "stderr",
     "output_type": "stream",
     "text": [
      "INFO:gurobipy.gurobipy:Academic license - for non-commercial use only\n"
     ]
    },
    {
     "name": "stdout",
     "output_type": "stream",
     "text": [
      "No parameters matching '_test' found\n"
     ]
    },
    {
     "name": "stderr",
     "output_type": "stream",
     "text": [
      "INFO:gurobipy.gurobipy:No parameters matching '_test' found\n"
     ]
    },
    {
     "name": "stdout",
     "output_type": "stream",
     "text": [
      "\n",
      "xyl__D is not in the medium \n",
      "\n",
      "Ther reaction EX_xyl__D_e has been added to the reference model, hence xyl__D_e is now in the medium\n",
      "Exchange xyl__D:  xyl__D_e <--  Old bounds:  (-1000, 0)\n",
      "\n",
      "akg is in the medium \n",
      "\n",
      "Exchange akg:  akg_e -->  Old bounds:  (0.0, 999999.0)\n",
      "For xyl__D there isn't any uptake trasnsporter in the reference model\n",
      "The trasporter has been added to the \n",
      "                                reference model from the input file\n",
      "unknown metabolite 'xyl__D_c' created\n",
      "For akg there isn't any uptake trasnsporter in the reference model\n",
      "\n",
      "The following reactions will be added to the universal model: ['ARBt2r', 'ARAI', 'RBK_L1', 'RBP4E', 'ARABD', 'LARLC', 'LARNDH', 'L2K3dARNDH', 'XYLI1', 'XYLK', 'AKGtr', 'SK_xylt_c', 'XYLR', 'XYLTD_D', 'R01143', 'MMO1', 'MMO2', 'ALCD1']\n",
      "unknown metabolite 'arab__L_e' created\n",
      "unknown metabolite 'h_e' created\n",
      "unknown metabolite 'arab__L_c' created\n",
      "unknown metabolite 'h_c' created\n",
      "unknown metabolite 'rbl__L_c' created\n",
      "unknown metabolite 'atp_c' created\n",
      "unknown metabolite 'adp_c' created\n",
      "unknown metabolite 'ru5p__L_c' created\n",
      "unknown metabolite 'xu5p__D_c' created\n",
      "unknown metabolite 'nadh_c' created\n",
      "unknown metabolite 'Lara14lac_c' created\n",
      "unknown metabolite 'nad_c' created\n",
      "unknown metabolite 'h2o_c' created\n",
      "unknown metabolite 'Larbn_c' created\n",
      "unknown metabolite '2dlara_c' created\n",
      "unknown metabolite '25dop_c' created\n",
      "unknown metabolite 'xyl__D_c' created\n",
      "unknown metabolite 'xylu__D_c' created\n",
      "unknown metabolite 'akg_e' created\n",
      "unknown metabolite 'akg_c' created\n",
      "unknown metabolite 'xylt_c' created\n",
      "unknown metabolite 'nadph_c' created\n",
      "unknown metabolite 'nadp_c' created\n",
      "unknown metabolite 'ch4_c' created\n",
      "unknown metabolite 'o2_c' created\n",
      "unknown metabolite 'meoh_c' created\n",
      "unknown metabolite 'focytcc_c' created\n",
      "unknown metabolite 'ficytcc_c' created\n",
      "unknown metabolite 'q8h2_c' created\n",
      "unknown metabolite 'q8_c' created\n",
      "unknown metabolite 'fald_c' created\n",
      "EX_xyl__D_e  |  xyl__D_e <--   |  (-1000, 0)\n",
      "EX_akg_e  |  akg_e -->   |  (0, 1000)\n",
      "Old biomass (objective) bounds =  (0.0, 999999.0)\n"
     ]
    },
    {
     "ename": "KeyboardInterrupt",
     "evalue": "",
     "output_type": "error",
     "traceback": [
      "\u001b[1;31m---------------------------------------------------------------------------\u001b[0m",
      "\u001b[1;31mKeyboardInterrupt\u001b[0m                         Traceback (most recent call last)",
      "\u001b[1;32m<ipython-input-1-0b0f3fe8e052>\u001b[0m in \u001b[0;36m<module>\u001b[1;34m\u001b[0m\n\u001b[0;32m     22\u001b[0m \u001b[1;31m#universal = get_universal_main(data_repo, './pipeline/inputs/putida_xyl.csv')\u001b[0m\u001b[1;33m\u001b[0m\u001b[1;33m\u001b[0m\u001b[1;33m\u001b[0m\u001b[0m\n\u001b[0;32m     23\u001b[0m \u001b[0mmain\u001b[0m\u001b[1;33m(\u001b[0m\u001b[1;34m'./pipeline/inputs/putida_xyl.csv'\u001b[0m\u001b[1;33m,\u001b[0m \u001b[0muniversal\u001b[0m\u001b[1;33m,\u001b[0m \u001b[0mmodel\u001b[0m\u001b[1;33m)\u001b[0m\u001b[1;33m\u001b[0m\u001b[1;33m\u001b[0m\u001b[0m\n\u001b[1;32m---> 24\u001b[1;33m \u001b[0mconsumption\u001b[0m \u001b[1;33m=\u001b[0m \u001b[0manalysis_gf_sol\u001b[0m\u001b[1;33m(\u001b[0m\u001b[1;34m'./pipeline/inputs/putida_xyl.csv'\u001b[0m\u001b[1;33m,\u001b[0m \u001b[0mmodel\u001b[0m\u001b[1;33m,\u001b[0m \u001b[0muniversal\u001b[0m\u001b[1;33m)\u001b[0m\u001b[1;33m\u001b[0m\u001b[1;33m\u001b[0m\u001b[0m\n\u001b[0m\u001b[0;32m     25\u001b[0m \u001b[0mproduction\u001b[0m \u001b[1;33m=\u001b[0m \u001b[0mdict_prod_sol\u001b[0m\u001b[1;33m(\u001b[0m\u001b[1;34m'./pipeline/inputs/putida_xyl.csv'\u001b[0m\u001b[1;33m,\u001b[0m \u001b[0mconsumption\u001b[0m\u001b[1;33m,\u001b[0m \u001b[0mmodel\u001b[0m\u001b[1;33m,\u001b[0m \u001b[0muniversal\u001b[0m\u001b[1;33m)\u001b[0m\u001b[1;33m\u001b[0m\u001b[1;33m\u001b[0m\u001b[0m\n\u001b[0;32m     26\u001b[0m \u001b[0mfinal\u001b[0m \u001b[1;33m=\u001b[0m \u001b[0mcons_prod_dict\u001b[0m\u001b[1;33m(\u001b[0m\u001b[1;34m'./pipeline/inputs/putida_xyl.csv'\u001b[0m\u001b[1;33m,\u001b[0m \u001b[0mmodel\u001b[0m\u001b[1;33m,\u001b[0m \u001b[0muniversal\u001b[0m\u001b[1;33m,\u001b[0m \u001b[0mconsumption\u001b[0m\u001b[1;33m,\u001b[0m \u001b[0mproduction\u001b[0m\u001b[1;33m)\u001b[0m\u001b[1;33m\u001b[0m\u001b[1;33m\u001b[0m\u001b[0m\n",
      "\u001b[1;32m~\\Thesis_Library\\pipeline\\scripts\\analysis.py\u001b[0m in \u001b[0;36manalysis_gf_sol\u001b[1;34m(input_file, model, universal)\u001b[0m\n\u001b[0;32m    544\u001b[0m         \u001b[0mprint\u001b[0m\u001b[1;33m(\u001b[0m\u001b[0mr\u001b[0m\u001b[1;33m.\u001b[0m\u001b[0mid\u001b[0m\u001b[1;33m,\u001b[0m \u001b[1;34m\" | \"\u001b[0m\u001b[1;33m,\u001b[0m \u001b[0mr\u001b[0m\u001b[1;33m.\u001b[0m\u001b[0mreaction\u001b[0m\u001b[1;33m,\u001b[0m \u001b[1;34m\" | \"\u001b[0m\u001b[1;33m,\u001b[0m \u001b[0mr\u001b[0m\u001b[1;33m.\u001b[0m\u001b[0mbounds\u001b[0m\u001b[1;33m)\u001b[0m\u001b[1;33m\u001b[0m\u001b[1;33m\u001b[0m\u001b[0m\n\u001b[0;32m    545\u001b[0m \u001b[1;33m\u001b[0m\u001b[0m\n\u001b[1;32m--> 546\u001b[1;33m     \u001b[0mset_bounds_obj\u001b[0m\u001b[1;33m(\u001b[0m\u001b[0minput_file\u001b[0m\u001b[1;33m,\u001b[0m \u001b[0mmodel\u001b[0m\u001b[1;33m)\u001b[0m \u001b[1;31m# Onyl biomass is constrained by setting ub = growth on preferred substrate\u001b[0m\u001b[1;33m\u001b[0m\u001b[1;33m\u001b[0m\u001b[0m\n\u001b[0m\u001b[0;32m    547\u001b[0m     \u001b[0mshut_down_c_sources\u001b[0m\u001b[1;33m(\u001b[0m\u001b[0minput_file\u001b[0m\u001b[1;33m,\u001b[0m \u001b[0mmodel\u001b[0m\u001b[1;33m)\u001b[0m\u001b[1;33m\u001b[0m\u001b[1;33m\u001b[0m\u001b[0m\n\u001b[0;32m    548\u001b[0m     \u001b[0moutput\u001b[0m \u001b[1;33m=\u001b[0m \u001b[0meval_sol\u001b[0m\u001b[1;33m(\u001b[0m\u001b[0minput_file\u001b[0m\u001b[1;33m,\u001b[0m \u001b[0mmodel\u001b[0m\u001b[1;33m,\u001b[0m \u001b[0muniversal\u001b[0m\u001b[1;33m)\u001b[0m\u001b[1;33m\u001b[0m\u001b[1;33m\u001b[0m\u001b[0m\n",
      "\u001b[1;32m~\\Thesis_Library\\pipeline\\scripts\\analysis.py\u001b[0m in \u001b[0;36mset_bounds_obj\u001b[1;34m(input_file, model)\u001b[0m\n\u001b[0;32m    175\u001b[0m         \u001b[0mbiomass\u001b[0m \u001b[1;33m=\u001b[0m \u001b[0mget_biomass_equation\u001b[0m\u001b[1;33m(\u001b[0m\u001b[0mmodel\u001b[0m\u001b[1;33m)\u001b[0m\u001b[1;33m\u001b[0m\u001b[1;33m\u001b[0m\u001b[0m\n\u001b[0;32m    176\u001b[0m         \u001b[0mprint\u001b[0m\u001b[1;33m(\u001b[0m\u001b[1;34m'Old biomass (objective) bounds = '\u001b[0m\u001b[1;33m,\u001b[0m \u001b[0mbiomass\u001b[0m\u001b[1;33m.\u001b[0m\u001b[0mbounds\u001b[0m\u001b[1;33m)\u001b[0m\u001b[1;33m\u001b[0m\u001b[1;33m\u001b[0m\u001b[0m\n\u001b[1;32m--> 177\u001b[1;33m         \u001b[0mbiomass\u001b[0m\u001b[1;33m.\u001b[0m\u001b[0mupper_bound\u001b[0m \u001b[1;33m=\u001b[0m \u001b[0mget_max_growth_on_preferred_c\u001b[0m\u001b[1;33m(\u001b[0m\u001b[0minput_file\u001b[0m\u001b[1;33m,\u001b[0m \u001b[0mmodel\u001b[0m\u001b[1;33m)\u001b[0m \u001b[1;31m# originally 0.87 in Ecoli, because it is unlikely to grow more than E.coli does on a middle-high glucose consentration\u001b[0m\u001b[1;33m\u001b[0m\u001b[1;33m\u001b[0m\u001b[0m\n\u001b[0m\u001b[0;32m    178\u001b[0m \u001b[1;33m\u001b[0m\u001b[0m\n\u001b[0;32m    179\u001b[0m         \u001b[1;31m#The following are not useful, since those setting are valid only for the optimization of consumption and in this case the only constraint needed is the one on the ub of biomass.\u001b[0m\u001b[1;33m\u001b[0m\u001b[1;33m\u001b[0m\u001b[1;33m\u001b[0m\u001b[0m\n",
      "\u001b[1;32m~\\Thesis_Library\\pipeline\\scripts\\analysis.py\u001b[0m in \u001b[0;36mget_max_growth_on_preferred_c\u001b[1;34m(input_file, model)\u001b[0m\n\u001b[0;32m    147\u001b[0m         \u001b[0muptake_reaction\u001b[0m \u001b[1;33m=\u001b[0m \u001b[0mmodel\u001b[0m\u001b[1;33m.\u001b[0m\u001b[0mreactions\u001b[0m\u001b[1;33m.\u001b[0m\u001b[0mget_by_id\u001b[0m\u001b[1;33m(\u001b[0m\u001b[1;34m'EX_'\u001b[0m\u001b[1;33m+\u001b[0m\u001b[0mpref_c_source\u001b[0m\u001b[1;33m+\u001b[0m\u001b[1;34m'_e'\u001b[0m\u001b[1;33m)\u001b[0m\u001b[1;33m\u001b[0m\u001b[1;33m\u001b[0m\u001b[0m\n\u001b[0;32m    148\u001b[0m         \u001b[0muptake_reaction\u001b[0m\u001b[1;33m.\u001b[0m\u001b[0mlower_bound\u001b[0m \u001b[1;33m=\u001b[0m \u001b[0mlb_preferred_uptake\u001b[0m\u001b[1;33m\u001b[0m\u001b[1;33m\u001b[0m\u001b[0m\n\u001b[1;32m--> 149\u001b[1;33m         \u001b[0mmodel\u001b[0m\u001b[1;33m.\u001b[0m\u001b[0msolver\u001b[0m \u001b[1;33m=\u001b[0m \u001b[1;34m'glpk'\u001b[0m\u001b[1;33m\u001b[0m\u001b[1;33m\u001b[0m\u001b[0m\n\u001b[0m\u001b[0;32m    150\u001b[0m         \u001b[0mlogging\u001b[0m\u001b[1;33m.\u001b[0m\u001b[0mdebug\u001b[0m\u001b[1;33m(\u001b[0m\u001b[0mtype\u001b[0m\u001b[1;33m(\u001b[0m\u001b[0mmodel\u001b[0m\u001b[1;33m.\u001b[0m\u001b[0msolver\u001b[0m\u001b[1;33m)\u001b[0m\u001b[1;33m)\u001b[0m\u001b[1;33m\u001b[0m\u001b[1;33m\u001b[0m\u001b[0m\n\u001b[0;32m    151\u001b[0m         \u001b[0mmodel\u001b[0m\u001b[1;33m.\u001b[0m\u001b[0mobjective\u001b[0m \u001b[1;33m=\u001b[0m \u001b[0mbiomass\u001b[0m\u001b[1;33m\u001b[0m\u001b[1;33m\u001b[0m\u001b[0m\n",
      "\u001b[1;32m~\\anaconda3\\envs\\cameo\\lib\\site-packages\\cobra\\util\\context.py\u001b[0m in \u001b[0;36mwrapper\u001b[1;34m(self, new_value)\u001b[0m\n\u001b[0;32m     67\u001b[0m             \u001b[0mcontext\u001b[0m\u001b[1;33m(\u001b[0m\u001b[0mpartial\u001b[0m\u001b[1;33m(\u001b[0m\u001b[0mf\u001b[0m\u001b[1;33m,\u001b[0m \u001b[0mself\u001b[0m\u001b[1;33m,\u001b[0m \u001b[0mold_value\u001b[0m\u001b[1;33m)\u001b[0m\u001b[1;33m)\u001b[0m\u001b[1;33m\u001b[0m\u001b[1;33m\u001b[0m\u001b[0m\n\u001b[0;32m     68\u001b[0m \u001b[1;33m\u001b[0m\u001b[0m\n\u001b[1;32m---> 69\u001b[1;33m         \u001b[0mf\u001b[0m\u001b[1;33m(\u001b[0m\u001b[0mself\u001b[0m\u001b[1;33m,\u001b[0m \u001b[0mnew_value\u001b[0m\u001b[1;33m)\u001b[0m\u001b[1;33m\u001b[0m\u001b[1;33m\u001b[0m\u001b[0m\n\u001b[0m\u001b[0;32m     70\u001b[0m \u001b[1;33m\u001b[0m\u001b[0m\n\u001b[0;32m     71\u001b[0m     \u001b[1;32mreturn\u001b[0m \u001b[0mwrapper\u001b[0m\u001b[1;33m\u001b[0m\u001b[1;33m\u001b[0m\u001b[0m\n",
      "\u001b[1;32m~\\anaconda3\\envs\\cameo\\lib\\site-packages\\cobra\\core\\model.py\u001b[0m in \u001b[0;36msolver\u001b[1;34m(self, value)\u001b[0m\n\u001b[0;32m    163\u001b[0m         \u001b[1;32mif\u001b[0m \u001b[0mself\u001b[0m\u001b[1;33m.\u001b[0m\u001b[0mproblem\u001b[0m \u001b[1;33m==\u001b[0m \u001b[0minterface\u001b[0m\u001b[1;33m:\u001b[0m\u001b[1;33m\u001b[0m\u001b[1;33m\u001b[0m\u001b[0m\n\u001b[0;32m    164\u001b[0m             \u001b[1;32mreturn\u001b[0m\u001b[1;33m\u001b[0m\u001b[1;33m\u001b[0m\u001b[0m\n\u001b[1;32m--> 165\u001b[1;33m         \u001b[0mself\u001b[0m\u001b[1;33m.\u001b[0m\u001b[0m_solver\u001b[0m \u001b[1;33m=\u001b[0m \u001b[0minterface\u001b[0m\u001b[1;33m.\u001b[0m\u001b[0mModel\u001b[0m\u001b[1;33m.\u001b[0m\u001b[0mclone\u001b[0m\u001b[1;33m(\u001b[0m\u001b[0mself\u001b[0m\u001b[1;33m.\u001b[0m\u001b[0m_solver\u001b[0m\u001b[1;33m)\u001b[0m\u001b[1;33m\u001b[0m\u001b[1;33m\u001b[0m\u001b[0m\n\u001b[0m\u001b[0;32m    166\u001b[0m \u001b[1;33m\u001b[0m\u001b[0m\n\u001b[0;32m    167\u001b[0m     \u001b[1;33m@\u001b[0m\u001b[0mproperty\u001b[0m\u001b[1;33m\u001b[0m\u001b[1;33m\u001b[0m\u001b[0m\n",
      "\u001b[1;32m~\\anaconda3\\envs\\cameo\\lib\\site-packages\\optlang\\interface.py\u001b[0m in \u001b[0;36mclone\u001b[1;34m(cls, model, use_json, use_lp)\u001b[0m\n\u001b[0;32m   1124\u001b[0m \u001b[1;33m\u001b[0m\u001b[0m\n\u001b[0;32m   1125\u001b[0m         \u001b[1;32mif\u001b[0m \u001b[0muse_json\u001b[0m\u001b[1;33m:\u001b[0m\u001b[1;33m\u001b[0m\u001b[1;33m\u001b[0m\u001b[0m\n\u001b[1;32m-> 1126\u001b[1;33m             \u001b[0mnew_model\u001b[0m \u001b[1;33m=\u001b[0m \u001b[0mcls\u001b[0m\u001b[1;33m.\u001b[0m\u001b[0mfrom_json\u001b[0m\u001b[1;33m(\u001b[0m\u001b[0mmodel\u001b[0m\u001b[1;33m.\u001b[0m\u001b[0mto_json\u001b[0m\u001b[1;33m(\u001b[0m\u001b[1;33m)\u001b[0m\u001b[1;33m)\u001b[0m\u001b[1;33m\u001b[0m\u001b[1;33m\u001b[0m\u001b[0m\n\u001b[0m\u001b[0;32m   1127\u001b[0m             \u001b[0mnew_model\u001b[0m\u001b[1;33m.\u001b[0m\u001b[0mconfiguration\u001b[0m \u001b[1;33m=\u001b[0m \u001b[0minterface\u001b[0m\u001b[1;33m.\u001b[0m\u001b[0mConfiguration\u001b[0m\u001b[1;33m.\u001b[0m\u001b[0mclone\u001b[0m\u001b[1;33m(\u001b[0m\u001b[0mmodel\u001b[0m\u001b[1;33m.\u001b[0m\u001b[0mconfiguration\u001b[0m\u001b[1;33m,\u001b[0m \u001b[0mproblem\u001b[0m\u001b[1;33m=\u001b[0m\u001b[0mnew_model\u001b[0m\u001b[1;33m)\u001b[0m\u001b[1;33m\u001b[0m\u001b[1;33m\u001b[0m\u001b[0m\n\u001b[0;32m   1128\u001b[0m             \u001b[1;32mreturn\u001b[0m \u001b[0mnew_model\u001b[0m\u001b[1;33m\u001b[0m\u001b[1;33m\u001b[0m\u001b[0m\n",
      "\u001b[1;32m~\\anaconda3\\envs\\cameo\\lib\\site-packages\\optlang\\interface.py\u001b[0m in \u001b[0;36mfrom_json\u001b[1;34m(cls, json_obj)\u001b[0m\n\u001b[0;32m   1586\u001b[0m         \"\"\"\n\u001b[0;32m   1587\u001b[0m         \u001b[0mmodel\u001b[0m \u001b[1;33m=\u001b[0m \u001b[0mcls\u001b[0m\u001b[1;33m(\u001b[0m\u001b[1;33m)\u001b[0m\u001b[1;33m\u001b[0m\u001b[1;33m\u001b[0m\u001b[0m\n\u001b[1;32m-> 1588\u001b[1;33m         \u001b[0mmodel\u001b[0m\u001b[1;33m.\u001b[0m\u001b[0m_init_from_json\u001b[0m\u001b[1;33m(\u001b[0m\u001b[0mjson_obj\u001b[0m\u001b[1;33m)\u001b[0m\u001b[1;33m\u001b[0m\u001b[1;33m\u001b[0m\u001b[0m\n\u001b[0m\u001b[0;32m   1589\u001b[0m         \u001b[1;32mreturn\u001b[0m \u001b[0mmodel\u001b[0m\u001b[1;33m\u001b[0m\u001b[1;33m\u001b[0m\u001b[0m\n\u001b[0;32m   1590\u001b[0m \u001b[1;33m\u001b[0m\u001b[0m\n",
      "\u001b[1;32m~\\anaconda3\\envs\\cameo\\lib\\site-packages\\optlang\\interface.py\u001b[0m in \u001b[0;36m_init_from_json\u001b[1;34m(self, json_obj)\u001b[0m\n\u001b[0;32m   1598\u001b[0m         \u001b[0mself\u001b[0m\u001b[1;33m.\u001b[0m\u001b[0madd\u001b[0m\u001b[1;33m(\u001b[0m\u001b[0mvariables\u001b[0m\u001b[1;33m)\u001b[0m\u001b[1;33m\u001b[0m\u001b[1;33m\u001b[0m\u001b[0m\n\u001b[0;32m   1599\u001b[0m         \u001b[0mself\u001b[0m\u001b[1;33m.\u001b[0m\u001b[0madd\u001b[0m\u001b[1;33m(\u001b[0m\u001b[0mconstraints\u001b[0m\u001b[1;33m)\u001b[0m\u001b[1;33m\u001b[0m\u001b[1;33m\u001b[0m\u001b[0m\n\u001b[1;32m-> 1600\u001b[1;33m         \u001b[0mself\u001b[0m\u001b[1;33m.\u001b[0m\u001b[0mobjective\u001b[0m \u001b[1;33m=\u001b[0m \u001b[0mobjective\u001b[0m\u001b[1;33m\u001b[0m\u001b[1;33m\u001b[0m\u001b[0m\n\u001b[0m\u001b[0;32m   1601\u001b[0m         \u001b[0mself\u001b[0m\u001b[1;33m.\u001b[0m\u001b[0mupdate\u001b[0m\u001b[1;33m(\u001b[0m\u001b[1;33m)\u001b[0m\u001b[1;33m\u001b[0m\u001b[1;33m\u001b[0m\u001b[0m\n\u001b[0;32m   1602\u001b[0m \u001b[1;33m\u001b[0m\u001b[0m\n",
      "\u001b[1;32m~\\anaconda3\\envs\\cameo\\lib\\site-packages\\optlang\\glpk_interface.py\u001b[0m in \u001b[0;36mobjective\u001b[1;34m(self, value)\u001b[0m\n\u001b[0;32m    621\u001b[0m                 \u001b[1;32mif\u001b[0m \u001b[0mvariable\u001b[0m\u001b[1;33m.\u001b[0m\u001b[0m_index\u001b[0m \u001b[1;32mis\u001b[0m \u001b[1;32mnot\u001b[0m \u001b[1;32mNone\u001b[0m\u001b[1;33m:\u001b[0m\u001b[1;33m\u001b[0m\u001b[1;33m\u001b[0m\u001b[0m\n\u001b[0;32m    622\u001b[0m                     \u001b[0mglp_set_obj_coef\u001b[0m\u001b[1;33m(\u001b[0m\u001b[0mself\u001b[0m\u001b[1;33m.\u001b[0m\u001b[0mproblem\u001b[0m\u001b[1;33m,\u001b[0m \u001b[0mvariable\u001b[0m\u001b[1;33m.\u001b[0m\u001b[0m_index\u001b[0m\u001b[1;33m,\u001b[0m \u001b[1;36m0.\u001b[0m\u001b[1;33m)\u001b[0m\u001b[1;33m\u001b[0m\u001b[1;33m\u001b[0m\u001b[0m\n\u001b[1;32m--> 623\u001b[1;33m         \u001b[0msuper\u001b[0m\u001b[1;33m(\u001b[0m\u001b[0mModel\u001b[0m\u001b[1;33m,\u001b[0m \u001b[0mself\u001b[0m\u001b[1;33m.\u001b[0m\u001b[0m__class__\u001b[0m\u001b[1;33m)\u001b[0m\u001b[1;33m.\u001b[0m\u001b[0mobjective\u001b[0m\u001b[1;33m.\u001b[0m\u001b[0mfset\u001b[0m\u001b[1;33m(\u001b[0m\u001b[0mself\u001b[0m\u001b[1;33m,\u001b[0m \u001b[0mvalue\u001b[0m\u001b[1;33m)\u001b[0m\u001b[1;33m\u001b[0m\u001b[1;33m\u001b[0m\u001b[0m\n\u001b[0m\u001b[0;32m    624\u001b[0m         \u001b[0mself\u001b[0m\u001b[1;33m.\u001b[0m\u001b[0mupdate\u001b[0m\u001b[1;33m(\u001b[0m\u001b[1;33m)\u001b[0m\u001b[1;33m\u001b[0m\u001b[1;33m\u001b[0m\u001b[0m\n\u001b[0;32m    625\u001b[0m \u001b[1;33m\u001b[0m\u001b[0m\n",
      "\u001b[1;32m~\\anaconda3\\envs\\cameo\\lib\\site-packages\\optlang\\interface.py\u001b[0m in \u001b[0;36mobjective\u001b[1;34m(self, value)\u001b[0m\n\u001b[0;32m   1188\u001b[0m     \u001b[1;33m@\u001b[0m\u001b[0mobjective\u001b[0m\u001b[1;33m.\u001b[0m\u001b[0msetter\u001b[0m\u001b[1;33m\u001b[0m\u001b[1;33m\u001b[0m\u001b[0m\n\u001b[0;32m   1189\u001b[0m     \u001b[1;32mdef\u001b[0m \u001b[0mobjective\u001b[0m\u001b[1;33m(\u001b[0m\u001b[0mself\u001b[0m\u001b[1;33m,\u001b[0m \u001b[0mvalue\u001b[0m\u001b[1;33m)\u001b[0m\u001b[1;33m:\u001b[0m\u001b[1;33m\u001b[0m\u001b[1;33m\u001b[0m\u001b[0m\n\u001b[1;32m-> 1190\u001b[1;33m         \u001b[0mself\u001b[0m\u001b[1;33m.\u001b[0m\u001b[0mupdate\u001b[0m\u001b[1;33m(\u001b[0m\u001b[1;33m)\u001b[0m\u001b[1;33m\u001b[0m\u001b[1;33m\u001b[0m\u001b[0m\n\u001b[0m\u001b[0;32m   1191\u001b[0m         \u001b[1;32mfor\u001b[0m \u001b[0matom\u001b[0m \u001b[1;32min\u001b[0m \u001b[0msorted\u001b[0m\u001b[1;33m(\u001b[0m\u001b[0mvalue\u001b[0m\u001b[1;33m.\u001b[0m\u001b[0mexpression\u001b[0m\u001b[1;33m.\u001b[0m\u001b[0matoms\u001b[0m\u001b[1;33m(\u001b[0m\u001b[0mVariable\u001b[0m\u001b[1;33m)\u001b[0m\u001b[1;33m,\u001b[0m \u001b[0mkey\u001b[0m\u001b[1;33m=\u001b[0m\u001b[1;32mlambda\u001b[0m \u001b[0mv\u001b[0m\u001b[1;33m:\u001b[0m \u001b[0mv\u001b[0m\u001b[1;33m.\u001b[0m\u001b[0mname\u001b[0m\u001b[1;33m)\u001b[0m\u001b[1;33m:\u001b[0m\u001b[1;33m\u001b[0m\u001b[1;33m\u001b[0m\u001b[0m\n\u001b[0;32m   1192\u001b[0m             \u001b[1;32mif\u001b[0m \u001b[0misinstance\u001b[0m\u001b[1;33m(\u001b[0m\u001b[0matom\u001b[0m\u001b[1;33m,\u001b[0m \u001b[0mVariable\u001b[0m\u001b[1;33m)\u001b[0m \u001b[1;32mand\u001b[0m \u001b[1;33m(\u001b[0m\u001b[0matom\u001b[0m\u001b[1;33m.\u001b[0m\u001b[0mproblem\u001b[0m \u001b[1;32mis\u001b[0m \u001b[1;32mNone\u001b[0m \u001b[1;32mor\u001b[0m \u001b[0matom\u001b[0m\u001b[1;33m.\u001b[0m\u001b[0mproblem\u001b[0m \u001b[1;33m!=\u001b[0m \u001b[0mself\u001b[0m\u001b[1;33m)\u001b[0m\u001b[1;33m:\u001b[0m\u001b[1;33m\u001b[0m\u001b[1;33m\u001b[0m\u001b[0m\n",
      "\u001b[1;32m~\\anaconda3\\envs\\cameo\\lib\\site-packages\\optlang\\interface.py\u001b[0m in \u001b[0;36mupdate\u001b[1;34m(self, callback)\u001b[0m\n\u001b[0;32m   1426\u001b[0m         \u001b[0madd_constr\u001b[0m \u001b[1;33m=\u001b[0m \u001b[0mself\u001b[0m\u001b[1;33m.\u001b[0m\u001b[0m_pending_modifications\u001b[0m\u001b[1;33m.\u001b[0m\u001b[0madd_constr\u001b[0m\u001b[1;33m\u001b[0m\u001b[1;33m\u001b[0m\u001b[0m\n\u001b[0;32m   1427\u001b[0m         \u001b[1;32mif\u001b[0m \u001b[0mlen\u001b[0m\u001b[1;33m(\u001b[0m\u001b[0madd_constr\u001b[0m\u001b[1;33m)\u001b[0m \u001b[1;33m>\u001b[0m \u001b[1;36m0\u001b[0m\u001b[1;33m:\u001b[0m\u001b[1;33m\u001b[0m\u001b[1;33m\u001b[0m\u001b[0m\n\u001b[1;32m-> 1428\u001b[1;33m             \u001b[0mself\u001b[0m\u001b[1;33m.\u001b[0m\u001b[0m_add_constraints\u001b[0m\u001b[1;33m(\u001b[0m\u001b[0madd_constr\u001b[0m\u001b[1;33m)\u001b[0m\u001b[1;33m\u001b[0m\u001b[1;33m\u001b[0m\u001b[0m\n\u001b[0m\u001b[0;32m   1429\u001b[0m             \u001b[0mself\u001b[0m\u001b[1;33m.\u001b[0m\u001b[0m_pending_modifications\u001b[0m\u001b[1;33m.\u001b[0m\u001b[0madd_constr\u001b[0m \u001b[1;33m=\u001b[0m \u001b[1;33m[\u001b[0m\u001b[1;33m]\u001b[0m\u001b[1;33m\u001b[0m\u001b[1;33m\u001b[0m\u001b[0m\n\u001b[0;32m   1430\u001b[0m \u001b[1;33m\u001b[0m\u001b[0m\n",
      "\u001b[1;32m~\\anaconda3\\envs\\cameo\\lib\\site-packages\\optlang\\glpk_interface.py\u001b[0m in \u001b[0;36m_add_constraints\u001b[1;34m(self, constraints, sloppy)\u001b[0m\n\u001b[0;32m    760\u001b[0m             \u001b[0mnum_cols\u001b[0m \u001b[1;33m=\u001b[0m \u001b[0mglp_get_num_cols\u001b[0m\u001b[1;33m(\u001b[0m\u001b[0mself\u001b[0m\u001b[1;33m.\u001b[0m\u001b[0mproblem\u001b[0m\u001b[1;33m)\u001b[0m\u001b[1;33m\u001b[0m\u001b[1;33m\u001b[0m\u001b[0m\n\u001b[0;32m    761\u001b[0m             \u001b[0mindex_array\u001b[0m \u001b[1;33m=\u001b[0m \u001b[0mintArray\u001b[0m\u001b[1;33m(\u001b[0m\u001b[0mnum_cols\u001b[0m \u001b[1;33m+\u001b[0m \u001b[1;36m1\u001b[0m\u001b[1;33m)\u001b[0m\u001b[1;33m\u001b[0m\u001b[1;33m\u001b[0m\u001b[0m\n\u001b[1;32m--> 762\u001b[1;33m             \u001b[0mvalue_array\u001b[0m \u001b[1;33m=\u001b[0m \u001b[0mdoubleArray\u001b[0m\u001b[1;33m(\u001b[0m\u001b[0mnum_cols\u001b[0m \u001b[1;33m+\u001b[0m \u001b[1;36m1\u001b[0m\u001b[1;33m)\u001b[0m\u001b[1;33m\u001b[0m\u001b[1;33m\u001b[0m\u001b[0m\n\u001b[0m\u001b[0;32m    763\u001b[0m             \u001b[0mnum_vars\u001b[0m \u001b[1;33m=\u001b[0m \u001b[1;36m0\u001b[0m  \u001b[1;31m# constraint.variables is too expensive for large problems\u001b[0m\u001b[1;33m\u001b[0m\u001b[1;33m\u001b[0m\u001b[0m\n\u001b[0;32m    764\u001b[0m \u001b[1;33m\u001b[0m\u001b[0m\n",
      "\u001b[1;31mKeyboardInterrupt\u001b[0m: "
     ]
    }
   ],
   "source": [
    "from os.path import join\n",
    "import cobra\n",
    "import csv\n",
    "from cobra.flux_analysis import phenotype_phase_plane\n",
    "from cobra.flux_analysis import gapfill\n",
    "\n",
    "from pipeline.scripts.analysis import analysis_gf_sol, dict_prod_sol, cons_prod_dict, add_sol_cons\n",
    "from pipeline.scripts.import_models import get_universal_main, get_reference_model\n",
    "from pipeline.scripts.input_parser import main\n",
    "from pipeline.scripts.scoring_system import (scores_evaluations, score_BB_presence, \n",
    "                            plotting_KI_BB_scores)\n",
    "from pipeline.scripts.to_and_from_biobrick_wikidata import (output_for_biobrick_search, \\\n",
    "                                        run_harmonization_per_model)\n",
    "from pipeline.scripts.path_definition_mdf import mdf_analysis\n",
    "from pipeline.scripts.call_Optknock import (run_optknock_analysis, \\\n",
    "                                        add_Optknock_to_analysis)\n",
    "from pipeline.scripts.output_generation import (summary_output, metab_out_chain, \n",
    "                            write_data_provenance)\n",
    "data_repo = \"./pipeline/inputs\"\n",
    "model = get_reference_model(data_repo, './pipeline/inputs/putida_xyl.csv')\n",
    "universal = cobra.Model(\"mock\")\n",
    "#universal = get_universal_main(data_repo, './pipeline/inputs/putida_xyl.csv')\n",
    "main('./pipeline/inputs/putida_xyl.csv', universal, model)\n",
    "consumption = analysis_gf_sol('./pipeline/inputs/putida_xyl.csv', model, universal)\n",
    "production = dict_prod_sol('./pipeline/inputs/putida_xyl.csv', consumption, model, universal)\n",
    "final = cons_prod_dict('./pipeline/inputs/putida_xyl.csv', model, universal, consumption, production)\n",
    "model.objective = (model.reactions.EX_akg_e)\n",
    "add_sol_cons(consumption, 1, model, universal)\n",
    "MDF, p_length = mdf_analysis('./pipeline/inputs/putida_xyl.csv', model, './pipeline/outputs/raw_tsv.tsv', './pipeline/outputs/input_mdf.tsv')\n",
    "scores_output = scores_evaluations('./pipeline/inputs/putida_xyl.csv', consumption, final)"
   ]
  },
  {
   "cell_type": "code",
   "execution_count": 1,
   "metadata": {},
   "outputs": [
    {
     "name": "stderr",
     "output_type": "stream",
     "text": [
      "DEBUG:matplotlib:(private) matplotlib data path: C:\\Users\\delip\\anaconda3\\envs\\cameo\\lib\\site-packages\\matplotlib\\mpl-data\n",
      "DEBUG:matplotlib:matplotlib data path: C:\\Users\\delip\\anaconda3\\envs\\cameo\\lib\\site-packages\\matplotlib\\mpl-data\n",
      "DEBUG:matplotlib:CONFIGDIR=C:\\Users\\delip\\.matplotlib\n",
      "DEBUG:matplotlib:matplotlib version 3.3.0\n",
      "DEBUG:matplotlib:interactive is False\n",
      "DEBUG:matplotlib:platform is win32\n",
      "DEBUG:matplotlib:loaded modules: ['builtins', 'sys', '_frozen_importlib', '_imp', '_warnings', '_thread', '_weakref', '_frozen_importlib_external', '_io', 'marshal', 'nt', 'winreg', 'zipimport', 'encodings', 'codecs', '_codecs', 'encodings.aliases', 'encodings.utf_8', '_signal', '__main__', 'encodings.latin_1', 'io', 'abc', '_weakrefset', '_bootlocale', '_locale', 'encodings.cp1252', 'site', 'os', 'errno', 'stat', '_stat', 'ntpath', 'genericpath', 'os.path', '_collections_abc', '_sitebuiltins', 'sysconfig', 'types', 'functools', '_functools', 'collections', 'operator', '_operator', 'keyword', 'heapq', '_heapq', 'itertools', 'reprlib', '_collections', 'weakref', 'collections.abc', 'importlib', 'importlib._bootstrap', 'importlib._bootstrap_external', 'warnings', 'importlib.util', 'importlib.abc', 'importlib.machinery', 'contextlib', 'mpl_toolkits', 'ruamel', 'zope', 'runpy', 'pkgutil', 'ipykernel', 'ipykernel._version', 'ipykernel.connect', '__future__', 'json', 'json.decoder', 're', 'enum', 'sre_compile', '_sre', 'sre_parse', 'sre_constants', 'copyreg', 'json.scanner', '_json', 'json.encoder', 'subprocess', 'time', 'signal', 'threading', 'traceback', 'linecache', 'tokenize', 'token', 'msvcrt', '_winapi', 'IPython', 'IPython.core', 'IPython.core.getipython', 'IPython.core.release', 'IPython.core.application', 'atexit', 'copy', 'glob', 'fnmatch', 'posixpath', 'logging', 'string', '_string', 'shutil', 'zlib', 'bz2', '_compression', '_bz2', 'lzma', '_lzma', 'traitlets', 'traitlets.traitlets', 'inspect', 'ast', '_ast', 'dis', 'opcode', '_opcode', 'six', 'struct', '_struct', 'traitlets.utils', 'traitlets.utils.getargspec', 'traitlets.utils.importstring', 'ipython_genutils', 'ipython_genutils._version', 'ipython_genutils.py3compat', 'ipython_genutils.encoding', 'locale', 'platform', 'traitlets.utils.sentinel', 'traitlets.utils.bunch', 'traitlets._version', 'traitlets.config', 'traitlets.config.application', 'decorator', 'traitlets.config.configurable', 'traitlets.config.loader', 'argparse', 'textwrap', 'gettext', 'ipython_genutils.path', 'random', 'math', 'hashlib', '_hashlib', '_blake2', '_sha3', 'bisect', '_bisect', '_random', 'ipython_genutils.text', 'ipython_genutils.importstring', 'IPython.core.crashhandler', 'pprint', 'IPython.core.ultratb', 'pydoc', 'urllib', 'urllib.parse', 'IPython.core.debugger', 'bdb', 'IPython.utils', 'IPython.utils.PyColorize', 'IPython.utils.coloransi', 'IPython.utils.ipstruct', 'IPython.utils.colorable', 'pygments', 'IPython.utils.py3compat', 'IPython.utils.encoding', 'IPython.core.excolors', 'IPython.testing', 'IPython.testing.skipdoctest', 'pdb', 'cmd', 'code', 'codeop', 'IPython.core.display_trap', 'IPython.utils.path', 'IPython.utils.process', 'IPython.utils._process_win32', 'ctypes', '_ctypes', 'ctypes._endian', 'ctypes.wintypes', 'IPython.utils._process_common', 'shlex', 'IPython.utils.decorators', 'IPython.utils.data', 'IPython.utils.terminal', 'IPython.utils.sysinfo', 'IPython.utils._sysinfo', 'IPython.core.profiledir', 'IPython.paths', 'tempfile', 'IPython.utils.importstring', 'IPython.terminal', 'IPython.terminal.embed', 'IPython.core.compilerop', 'IPython.core.magic_arguments', 'IPython.core.error', 'IPython.utils.text', 'pathlib', 'IPython.core.magic', 'getopt', 'IPython.core.oinspect', 'typing', 'typing.io', 'typing.re', 'IPython.core.page', 'IPython.core.display', 'binascii', 'mimetypes', 'IPython.lib', 'IPython.lib.security', 'getpass', 'IPython.lib.pretty', 'datetime', '_datetime', 'IPython.utils.openpy', 'IPython.utils.dir2', 'IPython.utils.wildcard', 'pygments.lexers', 'pygments.lexers._mapping', 'pygments.modeline', 'pygments.plugin', 'pygments.util', 'pygments.lexers.python', 'pygments.lexer', 'pygments.filter', 'pygments.filters', 'pygments.token', 'pygments.regexopt', 'pygments.unistring', 'pygments.formatters', 'pygments.formatters._mapping', 'pygments.formatters.html', 'pygments.formatter', 'pygments.styles', 'IPython.core.inputtransformer2', 'IPython.core.interactiveshell', 'pickleshare', 'pickle', '_compat_pickle', '_pickle', 'IPython.core.prefilter', 'IPython.core.autocall', 'IPython.core.macro', 'IPython.core.splitinput', 'IPython.core.alias', 'IPython.core.builtin_trap', 'IPython.core.events', 'backcall', 'backcall.backcall', 'IPython.core.displayhook', 'IPython.core.displaypub', 'IPython.core.extensions', 'IPython.core.formatters', 'IPython.utils.sentinel', 'IPython.core.history', 'sqlite3', 'sqlite3.dbapi2', '_sqlite3', 'IPython.core.logger', 'IPython.core.payload', 'IPython.core.usage', 'IPython.display', 'IPython.lib.display', 'html', 'html.entities', 'IPython.utils.io', 'IPython.utils.capture', 'IPython.utils.strdispatch', 'IPython.core.hooks', 'IPython.utils.syspathcontext', 'IPython.utils.tempdir', 'IPython.utils.contexts', 'IPython.core.async_helpers', 'IPython.terminal.interactiveshell', 'asyncio', 'selectors', 'select', '_socket', '_overlapped', 'asyncio.base_events', 'concurrent', 'concurrent.futures', 'concurrent.futures._base', 'concurrent.futures.process', 'queue', 'multiprocessing', 'multiprocessing.context', 'multiprocessing.process', 'multiprocessing.reduction', 'socket', '__mp_main__', 'multiprocessing.connection', '_multiprocessing', 'multiprocessing.util', 'concurrent.futures.thread', 'asyncio.compat', 'asyncio.coroutines', 'asyncio.constants', 'asyncio.events', 'asyncio.base_futures', 'asyncio.log', 'asyncio.futures', 'asyncio.base_tasks', '_asyncio', 'asyncio.tasks', 'asyncio.locks', 'asyncio.protocols', 'asyncio.queues', 'asyncio.streams', 'asyncio.subprocess', 'asyncio.transports', 'asyncio.windows_events', 'asyncio.base_subprocess', 'asyncio.proactor_events', 'asyncio.sslproto', 'ssl', 'ipaddress', '_ssl', 'base64', 'asyncio.selector_events', 'asyncio.windows_utils', 'prompt_toolkit', 'prompt_toolkit.application', 'prompt_toolkit.application.application', 'prompt_toolkit.buffer', 'prompt_toolkit.application.current', 'prompt_toolkit.eventloop', 'prompt_toolkit.eventloop.async_generator', 'prompt_toolkit.eventloop.utils', 'prompt_toolkit.eventloop.dummy_contextvars', 'prompt_toolkit.eventloop.inputhook', 'prompt_toolkit.utils', 'wcwidth', 'wcwidth.wcwidth', 'wcwidth.table_wide', 'wcwidth.table_zero', 'wcwidth.unicode_versions', 'prompt_toolkit.application.run_in_terminal', 'prompt_toolkit.eventloop.async_context_manager', 'prompt_toolkit.auto_suggest', 'prompt_toolkit.document', 'prompt_toolkit.clipboard', 'prompt_toolkit.clipboard.base', 'prompt_toolkit.selection', 'prompt_toolkit.clipboard.in_memory', 'prompt_toolkit.filters', 'prompt_toolkit.filters.app', 'prompt_toolkit.cache', 'prompt_toolkit.enums', 'prompt_toolkit.filters.base', 'prompt_toolkit.filters.cli', 'prompt_toolkit.filters.utils', 'prompt_toolkit.completion', 'prompt_toolkit.completion.base', 'prompt_toolkit.formatted_text', 'prompt_toolkit.formatted_text.ansi', 'prompt_toolkit.output', 'prompt_toolkit.output.base', 'prompt_toolkit.data_structures', 'prompt_toolkit.styles', 'prompt_toolkit.styles.base', 'prompt_toolkit.styles.defaults', 'prompt_toolkit.styles.named_colors', 'prompt_toolkit.styles.style', 'prompt_toolkit.styles.pygments', 'prompt_toolkit.styles.style_transformation', 'colorsys', 'prompt_toolkit.output.color_depth', 'prompt_toolkit.output.defaults', 'prompt_toolkit.patch_stdout', 'prompt_toolkit.output.vt100', 'array', 'prompt_toolkit.formatted_text.base', 'prompt_toolkit.mouse_events', 'prompt_toolkit.formatted_text.html', 'xml', 'xml.dom', 'xml.dom.domreg', 'xml.dom.minidom', 'xml.dom.minicompat', 'xml.dom.xmlbuilder', 'xml.dom.NodeFilter', 'prompt_toolkit.formatted_text.pygments', 'prompt_toolkit.formatted_text.utils', 'prompt_toolkit.completion.filesystem', 'prompt_toolkit.completion.fuzzy_completer', 'prompt_toolkit.completion.word_completer', 'prompt_toolkit.completion.nested', 'prompt_toolkit.history', 'prompt_toolkit.search', 'prompt_toolkit.key_binding', 'prompt_toolkit.key_binding.key_bindings', 'prompt_toolkit.keys', 'prompt_toolkit.key_binding.key_processor', 'prompt_toolkit.key_binding.vi_state', 'prompt_toolkit.validation', 'prompt_toolkit.input', 'prompt_toolkit.input.base', 'prompt_toolkit.input.defaults', 'prompt_toolkit.input.typeahead', 'prompt_toolkit.key_binding.bindings', 'prompt_toolkit.key_binding.bindings.page_navigation', 'prompt_toolkit.key_binding.bindings.scroll', 'prompt_toolkit.key_binding.defaults', 'prompt_toolkit.key_binding.bindings.basic', 'prompt_toolkit.key_binding.bindings.named_commands', 'prompt_toolkit.layout', 'prompt_toolkit.layout.containers', 'prompt_toolkit.layout.controls', 'prompt_toolkit.lexers', 'prompt_toolkit.lexers.base', 'prompt_toolkit.lexers.pygments', 'prompt_toolkit.layout.processors', 'prompt_toolkit.layout.utils', 'prompt_toolkit.layout.dimension', 'prompt_toolkit.layout.margins', 'prompt_toolkit.layout.mouse_handlers', 'prompt_toolkit.layout.screen', 'prompt_toolkit.layout.layout', 'prompt_toolkit.layout.menus', 'prompt_toolkit.key_binding.bindings.completion', 'prompt_toolkit.key_binding.bindings.cpr', 'prompt_toolkit.key_binding.bindings.emacs', 'prompt_toolkit.key_binding.bindings.mouse', 'prompt_toolkit.key_binding.bindings.vi', 'prompt_toolkit.input.vt100_parser', 'prompt_toolkit.input.ansi_escape_sequences', 'prompt_toolkit.key_binding.digraphs', 'prompt_toolkit.key_binding.emacs_state', 'prompt_toolkit.layout.dummy', 'prompt_toolkit.renderer', 'prompt_toolkit.application.dummy', 'prompt_toolkit.shortcuts', 'prompt_toolkit.shortcuts.dialogs', 'prompt_toolkit.key_binding.bindings.focus', 'prompt_toolkit.widgets', 'prompt_toolkit.widgets.base', 'prompt_toolkit.widgets.toolbars', 'prompt_toolkit.widgets.dialogs', 'prompt_toolkit.widgets.menus', 'prompt_toolkit.shortcuts.progress_bar', 'prompt_toolkit.shortcuts.progress_bar.base', 'prompt_toolkit.shortcuts.progress_bar.formatters', 'prompt_toolkit.shortcuts.prompt', 'prompt_toolkit.key_binding.bindings.auto_suggest', 'prompt_toolkit.key_binding.bindings.open_in_editor', 'prompt_toolkit.shortcuts.utils', 'pygments.style', 'IPython.terminal.debugger', 'IPython.core.completer', 'unicodedata', 'IPython.core.latex_symbols', 'IPython.utils.generics', 'jedi', 'jedi.api', 'parso', 'parso.parser', 'parso.tree', 'parso._compatibility', 'parso.utils', 'parso.pgen2', 'parso.pgen2.generator', 'parso.pgen2.grammar_parser', 'parso.python', 'parso.python.tokenize', 'parso.python.token', 'parso.grammar', 'parso.python.diff', 'difflib', 'parso.python.parser', 'parso.python.tree', 'parso.python.prefix', 'parso.cache', 'gc', 'parso.python.errors', 'parso.normalizer', 'parso.python.pep8', 'parso.file_io', 'jedi._compatibility', 'jedi.file_io', 'jedi.parser_utils', 'jedi.debug', 'jedi.settings', 'jedi.cache', 'jedi.api.classes', 'jedi.inference', 'jedi.inference.imports', 'jedi.inference.sys_path', 'jedi.inference.cache', 'jedi.inference.base_value', 'jedi.inference.helpers', 'jedi.inference.utils', 'jedi.common', 'jedi.inference.compiled', 'jedi.inference.compiled.value', 'jedi.inference.filters', 'jedi.inference.flow_analysis', 'jedi.inference.recursion', 'jedi.inference.names', 'jedi.inference.docstrings', 'jedi.inference.lazy_value', 'jedi.plugins', 'jedi.inference.compiled.access', 'jedi.inference.compiled.getattr_static', 'jedi.inference.signature', 'jedi.inference.context', 'jedi.inference.analysis', 'jedi.inference.gradual', 'jedi.inference.gradual.typeshed', 'jedi.inference.gradual.stub_value', 'jedi.inference.value', 'jedi.inference.value.module', 'jedi.inference.value.klass', 'jedi.inference.arguments', 'jedi.inference.value.iterable', 'jedi.inference.value.dynamic_arrays', 'jedi.inference.value.function', 'jedi.inference.parser_cache', 'jedi.inference.gradual.generics', 'jedi.inference.value.instance', 'jedi.inference.gradual.typing', 'jedi.inference.gradual.base', 'jedi.inference.gradual.type_var', 'jedi.inference.syntax_tree', 'jedi.inference.gradual.annotation', 'jedi.inference.param', 'jedi.inference.value.decorator', 'jedi.inference.compiled.mixed', 'jedi.inference.gradual.conversion', 'jedi.api.keywords', 'pydoc_data', 'pydoc_data.topics', 'jedi.api.completion_cache', 'jedi.api.helpers', 'jedi.api.interpreter', 'jedi.api.completion', 'jedi.api.strings', 'jedi.api.file_name', 'jedi.api.environment', 'filecmp', 'jedi.inference.compiled.subprocess', 'jedi.inference.compiled.subprocess.functions', 'jedi.api.exceptions', 'jedi.api.project', 'jedi.inference.references', 'jedi.api.errors', 'jedi.api.refactoring', 'jedi.api.refactoring.extract', 'jedi.inference.gradual.utils', 'jedi.plugins.registry', 'jedi.plugins.stdlib', 'jedi.plugins.flask', 'jedi.plugins.pytest', 'jedi.plugins.django', 'IPython.terminal.ptutils', 'IPython.terminal.shortcuts', 'IPython.lib.clipboard', 'IPython.terminal.magics', 'IPython.terminal.pt_inputhooks', 'IPython.terminal.prompts', 'IPython.terminal.ipapp', 'IPython.core.magics', 'IPython.core.magics.auto', 'IPython.core.magics.basic', 'IPython.core.magics.code', 'urllib.request', 'email', 'http', 'http.client', 'email.parser', 'email.feedparser', 'email.errors', 'email._policybase', 'email.header', 'email.quoprimime', 'email.base64mime', 'email.charset', 'email.encoders', 'quopri', 'email.utils', 'email._parseaddr', 'calendar', 'email.message', 'uu', 'email._encoded_words', 'email.iterators', 'urllib.error', 'urllib.response', 'nturl2path', 'IPython.core.magics.config', 'IPython.core.magics.display', 'IPython.core.magics.execution', 'timeit', 'cProfile', '_lsprof', 'profile', 'optparse', 'pstats', 'IPython.utils.module_paths', 'IPython.utils.timing', 'IPython.core.magics.extension', 'IPython.core.magics.history', 'IPython.core.magics.logging', 'IPython.core.magics.namespace', 'IPython.core.magics.osm', 'IPython.core.magics.packaging', 'IPython.core.magics.pylab', 'IPython.core.pylabtools', 'IPython.core.magics.script', 'IPython.lib.backgroundjobs', 'IPython.core.shellapp', 'IPython.extensions', 'IPython.extensions.storemagic', 'IPython.utils.frame', 'jupyter_client', 'jupyter_client._version', 'jupyter_client.connect', 'zmq', 'zmq.libzmq', 'zmq.backend', 'zmq.backend.select', 'zmq.backend.cython', 'zmq.backend.cython.constants', 'cython_runtime', 'zmq.backend.cython.error', '_cython_0_29_21', 'zmq.backend.cython.message', 'zmq.error', 'zmq.backend.cython.context', 'zmq.backend.cython.socket', 'zmq.backend.cython.utils', 'zmq.backend.cython._poll', 'zmq.backend.cython._version', 'zmq.backend.cython._device', 'zmq.backend.cython._proxy_steerable', 'zmq.sugar', 'zmq.sugar.constants', 'zmq.utils', 'zmq.utils.constant_names', 'zmq.sugar.context', 'zmq.sugar.attrsettr', 'zmq.sugar.socket', 'zmq.sugar.poll', 'zmq.utils.jsonapi', 'zmq.utils.strtypes', 'zmq.sugar.frame', 'zmq.sugar.tracker', 'zmq.sugar.version', 'zmq.sugar.stopwatch', 'jupyter_client.localinterfaces', 'jupyter_core', 'jupyter_core.version', 'jupyter_core.paths', 'distutils', 'distutils.util', 'distutils.errors', 'distutils.dep_util', 'distutils.spawn', 'distutils.debug', 'distutils.log', 'jupyter_client.launcher', 'traitlets.log', 'jupyter_client.client', 'jupyter_client.channels', 'jupyter_client.channelsabc', 'jupyter_client.clientabc', 'jupyter_client.manager', 'jupyter_client.kernelspec', 'jupyter_client.managerabc', 'jupyter_client.blocking', 'jupyter_client.blocking.client', 'jupyter_client.blocking.channels', 'jupyter_client.asynchronous', 'jupyter_client.asynchronous.client', 'zmq.asyncio', 'zmq._future', 'jupyter_client.asynchronous.channels', 'jupyter_client.multikernelmanager', 'uuid', 'ctypes.util', 'ipykernel.kernelapp', 'tornado', 'tornado.ioloop', 'numbers', 'tornado.concurrent', 'tornado.log', 'logging.handlers', 'tornado.escape', 'tornado.util', 'tornado.speedups', 'colorama', 'colorama.initialise', 'colorama.ansitowin32', 'colorama.ansi', 'colorama.winterm', 'colorama.win32', 'zmq.eventloop', 'zmq.eventloop.ioloop', 'tornado.platform', 'tornado.platform.asyncio', 'tornado.gen', 'zmq.eventloop.zmqstream', 'ipykernel.iostream', 'imp', 'jupyter_client.session', 'hmac', 'jupyter_client.jsonutil', 'dateutil', 'dateutil._version', 'dateutil.parser', 'dateutil.parser._parser', 'decimal', '_decimal', 'dateutil.relativedelta', 'dateutil._common', 'dateutil.tz', 'dateutil.tz.tz', 'six.moves', 'dateutil.tz._common', 'dateutil.tz._factories', 'dateutil.tz.win', 'dateutil.parser.isoparser', '_strptime', 'jupyter_client.adapter', 'ipykernel.heartbeat', 'ipykernel.ipkernel', 'IPython.utils.tokenutil', 'ipykernel.comm', 'ipykernel.comm.manager', 'ipykernel.comm.comm', 'ipykernel.kernelbase', 'tornado.queues', 'tornado.locks', 'ipykernel.jsonutil', 'ipykernel.zmqshell', 'IPython.core.payloadpage', 'ipykernel.displayhook', 'ipykernel.eventloops', 'distutils.version', 'ipykernel.parentpoller', 'win32api', 'win32security', 'ntsecuritycon', 'faulthandler', 'ipykernel.datapub', 'ipykernel.serialize', 'ipykernel.pickleutil', 'ipykernel.codeutil', 'IPython.core.completerlib', 'storemagic', 'cobra', 'cobra.core', 'cobra.core.configuration', 'cobra.core.singleton', 'cobra.exceptions', 'optlang', 'optlang._version', 'optlang.util', 'sympy', 'mpmath', 'mpmath.usertools', 'mpmath.ctx_fp', 'mpmath.ctx_base', 'mpmath.libmp', 'mpmath.libmp.libmpf', 'mpmath.libmp.backend', 'mpmath.libmp.six', 'mpmath.libmp.six.moves', 'mpmath.libmp.libintmath', 'mpmath.libmp.libmpc', 'mpmath.libmp.libelefun', 'mpmath.libmp.libhyper', 'mpmath.libmp.gammazeta', 'mpmath.libmp.libmpi', 'mpmath.functions', 'mpmath.functions.functions', 'cmath', 'mpmath.functions.factorials', 'mpmath.functions.hypergeometric', 'mpmath.functions.expintegrals', 'mpmath.functions.bessel', 'mpmath.functions.orthogonal', 'mpmath.functions.theta', 'mpmath.functions.elliptic', 'mpmath.functions.zeta', 'mpmath.functions.rszeta', 'mpmath.functions.zetazeros', 'mpmath.functions.qfunctions', 'mpmath.calculus', 'mpmath.calculus.calculus', 'mpmath.calculus.approximation', 'mpmath.calculus.differentiation', 'mpmath.calculus.extrapolation', 'mpmath.calculus.polynomials', 'mpmath.calculus.quadrature', 'mpmath.calculus.inverselaplace', 'mpmath.calculus.optimization', 'mpmath.calculus.odes', 'mpmath.matrices', 'mpmath.matrices.eigen', 'mpmath.matrices.eigen_symmetric', 'mpmath.matrices.matrices', 'mpmath.matrices.calculus', 'mpmath.matrices.linalg', 'mpmath.identification', 'mpmath.visualization', 'mpmath.math2', 'mpmath.function_docs', 'mpmath.ctx_mp', 'mpmath.rational', 'mpmath.ctx_mp_python', 'mpmath.ctx_iv', 'sympy.release', 'sympy.core', 'sympy.core.sympify', 'sympy.core.compatibility', 'sympy.external', 'sympy.external.importtools', 'sympy.core.parameters', 'sympy.core.cache', 'sympy.core.basic', 'sympy.core.assumptions', 'sympy.core.facts', 'sympy.core.logic', 'sympy.core.core', 'sympy.core.singleton', 'sympy.core.decorators', 'sympy.core.expr', 'sympy.core.evalf', 'sympy.utilities', 'sympy.utilities.iterables', 'sympy.utilities.enumerative', 'sympy.utilities.misc', 'sympy.utilities.lambdify', 'sympy.utilities.decorator', 'sympy.testing', 'sympy.testing.runtests', 'doctest', 'unittest', 'unittest.result', 'unittest.util', 'unittest.case', 'unittest.suite', 'unittest.loader', 'unittest.main', 'unittest.runner', 'unittest.signals', 'sympy.utilities.source', 'sympy.utilities.exceptions', 'sympy.utilities.timeutils', 'sympy.core.mul', 'sympy.core.operations', 'sympy.core.numbers', 'fractions', 'sympy.core.containers', 'sympy.core.power', 'sympy.core.function', 'sympy.core.add', 'sympy.core.rules', 'sympy.core.symbol', 'sympy.logic', 'sympy.logic.boolalg', 'sympy.logic.inference', 'sympy.core.mod', 'sympy.core.exprtools', 'sympy.core.coreerrors', 'sympy.core.relational', 'sympy.core.multidimensional', 'sympy.assumptions', 'sympy.assumptions.assume', 'sympy.assumptions.ask', 'sympy.assumptions.cnf', 'sympy.assumptions.ask_generated', 'sympy.assumptions.refine', 'sympy.polys', 'sympy.polys.polytools', 'sympy.polys.polyoptions', 'sympy.polys.polyerrors', 'sympy.polys.constructor', 'sympy.polys.domains', 'sympy.polys.domains.domain', 'sympy.polys.domains.domainelement', 'sympy.polys.orderings', 'sympy.polys.polyutils', 'sympy.polys.domains.finitefield', 'sympy.polys.domains.field', 'sympy.polys.domains.ring', 'sympy.polys.domains.groundtypes', 'sympy.polys.domains.pythonrational', 'sympy.printing', 'sympy.printing.pretty', 'sympy.printing.pretty.pretty', 'sympy.printing.conventions', 'sympy.printing.precedence', 'sympy.printing.printer', 'sympy.printing.str', 'sympy.printing.pretty.stringpict', 'sympy.printing.pretty.pretty_symbology', 'sympy.core.alphabets', 'sympy.printing.latex', 'sympy.printing.mathml', 'sympy.printing.python', 'sympy.printing.repr', 'sympy.printing.pycode', 'sympy.printing.codeprinter', 'sympy.codegen', 'sympy.codegen.ast', 'sympy.printing.ccode', 'sympy.sets', 'sympy.sets.sets', 'sympy.sets.contains', 'sympy.sets.fancysets', 'sympy.sets.conditionset', 'sympy.sets.ordinals', 'sympy.sets.powerset', 'sympy.printing.glsl', 'sympy.printing.cxxcode', 'sympy.printing.fcode', 'sympy.codegen.fnodes', 'sympy.printing.rcode', 'sympy.printing.jscode', 'sympy.printing.julia', 'sympy.printing.mathematica', 'sympy.printing.octave', 'sympy.printing.rust', 'sympy.printing.gtk', 'sympy.utilities.mathml', 'sympy.utilities.pkgdata', 'sympy.printing.preview', 'sympy.printing.tree', 'sympy.printing.tableform', 'sympy.printing.dot', 'sympy.printing.maple', 'sympy.printing.defaults', 'sympy.polys.domains.modularinteger', 'sympy.polys.domains.simpledomain', 'sympy.polys.domains.integerring', 'sympy.polys.domains.characteristiczero', 'sympy.polys.domains.rationalfield', 'sympy.polys.domains.realfield', 'sympy.polys.domains.mpelements', 'sympy.polys.domains.complexfield', 'sympy.polys.domains.pythonfinitefield', 'sympy.polys.domains.pythonintegerring', 'sympy.polys.domains.gmpyfinitefield', 'sympy.polys.domains.gmpyintegerring', 'sympy.polys.domains.pythonrationalfield', 'sympy.polys.domains.gmpyrationalfield', 'sympy.polys.domains.algebraicfield', 'sympy.polys.polyclasses', 'sympy.polys.densebasic', 'sympy.polys.monomials', 'sympy.polys.densearith', 'sympy.polys.densetools', 'sympy.polys.euclidtools', 'sympy.ntheory', 'sympy.ntheory.generate', 'sympy.ntheory.primetest', 'sympy.ntheory.factor_', 'sympy.ntheory.digits', 'sympy.ntheory.partitions_', 'sympy.ntheory.residue_ntheory', 'sympy.ntheory.multinomial', 'sympy.ntheory.continued_fraction', 'sympy.ntheory.egyptian_fraction', 'sympy.polys.galoistools', 'sympy.polys.polyconfig', 'sympy.polys.sqfreetools', 'sympy.polys.factortools', 'sympy.polys.rootisolation', 'sympy.polys.domains.polynomialring', 'sympy.polys.domains.compositedomain', 'sympy.polys.domains.fractionfield', 'sympy.polys.domains.expressiondomain', 'sympy.polys.fglmtools', 'sympy.polys.groebnertools', 'sympy.polys.rationaltools', 'sympy.polys.polyfuncs', 'sympy.polys.specialpolys', 'sympy.functions', 'sympy.functions.combinatorial', 'sympy.functions.combinatorial.factorials', 'sympy.functions.combinatorial.numbers', 'sympy.functions.elementary', 'sympy.functions.elementary.exponential', 'sympy.functions.elementary.miscellaneous', 'sympy.functions.elementary.integers', 'sympy.functions.elementary.trigonometric', 'sympy.functions.elementary.hyperbolic', 'sympy.functions.elementary.piecewise', 'sympy.utilities.memoization', 'sympy.functions.elementary.complexes', 'sympy.functions.special', 'sympy.functions.special.error_functions', 'sympy.functions.special.hyper', 'sympy.functions.special.gamma_functions', 'sympy.functions.special.zeta_functions', 'sympy.functions.special.tensor_functions', 'sympy.functions.special.singularity_functions', 'sympy.functions.special.delta_functions', 'sympy.functions.special.bsplines', 'sympy.functions.special.bessel', 'sympy.polys.orthopolys', 'sympy.functions.special.polynomials', 'sympy.functions.special.spherical_harmonics', 'sympy.functions.special.elliptic_integrals', 'sympy.functions.special.beta_functions', 'sympy.functions.special.mathieu_functions', 'sympy.polys.rings', 'sympy.polys.compatibility', 'sympy.polys.heuristicgcd', 'sympy.utilities.magic', 'sympy.polys.numberfields', 'sympy.polys.ring_series', 'sympy.polys.rootoftools', 'sympy.polys.polyroots', 'sympy.polys.polyquinticconst', 'sympy.simplify', 'sympy.simplify.simplify', 'sympy.simplify.combsimp', 'sympy.simplify.gammasimp', 'sympy.simplify.cse_opts', 'sympy.simplify.powsimp', 'sympy.simplify.radsimp', 'sympy.simplify.sqrtdenest', 'sympy.simplify.trigsimp', 'sympy.simplify.cse_main', 'sympy.strategies', 'sympy.strategies.rl', 'sympy.strategies.util', 'sympy.strategies.traverse', 'sympy.strategies.core', 'sympy.strategies.tools', 'sympy.strategies.branch', 'sympy.strategies.branch.traverse', 'sympy.strategies.branch.core', 'sympy.strategies.branch.tools', 'sympy.strategies.tree', 'sympy.simplify.fu', 'sympy.simplify.traversaltools', 'sympy.simplify.epathtools', 'sympy.simplify.hyperexpand', 'sympy.series', 'sympy.series.order', 'sympy.series.limits', 'sympy.simplify.ratsimp', 'sympy.series.gruntz', 'sympy.series.series', 'sympy.series.approximants', 'sympy.series.residues', 'sympy.series.sequences', 'sympy.tensor', 'sympy.tensor.indexed', 'sympy.tensor.index_methods', 'sympy.tensor.array', 'sympy.tensor.array.dense_ndim_array', 'sympy.tensor.array.mutable_ndim_array', 'sympy.tensor.array.ndim_array', 'sympy.tensor.array.sparse_ndim_array', 'sympy.tensor.array.arrayop', 'sympy.tensor.array.array_comprehension', 'sympy.series.fourier', 'sympy.series.series_class', 'sympy.series.formal', 'sympy.discrete', 'sympy.discrete.transforms', 'sympy.discrete.convolutions', 'sympy.series.limitseq', 'sympy.printing.lambdarepr', 'sympy.polys.partfrac', 'sympy.matrices', 'sympy.matrices.common', 'sympy.matrices.utilities', 'sympy.matrices.dense', 'sympy.matrices.matrices', 'sympy.matrices.determinant', 'sympy.matrices.reductions', 'sympy.matrices.subspaces', 'sympy.matrices.eigen', 'sympy.matrices.decompositions', 'sympy.matrices.graph', 'sympy.matrices.solvers', 'sympy.matrices.inverse', 'sympy.matrices.sparse', 'sympy.matrices.sparsetools', 'sympy.matrices.immutable', 'sympy.matrices.expressions', 'sympy.matrices.expressions.slice', 'sympy.matrices.expressions.matexpr', 'sympy.matrices.expressions.matmul', 'sympy.matrices.expressions.inverse', 'sympy.matrices.expressions.matpow', 'sympy.matrices.expressions.transpose', 'sympy.matrices.expressions.permutation', 'sympy.matrices.expressions.matadd', 'sympy.matrices.expressions.blockmatrix', 'sympy.matrices.expressions.trace', 'sympy.matrices.expressions.determinant', 'sympy.matrices.expressions.funcmatrix', 'sympy.matrices.expressions.adjoint', 'sympy.matrices.expressions.hadamard', 'sympy.matrices.expressions.diagonal', 'sympy.matrices.expressions.dotproduct', 'sympy.matrices.expressions.kronecker', 'sympy.polys.fields', 'sympy.concrete', 'sympy.concrete.products', 'sympy.concrete.expr_with_intlimits', 'sympy.concrete.expr_with_limits', 'sympy.concrete.summations', 'sympy.calculus', 'sympy.calculus.euler', 'sympy.calculus.singularities', 'sympy.solvers', 'sympy.solvers.solvers', 'sympy.integrals', 'sympy.integrals.integrals', 'sympy.integrals.manualintegrate', 'sympy.integrals.trigonometry', 'sympy.integrals.meijerint', 'sympy.integrals.transforms', 'sympy.solvers.inequalities', 'sympy.integrals.singularityfunctions', 'sympy.solvers.polysys', 'sympy.solvers.bivariate', 'sympy.solvers.diophantine', 'sympy.solvers.diophantine.diophantine', 'sympy.solvers.solveset', 'sympy.calculus.util', 'sympy.solvers.recurr', 'sympy.solvers.ode', 'sympy.solvers.ode.ode', 'sympy.solvers.pde', 'sympy.solvers.deutils', 'sympy.solvers.ode.subscheck', 'sympy.solvers.ode.single', 'sympy.solvers.decompogen', 'sympy.calculus.finite_diff', 'sympy.concrete.gosper', 'sympy.geometry', 'sympy.geometry.point', 'sympy.geometry.exceptions', 'sympy.geometry.entity', 'sympy.multipledispatch', 'sympy.multipledispatch.core', 'sympy.multipledispatch.dispatcher', 'sympy.multipledispatch.conflict', 'sympy.multipledispatch.utils', 'sympy.sets.handlers', 'sympy.sets.handlers.intersection', 'sympy.sets.handlers.union', 'sympy.geometry.line', 'sympy.geometry.util', 'sympy.geometry.plane', 'sympy.geometry.ellipse', 'sympy.geometry.polygon', 'sympy.geometry.curve', 'sympy.geometry.parabola', 'sympy.parsing', 'sympy.parsing.sympy_parser', 'sympy.algebras', 'sympy.algebras.quaternion', 'sympy.plotting', 'sympy.plotting.plot', 'sympy.plotting.experimental_lambdify', 'sympy.plotting.textplot', 'sympy.plotting.plot_implicit', 'sympy.plotting.intervalmath', 'sympy.plotting.intervalmath.interval_arithmetic', 'sympy.plotting.intervalmath.interval_membership', 'sympy.plotting.intervalmath.lib_interval', 'sympy.plotting.pygletplot', 'sympy.interactive', 'sympy.interactive.printing', 'sympy.interactive.session', 'sympy.deprecated', 'sympy.deprecated.class_registry', 'optlang.symbolics', 'optlang.interface', 'optlang.exceptions', 'optlang.container', 'optlang.duality', 'gurobipy', '_cython_0_28_5', 'gurobipy.gurobipy', 'swiglpk', 'swiglpk.swiglpk', 'swig_runtime_data4', 'swiglpk._swiglpk', 'cplex', 'cplex.aborter', 'cplex._internal', 'cplex._internal._aux_functions', 'cplex.exceptions', 'cplex.exceptions.error_codes', 'cplex.exceptions.errors', 'cplex._internal._baseinterface', 'cplex._internal._list_array_utils', 'cplex._internal._pycplex', 'cplex._internal._pycplex_platform', 'cplex._internal.py36_cplex12100', 'cplex._internal._ostream', 'cplex._internal._procedural', 'cplex._internal._constants', 'cplex._internal._matrices', 'cplex._internal._multiobj', 'cplex._internal._subinterfaces', 'cplex._internal._multiobjsoln', 'cplex.constant_class', 'cplex._internal._parameter_classes', 'cplex.paramset', 'cplex._internal._parameter_hierarchy', 'cplex._internal._parameters_auto', 'cplex._internal._anno', 'cplex._internal._pwl', 'cplex._internal._constantsenum', 'cplex._internal._callbackinfoenum', 'cplex._internal._solutionstrategyenum', 'cplex.callbacks', 'cplex.model_info', 'scipy', 'numpy', 'numpy._globals', 'numpy.__config__', 'numpy.version', 'numpy._distributor_init', 'numpy.core', 'numpy.core.multiarray', 'numpy.core.overrides', 'numpy.core._multiarray_umath', 'numpy.compat', 'numpy.compat._inspect', 'numpy.compat.py3k', 'numpy.core.umath', 'numpy.core.numerictypes', 'numpy.core._string_helpers', 'numpy.core._type_aliases', 'numpy.core._dtype', 'numpy.core.numeric', 'numpy.core.shape_base', 'numpy.core._asarray', 'numpy.core.fromnumeric', 'numpy.core._methods', 'numpy.core._exceptions', 'numpy.core._ufunc_config', 'numpy.core.arrayprint', 'numpy.core.defchararray', 'numpy.core.records', 'numpy.core.memmap', 'numpy.core.function_base', 'numpy.core.machar', 'numpy.core.getlimits', 'numpy.core.einsumfunc', 'numpy.core._add_newdocs', 'numpy.core._multiarray_tests', 'numpy.core._dtype_ctypes', 'numpy.core._internal', 'numpy._pytesttester', 'numpy.lib', 'numpy.lib.mixins', 'numpy.lib.scimath', 'numpy.lib.type_check', 'numpy.lib.ufunclike', 'numpy.lib.index_tricks', 'numpy.matrixlib', 'numpy.matrixlib.defmatrix', 'numpy.linalg', 'numpy.linalg.linalg', 'numpy.lib.twodim_base', 'numpy.linalg.lapack_lite', 'numpy.linalg._umath_linalg', 'numpy.lib.function_base', 'numpy.lib.histograms', 'numpy.lib.stride_tricks', 'numpy.lib.nanfunctions', 'numpy.lib.shape_base', 'numpy.lib.polynomial', 'numpy.lib.utils', 'numpy.lib.arraysetops', 'numpy.lib.npyio', 'numpy.lib.format', 'numpy.lib._datasource', 'numpy.lib._iotools', 'numpy.lib.financial', 'numpy.lib.arrayterator', 'numpy.lib.arraypad', 'numpy.lib._version', 'numpy.fft', 'numpy.fft._pocketfft', 'numpy.fft._pocketfft_internal', 'numpy.fft.helper', 'numpy.polynomial', 'numpy.polynomial.polynomial', 'numpy.polynomial.polyutils', 'numpy.polynomial._polybase', 'numpy.polynomial.chebyshev', 'numpy.polynomial.legendre', 'numpy.polynomial.hermite', 'numpy.polynomial.hermite_e', 'numpy.polynomial.laguerre', 'numpy.random', 'numpy.random._pickle', 'numpy.random.mtrand', 'numpy.random._bit_generator', '_cython_0_29_19', 'numpy.random._common', 'secrets', 'numpy.random._bounded_integers', 'numpy.random._mt19937', 'numpy.random._philox', 'numpy.random._pcg64', 'numpy.random._sfc64', 'numpy.random._generator', 'numpy.ctypeslib', 'numpy.ma', 'numpy.ma.core', 'numpy.ma.extras', 'numpy.testing', 'numpy.testing._private', 'numpy.testing._private.utils', 'numpy.testing._private.decorators', 'numpy.testing._private.nosetester', 'scipy._lib', 'scipy._lib._testutils', 'scipy._lib.deprecation', 'scipy._distributor_init', 'scipy.__config__', 'scipy.version', 'scipy._lib._version', 'scipy._lib.six', 'scipy._lib._ccallback', 'scipy._lib._ccallback_c', 'scipy.fft', 'scipy.fft._basic', 'scipy._lib.uarray', 'scipy._lib._uarray', 'scipy._lib._uarray._backend', 'scipy._lib._uarray._uarray', 'scipy.fft._realtransforms', 'scipy.fft._helper', 'scipy.fft._pocketfft', 'scipy.fft._pocketfft.basic', 'scipy.fft._pocketfft.pypocketfft', 'scipy.fft._pocketfft.helper', 'scipy.fft._pocketfft.realtransforms', 'scipy.fft._backend', 'numpy.dual', 'scipy.optimize', 'scipy.optimize.optimize', 'scipy.optimize.linesearch', 'scipy.optimize.minpack2', 'scipy._lib._util', 'scipy.optimize._minimize', 'scipy.optimize._trustregion_dogleg', 'scipy.linalg', 'scipy.linalg.linalg_version', 'scipy.linalg.misc', 'scipy.linalg.blas', 'scipy.linalg._fblas', 'scipy.linalg.lapack', 'scipy.linalg._flapack', 'scipy.linalg.basic', 'scipy.linalg.flinalg', 'scipy.linalg._flinalg', 'scipy.linalg.decomp', 'scipy.linalg.decomp_svd', 'scipy.linalg._solve_toeplitz', '_cython_0_29_13', 'scipy.linalg.decomp_lu', 'scipy.linalg._decomp_ldl', 'scipy.linalg.decomp_cholesky', 'scipy.linalg.decomp_qr', 'scipy.linalg._decomp_qz', 'scipy.linalg.decomp_schur', 'scipy.linalg._decomp_polar', 'scipy.linalg.matfuncs', 'scipy.linalg.special_matrices', 'scipy.linalg._expm_frechet', 'scipy.linalg._matfuncs_sqrtm', 'scipy.linalg._solvers', 'scipy.linalg._procrustes', 'scipy.linalg._decomp_update', 'scipy.linalg.cython_blas', 'scipy.linalg.cython_lapack', 'scipy.linalg._sketches', 'scipy.sparse', 'scipy.sparse.base', 'scipy._lib._numpy_compat', 'scipy.sparse.sputils', 'scipy.sparse.csr', 'scipy.sparse._sparsetools', 'scipy.sparse.compressed', 'scipy.sparse.data', 'scipy.sparse.dia', 'scipy.sparse._index', 'scipy.sparse.csc', 'scipy.sparse.lil', 'scipy.sparse._csparsetools', 'scipy.sparse.dok', 'scipy.sparse.coo', 'scipy.sparse.bsr', 'scipy.sparse.construct', 'scipy.sparse.extract', 'scipy.sparse._matrix_io', 'scipy.sparse.csgraph', 'scipy.sparse.csgraph._laplacian', 'scipy.sparse.csgraph._shortest_path', 'scipy.sparse.csgraph._validation', 'scipy.sparse.csgraph._tools', 'scipy.sparse.csgraph._traversal', 'scipy.sparse.csgraph._min_spanning_tree', 'scipy.sparse.csgraph._flow', 'scipy.sparse.csgraph._matching', 'scipy.sparse.csgraph._reordering', 'scipy.optimize._trustregion', 'scipy.optimize._trustregion_ncg', 'scipy.optimize._trustregion_krylov', 'scipy.optimize._trlib', 'scipy.optimize._trlib._trlib', 'scipy._lib.messagestream', 'scipy.optimize._trustregion_exact', 'scipy.optimize._trustregion_constr', 'scipy.optimize._trustregion_constr.minimize_trustregion_constr', 'scipy.sparse.linalg', 'scipy.sparse.linalg.isolve', 'scipy.sparse.linalg.isolve.iterative', 'scipy.sparse.linalg.isolve._iterative', 'scipy.sparse.linalg.interface', 'scipy.sparse.linalg.isolve.utils', 'scipy._lib._threadsafety', 'scipy._lib.decorator', 'scipy.sparse.linalg.isolve.minres', 'scipy.sparse.linalg.isolve.lgmres', 'scipy.sparse.linalg.isolve._gcrotmk', 'scipy.sparse.linalg.isolve.lsqr', 'scipy.sparse.linalg.isolve.lsmr', 'scipy.sparse.linalg.dsolve', 'scipy.sparse.linalg.dsolve.linsolve', 'scipy.sparse.linalg.dsolve._superlu', 'scipy.sparse.linalg.dsolve._add_newdocs', 'scipy.sparse.linalg.eigen', 'scipy.sparse.linalg.eigen.arpack', 'scipy.sparse.linalg.eigen.arpack.arpack', 'scipy.sparse.linalg.eigen.arpack._arpack', 'scipy.sparse.linalg.eigen.lobpcg', 'scipy.sparse.linalg.eigen.lobpcg.lobpcg', 'scipy.sparse.linalg.matfuncs', 'scipy.special', 'scipy.special.sf_error', 'scipy.special._ufuncs', 'scipy.special._ufuncs_cxx', 'scipy.special._basic', 'scipy.special.specfun', 'scipy.special.orthogonal', 'scipy.special._comb', 'scipy.special._logsumexp', 'scipy.special.spfun_stats', 'scipy.special._ellip_harm', 'scipy.special._ellip_harm_2', 'scipy.special.lambertw', 'scipy.special._spherical_bessel', 'scipy.sparse.linalg._expm_multiply', 'scipy.sparse.linalg._onenormest', 'scipy.sparse.linalg._norm', 'scipy.optimize._differentiable_functions', 'scipy.optimize._numdiff', 'scipy.optimize._group_columns', 'scipy.optimize._hessian_update_strategy', 'scipy.optimize._constraints', 'scipy.optimize._trustregion_constr.equality_constrained_sqp', 'scipy.optimize._trustregion_constr.projections', 'scipy.optimize._trustregion_constr.qp_subproblem', 'scipy.optimize._trustregion_constr.canonical_constraint', 'scipy.optimize._trustregion_constr.tr_interior_point', 'scipy.optimize._trustregion_constr.report', 'scipy.optimize.lbfgsb', 'scipy.optimize._lbfgsb', 'scipy.optimize.tnc', 'scipy.optimize.moduleTNC', 'scipy.optimize.cobyla', 'scipy.optimize._cobyla', 'scipy.optimize.slsqp', 'scipy.optimize._slsqp', 'scipy.optimize._root', 'scipy.optimize.minpack', 'scipy.optimize._minpack', 'scipy.optimize._lsq', 'scipy.optimize._lsq.least_squares', 'scipy.optimize._lsq.trf', 'scipy.optimize._lsq.common', 'scipy.optimize._lsq.dogbox', 'scipy.optimize._lsq.lsq_linear', 'scipy.optimize._lsq.trf_linear', 'scipy.optimize._lsq.givens_elimination', 'scipy.optimize._lsq.bvls', 'scipy.optimize._spectral', 'scipy.optimize.nonlin', 'scipy.optimize._root_scalar', 'scipy.optimize.zeros', 'scipy.optimize._zeros', 'scipy.optimize.nnls', 'scipy.optimize._nnls', 'scipy.optimize._basinhopping', 'scipy.optimize._linprog', 'scipy.optimize._linprog_ip', 'scipy.optimize._linprog_util', 'scipy.optimize._remove_redundancy', 'scipy.optimize._linprog_simplex', 'scipy.optimize._linprog_rs', 'scipy.optimize._bglu_dense', 'scipy.optimize._lsap', 'scipy.optimize._lsap_module', 'scipy.optimize._differentialevolution', 'scipy.optimize._shgo', 'scipy.spatial', 'scipy.spatial.kdtree', 'scipy.spatial.ckdtree', 'scipy.spatial.qhull', 'scipy.spatial._spherical_voronoi', 'scipy.spatial._voronoi', 'scipy.spatial._plotutils', 'scipy.spatial._procrustes', 'scipy.spatial.distance', 'scipy.spatial._distance_wrap', 'scipy.spatial._hausdorff', 'scipy.spatial.transform', 'scipy.spatial.transform.rotation', 'scipy.spatial.transform._rotation_groups', 'scipy.constants', 'scipy.constants.codata', 'scipy.constants.constants', 'scipy.spatial.transform._rotation_spline', 'scipy.optimize._shgo_lib', 'scipy.optimize._shgo_lib.sobol_seq', 'scipy.optimize._shgo_lib.triangulation', 'scipy.optimize._dual_annealing', 'optlang.glpk_interface', 'optlang.expression_parsing', 'optlang.glpk_exact_interface', 'optlang.cplex_interface', 'optlang.gurobi_interface', 'optlang.scipy_interface', 'cobra.util', 'cobra.util.array', 'pandas', 'pytz', 'pytz.exceptions', 'pytz.lazy', 'pytz.tzinfo', 'pytz.tzfile', 'pandas.compat', 'pandas.compat.numpy', 'pandas._libs', 'pandas._libs.tslibs', 'pandas._libs.tslibs.conversion', 'pandas._libs.tslibs.c_timestamp', 'pandas._libs.tslibs.nattype', '_cython_0_29_16', 'pandas._libs.missing', 'pandas._libs.tslibs.np_datetime', 'pandas._libs.ops_dispatch', 'pandas._libs.tslibs.timezones', 'pandas._libs.tslibs.tzconversion', 'pandas._libs.tslibs.timedeltas', 'pandas._libs.tslibs.offsets', 'pandas._libs.tslibs.ccalendar', 'pandas._config', 'pandas._config.config', 'pandas._config.dates', 'pandas._config.display', 'pandas._config.localization', 'pandas._libs.tslibs.strptime', 'pandas._libs.tslibs.fields', 'pandas._libs.tslibs.parsing', 'pandas._libs.tslibs.frequencies', 'pandas._libs.tslibs.period', 'pandas._libs.tslibs.timestamps', 'pandas._libs.tslibs.resolution', 'pandas._libs.hashtable', 'pandas._libs.lib', 'pandas._libs.tslib', 'pandas.core', 'pandas.core.config_init', 'pandas.core.api', 'pandas.core.dtypes', 'pandas.core.dtypes.dtypes', 'pandas._libs.interval', 'pandas._libs.algos', 'pandas._typing', 'pandas.core.dtypes.base', 'pandas.errors', 'pandas.core.dtypes.generic', 'pandas.core.dtypes.inference', 'pandas.core.dtypes.missing', 'pandas.core.dtypes.common', 'pandas.core.algorithms', 'pandas.util', 'pandas.util._decorators', 'pandas._libs.properties', 'pandas.core.util', 'pandas.core.util.hashing', 'pandas._libs.hashing', 'pandas.core.dtypes.cast', 'pandas.util._validators', 'pandas.core.common', 'pandas.core.construction', 'pandas.core.indexers', 'pandas.core.arrays', 'pandas.core.arrays.base', 'pandas.compat.numpy.function', 'pandas.core.ops', 'pandas.core.ops.array_ops', 'pandas._libs.ops', 'pandas.core.ops.missing', 'pandas.core.ops.roperator', 'pandas.core.ops.dispatch', 'pandas.core.ops.invalid', 'pandas.core.ops.common', 'pandas.core.ops.docstrings', 'pandas.core.ops.mask_ops', 'pandas.core.ops.methods', 'pandas.core.missing', 'pandas.compat._optional', 'pandas.core.sorting', 'pandas.core.arrays.boolean', 'pandas.core.nanops', 'pandas.core.arrays.masked', 'pandas.core.arrays.categorical', 'pandas.core.accessor', 'pandas.core.base', 'pandas.io', 'pandas.io.formats', 'pandas.io.formats.console', 'pandas.core.arrays.datetimes', 'pandas.core.arrays.datetimelike', 'pandas.tseries', 'pandas.tseries.frequencies', 'pandas.tseries.offsets', 'dateutil.easter', 'pandas.core.arrays._ranges', 'pandas.core.arrays.integer', 'pandas.core.tools', 'pandas.core.tools.numeric', 'pandas.core.arrays.interval', 'pandas.core.indexes', 'pandas.core.indexes.base', 'pandas._libs.index', 'pandas._libs.join', 'pandas.core.dtypes.concat', 'pandas.core.indexes.frozen', 'pandas.io.formats.printing', 'pandas.core.strings', 'pandas.core.arrays.numpy_', 'pandas.core.arrays.period', 'pandas.core.arrays.sparse', 'pandas.core.arrays.sparse.accessor', 'pandas.core.arrays.sparse.array', 'pandas._libs.sparse', 'pandas.core.arrays.sparse.dtype', 'pandas.core.arrays.string_', 'pandas.core.arrays.timedeltas', 'pandas.core.groupby', 'pandas.core.groupby.generic', 'pandas.core.frame', 'pandas.core.generic', 'pandas.core.indexes.api', 'pandas.core.indexes.category', 'pandas.core.indexes.extension', 'pandas.core.indexes.datetimes', 'pandas.core.indexes.datetimelike', 'pandas.core.indexes.numeric', 'pandas.core.tools.timedeltas', 'pandas.core.tools.datetimes', 'pandas.arrays', 'pandas.core.indexes.interval', 'pandas.util._exceptions', 'pandas.core.indexes.multi', 'pandas.core.indexes.timedeltas', 'pandas.core.indexes.period', 'pandas.core.indexes.range', 'pandas.core.indexing', 'pandas._libs.indexing', 'pandas.core.internals', 'pandas.core.internals.blocks', 'pandas._libs.writers', 'pandas._libs.internals', 'pandas.core.internals.managers', 'pandas.core.internals.concat', 'pandas.io.formats.format', 'pandas.io.common', 'gzip', 'mmap', 'zipfile', 'pandas.core.internals.construction', 'pandas.core.series', 'pandas._libs.reshape', 'pandas.core.indexes.accessors', 'pandas.plotting', 'pandas.plotting._core', 'pandas.plotting._misc', 'pandas.core.window', 'pandas.core.window.ewm', 'pandas._libs.window', 'pandas._libs.window.aggregations', 'pandas.core.window.common', 'pandas.core.groupby.base', 'pandas.core.window.rolling', 'pandas.core.window.indexers', 'pandas._libs.window.indexers', 'pandas.core.window.numba_', 'pandas.core.window.expanding', 'pandas.core.groupby.groupby', 'pandas._libs.groupby', 'pandas.core.groupby.ops', 'pandas._libs.reduction', 'pandas.core.groupby.grouper', 'pandas.core.groupby.categorical', 'pandas.tseries.api', 'pandas.core.computation', 'pandas.core.computation.api', 'pandas.core.computation.eval', 'pandas.core.computation.engines', 'pandas.core.computation.align', 'pandas.core.computation.common', 'pandas.core.computation.ops', 'pandas.core.computation.scope', 'pandas.compat.chainmap', 'pandas.core.computation.expr', 'pandas.core.computation.parsing', 'pandas.core.reshape', 'pandas.core.reshape.api', 'pandas.core.reshape.concat', 'pandas.core.reshape.melt', 'pandas.core.reshape.merge', 'pandas.core.reshape.pivot', 'pandas.core.reshape.util', 'pandas.core.reshape.reshape', 'pandas.core.reshape.tile', 'pandas.api', 'pandas.api.extensions', 'pandas.api.indexers', 'pandas.api.types', 'pandas.core.dtypes.api', 'pandas.util._print_versions', 'pandas.io.api', 'pandas.io.clipboards', 'pandas.io.excel', 'pandas.io.excel._base', 'pandas._libs.parsers', 'csv', '_csv', 'pandas.io.excel._util', 'pandas.io.parsers', 'pandas.io.date_converters', 'pandas.io.excel._odfreader', 'pandas.io.excel._openpyxl', 'pandas.io.excel._xlrd', 'pandas.io.excel._pyxlsb', 'pandas.io.excel._xlsxwriter', 'pandas._libs.json', 'pandas.io.excel._xlwt', 'pandas.io.feather_format', 'pandas.io.gbq', 'pandas.io.html', 'pandas.io.json', 'pandas.io.json._json', 'pandas.io.json._normalize', 'pandas.io.json._table_schema', 'pandas.io.orc', 'pandas.io.parquet', 'pandas.io.pickle', 'pandas.compat.pickle_compat', 'pandas.io.pytables', 'pandas.core.computation.pytables', 'pandas.io.sas', 'pandas.io.sas.sasreader', 'pandas.io.spss', 'pandas.io.sql', 'pandas.io.stata', 'pandas.util._tester', 'pandas.testing', 'pandas._testing', 'pandas._libs.testing', 'pandas._version', 'cobra.util.context', 'cobra.util.solver', 'cobra.util.util', 'depinfo', 'depinfo._version', 'depinfo.info', 'pkg_resources', 'plistlib', 'xml.parsers', 'xml.parsers.expat', 'pyexpat.errors', 'pyexpat.model', 'pyexpat', 'xml.parsers.expat.model', 'xml.parsers.expat.errors', 'pkg_resources.extern', 'pkg_resources._vendor', 'pkg_resources._vendor.six', 'pkg_resources.extern.six', 'pkg_resources._vendor.six.moves', 'pkg_resources.extern.six.moves', 'pkg_resources._vendor.appdirs', 'win32com', 'pythoncom', 'pywintypes', '_win32sysloader', 'win32com.gen_py', 'win32com.shell', 'pkg_resources.extern.appdirs', 'pkg_resources._vendor.packaging', 'pkg_resources._vendor.packaging.__about__', 'pkg_resources.extern.packaging', 'pkg_resources.extern.packaging.version', 'pkg_resources.extern.packaging._structures', 'pkg_resources.extern.packaging._typing', 'pkg_resources.extern.packaging.specifiers', 'pkg_resources.extern.packaging._compat', 'pkg_resources.extern.packaging.utils', 'pkg_resources.extern.packaging.requirements', 'pkg_resources._vendor.pyparsing', 'pkg_resources.extern.pyparsing', 'pkg_resources._vendor.six.moves.urllib', 'pkg_resources.extern.six.moves.urllib', 'pkg_resources.extern.packaging.markers', 'pipdeptree', 'pip', 'pip._internal', 'pip._internal.utils', 'pip._internal.utils.inject_securetransport', 'pip._internal.utils.typing', 'pip._internal.utils.misc', 'pip._vendor', 'pip._vendor.pkg_resources', 'pip._vendor.six', 'pip._vendor.six.moves', 'pip._vendor.six.moves.urllib', 'pip._vendor.pkg_resources.py31compat', 'pip._vendor.appdirs', 'pip._vendor.packaging', 'pip._vendor.packaging.__about__', 'pip._vendor.packaging.version', 'pip._vendor.packaging._structures', 'pip._vendor.packaging._typing', 'pip._vendor.packaging.specifiers', 'pip._vendor.packaging._compat', 'pip._vendor.packaging.utils', 'pip._vendor.packaging.requirements', 'pip._vendor.pyparsing', 'pip._vendor.packaging.markers', 'pip._vendor.retrying', 'pip._vendor.six.moves.urllib.parse', 'pip._internal.exceptions', 'pip._internal.locations', 'distutils.sysconfig', 'distutils.command', 'distutils.command.install', 'distutils.core', 'distutils.dist', 'distutils.fancy_getopt', 'distutils.cmd', 'distutils.dir_util', 'distutils.file_util', 'distutils.archive_util', 'distutils.config', 'configparser', 'distutils.extension', 'pip._internal.models', 'pip._internal.models.scheme', 'pip._internal.utils.appdirs', 'pip._internal.utils.compat', 'pip._internal.utils.virtualenv', 'pip._internal.operations', 'pip._internal.operations.freeze', 'pip._internal.req', 'pip._internal.utils.logging', 'pip._internal.utils.deprecation', 'pip._vendor.colorama', 'pip._vendor.colorama.initialise', 'pip._vendor.colorama.ansitowin32', 'pip._vendor.colorama.ansi', 'pip._vendor.colorama.winterm', 'pip._vendor.colorama.win32', 'pip._internal.req.req_file', 'pip._internal.cli', 'pip._internal.cli.cmdoptions', 'pip._internal.cli.progress_bars', 'pip._vendor.progress', 'pip._vendor.progress.bar', 'pip._vendor.progress.spinner', 'pip._internal.models.format_control', 'pip._internal.models.index', 'pip._internal.models.target_python', 'pip._internal.utils.compatibility_tags', 'pip._vendor.packaging.tags', 'pip._internal.utils.hashes', 'pip._internal.models.search_scope', 'pip._internal.network', 'pip._internal.network.utils', 'pip._vendor.requests', 'pip._vendor.urllib3', 'pip._vendor.urllib3.connectionpool', 'pip._vendor.urllib3.exceptions', 'pip._vendor.urllib3.packages', 'pip._vendor.urllib3.packages.ssl_match_hostname', 'pip._vendor.urllib3.packages.six', 'pip._vendor.urllib3.packages.six.moves', 'pip._vendor.urllib3.packages.six.moves.http_client', 'pip._vendor.urllib3.connection', 'pip._vendor.urllib3.util', 'pip._vendor.urllib3.util.connection', 'pip._vendor.urllib3.util.wait', 'pip._vendor.urllib3.contrib', 'pip._vendor.urllib3.contrib._appengine_environ', 'pip._vendor.urllib3.util.request', 'pip._vendor.urllib3.util.response', 'pip._vendor.urllib3.util.ssl_', 'pip._vendor.urllib3.util.url', 'pip._vendor.urllib3.util.timeout', 'pip._vendor.urllib3.util.retry', 'pip._vendor.urllib3._collections', 'pip._vendor.urllib3.request', 'pip._vendor.urllib3.filepost', 'pip._vendor.urllib3.fields', 'pip._vendor.urllib3.packages.six.moves.urllib', 'pip._vendor.urllib3.packages.six.moves.urllib.parse', 'pip._vendor.urllib3.response', 'pip._vendor.urllib3.util.queue', 'pip._vendor.urllib3.poolmanager', 'pip._vendor.chardet', 'pip._vendor.chardet.compat', 'pip._vendor.chardet.universaldetector', 'pip._vendor.chardet.charsetgroupprober', 'pip._vendor.chardet.enums', 'pip._vendor.chardet.charsetprober', 'pip._vendor.chardet.escprober', 'pip._vendor.chardet.codingstatemachine', 'pip._vendor.chardet.escsm', 'pip._vendor.chardet.latin1prober', 'pip._vendor.chardet.mbcsgroupprober', 'pip._vendor.chardet.utf8prober', 'pip._vendor.chardet.mbcssm', 'pip._vendor.chardet.sjisprober', 'pip._vendor.chardet.mbcharsetprober', 'pip._vendor.chardet.chardistribution', 'pip._vendor.chardet.euctwfreq', 'pip._vendor.chardet.euckrfreq', 'pip._vendor.chardet.gb2312freq', 'pip._vendor.chardet.big5freq', 'pip._vendor.chardet.jisfreq', 'pip._vendor.chardet.jpcntx', 'pip._vendor.chardet.eucjpprober', 'pip._vendor.chardet.gb2312prober', 'pip._vendor.chardet.euckrprober', 'pip._vendor.chardet.cp949prober', 'pip._vendor.chardet.big5prober', 'pip._vendor.chardet.euctwprober', 'pip._vendor.chardet.sbcsgroupprober', 'pip._vendor.chardet.sbcharsetprober', 'pip._vendor.chardet.langcyrillicmodel', 'pip._vendor.chardet.langgreekmodel', 'pip._vendor.chardet.langbulgarianmodel', 'pip._vendor.chardet.langthaimodel', 'pip._vendor.chardet.langhebrewmodel', 'pip._vendor.chardet.hebrewprober', 'pip._vendor.chardet.langturkishmodel', 'pip._vendor.chardet.version', 'pip._vendor.requests.exceptions', 'pip._vendor.requests.__version__', 'pip._vendor.requests.utils', 'pip._vendor.requests.certs', 'pip._vendor.certifi', 'pip._vendor.certifi.core', 'pip._vendor.requests._internal_utils', 'pip._vendor.requests.compat', 'http.cookiejar', 'http.cookies', 'pip._vendor.requests.cookies', 'pip._vendor.requests.structures', 'pip._vendor.requests.packages', 'pip._vendor.requests.packages.urllib3', 'pip._vendor.requests.packages.urllib3.connectionpool', 'pip._vendor.requests.packages.urllib3.exceptions', 'pip._vendor.requests.packages.urllib3.packages', 'pip._vendor.requests.packages.urllib3.packages.ssl_match_hostname', 'pip._vendor.requests.packages.urllib3.packages.six', 'pip._vendor.requests.packages.urllib3.packages.six.moves', 'pip._vendor.requests.packages.urllib3.packages.six.moves.http_client', 'pip._vendor.requests.packages.urllib3.connection', 'pip._vendor.requests.packages.urllib3.util', 'pip._vendor.requests.packages.urllib3.util.connection', 'pip._vendor.requests.packages.urllib3.util.wait', 'pip._vendor.requests.packages.urllib3.contrib', 'pip._vendor.requests.packages.urllib3.contrib._appengine_environ', 'pip._vendor.requests.packages.urllib3.util.request', 'pip._vendor.requests.packages.urllib3.util.response', 'pip._vendor.requests.packages.urllib3.util.ssl_', 'pip._vendor.requests.packages.urllib3.util.url', 'pip._vendor.requests.packages.urllib3.util.timeout', 'pip._vendor.requests.packages.urllib3.util.retry', 'pip._vendor.requests.packages.urllib3._collections', 'pip._vendor.requests.packages.urllib3.request', 'pip._vendor.requests.packages.urllib3.filepost', 'pip._vendor.requests.packages.urllib3.fields', 'pip._vendor.requests.packages.urllib3.packages.six.moves.urllib', 'pip._vendor.requests.packages.urllib3.packages.six.moves.urllib.parse', 'pip._vendor.requests.packages.urllib3.response', 'pip._vendor.requests.packages.urllib3.util.queue', 'pip._vendor.requests.packages.urllib3.poolmanager', 'pip._vendor.idna', 'pip._vendor.idna.package_data', 'pip._vendor.idna.core', 'pip._vendor.idna.idnadata', 'pip._vendor.idna.intranges', 'pip._vendor.requests.packages.idna', 'pip._vendor.requests.packages.idna.package_data', 'pip._vendor.requests.packages.idna.core', 'pip._vendor.requests.packages.idna.idnadata', 'pip._vendor.requests.packages.idna.intranges', 'pip._vendor.requests.packages.chardet', 'pip._vendor.requests.packages.chardet.compat', 'pip._vendor.requests.packages.chardet.universaldetector', 'pip._vendor.requests.packages.chardet.charsetgroupprober', 'pip._vendor.requests.packages.chardet.enums', 'pip._vendor.requests.packages.chardet.charsetprober', 'pip._vendor.requests.packages.chardet.escprober', 'pip._vendor.requests.packages.chardet.codingstatemachine', 'pip._vendor.requests.packages.chardet.escsm', 'pip._vendor.requests.packages.chardet.latin1prober', 'pip._vendor.requests.packages.chardet.mbcsgroupprober', 'pip._vendor.requests.packages.chardet.utf8prober', 'pip._vendor.requests.packages.chardet.mbcssm', 'pip._vendor.requests.packages.chardet.sjisprober', 'pip._vendor.requests.packages.chardet.mbcharsetprober', 'pip._vendor.requests.packages.chardet.chardistribution', 'pip._vendor.requests.packages.chardet.euctwfreq', 'pip._vendor.requests.packages.chardet.euckrfreq', 'pip._vendor.requests.packages.chardet.gb2312freq', 'pip._vendor.requests.packages.chardet.big5freq', 'pip._vendor.requests.packages.chardet.jisfreq', 'pip._vendor.requests.packages.chardet.jpcntx', 'pip._vendor.requests.packages.chardet.eucjpprober', 'pip._vendor.requests.packages.chardet.gb2312prober', 'pip._vendor.requests.packages.chardet.euckrprober', 'pip._vendor.requests.packages.chardet.cp949prober', 'pip._vendor.requests.packages.chardet.big5prober', 'pip._vendor.requests.packages.chardet.euctwprober', 'pip._vendor.requests.packages.chardet.sbcsgroupprober', 'pip._vendor.requests.packages.chardet.sbcharsetprober', 'pip._vendor.requests.packages.chardet.langcyrillicmodel', 'pip._vendor.requests.packages.chardet.langgreekmodel', 'pip._vendor.requests.packages.chardet.langbulgarianmodel', 'pip._vendor.requests.packages.chardet.langthaimodel', 'pip._vendor.requests.packages.chardet.langhebrewmodel', 'pip._vendor.requests.packages.chardet.hebrewprober', 'pip._vendor.requests.packages.chardet.langturkishmodel', 'pip._vendor.requests.packages.chardet.version', 'pip._vendor.requests.models', 'encodings.idna', 'stringprep', 'pip._vendor.requests.hooks', 'pip._vendor.requests.auth', 'pip._vendor.requests.status_codes', 'pip._vendor.requests.api', 'pip._vendor.requests.sessions', 'pip._vendor.requests.adapters', 'pip._internal.utils.encoding', 'pip._internal.utils.urls', 'pip._internal.req.req_install', 'pip._vendor.pep517', 'pip._vendor.pep517.wrappers', 'pip._vendor.pep517.compat', 'pip._internal.build_env', 'pip._internal.cli.spinners', 'pip._internal.utils.subprocess', 'pip._internal.utils.temp_dir', 'pip._vendor.contextlib2', 'pip._internal.models.link', 'pip._internal.utils.filetypes', 'pip._internal.utils.models', 'pip._internal.operations.build', 'pip._internal.operations.build.metadata', 'pip._internal.operations.build.metadata_legacy', 'pip._internal.utils.setuptools_build', 'pip._internal.operations.install', 'pip._internal.operations.install.editable_legacy', 'pip._internal.operations.install.legacy', 'pip._internal.operations.install.wheel', 'compileall', 'py_compile', 'pip._vendor.distlib', 'pip._vendor.distlib.scripts', 'pip._vendor.distlib.compat', 'xmlrpc', 'xmlrpc.client', 'html.parser', '_markupbase', 'logging.config', 'socketserver', 'pip._vendor.distlib.resources', 'pip._vendor.distlib.util', 'tarfile', 'pip._internal.models.direct_url', 'pip._internal.utils.filesystem', 'pip._internal.utils.unpacking', 'pip._internal.utils.wheel', 'pip._internal.utils.pkg_resources', 'pip._internal.pyproject', 'pip._vendor.toml', 'pip._vendor.toml.encoder', 'pip._vendor.toml.decoder', 'pip._vendor.toml.tz', 'pip._internal.req.req_uninstall', 'pip._internal.utils.direct_url_helpers', 'pip._internal.vcs', 'pip._internal.vcs.bazaar', 'pip._internal.vcs.versioncontrol', 'pip._internal.vcs.git', 'pip._internal.vcs.mercurial', 'pip._internal.vcs.subversion', 'pip._internal.utils.packaging', 'pip._internal.req.req_set', 'pip._internal.models.wheel', 'pip._internal.req.constructors', 'cobra.core.dictlist', 'cobra.core.gene', 'cobra.core.species', 'cobra.core.object', 'cobra.core.metabolite', 'future', 'future.utils', 'cobra.core.formula', 'cobra.core.model', 'cobra.core.group', 'cobra.core.reaction', 'cobra.core.solution', 'cobra.medium', 'cobra.medium.boundary_types', 'cobra.medium.minimal_medium', 'cobra.core.summary', 'cobra.core.summary.summary', 'cobra.flux_analysis', 'cobra.flux_analysis.deletion', 'cobra.flux_analysis.moma', 'cobra.flux_analysis.parsimonious', 'cobra.flux_analysis.room', 'cobra.manipulation', 'cobra.manipulation.annotate', 'cobra.manipulation.delete', 'cobra.manipulation.modify', 'cobra.manipulation.validate', 'cobra.flux_analysis.fastcc', 'cobra.flux_analysis.helpers', 'cobra.flux_analysis.gapfilling', 'cobra.flux_analysis.geometric', 'cobra.flux_analysis.variability', 'cobra.flux_analysis.loopless', 'cobra.flux_analysis.phenotype_phase_plane', 'cobra.core.summary.metabolite_summary', 'cobra.core.summary.model_summary', 'cobra.core.summary.reaction_summary', 'cobra.io', 'cobra.io.dict', 'cobra.io.json', 'cobra.io.mat', 'scipy.io', 'scipy.io.matlab', 'scipy.io.matlab.mio', 'scipy.io.matlab.miobase', 'scipy._lib.doccer', 'scipy.io.matlab.byteordercodes', 'scipy.io.matlab.mio4', 'scipy.io.matlab.mio_utils', 'scipy.io.matlab.mio5', 'scipy.io.matlab.mio5_utils', 'scipy.io.matlab.streams', 'scipy.io.matlab.mio5_params', 'scipy.io.netcdf', 'scipy.io._fortran', 'scipy.io.mmio', 'scipy.io.idl', 'scipy.io.harwell_boeing', 'scipy.io.harwell_boeing.hb', 'scipy.io.harwell_boeing._fortran_format_parser', 'cobra.io.sbml', 'libsbml', '_libsbml', 'cobra.io.yaml', 'ruamel.yaml', 'ruamel.yaml.cyaml', '_ruamel_yaml', 'ruamel.yaml.error', 'ruamel.yaml.compat', 'ruamel.yaml.reader', 'ruamel.yaml.util', 'ruamel.yaml.scanner', 'ruamel.yaml.tokens', 'ruamel.yaml.parser', 'ruamel.yaml.events', 'ruamel.yaml.composer', 'ruamel.yaml.nodes', 'ruamel.yaml.constructor', 'ruamel.yaml.comments', 'ruamel.yaml.scalarstring', 'ruamel.yaml.anchor', 'ruamel.yaml.scalarint', 'ruamel.yaml.scalarfloat', 'ruamel.yaml.scalarbool', 'ruamel.yaml.timestamp', 'ruamel.yaml.emitter', 'ruamel.yaml.serializer', 'ruamel.yaml.representer', 'ruamel.yaml.resolver', 'ruamel.yaml.main', 'ruamel.yaml.loader', 'ruamel.yaml.dumper', 'cobra.sampling', 'cobra.sampling.hr_sampler', 'cobra.sampling.achr', 'cobra.sampling.optgp', 'cobra.sampling.sampling', 'pipeline', 'pipeline.scripts', 'pipeline.scripts.analysis', 'pipeline.scripts.input_parser', 'pipeline.scripts.path_definition_mdf', 'tqdm', 'tqdm.std', 'tqdm.utils', 'tqdm._monitor', 'tqdm.gui', 'tqdm._tqdm_pandas', 'tqdm.cli', 'tqdm._version', 'matplotlib', 'matplotlib.cbook', 'matplotlib.cbook.deprecation', 'matplotlib.rcsetup', 'matplotlib.animation', 'matplotlib._animation_data', 'matplotlib.fontconfig_pattern', 'pyparsing', 'matplotlib.colors', 'matplotlib.docstring', 'matplotlib._color_data', 'cycler', 'matplotlib._version', 'matplotlib.ft2font', 'kiwisolver']\n"
     ]
    },
    {
     "name": "stderr",
     "output_type": "stream",
     "text": [
      "DEBUG:matplotlib:CACHEDIR=C:\\Users\\delip\\.matplotlib\n",
      "DEBUG:matplotlib.font_manager:Using fontManager instance from C:\\Users\\delip\\.matplotlib\\fontlist-v330.json\n",
      "DEBUG:matplotlib.pyplot:Loaded backend module://ipykernel.pylab.backend_inline version unknown.\n",
      "DEBUG:matplotlib.pyplot:Loaded backend module://ipykernel.pylab.backend_inline version unknown.\n"
     ]
    },
    {
     "name": "stdout",
     "output_type": "stream",
     "text": [
      "Using license file C:\\Users\\delip\\gurobi.lic\n"
     ]
    },
    {
     "name": "stderr",
     "output_type": "stream",
     "text": [
      "INFO:gurobipy.gurobipy:Using license file C:\\Users\\delip\\gurobi.lic\n"
     ]
    },
    {
     "name": "stdout",
     "output_type": "stream",
     "text": [
      "Academic license - for non-commercial use only\n"
     ]
    },
    {
     "name": "stderr",
     "output_type": "stream",
     "text": [
      "INFO:gurobipy.gurobipy:Academic license - for non-commercial use only\n"
     ]
    },
    {
     "name": "stdout",
     "output_type": "stream",
     "text": [
      "No parameters matching '_test' found\n"
     ]
    },
    {
     "name": "stderr",
     "output_type": "stream",
     "text": [
      "INFO:gurobipy.gurobipy:No parameters matching '_test' found\n"
     ]
    },
    {
     "name": "stdout",
     "output_type": "stream",
     "text": [
      "\n",
      "xyl__D is not in the medium \n",
      "\n",
      "Ther reaction EX_xyl__D_e has been added to the reference model, hence xyl__D_e is now in the medium\n",
      "Exchange xyl__D:  xyl__D_e <--  Old bounds:  (-1000, 0)\n",
      "\n",
      "akg is in the medium \n",
      "\n",
      "Exchange akg:  akg_e -->  Old bounds:  (0.0, 999999.0)\n",
      "For xyl__D there isn't any uptake trasnsporter in the reference model\n",
      "The trasporter has been added to the \n",
      "                                reference model from the input file\n",
      "unknown metabolite 'xyl__D_c' created\n",
      "For akg there isn't any uptake trasnsporter in the reference model\n",
      "\n",
      "The following reactions will be added to the universal model: ['ARBt2r', 'ARAI', 'RBK_L1', 'RBP4E', 'ARABD', 'LARLC', 'LARNDH', 'L2K3dARNDH', 'XYLI1', 'XYLK', 'AKGtr', 'SK_xylt_c', 'XYLR', 'XYLTD_D', 'R01143', 'MMO1', 'MMO2', 'ALCD1']\n",
      "unknown metabolite 'arab__L_e' created\n",
      "unknown metabolite 'h_e' created\n",
      "unknown metabolite 'arab__L_c' created\n",
      "unknown metabolite 'h_c' created\n",
      "unknown metabolite 'rbl__L_c' created\n",
      "unknown metabolite 'atp_c' created\n",
      "unknown metabolite 'adp_c' created\n",
      "unknown metabolite 'ru5p__L_c' created\n",
      "unknown metabolite 'xu5p__D_c' created\n",
      "unknown metabolite 'nadh_c' created\n",
      "unknown metabolite 'Lara14lac_c' created\n",
      "unknown metabolite 'nad_c' created\n",
      "unknown metabolite 'h2o_c' created\n",
      "unknown metabolite 'Larbn_c' created\n",
      "unknown metabolite '2dlara_c' created\n",
      "unknown metabolite '25dop_c' created\n",
      "unknown metabolite 'xyl__D_c' created\n",
      "unknown metabolite 'xylu__D_c' created\n",
      "unknown metabolite 'akg_e' created\n",
      "unknown metabolite 'akg_c' created\n",
      "unknown metabolite 'xylt_c' created\n",
      "unknown metabolite 'nadph_c' created\n",
      "unknown metabolite 'nadp_c' created\n",
      "unknown metabolite 'ch4_c' created\n",
      "unknown metabolite 'o2_c' created\n",
      "unknown metabolite 'meoh_c' created\n",
      "unknown metabolite 'focytcc_c' created\n",
      "unknown metabolite 'ficytcc_c' created\n",
      "unknown metabolite 'q8h2_c' created\n",
      "unknown metabolite 'q8_c' created\n",
      "unknown metabolite 'fald_c' created\n"
     ]
    },
    {
     "data": {
      "text/html": [
       "\n",
       "        <table>\n",
       "            <tr>\n",
       "                <td><strong>Name</strong></td>\n",
       "                <td>iJN1463</td>\n",
       "            </tr><tr>\n",
       "                <td><strong>Memory address</strong></td>\n",
       "                <td>0x022d8566dc50</td>\n",
       "            </tr><tr>\n",
       "                <td><strong>Number of metabolites</strong></td>\n",
       "                <td>2155</td>\n",
       "            </tr><tr>\n",
       "                <td><strong>Number of reactions</strong></td>\n",
       "                <td>2929</td>\n",
       "            </tr><tr>\n",
       "                <td><strong>Number of groups</strong></td>\n",
       "                <td>0</td>\n",
       "            </tr><tr>\n",
       "                <td><strong>Objective expression</strong></td>\n",
       "                <td>1.0*BIOMASS_KT2440_WT3 - 1.0*BIOMASS_KT2440_WT3_reverse_d86d5</td>\n",
       "            </tr><tr>\n",
       "                <td><strong>Compartments</strong></td>\n",
       "                <td>cytosol, extracellular space, periplasm</td>\n",
       "            </tr>\n",
       "          </table>"
      ],
      "text/plain": [
       "<Model iJN1463 at 0x22d8566dc50>"
      ]
     },
     "execution_count": 1,
     "metadata": {},
     "output_type": "execute_result"
    }
   ],
   "source": [
    "import cobra\n",
    "import csv\n",
    "from cobra.flux_analysis import phenotype_phase_plane\n",
    "from cobra.flux_analysis import gapfill\n",
    "\n",
    "from pipeline.scripts.analysis import analysis_gf_sol, dict_prod_sol, cons_prod_dict, add_sol_cons\n",
    "from pipeline.scripts.import_models import get_universal_main, get_reference_model\n",
    "from pipeline.scripts.input_parser import main\n",
    "from pipeline.scripts.scoring_system import (scores_evaluations, score_BB_presence, \n",
    "                            plotting_KI_BB_scores)\n",
    "from pipeline.scripts.to_and_from_biobrick_wikidata import (output_for_biobrick_search, \\\n",
    "                                        run_harmonization_per_model)\n",
    "from pipeline.scripts.path_definition_mdf import mdf_analysis\n",
    "from pipeline.scripts.call_Optknock import (run_optknock_analysis, \\\n",
    "                                        add_Optknock_to_analysis)\n",
    "from pipeline.scripts.output_generation import (summary_output, metab_out_chain, \n",
    "                            write_data_provenance)\n",
    "data_repo = \"./pipeline/inputs\"\n",
    "model = get_reference_model(data_repo, './pipeline/inputs/putida_xyl.csv')\n",
    "universal = cobra.Model(\"mock\")\n",
    "#universal = get_universal_main(data_repo, './pipeline/inputs/putida_xyl.csv')\n",
    "main('./pipeline/inputs/putida_xyl.csv', universal, model)"
   ]
  },
  {
   "cell_type": "code",
   "execution_count": 11,
   "metadata": {},
   "outputs": [
    {
     "name": "stdout",
     "output_type": "stream",
     "text": [
      "h2o_c\n",
      "h2o_e\n",
      "h2o_p\n"
     ]
    }
   ],
   "source": [
    "for i in model.metabolites:\n",
    "    if 'H2O' in i.name:\n",
    "        print(i)"
   ]
  },
  {
   "cell_type": "code",
   "execution_count": 2,
   "metadata": {},
   "outputs": [
    {
     "name": "stdout",
     "output_type": "stream",
     "text": [
      "EX_xyl__D_e  |  xyl__D_e <--   |  (-1000, 0)\n",
      "EX_akg_e  |  akg_e -->   |  (0, 1000)\n",
      "Old biomass (objective) bounds =  (0.0, 999999.0)\n"
     ]
    },
    {
     "name": "stderr",
     "output_type": "stream",
     "text": [
      "DEBUG:root:<class 'optlang.glpk_interface.Model'>\n",
      "DEBUG:root:<class 'optlang.glpk_interface.Model'>\n",
      "DEBUG:root:1.0*BIOMASS_KT2440_WT3 - 1.0*BIOMASS_KT2440_WT3_reverse_d86d5\n",
      "DEBUG:root:(0.0, 0.9796368101803964)\n",
      "DEBUG:root:passed here\n",
      "DEBUG:root:1.0*BIOMASS_KT2440_WT3 - 1.0*BIOMASS_KT2440_WT3_reverse_d86d5\n",
      "cobra\\util\\solver.py:416 UserWarning: solver status is 'infeasible'\n",
      "DEBUG:root:passed here too\n",
      "DEBUG:root:-0.0050564604742969685\n",
      "DEBUG:root:<class 'optlang.glpk_interface.Model'>\n"
     ]
    },
    {
     "name": "stdout",
     "output_type": "stream",
     "text": [
      "New biomass (objective) bounds =  (0.0, 0.9796368101803964)\n",
      "\n",
      "---Carbon sources---\n",
      "Starting reaction search with GapFilling . . .\n"
     ]
    },
    {
     "name": "stderr",
     "output_type": "stream",
     "text": [
      "DEBUG:optlang.glpk_interface:Status undefined. GLPK status code returned by glp_simplex was 1\n",
      "DEBUG:optlang.glpk_interface:Status undefined. GLPK status code returned by glp_simplex was 1\n",
      "DEBUG:root:<class 'optlang.glpk_interface.Model'>\n",
      "DEBUG:root:<class 'optlang.glpk_interface.Model'>\n",
      "DEBUG:optlang.glpk_interface:Status undefined. GLPK status code returned by glp_simplex was 1\n"
     ]
    },
    {
     "name": "stdout",
     "output_type": "stream",
     "text": [
      "\n",
      "---Model 1---\n",
      "\n",
      "Reaction XYLI1, solution of round 1 has been added to the model\n",
      "\n",
      "Reaction XYLK, solution of round 1 has been added to the model\n",
      "\n",
      "Growth rate: "
     ]
    },
    {
     "name": "stderr",
     "output_type": "stream",
     "text": [
      "DEBUG:root:<class 'optlang.glpk_interface.Model'>\n",
      "DEBUG:root:<class 'optlang.glpk_interface.Model'>\n",
      "DEBUG:optlang.glpk_interface:Status undefined. GLPK status code returned by glp_simplex was 1\n"
     ]
    },
    {
     "name": "stdout",
     "output_type": "stream",
     "text": [
      " 0.9796368101803964\n",
      "\n",
      "The flux throughr EX_xyl__D_e is:  -17.151117915632256\n",
      "\n",
      "The flux throughr EX_akg_e is:  0.0\n",
      "\n",
      "The flux throughr XYLI1 is:  17.151117915632256\n",
      "\n",
      "The flux throughr XYLK is:  17.151117915632256\n",
      "\n",
      "---Model 2---\n",
      "\n",
      "Reaction XYLI1, solution of round 2 has been added to the model\n",
      "\n",
      "Reaction XYLK, solution of round 2 has been added to the model\n",
      "\n",
      "Growth rate:  0.9796368101803964\n",
      "\n",
      "The flux throughr EX_xyl__D_e is:  -17.151117915632256\n",
      "\n",
      "The flux throughr EX_akg_e is:  0.0\n",
      "\n",
      "The flux throughr XYLI1 is:  17.151117915632256\n",
      "\n",
      "The flux throughr XYLK is:  17.151117915632256\n",
      "\n",
      "---Model 3---"
     ]
    },
    {
     "name": "stderr",
     "output_type": "stream",
     "text": [
      "DEBUG:root:<class 'optlang.glpk_interface.Model'>\n",
      "DEBUG:root:<class 'optlang.glpk_interface.Model'>\n",
      "DEBUG:optlang.glpk_interface:Status undefined. GLPK status code returned by glp_simplex was 1\n"
     ]
    },
    {
     "name": "stdout",
     "output_type": "stream",
     "text": [
      "\n",
      "\n",
      "Reaction XYLK, solution of round 3 has been added to the model\n",
      "\n",
      "Reaction XYLR, solution of round 3 has been added to the model\n",
      "\n",
      "Reaction XYLTD_D, solution of round 3 has been added to the model\n",
      "\n",
      "Growth rate:  0.9796368101803964\n",
      "\n",
      "The flux throughr EX_xyl__D_e is:  -12.978269717384054\n",
      "\n",
      "The flux throughr EX_akg_e is:  0.0\n",
      "\n",
      "The flux throughr XYLK is:  12.978269717384054\n",
      "\n",
      "The flux throughr XYLR is:  12.978269717384054\n",
      "\n",
      "The flux throughr XYLTD_D is:  12.978269717384054\n"
     ]
    }
   ],
   "source": [
    "consumption = analysis_gf_sol('./pipeline/inputs/putida_xyl.csv', model, universal)"
   ]
  },
  {
   "cell_type": "code",
   "execution_count": 3,
   "metadata": {},
   "outputs": [
    {
     "data": {
      "text/plain": [
       "{1: ({'model': 'Model1'},\n",
       "  (['XYLI1', 'XYLK'],\n",
       "   0.9796368101803964,\n",
       "   {'XYLI1': 17.151117915632256, 'XYLK': 17.151117915632256},\n",
       "   {'EX_xyl__D_e': -17.151117915632256},\n",
       "   {'EX_akg_e': 0.0})),\n",
       " 3: ({'model': 'Model3'},\n",
       "  (['XYLK', 'XYLR', 'XYLTD_D'],\n",
       "   0.9796368101803964,\n",
       "   {'XYLK': 12.978269717384054,\n",
       "    'XYLR': 12.978269717384054,\n",
       "    'XYLTD_D': 12.978269717384054},\n",
       "   {'EX_xyl__D_e': -12.978269717384054},\n",
       "   {'EX_akg_e': 0.0}))}"
      ]
     },
     "execution_count": 3,
     "metadata": {},
     "output_type": "execute_result"
    }
   ],
   "source": [
    "consumption"
   ]
  },
  {
   "cell_type": "markdown",
   "metadata": {},
   "source": [
    "- setting the target as akg when doing reactions search for production does not work\n",
    "- on the other hand, setting pyruvate as target from the beginning doesn't allow to find the expected reactions for growth on xylose\n",
    "\n",
    "Therefore I used akg as target when running cells 1-3\n",
    "\n",
    "While I used pyr as target in the input file while running cell 4-8 \n",
    "\n",
    "The final has as target akg in conumption dict and pyr in production dict, which is not desirable."
   ]
  },
  {
   "cell_type": "code",
   "execution_count": 4,
   "metadata": {
    "scrolled": true
   },
   "outputs": [
    {
     "name": "stderr",
     "output_type": "stream",
     "text": [
      "DEBUG:root:['xyl__D']\n",
      "DEBUG:root:<class 'optlang.glpk_interface.Model'>\n",
      "DEBUG:optlang.glpk_interface:Status undefined. GLPK status code returned by glp_simplex was 1\n"
     ]
    },
    {
     "name": "stdout",
     "output_type": "stream",
     "text": [
      "\n",
      "Bounds of biomass during optimization of consumption =  (0.0, 0.9796368101803964)\n"
     ]
    },
    {
     "name": "stderr",
     "output_type": "stream",
     "text": [
      "DEBUG:root:<class 'optlang.glpk_interface.Model'>\n",
      "DEBUG:root:passed here\n",
      "DEBUG:root:xyl__D\n",
      "DEBUG:root:xyl__D\n",
      "DEBUG:root:-17.0\n",
      "DEBUG:root:xyl__D\n",
      "DEBUG:root:xyl__D\n",
      "DEBUG:root:xyl__D\n",
      "DEBUG:root:xyl__D\n",
      "DEBUG:root:xyl__D\n",
      "DEBUG:root:xyl__D\n",
      "DEBUG:root:xyl__D\n",
      "DEBUG:root:xyl__D\n",
      "DEBUG:root:xyl__D\n",
      "DEBUG:root:xyl__D\n",
      "DEBUG:root:xyl__D\n",
      "DEBUG:root:xyl__D\n",
      "DEBUG:root:xyl__D\n",
      "DEBUG:root:xyl__D\n",
      "DEBUG:root:xyl__D\n",
      "DEBUG:root:xyl__D\n",
      "DEBUG:root:xyl__D\n",
      "DEBUG:root:xyl__D\n",
      "DEBUG:root:xyl__D\n",
      "DEBUG:root:xyl__D\n",
      "DEBUG:root:xyl__D\n",
      "DEBUG:root:xyl__D\n",
      "DEBUG:root:xyl__D\n",
      "DEBUG:root:xyl__D\n",
      "DEBUG:root:xyl__D\n",
      "DEBUG:root:xyl__D\n",
      "DEBUG:root:xyl__D\n",
      "DEBUG:root:xyl__D\n",
      "DEBUG:root:xyl__D\n",
      "DEBUG:root:xyl__D\n",
      "DEBUG:root:xyl__D\n",
      "DEBUG:root:xyl__D\n",
      "DEBUG:root:xyl__D\n",
      "DEBUG:root:xyl__D\n",
      "DEBUG:root:xyl__D\n",
      "DEBUG:root:xyl__D\n",
      "DEBUG:root:xyl__D\n",
      "DEBUG:root:xyl__D\n",
      "DEBUG:root:xyl__D\n",
      "DEBUG:root:xyl__D\n",
      "DEBUG:root:xyl__D\n",
      "DEBUG:root:xyl__D\n",
      "DEBUG:root:xyl__D\n",
      "DEBUG:root:xyl__D\n",
      "DEBUG:root:xyl__D\n",
      "DEBUG:root:xyl__D\n",
      "DEBUG:root:xyl__D\n",
      "DEBUG:root:xyl__D\n",
      "DEBUG:root:xyl__D\n",
      "DEBUG:root:xyl__D\n",
      "DEBUG:root:(-17.0, 0)\n",
      "DEBUG:root:<class 'optlang.glpk_interface.Model'>\n",
      "DEBUG:root:['XYLI1', 'XYLK']\n",
      "DEBUG:root:passed through here\n"
     ]
    },
    {
     "name": "stdout",
     "output_type": "stream",
     "text": [
      "\n",
      "Bounds of biomass during optimization of production =  (0.048981840509019325, 0.9796368101803964)\n",
      "\n",
      "The metabs to produce are:  ['akg']\n"
     ]
    },
    {
     "name": "stderr",
     "output_type": "stream",
     "text": [
      "DEBUG:root:XYLI1: xyl__D_c <=> xylu__D_c\n",
      "DEBUG:root:XYLK: atp_c + xylu__D_c <=> adp_c + h_c + xu5p__D_c\n",
      "DEBUG:root:1.0*EX_akg_e - 1.0*EX_akg_e_reverse_70d85\n",
      "DEBUG:root:passed here too\n",
      "DEBUG:root:18.915378391216745\n",
      "DEBUG:root:['XYLI1', 'XYLK']\n",
      "DEBUG:root:['XYLK', 'XYLR', 'XYLTD_D']\n"
     ]
    },
    {
     "name": "stdout",
     "output_type": "stream",
     "text": [
      "\n",
      "---1---\n",
      "The model can already satisfy the objective\n"
     ]
    },
    {
     "name": "stderr",
     "output_type": "stream",
     "text": [
      "DEBUG:root:passed through here\n",
      "DEBUG:root:XYLK: atp_c + xylu__D_c <=> adp_c + h_c + xu5p__D_c\n",
      "DEBUG:root:XYLR: h_c + nadph_c + xyl__D_c --> nadp_c + xylt_c\n",
      "DEBUG:root:XYLTD_D: nad_c + xylt_c <=> h_c + nadh_c + xylu__D_c\n",
      "DEBUG:optlang.glpk_interface:Status undefined. GLPK status code returned by glp_simplex was 1\n",
      "DEBUG:root:1.0*EX_akg_e - 1.0*EX_akg_e_reverse_70d85\n",
      "DEBUG:root:passed here too\n",
      "DEBUG:root:18.915378391216755\n",
      "DEBUG:root:['XYLK', 'XYLR', 'XYLTD_D']\n"
     ]
    },
    {
     "name": "stdout",
     "output_type": "stream",
     "text": [
      "\n",
      "---3---\n",
      "The model can already satisfy the objective\n"
     ]
    }
   ],
   "source": [
    "production = dict_prod_sol('./pipeline/inputs/putida_xyl.csv', consumption, model, universal)"
   ]
  },
  {
   "cell_type": "code",
   "execution_count": 5,
   "metadata": {},
   "outputs": [
    {
     "data": {
      "text/plain": [
       "{'1': {'1': 18.915378391216745}, '3': {'3': 18.915378391216755}}"
      ]
     },
     "execution_count": 5,
     "metadata": {},
     "output_type": "execute_result"
    }
   ],
   "source": [
    "production"
   ]
  },
  {
   "cell_type": "code",
   "execution_count": 6,
   "metadata": {},
   "outputs": [
    {
     "name": "stderr",
     "output_type": "stream",
     "text": [
      "DEBUG:root:<class 'optlang.glpk_interface.Model'>\n",
      "DEBUG:root:<class 'optlang.glpk_interface.Model'>\n",
      "DEBUG:root:XYLI1: xyl__D_c <=> xylu__D_c\n",
      "DEBUG:root:XYLK: atp_c + xylu__D_c <=> adp_c + h_c + xu5p__D_c\n",
      "DEBUG:root:XYLK: atp_c + xylu__D_c <=> adp_c + h_c + xu5p__D_c\n",
      "DEBUG:root:XYLR: h_c + nadph_c + xyl__D_c --> nadp_c + xylt_c\n",
      "DEBUG:root:XYLTD_D: nad_c + xylt_c <=> h_c + nadh_c + xylu__D_c\n"
     ]
    }
   ],
   "source": [
    "final = cons_prod_dict('./pipeline/inputs/putida_xyl.csv', model, universal, consumption, production)"
   ]
  },
  {
   "cell_type": "code",
   "execution_count": 7,
   "metadata": {},
   "outputs": [
    {
     "data": {
      "text/plain": [
       "{'consumption_1': ({'model': 'Model1'},\n",
       "  (['XYLI1', 'XYLK'],\n",
       "   0.9796368101803964,\n",
       "   {'XYLI1': 17.151117915632256, 'XYLK': 17.151117915632256},\n",
       "   {'EX_xyl__D_e': -17.151117915632256},\n",
       "   {'EX_akg_e': 0.0})),\n",
       " 'production_1': {'EX_akg_e': 18.915378391216745},\n",
       " 'consumption_3': ({'model': 'Model3'},\n",
       "  (['XYLK', 'XYLR', 'XYLTD_D'],\n",
       "   0.9796368101803964,\n",
       "   {'XYLK': 12.978269717384054,\n",
       "    'XYLR': 12.978269717384054,\n",
       "    'XYLTD_D': 12.978269717384054},\n",
       "   {'EX_xyl__D_e': -12.978269717384054},\n",
       "   {'EX_akg_e': 0.0})),\n",
       " 'production_3': {'EX_akg_e': 18.915378391216755}}"
      ]
     },
     "execution_count": 7,
     "metadata": {},
     "output_type": "execute_result"
    }
   ],
   "source": [
    "final"
   ]
  },
  {
   "cell_type": "markdown",
   "metadata": {},
   "source": [
    "# Thermodynamic analysis"
   ]
  },
  {
   "cell_type": "code",
   "execution_count": 8,
   "metadata": {},
   "outputs": [],
   "source": [
    "from pipeline.scripts.path_definition_mdf import mdf_analysis"
   ]
  },
  {
   "cell_type": "code",
   "execution_count": 9,
   "metadata": {},
   "outputs": [],
   "source": [
    "from pipeline.scripts.analysis import add_sol_cons"
   ]
  },
  {
   "cell_type": "code",
   "execution_count": 10,
   "metadata": {},
   "outputs": [],
   "source": [
    "add_sol_cons(consumption, 1, model, universal)"
   ]
  },
  {
   "cell_type": "code",
   "execution_count": 11,
   "metadata": {},
   "outputs": [
    {
     "data": {
      "text/html": [
       "\n",
       "        <table>\n",
       "            <tr>\n",
       "                <td><strong>Reaction identifier</strong></td><td>XYLI1</td>\n",
       "            </tr><tr>\n",
       "                <td><strong>Name</strong></td><td>xylose isomerase</td>\n",
       "            </tr><tr>\n",
       "                <td><strong>Memory address</strong></td>\n",
       "                <td>0x022d8d42a160</td>\n",
       "            </tr><tr>\n",
       "                <td><strong>Stoichiometry</strong></td>\n",
       "                <td>\n",
       "                    <p style='text-align:right'>xyl__D_c <=> xylu__D_c</p>\n",
       "                    <p style='text-align:right'> <=> </p>\n",
       "                </td>\n",
       "            </tr><tr>\n",
       "                <td><strong>GPR</strong></td><td></td>\n",
       "            </tr><tr>\n",
       "                <td><strong>Lower bound</strong></td><td>-1000</td>\n",
       "            </tr><tr>\n",
       "                <td><strong>Upper bound</strong></td><td>1000</td>\n",
       "            </tr>\n",
       "        </table>\n",
       "        "
      ],
      "text/plain": [
       "<Reaction XYLI1 at 0x22d8d42a160>"
      ]
     },
     "execution_count": 11,
     "metadata": {},
     "output_type": "execute_result"
    }
   ],
   "source": [
    "model.reactions.XYLI1"
   ]
  },
  {
   "cell_type": "code",
   "execution_count": 12,
   "metadata": {},
   "outputs": [
    {
     "data": {
      "text/html": [
       "\n",
       "        <table>\n",
       "            <tr>\n",
       "                <td><strong>Reaction identifier</strong></td><td>XYLK</td>\n",
       "            </tr><tr>\n",
       "                <td><strong>Name</strong></td><td>Xylulokinase</td>\n",
       "            </tr><tr>\n",
       "                <td><strong>Memory address</strong></td>\n",
       "                <td>0x022d8d403be0</td>\n",
       "            </tr><tr>\n",
       "                <td><strong>Stoichiometry</strong></td>\n",
       "                <td>\n",
       "                    <p style='text-align:right'>atp_c + xylu__D_c <=> adp_c + h_c + xu5p__D_c</p>\n",
       "                    <p style='text-align:right'>ATP C10H12N5O13P3 +  <=> ADP C10H12N5O10P2 + H+ + D-Xylulose 5-phosphate</p>\n",
       "                </td>\n",
       "            </tr><tr>\n",
       "                <td><strong>GPR</strong></td><td></td>\n",
       "            </tr><tr>\n",
       "                <td><strong>Lower bound</strong></td><td>-1000</td>\n",
       "            </tr><tr>\n",
       "                <td><strong>Upper bound</strong></td><td>1000</td>\n",
       "            </tr>\n",
       "        </table>\n",
       "        "
      ],
      "text/plain": [
       "<Reaction XYLK at 0x22d8d403be0>"
      ]
     },
     "execution_count": 12,
     "metadata": {},
     "output_type": "execute_result"
    }
   ],
   "source": [
    "model.reactions.XYLK"
   ]
  },
  {
   "cell_type": "code",
   "execution_count": 13,
   "metadata": {},
   "outputs": [],
   "source": [
    "model.objective = (model.reactions.EX_akg_e)"
   ]
  },
  {
   "cell_type": "code",
   "execution_count": 14,
   "metadata": {},
   "outputs": [
    {
     "data": {
      "text/latex": [
       "$\\displaystyle 1.0 EX_{akg e} - 1.0 EX_{akg e reverse 70d85}$"
      ],
      "text/plain": [
       "1.0*EX_akg_e - 1.0*EX_akg_e_reverse_70d85"
      ]
     },
     "execution_count": 14,
     "metadata": {},
     "output_type": "execute_result"
    }
   ],
   "source": [
    "model.objective.expression"
   ]
  },
  {
   "cell_type": "code",
   "execution_count": 15,
   "metadata": {},
   "outputs": [
    {
     "name": "stderr",
     "output_type": "stream",
     "text": [
      "DEBUG:optlang.glpk_interface:Status undefined. GLPK status code returned by glp_simplex was 1\n"
     ]
    },
    {
     "name": "stdout",
     "output_type": "stream",
     "text": [
      "unknown metabolite 'qh2_c' created\n",
      "Substrate's exchange reaction bounds :  (-1.1, -0.9)\n",
      "Target's exchange reaction bounds :  (1.0, 1000)\n"
     ]
    },
    {
     "name": "stderr",
     "output_type": "stream",
     "text": [
      "DEBUG:optlang.glpk_interface:Status undefined. GLPK status code returned by glp_simplex was 1\n"
     ]
    },
    {
     "name": "stdout",
     "output_type": "stream",
     "text": [
      "Carbon source:  [<Reaction EX_co2_e at 0x22d8d1b52e8>]\n",
      "Target:  EX_akg_e: akg_e --> \n",
      "FBA objective value:  1.0 \n",
      "Substrate consumption flux:  -1.1 \n",
      "Target production flux:  1.0 \n",
      "Biomass:  0.0 \n",
      "\n",
      "pFBA is infeasible, control if the coefficients of the \n",
      "        reaction equation are correct (or use a different boudary \n",
      "        reaction of the target as model objective):  None (infeasible)\n",
      "The thermodynamic analysis cannot proceed because of infeasible pFBA\n",
      "The thermodynimac analysis has been unsuccesful\n"
     ]
    },
    {
     "data": {
      "text/plain": [
       "(None, None)"
      ]
     },
     "execution_count": 15,
     "metadata": {},
     "output_type": "execute_result"
    }
   ],
   "source": [
    "mdf_analysis('./pipeline/inputs/putida_xyl.csv', model, './pipeline/outputs/raw_tsv.tsv', './pipeline/outputs/input_mdf.tsv')"
   ]
  },
  {
   "cell_type": "code",
   "execution_count": null,
   "metadata": {},
   "outputs": [],
   "source": []
  }
 ],
 "metadata": {
  "kernelspec": {
   "display_name": "Python 3",
   "language": "python",
   "name": "python3"
  },
  "language_info": {
   "codemirror_mode": {
    "name": "ipython",
    "version": 3
   },
   "file_extension": ".py",
   "mimetype": "text/x-python",
   "name": "python",
   "nbconvert_exporter": "python",
   "pygments_lexer": "ipython3",
   "version": "3.6.10"
  }
 },
 "nbformat": 4,
 "nbformat_minor": 4
}
