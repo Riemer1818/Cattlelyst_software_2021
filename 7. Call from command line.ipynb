{
 "cells": [
  {
   "cell_type": "markdown",
   "metadata": {},
   "source": [
    "# Call from command line\n",
    "\n",
    "This tutorial shows how to call the pipeline from command line. As an example, this tutorial performs a simple analysis for checking whether Pseudomonad putida model iJN1463 can simulate growth on acetate and production of tryptophan. As will be concluded from the results, no reaction needs to be added, therefore the time of the run is short and that’s the reason why it has been chosen as example. \n",
    "\n",
    "## Steps\n",
    "\n",
    "1.\tFirst of all open your command prompt. This tutorial has been made in a windows laptop, however the logic behind the steps and the line for the final call is the same in all operating systems. \n",
    "2.\tActivate the environment of anaconda where all the dependencies for the correct funcitioning of the pipeline are installed using <br>\n",
    "      <code> conda activate <em>environment name</em> </code>\n",
    "3.\tGo to the downloaded version of the pipeline_cmd directory on your machine. \n",
    "  e.g. <code> cd \\cattlelyst-software\\pipeline_cmd </code>\n",
    "4.\tType the line of code that calls the pipeline call from command line. In this example the input file called putida_wt_ac.csv was used (can be found in inputs directory) <br>\n",
    "<code> python call_full_analysis_general.py -r \"./inputs\" -i \"./inputs/putida_wt_ac.csv\" </code>\n",
    "\n",
    "## Results\n",
    "\n",
    "The script called call_full_analysis_general.py at the moment of creation of this tutorial had the functions contained between line 96 and 112 inactivated. Therefore the expected outcome contained only the dictionaries of the three main function:\n",
    "- <em> analysis_gf_sol </em>\n",
    "- <em> dict_prod_sol</em>\n",
    "- <em> cons_prod_dict </em>\n",
    "\n",
    "The first lines that get printed are related to the check of the licence of the solver used, in this case the free academic licence of gurobi for non commercial use (see the first two lines of the Figure 1 below). This is necessary only for when Optknock analysis has to be performed, however if present the pipeline will preferably use this solver. The text printed by the pipeline starts at the 4th line, which is all performed by the function of the pipeline called \"main\" from the module <em>input_parser.py</em>. The information comes from parsing the input file and adjusting the models (reference and universal) as needed.\n",
    "\n",
    "Figure 1.\n",
    "![Import](./cmd1.png \"printed lines from function called main\")\n",
    "\n",
    "The other functions that are called are all from the <em>analysis.py </em> module. <em> analysis_gf_sol </em> (see figure 2 below) calculates the growth rate on the preferred carbon sourse, then it fixes the bounds of the biomass reaction and the new selected carbon sourse, in this case acetate (indicated with <strong> ac_e </strong>).\n",
    "\n",
    "The beginning of the reaction search with Gapfilling is indicated by the line\n",
    "\n",
    "<p style=\"background: black; color: white; text-align: center;\"> Start reaction search with Gapfilling . . . </p>\n",
    "\n",
    "Since 4 itereatinos where indicated in the input file 4 models are printed. however, no information is associated to them specifically, because the model can already satisfy the objective, hence it can grow in acetate. \n",
    "\n",
    "The last line indiacte the dictionary called \"consimption\" with the respective flux rates\n",
    "\n",
    "Figure 2.\n",
    "![Import](./cmd2.png \"printed lines from analysis_gf_sol\")\n",
    "\n",
    "\n",
    "The analysis checking if the model is able to produce thryptophan (see Figure 3) requires 1) setting a lower bound for the biomass reaction (see first two line of Figure 3) and 2) changing the objective of the optimization to the product exchange reaction. This is done by the function <em> dict_prod_sol</em> before calling the analysis with GapFilling. Since the model is already able to produce the target compound by only changing the previosly mentioned settingns, no iteration of GapFilling is needed.\n",
    "\n",
    "Figure 3.\n",
    "![Import](./cmd3.png \"printed lines from analysis_gf_sol\")\n",
    "\n",
    "The last part of the analysis concerns the calculation of the MDF from the minimal set of reactions. The minimal set of reactions is identified by selecting the reaction carrying flux after a pFBA analysis. However, if the analysis is unsuccessful the calculation of MDF is impossible and the thermodynamic evaluation is thereofre skipped. That is what can be observed in Figure 4.\n",
    "\n",
    "Figure 4.\n",
    "![Import](./cmd5.png \"printed lines from analysis_gf_sol\")\n",
    "\n",
    "Finally, the script for the call from command line prints the 3 dictionaries generated from the analysis:\n",
    "\n",
    "- <em> analysis_gf_sol </em> --> consumption\n",
    "- <em> dict_prod_sol</em> --> production\n",
    "- <em> cons_prod_dict </em> --> final\n",
    "\n",
    "The dictionaries can be seen in Figure 5 where they printed in different are separated by dashes. \n",
    "\n",
    "Figure 5.\n",
    "![Import](./cmd4.png \"printed lines from analysis_gf_sol\")"
   ]
  },
  {
   "cell_type": "raw",
   "metadata": {},
   "source": []
  }
 ],
 "metadata": {
  "kernelspec": {
   "display_name": "Python 3",
   "language": "python",
   "name": "python3"
  },
  "language_info": {
   "codemirror_mode": {
    "name": "ipython",
    "version": 3
   },
   "file_extension": ".py",
   "mimetype": "text/x-python",
   "name": "python",
   "nbconvert_exporter": "python",
   "pygments_lexer": "ipython3",
   "version": "3.6.10"
  }
 },
 "nbformat": 4,
 "nbformat_minor": 4
}
